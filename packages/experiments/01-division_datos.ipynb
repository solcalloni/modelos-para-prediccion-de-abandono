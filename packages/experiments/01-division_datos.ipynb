{
 "cells": [
  {
   "cell_type": "code",
   "execution_count": null,
   "metadata": {},
   "outputs": [],
   "source": [
    "import pandas as pd\n",
    "import numpy as np\n",
    "import matplotlib.pyplot as plt\n",
    "import seaborn as sns\n",
    "import sklearn\n",
    "import joblib\n",
    "\n",
    "from sklearn.model_selection import train_test_split\n",
    "from sklearn.preprocessing import StandardScaler\n",
    "from sklearn.ensemble import RandomForestClassifier\n",
    "from sklearn.model_selection import RandomizedSearchCV\n",
    "from sklearn.model_selection import StratifiedKFold\n",
    "from sklearn.metrics import accuracy_score, confusion_matrix , auc, precision_recall_curve, roc_auc_score\n",
    "from scipy.stats import uniform, randint"
   ]
  },
  {
   "cell_type": "code",
   "execution_count": null,
   "metadata": {},
   "outputs": [],
   "source": [
    "dataset_gold = pd.read_csv('../../assets/gold/dataset_gold_v1.csv')\n",
    "dataset_gold.drop(columns = ['dni', 'nacionalidad', 'tiene_beca'], inplace=True)\n",
    "dataset_gold.drop(columns = ['situacion_padre', 'situacion_madre'], inplace=True)\n",
    "dataset_gold.drop(columns=['edad', 'cantidad_de_veces_que_rindio_cluster_8.0', 'cursada_por_uba_xxi_cluster_8.0', 'nota_cluster_8.0', 'fecha_promedio_cluster_8.0'], inplace=True)"
   ]
  },
  {
   "cell_type": "code",
   "execution_count": null,
   "metadata": {},
   "outputs": [],
   "source": [
    "dataset_gold['sexo'].value_counts()"
   ]
  },
  {
   "cell_type": "code",
   "execution_count": null,
   "metadata": {},
   "outputs": [],
   "source": [
    "dataset_gold['sexo'] = dataset_gold['sexo'].replace({'Masculino': 0, 'Femenino': 1})\n",
    "dataset_gold['sexo'].value_counts()"
   ]
  },
  {
   "cell_type": "code",
   "execution_count": null,
   "metadata": {},
   "outputs": [],
   "source": [
    "dataset_gold['cohorte'].value_counts(dropna=False)"
   ]
  },
  {
   "cell_type": "code",
   "execution_count": null,
   "metadata": {},
   "outputs": [],
   "source": [
    "dataset_gold['cohorte'] = dataset_gold['cohorte'].replace({'2021C1': 0, '2021C2': 1,\n",
    "                                                           '2022C1': 2, '2022C2': 3})\n",
    "dataset_gold['cohorte'].value_counts(dropna=False)"
   ]
  },
  {
   "cell_type": "code",
   "execution_count": null,
   "metadata": {},
   "outputs": [],
   "source": [
    "dataset_gold['carrera'].unique()"
   ]
  },
  {
   "cell_type": "code",
   "execution_count": null,
   "metadata": {},
   "outputs": [],
   "source": [
    "dataset_gold['carrera'].value_counts(dropna=False)"
   ]
  },
  {
   "cell_type": "code",
   "execution_count": null,
   "metadata": {},
   "outputs": [],
   "source": [
    "# Frecuentes\n",
    "label_map = {\n",
    "    'Licenciatura en Ciencias de la Computación': 0,\n",
    "    'Licenciatura en Ciencias Biológicas': 1,\n",
    "    'Licenciatura en Ciencias Físicas': 2,\n",
    "    'Licenciatura en Ciencias de Datos': 3,\n",
    "    'Licenciatura en Ciencias Químicas': 4,\n",
    "    'Licenciatura en Ciencias Matemáticas': 5,\n",
    "    'Licenciatura en Ciencias de la Atmósfera': 6,\n",
    "    'Licenciatura en Ciencia y Tecnología de Alimentos': 7,\n",
    "    'Licenciatura en Ciencias Geológicas': 8,\n",
    "    \n",
    "    # Agrupadas todas bajo el mismo número\n",
    "    'Materias de Otras Carreras': 9,\n",
    "    'Profesorado de Enseñanza Media y Superior en Matemática': 9,\n",
    "    'Licenciatura en Paleontología': 9,\n",
    "    'Licenciatura en Ciencias Oceanográficas': 9,\n",
    "    'Profesorado de Enseñanza Media y Superior en la Especialidad Biología': 9,\n",
    "    'Profesorado de Enseñanza Media y Superior en Ciencias de la Computación': 9,\n",
    "    'Profesorado de Enseñanza Media y Superior en Física': 9,\n",
    "    'Profesorado de Enseñanza Media y Superior en Química': 9,\n",
    "    'Propuesta Materias Niveladoras de Postgrado': 9\n",
    "}\n",
    "\n",
    "# Aplicar el encoding directamente\n",
    "dataset_gold['carrera_encoded'] = dataset_gold['carrera'].map(label_map)\n",
    "dataset_gold['carrera_encoded'].value_counts(dropna=False)"
   ]
  },
  {
   "cell_type": "code",
   "execution_count": null,
   "metadata": {},
   "outputs": [],
   "source": [
    "dataset_gold.drop(columns=['carrera'], inplace=True)"
   ]
  },
  {
   "cell_type": "code",
   "execution_count": null,
   "metadata": {},
   "outputs": [],
   "source": [
    "dataset_gold['nivel_estudio_padre'].value_counts(dropna=False)"
   ]
  },
  {
   "cell_type": "code",
   "execution_count": null,
   "metadata": {},
   "outputs": [],
   "source": [
    "dataset_gold['nivel_estudio_madre'].value_counts(dropna=False)"
   ]
  },
  {
   "cell_type": "code",
   "execution_count": null,
   "metadata": {},
   "outputs": [],
   "source": [
    "nivel_educativo_map = {\n",
    "    'Est. de Post grado': 0,\n",
    "    'Est. universitarios completos': 1,\n",
    "    'Est. universitarios incompletos': 2,\n",
    "    'Est. superiores completos': 4,\n",
    "    'Est. superiores incompletos': 5,\n",
    "    'Colegio Secundario completo': 6,\n",
    "    'Colegio Secundario incompleto': 7,\n",
    "    'Escuela primaria completa': 8,\n",
    "    'Escuela primaria incompleta': 9,\n",
    "    'Desconoce': 10,\n",
    "    'No hizo estudios': 11\n",
    "}\n",
    "\n",
    "# Aplicar el encoding directamente\n",
    "dataset_gold['nivel_estudio_madre_encoded'] = dataset_gold['nivel_estudio_madre'].map(nivel_educativo_map)\n",
    "dataset_gold['nivel_estudio_madre_encoded'].value_counts(dropna=False)"
   ]
  },
  {
   "cell_type": "code",
   "execution_count": null,
   "metadata": {},
   "outputs": [],
   "source": [
    "# Aplicar el encoding directamente\n",
    "dataset_gold['nivel_estudio_padre_encoded'] = dataset_gold['nivel_estudio_padre'].map(nivel_educativo_map)\n",
    "dataset_gold['nivel_estudio_padre_encoded'].value_counts(dropna=False)"
   ]
  },
  {
   "cell_type": "code",
   "execution_count": null,
   "metadata": {},
   "outputs": [],
   "source": [
    "dataset_gold.drop(columns=['nivel_estudio_padre', 'nivel_estudio_madre'], inplace=True)"
   ]
  },
  {
   "cell_type": "code",
   "execution_count": null,
   "metadata": {},
   "outputs": [],
   "source": [
    "dataset_gold['situacion_laboral'].value_counts(dropna=False)"
   ]
  },
  {
   "cell_type": "code",
   "execution_count": null,
   "metadata": {},
   "outputs": [],
   "source": [
    "situacion_laboral_map = {\n",
    "    'Trabajó al menos una hora (incluye a los que no trabajaron por licencia, vacaciones, enfermedad)': 0,\n",
    "    'No trabajó y buscó trabajo en algún momento de los últimos 30 días': 1,\n",
    "    'No trabajó y no buscó trabajo (no esta pensando en trabajar)': 2,\n",
    "    'Desconoce': 3\n",
    "}\n",
    "# Aplicar el encoding directamente\n",
    "dataset_gold['situacion_laboral_encoded'] = dataset_gold['situacion_laboral'].map(situacion_laboral_map)\n",
    "dataset_gold['situacion_laboral_encoded'].value_counts(dropna=False)"
   ]
  },
  {
   "cell_type": "code",
   "execution_count": null,
   "metadata": {},
   "outputs": [],
   "source": [
    "dataset_gold.drop(columns=['situacion_laboral'], inplace=True)"
   ]
  },
  {
   "cell_type": "code",
   "execution_count": null,
   "metadata": {},
   "outputs": [],
   "source": [
    "for i in range(1, 7):\n",
    "    # Mapear los valores booleanos a enteros, manteniendo los nulos\n",
    "    dataset_gold[f'cursada_por_uba_xxi_cluster_{i}.0'] = dataset_gold[f'cursada_por_uba_xxi_cluster_{i}.0'].map({True: 1, False: 0})\n",
    "\n",
    "    # Convertir la columna al tipo Int64 que permite nulos\n",
    "    dataset_gold[f'cursada_por_uba_xxi_cluster_{i}.0'] = dataset_gold[f'cursada_por_uba_xxi_cluster_{i}.0'].astype('Int64')\n",
    "\n",
    "    print(dataset_gold[f'cursada_por_uba_xxi_cluster_{i}.0'].value_counts(dropna=False))"
   ]
  },
  {
   "cell_type": "code",
   "execution_count": null,
   "metadata": {},
   "outputs": [],
   "source": [
    "print(dataset_gold.dtypes.to_markdown())"
   ]
  },
  {
   "cell_type": "code",
   "execution_count": null,
   "metadata": {},
   "outputs": [],
   "source": [
    "print(dataset_gold.isnull().sum().to_markdown())"
   ]
  },
  {
   "cell_type": "markdown",
   "metadata": {},
   "source": [
    "## Dividimos los datos"
   ]
  },
  {
   "cell_type": "markdown",
   "metadata": {},
   "source": [
    "En realidad estaría dividiendo en entrenamiento y validación, pues no tenemos el conjunto de test final acá."
   ]
  },
  {
   "cell_type": "code",
   "execution_count": null,
   "metadata": {},
   "outputs": [],
   "source": [
    "dataset_gold.to_csv('../../assets/gold/experimentos_finales/dataset_final.csv', index=False)"
   ]
  },
  {
   "cell_type": "code",
   "execution_count": null,
   "metadata": {},
   "outputs": [],
   "source": [
    "x_train, x_test, y_train, y_test = train_test_split(\n",
    "                                    dataset_gold[dataset_gold.columns.difference(['target'])],\n",
    "                                    dataset_gold['target'],\n",
    "                                    random_state=5, #original lo hice con 4, 49 y 50 dan buen importancia pero muy malas metricas, 51 y 55 no está tan mal\n",
    "                                    test_size=0.2,\n",
    "                                    stratify=dataset_gold['target'])"
   ]
  },
  {
   "cell_type": "code",
   "execution_count": null,
   "metadata": {},
   "outputs": [],
   "source": [
    "print(\"Proporción de datos del dataset de original: \\n \" , pd.DataFrame(dataset_gold[\"target\"].value_counts(normalize=True)))\n",
    "print(\"Proporción de datos del dataset de evaluación: \\n \", pd.DataFrame(y_test.value_counts(normalize=True)))\n",
    "print(\"Proporción de datos del dataset de entrenamiento: \\n \", pd.DataFrame(y_train.value_counts(normalize=True)))"
   ]
  },
  {
   "cell_type": "code",
   "execution_count": null,
   "metadata": {},
   "outputs": [],
   "source": [
    "x_test.to_csv('../../assets/gold/experimentos_finales_2/x_test.csv', index=False)\n",
    "y_test.to_csv('../../assets/gold/experimentos_finales_2/y_test.csv', index=False)\n",
    "x_train.to_csv('../../assets/gold/experimentos_finales_2/x_train.csv', index=False)\n",
    "y_train.to_csv('../../assets/gold/experimentos_finales_2/y_train.csv', index=False)"
   ]
  }
 ],
 "metadata": {
  "kernelspec": {
   "display_name": ".venv",
   "language": "python",
   "name": "python3"
  },
  "language_info": {
   "codemirror_mode": {
    "name": "ipython",
    "version": 3
   },
   "file_extension": ".py",
   "mimetype": "text/x-python",
   "name": "python",
   "nbconvert_exporter": "python",
   "pygments_lexer": "ipython3",
   "version": "3.11.9"
  }
 },
 "nbformat": 4,
 "nbformat_minor": 2
}

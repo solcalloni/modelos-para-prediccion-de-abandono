{
 "cells": [
  {
   "cell_type": "code",
   "execution_count": null,
   "metadata": {},
   "outputs": [],
   "source": [
    "import pandas as pd\n",
    "import numpy as np\n",
    "import matplotlib.pyplot as plt\n",
    "import seaborn as sns\n",
    "import sklearn\n",
    "import joblib\n",
    "\n",
    "from sklearn.tree import DecisionTreeClassifier\n",
    "from sklearn.model_selection import train_test_split\n",
    "from sklearn.preprocessing import StandardScaler\n",
    "from sklearn.ensemble import RandomForestClassifier\n",
    "from sklearn.model_selection import RandomizedSearchCV\n",
    "from sklearn.model_selection import StratifiedKFold\n",
    "from sklearn.metrics import accuracy_score, confusion_matrix , auc, precision_recall_curve, roc_auc_score\n",
    "from scipy.stats import uniform, randint\n",
    "from sklearn.model_selection import cross_validate"
   ]
  },
  {
   "cell_type": "code",
   "execution_count": null,
   "metadata": {},
   "outputs": [],
   "source": [
    "x_train = pd.read_csv('../../assets/gold/experimentos_finales/x_train.csv')\n",
    "y_train = pd.read_csv('../../assets/gold/experimentos_finales/y_train.csv')"
   ]
  },
  {
   "cell_type": "code",
   "execution_count": null,
   "metadata": {},
   "outputs": [],
   "source": [
    "x_validation = pd.read_csv('../../assets/gold/experimentos_finales/x_test.csv')\n",
    "y_validation = pd.read_csv('../../assets/gold/experimentos_finales/y_test.csv')"
   ]
  },
  {
   "cell_type": "code",
   "execution_count": null,
   "metadata": {},
   "outputs": [],
   "source": [
    "print(x_train.dtypes.to_markdown())"
   ]
  },
  {
   "cell_type": "markdown",
   "metadata": {},
   "source": [
    "## Arbol \"pelado\""
   ]
  },
  {
   "cell_type": "code",
   "execution_count": null,
   "metadata": {},
   "outputs": [],
   "source": [
    "def auroc_complejidad(model, x, y):\n",
    "    result = cross_validate(model, x, y, cv=StratifiedKFold(n_splits=5, shuffle=True, random_state=41),scoring='roc_auc',return_train_score=True)\n",
    "    result_train = np.mean(result[\"train_score\"])\n",
    "    result_test = np.mean(result[\"test_score\"])\n",
    "\n",
    "    return result_train, result_test"
   ]
  },
  {
   "cell_type": "code",
   "execution_count": null,
   "metadata": {},
   "outputs": [],
   "source": [
    "x = pd.concat([x_train, x_validation])\n",
    "y = pd.concat([y_train, y_validation])"
   ]
  },
  {
   "cell_type": "code",
   "execution_count": null,
   "metadata": {},
   "outputs": [],
   "source": [
    "max_depth_values = range(1, 30)\n",
    "\n",
    "# Inicializamos listas para almacenar las puntuaciones de entrenamiento y prueba\n",
    "train_auroc = []\n",
    "test_auroc = []\n",
    "\n",
    "# Calculamos puntuaciones para cada valor de profundidad máxima\n",
    "for max_depth in max_depth_values:\n",
    "    modelo = DecisionTreeClassifier(\n",
    "                                    criterion='gini',             # Gini\n",
    "                                    splitter='best',              # Selecciona la mejor división\n",
    "                                    max_depth=max_depth,          # Sin límite de profundidad\n",
    "                                    min_samples_split=2,          # Mínimo de muestras para dividir un nodo\n",
    "                                    min_samples_leaf=1,           # Mínimo de muestras en una hoja\n",
    "                                    max_features=None,            # Considera todas las características\n",
    "                                    random_state=42               # Para reproducibilidad\n",
    "                                )\n",
    "    auroc_promedio_train, auroc_promedio_test = auroc_complejidad(modelo, x, y)\n",
    "    train_auroc.append(auroc_promedio_train)\n",
    "    test_auroc.append(auroc_promedio_test)\n",
    "\n",
    "\n",
    "# Graficamos las curvas de complejidad\n",
    "plt.figure(figsize=(10, 6))\n",
    "plt.plot(max_depth_values, train_auroc, label='Train', marker='o')\n",
    "plt.plot(max_depth_values, test_auroc, label='Test', marker='o')\n",
    "plt.xticks(range(1, 30, 2), fontsize=11)\n",
    "plt.yticks(fontsize=11)\n",
    "plt.xlabel('Profundidad máxima del árbol', fontsize=13)\n",
    "plt.ylabel('Área bajo la curva ROC', fontsize=13)\n",
    "plt.title('Curva de complejidad para árbol de decisión', fontsize=13)\n",
    "plt.legend(fontsize=13)\n",
    "plt.show()"
   ]
  }
 ],
 "metadata": {
  "kernelspec": {
   "display_name": ".venv",
   "language": "python",
   "name": "python3"
  },
  "language_info": {
   "codemirror_mode": {
    "name": "ipython",
    "version": 3
   },
   "file_extension": ".py",
   "mimetype": "text/x-python",
   "name": "python",
   "nbconvert_exporter": "python",
   "pygments_lexer": "ipython3",
   "version": "3.11.9"
  }
 },
 "nbformat": 4,
 "nbformat_minor": 2
}

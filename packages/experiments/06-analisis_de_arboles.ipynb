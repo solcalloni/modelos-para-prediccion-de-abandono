{
 "cells": [
  {
   "cell_type": "code",
   "execution_count": null,
   "id": "fb845c13",
   "metadata": {},
   "outputs": [],
   "source": [
    "import joblib\n",
    "from sklearn.tree import plot_tree\n",
    "import matplotlib.pyplot as plt\n",
    "import pandas as pd"
   ]
  },
  {
   "cell_type": "code",
   "execution_count": null,
   "id": "c220d5d3",
   "metadata": {},
   "outputs": [],
   "source": [
    "modelo = joblib.load('../../../assets/resultados_modelos/experimento_1_v2/random_forest_sin_boostrap_1.pkl')"
   ]
  },
  {
   "cell_type": "code",
   "execution_count": null,
   "id": "d49fed8a",
   "metadata": {},
   "outputs": [],
   "source": [
    "x_train = pd.read_csv('../../../assets/gold/experimentos_finales/x_train.csv')\n",
    "feature_names= x_train.columns.tolist()"
   ]
  },
  {
   "cell_type": "code",
   "execution_count": null,
   "id": "63958b4b",
   "metadata": {},
   "outputs": [],
   "source": [
    "modelo"
   ]
  },
  {
   "cell_type": "code",
   "execution_count": null,
   "id": "b5e8bd7d",
   "metadata": {},
   "outputs": [],
   "source": [
    "for i in range(20):\n",
    "    plt.figure(figsize=(20, 10))\n",
    "    plot_tree(modelo.estimators_[i], filled=True, max_depth=3, feature_names=feature_names)\n",
    "    plt.show()"
   ]
  },
  {
   "cell_type": "code",
   "execution_count": null,
   "id": "278c19e3",
   "metadata": {},
   "outputs": [],
   "source": [
    "from sklearn.tree import export_graphviz\n",
    "import graphviz\n",
    "\n",
    "# Exportar el árbol como texto DOT\n",
    "dot_data = export_graphviz(\n",
    "    modelo.estimators_[8],             # el árbol individual\n",
    "    out_file=None,                     # lo devolvemos como string, no guardamos aún\n",
    "    feature_names=feature_names,       # nombres de variables\n",
    "    class_names=['No Abandono', 'Abandono'],# opcional: nombres de clases\n",
    "    filled=True, rounded=True,         # colores y bordes redondeados\n",
    "    special_characters=True\n",
    ")\n",
    "\n",
    "# Renderizar con graphviz\n",
    "graph = graphviz.Source(dot_data)\n",
    "#graph.render(\"arbol_random_forest\", format=\"png\", cleanup=True)  # guarda el PNG\n",
    "graph                         # esto lo muestra en Jupyter/lab si estás ahí"
   ]
  },
  {
   "cell_type": "code",
   "execution_count": null,
   "id": "728e19f2",
   "metadata": {},
   "outputs": [],
   "source": [
    "# Agregar un título al grafo DOT\n",
    "dot_data = dot_data.replace('digraph Tree {', 'digraph Tree {\\nlabel=\"Árbol del Random Forest con 10 árboles de altura máxima 3 y criterio gini\";\\nlabelloc=top;\\nfontsize=20;')\n",
    "graph = graphviz.Source(dot_data)\n",
    "graph"
   ]
  },
  {
   "cell_type": "code",
   "execution_count": null,
   "id": "a0a67537",
   "metadata": {},
   "outputs": [],
   "source": [
    "graph.render(\"arbol_random_forest\", format=\"svg\", cleanup=True)"
   ]
  }
 ],
 "metadata": {
  "kernelspec": {
   "display_name": ".venv",
   "language": "python",
   "name": "python3"
  },
  "language_info": {
   "codemirror_mode": {
    "name": "ipython",
    "version": 3
   },
   "file_extension": ".py",
   "mimetype": "text/x-python",
   "name": "python",
   "nbconvert_exporter": "python",
   "pygments_lexer": "ipython3",
   "version": "3.11.9"
  }
 },
 "nbformat": 4,
 "nbformat_minor": 5
}

{
 "cells": [
  {
   "cell_type": "code",
   "execution_count": null,
   "metadata": {},
   "outputs": [],
   "source": [
    "import sys\n",
    "sys.path.insert(0, '../')\n",
    "\n",
    "import pandas as pd\n",
    "import numpy as np\n",
    "import matplotlib.pyplot as plt\n",
    "import seaborn as sns\n",
    "from ydata_profiling import ProfileReport\n",
    "import io\n",
    "import tabulate\n",
    "import helpers_cbc"
   ]
  },
  {
   "cell_type": "code",
   "execution_count": 2,
   "metadata": {},
   "outputs": [],
   "source": [
    "CBC = '../../../assets/bronze/CBC/Sitacad_Tesis (1).xlsx'"
   ]
  },
  {
   "cell_type": "code",
   "execution_count": null,
   "metadata": {},
   "outputs": [],
   "source": [
    "# Load the data\n",
    "xls = pd.ExcelFile(CBC)\n",
    "for sheet_name in xls.sheet_names:\n",
    "    print(sheet_name)"
   ]
  },
  {
   "cell_type": "code",
   "execution_count": 4,
   "metadata": {},
   "outputs": [],
   "source": [
    "df_calificaciones = pd.read_excel(CBC, sheet_name='Calificaciones')\n",
    "df_carreras = pd.read_excel(CBC, sheet_name='Materias Grilla Carreras')"
   ]
  },
  {
   "cell_type": "markdown",
   "metadata": {},
   "source": [
    "Correcciones que notamos en el eda inicial"
   ]
  },
  {
   "cell_type": "code",
   "execution_count": 5,
   "metadata": {},
   "outputs": [],
   "source": [
    "df_carreras = helpers_cbc.normalize_column_values(df_carreras, ['Carrera', 'Materia'])\n",
    "df_calificaciones = helpers_cbc.normalize_column_values(df_calificaciones, ['Carrera', 'Dirección', 'Localidad', 'dominio email', 'Materia', 'Nota', 'UBA XXI', 'Es materia FCEN?'])"
   ]
  },
  {
   "cell_type": "markdown",
   "metadata": {},
   "source": [
    "Analizamos la relación entre ambas tablas."
   ]
  },
  {
   "cell_type": "markdown",
   "metadata": {},
   "source": [
    "Vimos que ambas tablas tienen la misma cantidad de carreras. Verifiquemos que sean las mismas."
   ]
  },
  {
   "cell_type": "code",
   "execution_count": null,
   "metadata": {},
   "outputs": [],
   "source": [
    "carreras_no_en_grilla = df_calificaciones[~df_calificaciones['Carrera'].isin(df_carreras['Carrera'])]\n",
    "print(carreras_no_en_grilla)"
   ]
  },
  {
   "cell_type": "code",
   "execution_count": null,
   "metadata": {},
   "outputs": [],
   "source": [
    "carreras_no_en_grilla = df_carreras[~df_carreras['Carrera'].isin(df_calificaciones['Carrera'])]\n",
    "print(carreras_no_en_grilla)"
   ]
  },
  {
   "cell_type": "markdown",
   "metadata": {},
   "source": [
    "Se ve que coinciden ambos conjuntos."
   ]
  },
  {
   "cell_type": "markdown",
   "metadata": {},
   "source": [
    "En el análisis previo vimos que df_calificaciones tiene 32 materias distintas, mientras que df_carreras tiene tan solo 10."
   ]
  },
  {
   "cell_type": "code",
   "execution_count": null,
   "metadata": {},
   "outputs": [],
   "source": [
    "materias_no_en_calificaciones = df_carreras[~df_carreras['Materia'].isin(df_calificaciones['Materia'])]\n",
    "print(materias_no_en_calificaciones)"
   ]
  },
  {
   "cell_type": "markdown",
   "metadata": {},
   "source": [
    "No hay materias de df_carreras que no aparezcan en df_calificaciones pero no se cumple la inversa."
   ]
  },
  {
   "cell_type": "code",
   "execution_count": 9,
   "metadata": {},
   "outputs": [],
   "source": [
    "# Verificar si hay materias que no están en la grilla de carreras\n",
    "materias_no_en_grilla = df_calificaciones[~df_calificaciones['Materia'].isin(df_carreras['Materia'])]"
   ]
  },
  {
   "cell_type": "code",
   "execution_count": null,
   "metadata": {},
   "outputs": [],
   "source": [
    "df_calificaciones['Materia'].unique()"
   ]
  },
  {
   "cell_type": "code",
   "execution_count": null,
   "metadata": {},
   "outputs": [],
   "source": [
    "materias_no_en_grilla['Materia'].unique()"
   ]
  },
  {
   "cell_type": "code",
   "execution_count": null,
   "metadata": {},
   "outputs": [],
   "source": [
    "df_carreras['Materia'].unique()"
   ]
  },
  {
   "cell_type": "code",
   "execution_count": null,
   "metadata": {},
   "outputs": [],
   "source": [
    "print(materias_no_en_grilla.groupby('Carrera')['Materia'].value_counts().to_markdown())"
   ]
  },
  {
   "cell_type": "markdown",
   "metadata": {},
   "source": [
    "Vemos que todas estas materias tienen la aclaración de que no son de la FCEN."
   ]
  },
  {
   "cell_type": "code",
   "execution_count": null,
   "metadata": {},
   "outputs": [],
   "source": [
    "print(materias_no_en_grilla.groupby('Materia')['Es materia FCEN?'].value_counts().to_markdown())"
   ]
  },
  {
   "cell_type": "markdown",
   "metadata": {},
   "source": [
    "En particular para ALGEBRA A, ANALISIS MATEMATICO y ANALISIS MATEMATICO I, quiero ver si a las personas que cursaron dichas materias se les dio una equivalencia."
   ]
  },
  {
   "cell_type": "code",
   "execution_count": null,
   "metadata": {},
   "outputs": [],
   "source": [
    "print(df_calificaciones[df_calificaciones['Nota'] == 'AP']['Materia'].value_counts().to_markdown())"
   ]
  },
  {
   "cell_type": "markdown",
   "metadata": {},
   "source": [
    "Todas las materias tienen un único código."
   ]
  },
  {
   "cell_type": "code",
   "execution_count": null,
   "metadata": {},
   "outputs": [],
   "source": [
    "print(df_carreras.groupby(['Materia', 'Cód.Mat.']).value_counts().to_markdown())"
   ]
  },
  {
   "cell_type": "markdown",
   "metadata": {},
   "source": [
    "## Agrupando por DNI"
   ]
  },
  {
   "cell_type": "markdown",
   "metadata": {},
   "source": [
    "Todas las personas tienen asignada una sola carrera."
   ]
  },
  {
   "cell_type": "code",
   "execution_count": 17,
   "metadata": {},
   "outputs": [],
   "source": [
    "cantidad_de_carreras= df_calificaciones.groupby('Dni')['Carrera'].nunique()"
   ]
  },
  {
   "cell_type": "code",
   "execution_count": null,
   "metadata": {},
   "outputs": [],
   "source": [
    "(cantidad_de_carreras>1).sum()"
   ]
  },
  {
   "cell_type": "markdown",
   "metadata": {},
   "source": [
    "Veamos cuantas materias se suelen inscribir."
   ]
  },
  {
   "cell_type": "code",
   "execution_count": 19,
   "metadata": {},
   "outputs": [],
   "source": [
    "cantidad_de_materias= df_calificaciones.groupby('Dni')['Materia'].nunique()"
   ]
  },
  {
   "cell_type": "code",
   "execution_count": null,
   "metadata": {},
   "outputs": [],
   "source": [
    "# Definir los bins como bordes enteros desde el mínimo hasta el máximo + 1\n",
    "bins = range(cantidad_de_materias.min(), cantidad_de_materias.max() + 2)\n",
    "\n",
    "plt.figure(figsize=(10, 6))\n",
    "plt.hist(cantidad_de_materias, bins=bins, edgecolor='black', align='left')\n",
    "plt.title('Distribución de cantidad de materias inscriptas por estudiante')\n",
    "plt.xlabel('Cantidad de materias')\n",
    "plt.ylabel('Cantidad de estudiantes')\n",
    "plt.xticks(range(cantidad_de_materias.min(), cantidad_de_materias.max() + 1))\n",
    "plt.grid(axis='y', linestyle='--', alpha=0.7)\n",
    "plt.show()"
   ]
  },
  {
   "cell_type": "code",
   "execution_count": 21,
   "metadata": {},
   "outputs": [],
   "source": [
    "df_dni_carrera = df_calificaciones[['Dni', 'Carrera']].drop_duplicates()"
   ]
  },
  {
   "cell_type": "code",
   "execution_count": null,
   "metadata": {},
   "outputs": [],
   "source": [
    "# Estilo general\n",
    "sns.set(style=\"whitegrid\")\n",
    "\n",
    "# Calcular proporciones\n",
    "carrera_proporciones = df_dni_carrera['Carrera'].value_counts(normalize=True).sort_values()\n",
    "\n",
    "# Crear el gráfico\n",
    "plt.figure(figsize=(10, 6))\n",
    "ax = carrera_proporciones.plot(kind='barh', color=sns.color_palette(\"crest\", len(carrera_proporciones)))\n",
    "\n",
    "# Agregar etiquetas con porcentajes\n",
    "for i, (index, value) in enumerate(carrera_proporciones.items()):\n",
    "    plt.text(value + 0.002, i, f\"{value:.1%}\", va='center')\n",
    "\n",
    "# Títulos y etiquetas\n",
    "plt.title('Distribución proporcional de estudiantes por carrera', fontsize=14, weight='bold')\n",
    "plt.xlabel('Proporción')\n",
    "plt.ylabel('Carrera')\n",
    "plt.xlim(0, carrera_proporciones.max() + 0.05)\n",
    "\n",
    "plt.tight_layout()\n",
    "plt.show()"
   ]
  },
  {
   "cell_type": "code",
   "execution_count": 23,
   "metadata": {},
   "outputs": [],
   "source": [
    "df_mail = df_calificaciones[['Dni', 'dominio email']].drop_duplicates()\n",
    "# Agrupar dominios: si es gmail.com, se queda; si no, se reemplaza por \"OTROS\"\n",
    "df_mail['dominio agrupado'] = df_mail['dominio email'].apply(\n",
    "    lambda x: x if x == 'GMAIL.COM' else 'OTROS'\n",
    ")"
   ]
  },
  {
   "cell_type": "code",
   "execution_count": null,
   "metadata": {},
   "outputs": [],
   "source": [
    "df_mail['dominio agrupado'].value_counts(normalize=True).plot(kind='bar', color=['#1f77b4', '#ff7f0e'])\n",
    "plt.title('Distribución de dominios de email')\n",
    "plt.ylabel('Proporción')\n",
    "plt.xticks(rotation=0)\n",
    "plt.show()"
   ]
  },
  {
   "cell_type": "code",
   "execution_count": null,
   "metadata": {},
   "outputs": [],
   "source": [
    "df_calificaciones.columns"
   ]
  },
  {
   "cell_type": "code",
   "execution_count": 26,
   "metadata": {},
   "outputs": [],
   "source": [
    "df_localidad= df_calificaciones[['Dni', 'Localidad']].drop_duplicates()"
   ]
  },
  {
   "cell_type": "code",
   "execution_count": null,
   "metadata": {},
   "outputs": [],
   "source": [
    "df_localidad.nunique()"
   ]
  },
  {
   "cell_type": "code",
   "execution_count": null,
   "metadata": {},
   "outputs": [],
   "source": [
    "top_10_localidades = df_localidad['Localidad'].value_counts(normalize = True).head(10)\n",
    "plt.figure(figsize=(10, 6))\n",
    "sns.barplot(x=top_10_localidades.values, y=top_10_localidades.index, palette=\"viridis\")\n",
    "plt.title('Top 10 localidades con más estudiantes (DNI únicos)', fontsize=14, weight='bold')\n",
    "plt.xlabel('Cantidad de estudiantes')\n",
    "plt.ylabel('Localidad')\n",
    "plt.grid(axis='x', linestyle='--', alpha=0.7)\n",
    "plt.tight_layout()\n",
    "plt.show()"
   ]
  },
  {
   "cell_type": "code",
   "execution_count": null,
   "metadata": {},
   "outputs": [],
   "source": [
    "# Reemplazar NaN por una categoría explícita\n",
    "df_localidad['Localidad'] = df_localidad['Localidad'].fillna('Sin dato')\n",
    "\n",
    "# Contar localidades (ahora incluye 'Sin dato') y tomar el top 10\n",
    "top_localidades = df_localidad['Localidad'].value_counts(normalize = True).head(10)\n",
    "\n",
    "# Visualización\n",
    "plt.figure(figsize=(10, 6))\n",
    "sns.barplot(x=top_localidades.values, y=top_localidades.index, palette=\"mako\")\n",
    "plt.title('Top 10 localidades con más estudiantes (incluye \"Sin dato\")', fontsize=14, weight='bold')\n",
    "plt.xlabel('Cantidad de estudiantes')\n",
    "plt.ylabel('Localidad')\n",
    "plt.grid(axis='x', linestyle='--', alpha=0.7)\n",
    "plt.tight_layout()\n",
    "plt.show()"
   ]
  },
  {
   "cell_type": "code",
   "execution_count": null,
   "metadata": {},
   "outputs": [],
   "source": [
    "df_anio = df_calificaciones[['Dni', 'Fecha']]\n",
    "df_anio['mes'] = df_calificaciones['Fecha'].dt.month\n",
    "df_anio['anio'] = df_calificaciones['Fecha'].dt.year"
   ]
  },
  {
   "cell_type": "code",
   "execution_count": null,
   "metadata": {},
   "outputs": [],
   "source": [
    "df_anio['anio'].value_counts().sort_index().plot(kind='bar', color='skyblue')"
   ]
  },
  {
   "cell_type": "code",
   "execution_count": null,
   "metadata": {},
   "outputs": [],
   "source": [
    "df_anio['anio'].value_counts()"
   ]
  },
  {
   "cell_type": "code",
   "execution_count": null,
   "metadata": {},
   "outputs": [],
   "source": [
    "df_anio.groupby('anio')['mes'].value_counts().sort_index().plot(kind='bar', color='skyblue')"
   ]
  },
  {
   "cell_type": "code",
   "execution_count": 34,
   "metadata": {},
   "outputs": [],
   "source": [
    "df_anio_examenes_rendidos = df_calificaciones[(df_calificaciones['Nota'] != 'A') & (df_calificaciones['Nota'] != 'NR')][['Dni', 'Fecha']]\n",
    "df_anio_examenes_rendidos['mes'] = df_anio_examenes_rendidos['Fecha'].dt.month\n",
    "df_anio_examenes_rendidos['anio'] = df_anio_examenes_rendidos['Fecha'].dt.year"
   ]
  },
  {
   "cell_type": "code",
   "execution_count": null,
   "metadata": {},
   "outputs": [],
   "source": [
    "df_anio_examenes_rendidos['anio'].value_counts().sort_index().plot(kind='bar', color='skyblue')"
   ]
  },
  {
   "cell_type": "code",
   "execution_count": null,
   "metadata": {},
   "outputs": [],
   "source": [
    "df_anio_examenes_rendidos.groupby('anio')['mes'].value_counts().sort_index().plot(kind='bar', color='skyblue')"
   ]
  }
 ],
 "metadata": {
  "kernelspec": {
   "display_name": ".venv",
   "language": "python",
   "name": "python3"
  },
  "language_info": {
   "codemirror_mode": {
    "name": "ipython",
    "version": 3
   },
   "file_extension": ".py",
   "mimetype": "text/x-python",
   "name": "python",
   "nbconvert_exporter": "python",
   "pygments_lexer": "ipython3",
   "version": "3.11.9"
  }
 },
 "nbformat": 4,
 "nbformat_minor": 2
}

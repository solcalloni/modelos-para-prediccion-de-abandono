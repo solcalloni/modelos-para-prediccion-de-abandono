{
 "cells": [
  {
   "cell_type": "code",
   "execution_count": null,
   "metadata": {},
   "outputs": [],
   "source": [
    "import sys\n",
    "sys.path.insert(0, '../')\n",
    "\n",
    "import pandas as pd\n",
    "import numpy as np\n",
    "import matplotlib.pyplot as plt\n",
    "import seaborn as sns\n",
    "from ydata_profiling import ProfileReport\n",
    "import io\n",
    "import tabulate\n",
    "import helpers_cbc\n",
    "import helpers_eda_inicial"
   ]
  },
  {
   "cell_type": "markdown",
   "metadata": {},
   "source": [
    "Abrimos el archivo otorgado por el CBC y vemos el contenido de las paginas."
   ]
  },
  {
   "cell_type": "code",
   "execution_count": 2,
   "metadata": {},
   "outputs": [],
   "source": [
    "CBC = '../../../assets/bronze/CBC/Sitacad_Tesis (1).xlsx'"
   ]
  },
  {
   "cell_type": "code",
   "execution_count": null,
   "metadata": {},
   "outputs": [],
   "source": [
    "# Load the data\n",
    "xls = pd.ExcelFile(CBC)\n",
    "for sheet_name in xls.sheet_names:\n",
    "    print(sheet_name)"
   ]
  },
  {
   "cell_type": "code",
   "execution_count": 4,
   "metadata": {},
   "outputs": [],
   "source": [
    "df_calificaciones = pd.read_excel(CBC, sheet_name='Calificaciones')\n",
    "df_carreras = pd.read_excel(CBC, sheet_name='Materias Grilla Carreras')\n",
    "df_convenciones = pd.read_excel(CBC, sheet_name='Convenciones')"
   ]
  },
  {
   "cell_type": "markdown",
   "metadata": {},
   "source": [
    "Revisamos que todos los DNI sean de longitud 8."
   ]
  },
  {
   "cell_type": "code",
   "execution_count": null,
   "metadata": {},
   "outputs": [],
   "source": [
    "df_calificaciones['Dni'] = df_calificaciones['Dni'].astype(str)\n",
    "# Largo de cada string\n",
    "df_calificaciones['longitud'] = df_calificaciones['Dni'].str.len()\n",
    "# Estadísticas descriptivas\n",
    "print(df_calificaciones['longitud'].describe())\n",
    "df_calificaciones['longitud'].value_counts().sort_index().plot(kind='bar')"
   ]
  },
  {
   "cell_type": "code",
   "execution_count": null,
   "metadata": {},
   "outputs": [],
   "source": [
    "df_calificaciones[df_calificaciones['longitud'] != 8]['Dni'].unique()"
   ]
  },
  {
   "cell_type": "markdown",
   "metadata": {},
   "source": [
    "Para hacer una primera revisión de datos."
   ]
  },
  {
   "cell_type": "markdown",
   "metadata": {},
   "source": [
    "df_calificaciones contiene las materias rendidas por estudiantes junto con sus clasificaciones."
   ]
  },
  {
   "cell_type": "code",
   "execution_count": null,
   "metadata": {},
   "outputs": [],
   "source": [
    "helpers_eda_inicial.dataset_profiling(df_calificaciones, 'df_calificaciones')"
   ]
  },
  {
   "cell_type": "markdown",
   "metadata": {},
   "source": [
    "df_carreras enumera las materias del CBC que se realizan cen cada una de las carreras, junto con el codigo de la materia."
   ]
  },
  {
   "cell_type": "code",
   "execution_count": null,
   "metadata": {},
   "outputs": [],
   "source": [
    "df_carreras.head(10)"
   ]
  },
  {
   "cell_type": "code",
   "execution_count": null,
   "metadata": {},
   "outputs": [],
   "source": [
    "helpers_eda_inicial.dataset_profiling(df_carreras, 'df_carreras')"
   ]
  },
  {
   "cell_type": "markdown",
   "metadata": {},
   "source": [
    "No está pensado en formato tabla, explica el significado y contenido de algunas de las columnas:"
   ]
  },
  {
   "cell_type": "code",
   "execution_count": null,
   "metadata": {},
   "outputs": [],
   "source": [
    "df_convenciones.head(10)"
   ]
  },
  {
   "cell_type": "markdown",
   "metadata": {},
   "source": [
    "# EDA"
   ]
  },
  {
   "cell_type": "markdown",
   "metadata": {},
   "source": [
    "Veo que algunas veces aparecen nombres en mayuscula y minuscula y que tienen espacios extra al comienzo o final, lo corregimos."
   ]
  },
  {
   "cell_type": "code",
   "execution_count": null,
   "metadata": {},
   "outputs": [],
   "source": [
    "df_carreras = helpers_cbc.normalize_column_values(df_carreras, ['Carrera', 'Materia'])\n",
    "df_calificaciones = helpers_cbc.normalize_column_values(df_calificaciones, ['Carrera', 'Dirección', 'Localidad', 'dominio email', 'Materia', 'Nota', 'UBA XXI', 'Es materia FCEN?'])"
   ]
  },
  {
   "cell_type": "markdown",
   "metadata": {},
   "source": [
    "Vemos que hay 145224 filas distintas pero en realidad se corresponde con 16229 DNIs distintos (personas distintas).\n",
    "\n",
    "Además, figuran 98 dominios de mails distintos, pero si revisamos la distribución más del 85% se corresponde con gmail.\n",
    "\n",
    "La materia que más figura es quimica.\n",
    "\n",
    "Además, 'Dirección' y 'Localidad' con los que más valores faltantes presentan."
   ]
  },
  {
   "cell_type": "code",
   "execution_count": null,
   "metadata": {},
   "outputs": [],
   "source": [
    "helpers_eda_inicial.initial_eda(df_calificaciones, \"df_calificaciones\")"
   ]
  },
  {
   "cell_type": "code",
   "execution_count": null,
   "metadata": {},
   "outputs": [],
   "source": [
    "# Variables a analizar\n",
    "categoricas_principales = ['Carrera', 'dominio email', 'Materia', 'Nota', 'UBA XXI', 'Es materia FCEN?']\n",
    "\n",
    "# Crear subplots con layout más generoso\n",
    "fig, axes = plt.subplots(nrows=len(categoricas_principales), ncols=1, figsize=(18, 6 * len(categoricas_principales)), constrained_layout=True)\n",
    "\n",
    "# Asegurar que axes sea iterable\n",
    "if len(categoricas_principales) == 1:\n",
    "    axes = [axes]\n",
    "\n",
    "for i, col in enumerate(categoricas_principales):\n",
    "    ax = axes[i]\n",
    "    \n",
    "    # Calcular distribución\n",
    "    ciclo_counts = df_calificaciones[col].value_counts(normalize=True)\n",
    "    \n",
    "    # Plot\n",
    "    ciclo_counts.plot(kind=\"bar\", color=\"purple\", ax=ax, width=0.8)\n",
    "\n",
    "    # Ajustes visuales\n",
    "    ax.set_title(f\"Distribución de {col}\", fontsize=14)\n",
    "    ax.set_xlabel(col, fontsize=12)\n",
    "    ax.set_ylabel(\"Proporción\", fontsize=12)\n",
    "    ax.tick_params(axis='x', rotation=70)  # Rotar etiquetas del eje x\n",
    "    ax.tick_params(axis='y', labelsize=10)\n",
    "    \n",
    "    # Si hay muchas categorías, reducir el tamaño de fuente de las etiquetas del eje X\n",
    "    if len(ciclo_counts) > 20:\n",
    "        ax.set_xticklabels(ax.get_xticklabels(), fontsize=8)\n",
    "\n",
    "plt.show()"
   ]
  },
  {
   "cell_type": "markdown",
   "metadata": {},
   "source": [
    "## Carreras"
   ]
  },
  {
   "cell_type": "code",
   "execution_count": null,
   "metadata": {},
   "outputs": [],
   "source": [
    "helpers_eda_inicial.initial_eda(df_carreras, \"df_carreras\")"
   ]
  },
  {
   "cell_type": "markdown",
   "metadata": {},
   "source": [
    "Ambos dataset tienen 18 carreras distintas. Sin embargo, notamos que en df_calificaciones hay 32 materias distintas pero en df_carreras hay solo 10."
   ]
  },
  {
   "cell_type": "markdown",
   "metadata": {},
   "source": [
    "Analizando df_carreras vemos que todas tienen 7 o 6 materias asignadas para el CBC."
   ]
  },
  {
   "cell_type": "code",
   "execution_count": null,
   "metadata": {},
   "outputs": [],
   "source": [
    "materias_por_carrera = df_carreras.groupby(\"Carrera\")[\"Materia\"].nunique().reset_index()\n",
    "materias_por_carrera.columns = [\"Carrera\", \"Materias Únicas\"]\n",
    "materias_por_carrera = materias_por_carrera.sort_values(by=\"Materias Únicas\", ascending=False)\n",
    "print(materias_por_carrera)"
   ]
  },
  {
   "cell_type": "markdown",
   "metadata": {},
   "source": [
    "Las materias FISICA, INT. AL CONOC. DE LA SOCIEDAD Y EL ESTADO, INT. AL PENSAMIENTO CIENTIFICO y QUIMICA, pertenecen a todas las carreras. Mientras que el resto pertenecen solo a un subconjunto."
   ]
  },
  {
   "cell_type": "code",
   "execution_count": null,
   "metadata": {},
   "outputs": [],
   "source": [
    "carreras_por_materia = df_carreras.groupby(\"Materia\")[\"Carrera\"].nunique().reset_index()\n",
    "carreras_por_materia.columns = [\"Materia\", \"Carreras Únicas\"]\n",
    "carreras_por_materia = carreras_por_materia.sort_values(by=\"Carreras Únicas\", ascending=False)\n",
    "print(carreras_por_materia)"
   ]
  },
  {
   "cell_type": "markdown",
   "metadata": {},
   "source": [
    "Vemos en qué carreras aparecen aquellas materias que no pertenecen a todas las carreras."
   ]
  },
  {
   "cell_type": "code",
   "execution_count": null,
   "metadata": {},
   "outputs": [],
   "source": [
    "materias_con_pocas_carreras = carreras_por_materia[carreras_por_materia['Carreras Únicas'] < 18]\n",
    "\n",
    "# Paso 2: filtrar el DataFrame original para quedarte solo con esas materias\n",
    "materias_filtradas = df_carreras[df_carreras[\"Materia\"].isin(materias_con_pocas_carreras['Materia'].unique())]\n",
    "\n",
    "# Paso 3: agrupar para ver en qué carreras aparece cada materia\n",
    "resultado = materias_filtradas.groupby(\"Materia\")[\"Carrera\"].unique().reset_index()\n",
    "\n",
    "# Opcional: convertir la lista de carreras a string para mejor visualización\n",
    "resultado[\"Carrera\"] = resultado[\"Carrera\"].apply(lambda x: \", \".join(x))\n",
    "\n",
    "print(resultado.to_markdown(index=False))"
   ]
  },
  {
   "cell_type": "markdown",
   "metadata": {},
   "source": [
    "Vemos en qué carreras no aparecen."
   ]
  },
  {
   "cell_type": "code",
   "execution_count": null,
   "metadata": {},
   "outputs": [],
   "source": [
    "# Paso 1: lista completa de carreras\n",
    "todas_las_carreras = set(df_carreras[\"Carrera\"].unique())\n",
    "\n",
    "# Paso 2: contar en cuántas carreras aparece cada materia\n",
    "materias_por_carrera_count = df_carreras.groupby(\"Materia\")[\"Carrera\"].nunique()\n",
    "\n",
    "# Paso 3: filtrar materias que aparecen en menos de 18 carreras\n",
    "materias_incompletas = materias_por_carrera_count[materias_por_carrera_count < 18].index\n",
    "\n",
    "# Paso 4: obtener las carreras en las que NO aparece cada una de esas materias\n",
    "faltantes = []\n",
    "for materia in materias_incompletas:\n",
    "    carreras_con_materia = set(df_carreras[df_carreras[\"Materia\"] == materia][\"Carrera\"])\n",
    "    carreras_sin_materia = todas_las_carreras - carreras_con_materia\n",
    "    faltantes.append({\n",
    "        \"Materia\": materia,\n",
    "        \"Carreras sin esa materia\": \", \".join(sorted(carreras_sin_materia))\n",
    "    })\n",
    "\n",
    "# Convertir a DataFrame\n",
    "faltantes_df = pd.DataFrame(faltantes)\n",
    "print(faltantes_df.to_markdown(index=False))"
   ]
  }
 ],
 "metadata": {
  "kernelspec": {
   "display_name": ".venv",
   "language": "python",
   "name": "python3"
  },
  "language_info": {
   "codemirror_mode": {
    "name": "ipython",
    "version": 3
   },
   "file_extension": ".py",
   "mimetype": "text/x-python",
   "name": "python",
   "nbconvert_exporter": "python",
   "pygments_lexer": "ipython3",
   "version": "3.11.9"
  }
 },
 "nbformat": 4,
 "nbformat_minor": 2
}

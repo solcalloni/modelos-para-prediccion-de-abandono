{
 "cells": [
  {
   "cell_type": "code",
   "execution_count": null,
   "metadata": {},
   "outputs": [],
   "source": [
    "import sys\n",
    "sys.path.insert(0, '../')\n",
    "\n",
    "import pandas as pd\n",
    "import numpy as np\n",
    "import matplotlib.pyplot as plt\n",
    "import seaborn as sns\n",
    "from ydata_profiling import ProfileReport\n",
    "import io\n",
    "import tabulate\n",
    "import helpers_cbc\n",
    "import helpers_eda_inicial"
   ]
  },
  {
   "cell_type": "code",
   "execution_count": 2,
   "metadata": {},
   "outputs": [],
   "source": [
    "CBC = '../../../assets/bronze/CBC/Sitacad_Tesis (1).xlsx'"
   ]
  },
  {
   "cell_type": "code",
   "execution_count": null,
   "metadata": {},
   "outputs": [],
   "source": [
    "df_calificaciones, df_carreras = helpers_cbc.get_data(CBC)"
   ]
  },
  {
   "cell_type": "code",
   "execution_count": null,
   "metadata": {},
   "outputs": [],
   "source": [
    "df_calificaciones"
   ]
  },
  {
   "cell_type": "code",
   "execution_count": null,
   "metadata": {},
   "outputs": [],
   "source": [
    "df_calificaciones['Dni'].nunique()"
   ]
  },
  {
   "cell_type": "markdown",
   "metadata": {},
   "source": [
    "## Vuelvo a revisar estadisticas"
   ]
  },
  {
   "cell_type": "code",
   "execution_count": null,
   "metadata": {},
   "outputs": [],
   "source": [
    "helpers_eda_inicial.initial_eda(df_calificaciones, \"df_calificaciones\")"
   ]
  },
  {
   "cell_type": "code",
   "execution_count": null,
   "metadata": {},
   "outputs": [],
   "source": [
    "# Miro si la distribución de las variables categoricas\n",
    "\n",
    "# Variables a analizar\n",
    "categoricas_principales = ['Carrera', 'dominio email', 'Materia', 'Nota', 'UBA XXI', 'Es materia FCEN?']\n",
    "\n",
    "# Crear subplots con layout más generoso\n",
    "fig, axes = plt.subplots(nrows=len(categoricas_principales), ncols=1, figsize=(18, 6 * len(categoricas_principales)), constrained_layout=True)\n",
    "\n",
    "# Asegurar que axes sea iterable\n",
    "if len(categoricas_principales) == 1:\n",
    "    axes = [axes]\n",
    "\n",
    "for i, col in enumerate(categoricas_principales):\n",
    "    ax = axes[i]\n",
    "    \n",
    "    # Calcular distribución\n",
    "    ciclo_counts = df_calificaciones[col].value_counts(normalize=True)\n",
    "    \n",
    "    # Plot\n",
    "    ciclo_counts.plot(kind=\"bar\", color=\"purple\", ax=ax, width=0.8)\n",
    "\n",
    "    # Ajustes visuales\n",
    "    ax.set_title(f\"Distribución de {col}\", fontsize=14)\n",
    "    ax.set_xlabel(col, fontsize=12)\n",
    "    ax.set_ylabel(\"Proporción\", fontsize=12)\n",
    "    ax.tick_params(axis='x', rotation=70)  # Rotar etiquetas del eje x\n",
    "    ax.tick_params(axis='y', labelsize=10)\n",
    "    \n",
    "    # Si hay muchas categorías, reducir el tamaño de fuente de las etiquetas del eje X\n",
    "    if len(ciclo_counts) > 20:\n",
    "        ax.set_xticklabels(ax.get_xticklabels(), fontsize=8)\n",
    "\n",
    "plt.show()"
   ]
  },
  {
   "cell_type": "markdown",
   "metadata": {},
   "source": [
    "Quiero ver cuanta gente no llega a tener 6 valores numericos en las cosas que rindio (primero en general, luego veo en la FCEN)"
   ]
  },
  {
   "cell_type": "code",
   "execution_count": null,
   "metadata": {},
   "outputs": [],
   "source": [
    "df_calificaciones['Nota'].unique()"
   ]
  },
  {
   "cell_type": "code",
   "execution_count": null,
   "metadata": {},
   "outputs": [],
   "source": [
    "# Paso 1: Filtrar notas que son numéricas\n",
    "notas_numericas = [str(i) for i in range(0, 11)]\n",
    "df_numericas = df_calificaciones[df_calificaciones['Nota'].isin(notas_numericas)]\n",
    "\n",
    "# Paso 2: Contar la cantidad de notas numéricas por Dni\n",
    "conteo = df_numericas.groupby('Dni').size()\n",
    "\n",
    "# Paso 3: Contar cuántos Dni tienen al menos 6 notas numéricas\n",
    "resultado = (conteo >= 6).sum()\n",
    "\n",
    "print(f'Cantidad de personas con al menos 6 notas numéricas: {resultado}')"
   ]
  },
  {
   "cell_type": "code",
   "execution_count": null,
   "metadata": {},
   "outputs": [],
   "source": [
    "notas_numericas"
   ]
  },
  {
   "cell_type": "markdown",
   "metadata": {},
   "source": [
    "Para aprobar el CBC necesitas tener todas las materias de la FCEN aprobadas, eso es con 4 o más."
   ]
  },
  {
   "cell_type": "code",
   "execution_count": null,
   "metadata": {},
   "outputs": [],
   "source": [
    "# Paso 1: Filtrar notas que son numéricas\n",
    "notas_numericas_4_o_mas = [str(i) for i in range(4, 11)]\n",
    "df_numericas_4_o_mas = df_calificaciones[df_calificaciones['Nota'].isin(notas_numericas_4_o_mas)]\n",
    "\n",
    "# Paso 2: Contar la cantidad de notas numéricas por Dni\n",
    "conteo_4_o_mas = df_numericas_4_o_mas.groupby('Dni').size()\n",
    "\n",
    "# Paso 3: Contar cuántos Dni tienen al menos 6 notas numéricas\n",
    "resultado = (conteo_4_o_mas >= 6).sum()\n",
    "\n",
    "print(f'Cantidad de personas con al menos 6 notas numéricas: {resultado}')"
   ]
  },
  {
   "cell_type": "markdown",
   "metadata": {},
   "source": [
    "Ahora nos ponemos mas finos, necesito que dichas materias sean de la FCEN (hay que tener en cuenta que pueden tener un AP, aprobado por resolución)"
   ]
  },
  {
   "cell_type": "code",
   "execution_count": null,
   "metadata": {},
   "outputs": [],
   "source": [
    "# Paso 1: Filtrar notas que son numéricas\n",
    "notas_numericas_4_o_mas_FCEN = [str(i) for i in range(4, 11)]\n",
    "notas_numericas_4_o_mas_FCEN.append('AP')\n",
    "df_numericas_4_o_mas_FCEN = df_calificaciones[(df_calificaciones['Nota'].isin(notas_numericas_4_o_mas_FCEN)) & (df_calificaciones['Es materia FCEN?']=='SI')]\n",
    "\n",
    "# Paso 2: Contar la cantidad de notas numéricas por Dni\n",
    "conteo_4_o_mas_FCEN = df_numericas_4_o_mas_FCEN.groupby('Dni').size()\n",
    "\n",
    "# Paso 3: Contar cuántos Dni tienen al menos 6 notas numéricas\n",
    "resultado = (conteo_4_o_mas_FCEN >= 6).sum()\n",
    "\n",
    "print(f'Cantidad de personas con al menos 6 notas numéricas: {resultado}')"
   ]
  },
  {
   "cell_type": "markdown",
   "metadata": {},
   "source": [
    "Si relajamos un poco porque tal vez deben un final..."
   ]
  },
  {
   "cell_type": "code",
   "execution_count": null,
   "metadata": {},
   "outputs": [],
   "source": [
    "# Paso 1: Filtrar notas que son numéricas\n",
    "notas_numericas_4_o_mas_FCEN = [str(i) for i in range(4, 11)]\n",
    "notas_numericas_4_o_mas_FCEN.append('AP')\n",
    "df_numericas_4_o_mas_FCEN = df_calificaciones[(df_calificaciones['Nota'].isin(notas_numericas_4_o_mas_FCEN)) & (df_calificaciones['Es materia FCEN?']=='SI')]\n",
    "\n",
    "# Paso 2: Contar la cantidad de notas numéricas por Dni\n",
    "conteo_4_o_mas_FCEN = df_numericas_4_o_mas_FCEN.groupby('Dni').size()\n",
    "\n",
    "# Paso 3: Contar cuántos Dni tienen al menos 6 notas numéricas\n",
    "resultado = (conteo_4_o_mas_FCEN >= 5).sum()\n",
    "\n",
    "print(f'Cantidad de personas con al menos 5 notas numéricas: {resultado}')"
   ]
  },
  {
   "cell_type": "markdown",
   "metadata": {},
   "source": [
    "Mirando un poco los casos que no toma..."
   ]
  },
  {
   "cell_type": "code",
   "execution_count": null,
   "metadata": {},
   "outputs": [],
   "source": [
    "# Paso 3: Obtener los DNIs con al menos 6 notas numéricas\n",
    "dnis_validos = conteo_4_o_mas_FCEN[conteo_4_o_mas_FCEN >= 6].index\n",
    "\n",
    "# Paso 4: Filtrar el dataframe original por esos DNIs\n",
    "df_filtrado = df_calificaciones[df_calificaciones['Dni'].isin(dnis_validos)]"
   ]
  },
  {
   "cell_type": "code",
   "execution_count": null,
   "metadata": {},
   "outputs": [],
   "source": [
    "df_filtrado"
   ]
  },
  {
   "cell_type": "markdown",
   "metadata": {},
   "source": [
    "Esta persona tiene todo aprobado (pues 'Algebra A' es equivalente a Algebra) pero no figura de esa manera en las condiciones que puse arriba porque ALGEBRA A no es de la FCEN."
   ]
  },
  {
   "cell_type": "code",
   "execution_count": null,
   "metadata": {},
   "outputs": [],
   "source": [
    "df_calificaciones[~df_calificaciones['Dni'].isin(dnis_validos)][df_calificaciones['Dni'] == 47866196]"
   ]
  },
  {
   "cell_type": "markdown",
   "metadata": {},
   "source": [
    "Tengo incluso más cuidado. Voy a pedir que las notas sean mayores o iguales a 4 y que sea una materia de la FCEN o se corresponda con ALGEBRA A"
   ]
  },
  {
   "cell_type": "code",
   "execution_count": null,
   "metadata": {},
   "outputs": [],
   "source": [
    "# Paso 1: Filtrar notas que son numéricas\n",
    "notas_numericas_4_o_mas_FCEN_algebra = [str(i) for i in range(4, 11)]\n",
    "notas_numericas_4_o_mas_FCEN_algebra.append('AP')\n",
    "df_numericas_4_o_mas_FCEN_algebra = df_calificaciones[(df_calificaciones['Nota'].isin(notas_numericas_4_o_mas_FCEN)) & ((df_calificaciones['Es materia FCEN?']=='SI' )| (df_calificaciones['Materia'] == 'ALGEBRA A'))]\n",
    "\n",
    "# Paso 2: Contar la cantidad de notas numéricas por Dni\n",
    "conteo_4_o_mas_FCEN_algebra = df_numericas_4_o_mas_FCEN_algebra.groupby('Dni').size()\n",
    "\n",
    "# Paso 3: Contar cuántos Dni tienen al menos 6 notas numéricas\n",
    "resultado = (conteo_4_o_mas_FCEN_algebra >= 6).sum()\n",
    "\n",
    "print(f'Cantidad de personas con al menos 6 notas numéricas: {resultado}')"
   ]
  },
  {
   "cell_type": "markdown",
   "metadata": {},
   "source": [
    "Se acerca mucho más al número que vimos que logramos mergear con la FCEN"
   ]
  },
  {
   "cell_type": "code",
   "execution_count": null,
   "metadata": {},
   "outputs": [],
   "source": [
    "# Paso 3: Obtener los DNIs con al menos 6 notas numéricas\n",
    "dnis_validos = conteo_4_o_mas_FCEN_algebra[conteo_4_o_mas_FCEN_algebra >= 6].index\n",
    "\n",
    "# Paso 4: Filtrar el dataframe original por esos DNIs\n",
    "df_filtrado = df_calificaciones[df_calificaciones['Dni'].isin(dnis_validos)]"
   ]
  },
  {
   "cell_type": "code",
   "execution_count": null,
   "metadata": {},
   "outputs": [],
   "source": [
    "df_calificaciones[~df_calificaciones['Dni'].isin(dnis_validos)]['Dni'].unique()"
   ]
  },
  {
   "cell_type": "code",
   "execution_count": null,
   "metadata": {},
   "outputs": [],
   "source": [
    "df_calificaciones[~df_calificaciones['Dni'].isin(dnis_validos)][df_calificaciones['Dni'] == 43404527]"
   ]
  },
  {
   "cell_type": "markdown",
   "metadata": {},
   "source": [
    "y si miro la cantidad que tiene 5 materias con esas caracteristicas"
   ]
  },
  {
   "cell_type": "code",
   "execution_count": null,
   "metadata": {},
   "outputs": [],
   "source": [
    "# Paso 1: Filtrar notas que son numéricas\n",
    "notas_numericas_4_o_mas_FCEN_algebra = [str(i) for i in range(4, 11)]\n",
    "notas_numericas_4_o_mas_FCEN_algebra.append('AP')\n",
    "df_numericas_4_o_mas_FCEN_algebra = df_calificaciones[(df_calificaciones['Nota'].isin(notas_numericas_4_o_mas_FCEN)) & ((df_calificaciones['Es materia FCEN?']=='SI' )| (df_calificaciones['Materia'] == 'ALGEBRA A')) & (df_calificaciones['Fecha'].dt.year < 2025)]\n",
    "\n",
    "# Paso 2: Contar la cantidad de notas numéricas por Dni\n",
    "conteo_4_o_mas_FCEN_algebra = df_numericas_4_o_mas_FCEN_algebra.groupby('Dni').size()\n",
    "\n",
    "# Paso 3: Contar cuántos Dni tienen al menos 6 notas numéricas\n",
    "resultado = (conteo_4_o_mas_FCEN_algebra >= 5).sum()\n",
    "\n",
    "print(f'Cantidad de personas con al menos 5 notas numéricas: {resultado}')"
   ]
  },
  {
   "cell_type": "markdown",
   "metadata": {},
   "source": [
    "# Rearmando las columnas"
   ]
  },
  {
   "cell_type": "markdown",
   "metadata": {},
   "source": [
    "Voy a armar el codigo para conseguir un dataframe que tenga una columna por cluster. Debe tener:\n",
    "\n",
    "* dni: así luego puedo juntar la información\n",
    "\n",
    "* fecha_clustex: fecha en que rindió, donde x cambia según el número de cluster\n",
    "\n",
    "* nota_clusterx: nota que sacó, donde x cambia según el número de cluster\n",
    "\n",
    "* uba_xxi_clustex: si cursó por UBAXXI o no, donde x cambia según el número de cluster\n",
    "\n",
    "* cantidad_de_veces_que_rindio_clusterx: cantidad de veces que rindió la materia del cluster x, donde x cambia según el número de cluster. <--Esto se puede hacer si las personas tienen solo una materia de cada cluster (lo voy a chequear)\n",
    "\n",
    "Sabemos que el cluster 8 se corresponde con todas materias que no son de la FCEN. Si rindió más de una vez una materia decidimos guardar el promedio.\n",
    "\n",
    "Para el cluster 8 tenemos varias materias, entonces voy a ver si las personas tienen solo una materia de cada cluster y en caso de no ser así podemos poner una columna que sea 'cantidad de materias que hizo que no son de una carrera de la FCEN'."
   ]
  },
  {
   "cell_type": "code",
   "execution_count": null,
   "metadata": {},
   "outputs": [],
   "source": [
    "df_notas = df_calificaciones[['Dni', 'Materia', 'Fecha', 'Nota', 'UBA XXI']].copy()"
   ]
  },
  {
   "cell_type": "markdown",
   "metadata": {},
   "source": [
    "Cada estudiante tiene un registro por materia"
   ]
  },
  {
   "cell_type": "code",
   "execution_count": null,
   "metadata": {},
   "outputs": [],
   "source": [
    "# para cada DNI, contar la cantidad de materias repetidas\n",
    "df_notas.groupby(['Dni', 'Materia']).size().reset_index(name='count')"
   ]
  },
  {
   "cell_type": "markdown",
   "metadata": {},
   "source": [
    "Tiene sentido tomar los ausentes (A) y los NR (no regularizó) como un 0, pero qué hacemos con los AP (aprobados por resolución)?"
   ]
  },
  {
   "cell_type": "code",
   "execution_count": null,
   "metadata": {},
   "outputs": [],
   "source": [
    "df_notas[df_notas['Nota'] == 'AP']"
   ]
  },
  {
   "cell_type": "code",
   "execution_count": null,
   "metadata": {},
   "outputs": [],
   "source": [
    "df_notas[df_notas['Nota'] == 'AP']['Materia'].value_counts()"
   ]
  },
  {
   "cell_type": "markdown",
   "metadata": {},
   "source": [
    "Me gustaría ver la distribución de notas por materia"
   ]
  },
  {
   "cell_type": "code",
   "execution_count": null,
   "metadata": {},
   "outputs": [],
   "source": [
    "# Miro si la distribución de las variables categoricas\n",
    "\n",
    "# Variables a analizar\n",
    "materias = df_calificaciones[df_calificaciones['Es materia FCEN?'] == 'SI']['Materia'].unique()\n",
    "\n",
    "# Crear subplots con layout más generoso\n",
    "fig, axes = plt.subplots(nrows=len(materias), ncols=1, figsize=(18, 6 * len(materias)), constrained_layout=True)\n",
    "\n",
    "# Asegurar que axes sea iterable\n",
    "if len(materias) == 1:\n",
    "    axes = [axes]\n",
    "\n",
    "for i, col in enumerate(materias):\n",
    "    ax = axes[i]\n",
    "    \n",
    "    # Calcular distribución\n",
    "    ciclo_counts = df_calificaciones[df_calificaciones['Materia'] == col]['Nota'].value_counts(normalize=True)\n",
    "    \n",
    "    # Plot\n",
    "    ciclo_counts.plot(kind=\"bar\", color=\"purple\", ax=ax, width=0.8)\n",
    "\n",
    "    # Ajustes visuales\n",
    "    ax.set_title(f\"Distribución de {col}\", fontsize=14)\n",
    "    ax.set_xlabel(col, fontsize=12)\n",
    "    ax.set_ylabel(\"Proporción\", fontsize=12)\n",
    "    ax.tick_params(axis='x', rotation=70)  # Rotar etiquetas del eje x\n",
    "    ax.tick_params(axis='y', labelsize=10)\n",
    "    \n",
    "    # Si hay muchas categorías, reducir el tamaño de fuente de las etiquetas del eje X\n",
    "    if len(ciclo_counts) > 20:\n",
    "        ax.set_xticklabels(ax.get_xticklabels(), fontsize=8)\n",
    "\n",
    "plt.show()"
   ]
  },
  {
   "cell_type": "markdown",
   "metadata": {},
   "source": [
    "Considerando que AP es de lo que menos aparece, podemos no tenerlos en cuenta para el promedio, pero crear una columna que indique si aprobó algo por resulución."
   ]
  },
  {
   "cell_type": "code",
   "execution_count": null,
   "metadata": {},
   "outputs": [],
   "source": [
    "df_carreras"
   ]
  },
  {
   "cell_type": "code",
   "execution_count": null,
   "metadata": {},
   "outputs": [],
   "source": [
    "# Diccionario con materias agrupadas por cluster (ya normalizadas)\n",
    "cluster_dict = {\n",
    "    1: ['BIOLOGIA', 'BIOLOGIA  E INTRODUCCION A LA BIOLOGIA CELULAR'],\n",
    "    2: ['FISICA'],\n",
    "    3: ['INT. AL CONOC. DE LA SOCIEDAD Y EL ESTADO'],\n",
    "    4: ['INT. AL PENSAMIENTO CIENTIFICO'],\n",
    "    5: ['MATEMATICA 9H', 'ALGEBRA', 'ALGEBRA A', 'ANALISIS MATEMATICO A'],\n",
    "    6: ['QUIMICA'],\n",
    "    7: ['INTROD. AL PENSAMIENTO COMPUTACIONAL'],\n",
    "    8: [\n",
    "        'SOCIOLOGIA', 'PRINCIPIOS DE DD HH Y DERECHO CONSTITUCIONAL', 'CIENCIA POLITICA',\n",
    "        'PRINCIPIOS GENERALES DE DERECHO PRIVADO', 'SEMIOLOGIA',\n",
    "        'INTROD.AL CONOCIMIENTO PROYECTUAL I', 'TALLER DE DIBUJO',\n",
    "        'ECONOMIA', 'FILOSOFIA', 'PSICOLOGIA', 'HISTORIA ECONOMICA SOCIAL GRAL.',\n",
    "        'INTROD.AL CONOCIMIENTO PROYECTUAL II', 'ANTROPOLOGIA',\n",
    "        'HISTORIA ECONOMICA Y SOCIAL GENERAL', 'METODOLOGIA DE LAS CIENCIAS SOCIALES',\n",
    "        'TRABAJO Y SOCIEDAD', 'PRINCIPIOS GENERALES DEL DERECHO LATINOAMERICANO',\n",
    "        'FISICA  E INTRODUCCION A LA BIOFISICA', 'MATEMATICA', 'ANALISIS MATEMATICO I',\n",
    "        'ANALISIS MATEMATICO'\n",
    "    ]\n",
    "}\n",
    "\n",
    "# Invertimos el diccionario para mapear materia -> cluster\n",
    "materia_a_cluster = {}\n",
    "for cluster, materias in cluster_dict.items():\n",
    "    for materia in materias:\n",
    "        materia_a_cluster[materia] = cluster\n",
    "\n",
    "# Aplicamos el mapeo al dataframe\n",
    "df_carreras['Cluster'] = df_carreras['Materia'].apply(lambda x: materia_a_cluster.get(x, None))"
   ]
  },
  {
   "cell_type": "markdown",
   "metadata": {},
   "source": [
    "Esto mismo, lo puedo hacer para df_calificaciones o df_notas."
   ]
  },
  {
   "cell_type": "code",
   "execution_count": null,
   "metadata": {},
   "outputs": [],
   "source": [
    "# Aplicamos el mapeo al dataframe\n",
    "df_calificaciones['Cluster'] = df_calificaciones['Materia'].apply(lambda x: materia_a_cluster.get(x, None))"
   ]
  },
  {
   "cell_type": "code",
   "execution_count": null,
   "metadata": {},
   "outputs": [],
   "source": [
    "df_calificaciones['Cluster'].unique()"
   ]
  },
  {
   "cell_type": "code",
   "execution_count": null,
   "metadata": {},
   "outputs": [],
   "source": [
    "# Paso 1: eliminar filas duplicadas por DNI y Materia\n",
    "df_unico = df_calificaciones.drop_duplicates(subset=['Dni', 'Materia'])\n",
    "\n",
    "# Paso 2: agrupar por DNI y Cluster, y contar materias distintas\n",
    "conteo_materias_distintas = df_unico.groupby(['Dni', 'Cluster']).agg({'Materia': 'nunique'}).reset_index()\n",
    "conteo_materias_distintas.rename(columns={'Materia': 'Materias_distintas'}, inplace=True)\n",
    "\n",
    "# Paso 3: filtrar los casos con más de una materia distinta en el mismo cluster\n",
    "repetidos = conteo_materias_distintas[conteo_materias_distintas['Materias_distintas'] > 1]\n",
    "\n",
    "# Mostrar el resultado\n",
    "print(repetidos)"
   ]
  },
  {
   "cell_type": "code",
   "execution_count": null,
   "metadata": {},
   "outputs": [],
   "source": [
    "repetidos['Cluster'].unique()"
   ]
  },
  {
   "cell_type": "code",
   "execution_count": null,
   "metadata": {},
   "outputs": [],
   "source": [
    "# Suponemos que df ya tiene las columnas: DNI, Cluster, Nota\n",
    "df_calificaciones['Nota'] = df_calificaciones['Nota'].replace('A', '0')\n",
    "df_calificaciones['Nota'] = df_calificaciones['Nota'].replace('NR', '0')\n",
    "\n",
    "#elimino filas que tienen AP en la columna 'Nota'\n",
    "df_calificaciones= df_calificaciones[df_calificaciones['Nota'] != 'AP']\n",
    "\n",
    "#paso la columna a integer\n",
    "df_calificaciones['Nota'] = df_calificaciones['Nota'].astype(int)\n",
    "\n",
    "# Paso 1: eliminar duplicados si un DNI tiene la misma materia varias veces (opcional, según tu caso)\n",
    "df_unico = df_calificaciones.drop_duplicates(subset=['Dni', 'Materia', 'Cluster'])\n",
    "\n",
    "# Paso 2: agrupar por DNI y Cluster, y calcular promedio de Nota\n",
    "promedios = df_unico.groupby(['Dni', 'Cluster'])['Nota'].mean().reset_index()\n",
    "\n",
    "# Paso 3: pivotear para tener una columna por cluster\n",
    "df_pivot = promedios.pivot(index='Dni', columns='Cluster', values='Nota')\n",
    "\n",
    "# (Opcional) Renombrar columnas para que digan \"Cluster_1\", \"Cluster_2\", etc.\n",
    "df_pivot.columns = [f'Cluster_{int(col)}' for col in df_pivot.columns]\n",
    "\n",
    "# (Opcional) Reset index si querés que el DNI vuelva a ser columna\n",
    "df_pivot = df_pivot.reset_index()\n",
    "\n",
    "df_pivot"
   ]
  },
  {
   "cell_type": "markdown",
   "metadata": {},
   "source": [
    "Para armar una columna sobre las fechas en que rindió cada cluster, puedo trabajar con la tabla que tiene la columna agregada \"Cluster\" y luego mergearla con la tabla que acabo de crear."
   ]
  }
 ],
 "metadata": {
  "kernelspec": {
   "display_name": ".venv",
   "language": "python",
   "name": "python3"
  },
  "language_info": {
   "codemirror_mode": {
    "name": "ipython",
    "version": 3
   },
   "file_extension": ".py",
   "mimetype": "text/x-python",
   "name": "python",
   "nbconvert_exporter": "python",
   "pygments_lexer": "ipython3",
   "version": "3.11.9"
  }
 },
 "nbformat": 4,
 "nbformat_minor": 2
}

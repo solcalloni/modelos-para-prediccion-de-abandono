{
 "cells": [
  {
   "cell_type": "code",
   "execution_count": 1,
   "metadata": {},
   "outputs": [],
   "source": [
    "import sys\n",
    "sys.path.insert(0, '../')\n",
    "\n",
    "import pandas as pd\n",
    "import numpy as np\n",
    "\n",
    "import helpers_cbc\n",
    "import helpers_encuestas"
   ]
  },
  {
   "cell_type": "markdown",
   "metadata": {},
   "source": [
    "Se encontraron multiples inconsistencias entre los archivos de las encuestas proporcionados originalmente, por lo que se nos dio acceso a los resultados de las encuestas orinales. Esto implica que no tienen ningun procesamiento previo."
   ]
  },
  {
   "cell_type": "code",
   "execution_count": 2,
   "metadata": {},
   "outputs": [],
   "source": [
    "xls_2c2023_v2= pd.ExcelFile(\"../../../assets/bronze/Encuestas_v2/ingresantes 2c 2023.xlsx\") \n",
    "encuesta_2c_2023_v2 = pd.read_excel(xls_2c2023_v2)\n",
    "xls_v2 = pd.ExcelFile(\"../../../assets/bronze/Encuestas_v2/ingresantes 1c 2024.xlsx\") \n",
    "primer_c_2024_1_v2 = pd.read_excel(xls_v2)\n",
    "xls_2C_2024_v2 = pd.ExcelFile(\"../../../assets/bronze/Encuestas_v2/ingresantes 2c 2024.xlsx\")\n",
    "segundo_c_2024_1_v2 = pd.read_excel(xls_2C_2024_v2)"
   ]
  },
  {
   "cell_type": "code",
   "execution_count": null,
   "metadata": {},
   "outputs": [],
   "source": [
    "np.isin(encuesta_2c_2023_v2['Nº de documento'].astype(str).unique(), primer_c_2024_1_v2['Nº de documento'].astype(str).unique()).sum()"
   ]
  },
  {
   "cell_type": "code",
   "execution_count": null,
   "metadata": {},
   "outputs": [],
   "source": [
    "np.isin(encuesta_2c_2023_v2['Nº de documento'].astype(str).unique(), segundo_c_2024_1_v2['Nº de documento'].astype(str).unique()).sum()"
   ]
  },
  {
   "cell_type": "code",
   "execution_count": null,
   "metadata": {},
   "outputs": [],
   "source": [
    "np.isin(primer_c_2024_1_v2['Nº de documento'].astype(str).unique(), segundo_c_2024_1_v2['Nº de documento'].astype(str).unique()).sum()"
   ]
  },
  {
   "cell_type": "markdown",
   "metadata": {},
   "source": [
    "Ahora solo tinen un DNI en común. Sospecho que lo que tienen en común son los NA"
   ]
  },
  {
   "cell_type": "code",
   "execution_count": 6,
   "metadata": {},
   "outputs": [],
   "source": [
    "encuesta_2c_2023 = df = pd.read_csv('../../../assets/silver/RIESGO +ACOMPAÑAMIENTO 2C 2023/RIESGO +ACOMPAÑAMIENTO 2C 2023.xlsx - Encuesta a Estudiantes Iniciale.csv')\n",
    "xls = pd.ExcelFile(\"../../../assets/bronze/ENCUESTAS+LISTADOS/RIESGO +ACOMPAÑAMIENTO 1C2024.xlsx\")\n",
    "primer_c_2024_4 = pd.read_excel(xls, sheet_name='Copia de Encuesta a Ingresantes', header=1)\n",
    "xls_2C_2024 = pd.ExcelFile(\"../../../assets/bronze/ENCUESTAS+LISTADOS/Semáforo 2C 2024.xlsx\")\n",
    "segundo_c_2024_1 = pd.read_excel(xls_2C_2024, sheet_name='Encuesta a Ingresantes de EXACT')"
   ]
  },
  {
   "cell_type": "code",
   "execution_count": null,
   "metadata": {},
   "outputs": [],
   "source": [
    "np.isin(encuesta_2c_2023['Nº de documento'].astype(str).unique(), encuesta_2c_2023_v2['Nº de documento'].astype(str).unique()).sum()"
   ]
  },
  {
   "cell_type": "code",
   "execution_count": null,
   "metadata": {},
   "outputs": [],
   "source": [
    "print(encuesta_2c_2023.shape)\n",
    "print(encuesta_2c_2023['Nº de documento'].isna().sum())\n",
    "print(encuesta_2c_2023['Nº de documento'].nunique())"
   ]
  },
  {
   "cell_type": "code",
   "execution_count": null,
   "metadata": {},
   "outputs": [],
   "source": [
    "print(encuesta_2c_2023_v2.shape)\n",
    "print(encuesta_2c_2023_v2['Nº de documento'].isna().sum())\n",
    "print(encuesta_2c_2023_v2['Nº de documento'].nunique())"
   ]
  },
  {
   "cell_type": "markdown",
   "metadata": {},
   "source": [
    "# Limpio un poco las encuestas"
   ]
  },
  {
   "cell_type": "code",
   "execution_count": 10,
   "metadata": {},
   "outputs": [],
   "source": [
    "helpers_encuestas.delete_null_values(encuesta_2c_2023_v2, primer_c_2024_1_v2, segundo_c_2024_1_v2)"
   ]
  },
  {
   "cell_type": "code",
   "execution_count": null,
   "metadata": {},
   "outputs": [],
   "source": [
    "encuesta_2c_2023_v2.to_csv('../../../assets/silver/encuestas_con_dni/encuesta_2c_2023.csv', index=False)"
   ]
  },
  {
   "cell_type": "code",
   "execution_count": null,
   "metadata": {},
   "outputs": [],
   "source": [
    "primer_c_2024_1_v2.to_csv('../../../assets/silver/encuestas_con_dni/encuesta_primer_c_2024.csv', index=False)"
   ]
  },
  {
   "cell_type": "code",
   "execution_count": null,
   "metadata": {},
   "outputs": [],
   "source": [
    "segundo_c_2024_1_v2.to_csv('../../../assets/silver/encuestas_con_dni/encuesta_segundo_c_2024.csv', index=False)"
   ]
  },
  {
   "cell_type": "markdown",
   "metadata": {},
   "source": [
    "# Unifico las tablas con las preguntas que son iguales"
   ]
  },
  {
   "cell_type": "code",
   "execution_count": null,
   "metadata": {},
   "outputs": [],
   "source": [
    "segundo_c_2023_limpia = pd.read_csv('../../../assets/silver/encuestas_limpias/encuesta_2c_2023 - encuesta_2c_2023.csv')\n",
    "primer_c_2024_limpia = pd.read_csv('../../../assets/silver/encuestas_limpias/encuesta_primer_c_2024 - encuesta_primer_c_2024.csv')\n",
    "segundo_c_2024_limpia = pd.read_csv('../../../assets/silver/encuestas_limpias/encuesta_segundo_c_2024 - encuesta_segundo_c_2024.csv')"
   ]
  },
  {
   "cell_type": "code",
   "execution_count": null,
   "metadata": {},
   "outputs": [],
   "source": [
    "# listas de columnas\n",
    "cols_encuesta_2023 = segundo_c_2023_limpia.columns.to_list()\n",
    "cols_primer_2024_1 = primer_c_2024_limpia.columns.to_list()\n",
    "cols_segundo_2024_1 = segundo_c_2024_limpia.columns.to_list()\n",
    "\n",
    "# Lo metemos todo en un diccionario\n",
    "columnas_dict = {\n",
    "    'encuesta_2c_2023': cols_encuesta_2023,\n",
    "    'primer_c_2024_1': cols_primer_2024_1,\n",
    "    'segundo_c_2024_1': cols_segundo_2024_1\n",
    "}\n",
    "\n",
    "# Creamos el DataFrame, pandas se encarga de alinear y rellenar con NaN donde falte\n",
    "df_columnas = pd.DataFrame(dict([(k, pd.Series(v)) for k, v in columnas_dict.items()]))\n",
    "\n",
    "print(df_columnas)"
   ]
  },
  {
   "cell_type": "code",
   "execution_count": null,
   "metadata": {},
   "outputs": [],
   "source": [
    "df_columnas.to_csv('../../../assets/silver/encuestas_con_dni/columnas_encuestas.csv', index=False)"
   ]
  },
  {
   "cell_type": "markdown",
   "metadata": {},
   "source": [
    "me quedo solamente con las que tienen en común."
   ]
  },
  {
   "cell_type": "code",
   "execution_count": null,
   "metadata": {},
   "outputs": [],
   "source": [
    "segundo_c_2023_limpia.drop_duplicates(subset=['Nº de documento'], keep='last', inplace=True)\n",
    "primer_c_2024_limpia.drop_duplicates(subset=['Nº de documento'], keep='last', inplace=True)\n",
    "segundo_c_2024_limpia.drop_duplicates(subset=['Nº de documento'], keep='last', inplace=True)"
   ]
  },
  {
   "cell_type": "code",
   "execution_count": null,
   "metadata": {},
   "outputs": [],
   "source": [
    "segundo_c_2023_limpia.to_csv('../../../assets/silver/encuestas_limpias_sin_duplicados/encuesta_2c_2023_limpia.csv', index=False)\n",
    "primer_c_2024_limpia.to_csv('../../../assets/silver/encuestas_limpias_sin_duplicados/encuesta_primer_c_2024_limpia.csv', index=False)\n",
    "segundo_c_2024_limpia.to_csv('../../../assets/silver/encuestas_limpias_sin_duplicados/encuesta_segundo_c_2024_limpia.csv', index=False)"
   ]
  },
  {
   "cell_type": "code",
   "execution_count": null,
   "metadata": {},
   "outputs": [],
   "source": [
    "segundo_c_2023_limpia['Nº de documento'].nunique(), primer_c_2024_limpia['Nº de documento'].nunique(), segundo_c_2024_limpia['Nº de documento'].nunique()"
   ]
  },
  {
   "cell_type": "code",
   "execution_count": null,
   "metadata": {},
   "outputs": [],
   "source": [
    "# Supongamos que ya tenés los 3 DataFrames cargados:\n",
    "# segundo_c_2023_limpia, primer_c_2024_limpia, segundo_c_2024_limpia\n",
    "\n",
    "# Encontramos las columnas comunes\n",
    "columnas_comunes = list(\n",
    "    set(segundo_c_2023_limpia.columns) &\n",
    "    set(primer_c_2024_limpia.columns) &\n",
    "    set(segundo_c_2024_limpia.columns)\n",
    ")\n",
    "\n",
    "# Nos quedamos con las columnas comunes en cada tabla\n",
    "df_2023 = segundo_c_2023_limpia[columnas_comunes]\n",
    "df_2024_1 = primer_c_2024_limpia[columnas_comunes]\n",
    "df_2024_2 = segundo_c_2024_limpia[columnas_comunes]\n",
    "\n",
    "# Concatenamos las tablas\n",
    "df_unido = pd.concat([df_2023, df_2024_1, df_2024_2], ignore_index=True)\n"
   ]
  },
  {
   "cell_type": "code",
   "execution_count": null,
   "metadata": {},
   "outputs": [],
   "source": [
    "df_unido.columns"
   ]
  },
  {
   "cell_type": "code",
   "execution_count": null,
   "metadata": {},
   "outputs": [],
   "source": [
    "for col in df_unido.columns:\n",
    "    print(f\"- `{col}`\")"
   ]
  },
  {
   "cell_type": "code",
   "execution_count": null,
   "metadata": {},
   "outputs": [],
   "source": [
    "df_unido['Nº de documento'].nunique()"
   ]
  },
  {
   "cell_type": "code",
   "execution_count": null,
   "metadata": {},
   "outputs": [],
   "source": [
    "df_unido.shape"
   ]
  },
  {
   "cell_type": "code",
   "execution_count": null,
   "metadata": {},
   "outputs": [],
   "source": [
    "df_unido = df_unido.rename(columns={'Nº de documento': 'dni'})"
   ]
  },
  {
   "cell_type": "code",
   "execution_count": null,
   "metadata": {},
   "outputs": [],
   "source": [
    "df_unido.to_csv('../../../assets/silver/encuestas_limpias_sin_duplicados/encuesta_unida.csv', index=False)"
   ]
  },
  {
   "cell_type": "code",
   "execution_count": null,
   "metadata": {},
   "outputs": [],
   "source": [
    "df_unido = pd.read_csv('../../../assets/silver/encuestas_limpias_sin_duplicados/encuesta_unida.csv')"
   ]
  },
  {
   "cell_type": "code",
   "execution_count": null,
   "metadata": {},
   "outputs": [],
   "source": [
    "CBC = '../../../assets/bronze/CBC/Sitacad_Tesis (1).xlsx'\n",
    "df_calificaciones, df_carreras = helpers_cbc.get_data(CBC)"
   ]
  },
  {
   "cell_type": "code",
   "execution_count": null,
   "metadata": {},
   "outputs": [],
   "source": [
    "df_calificaciones[df_calificaciones['Dni'].isin(df_unido['dni'])]['Dni'].nunique()"
   ]
  },
  {
   "cell_type": "code",
   "execution_count": null,
   "metadata": {},
   "outputs": [],
   "source": [
    "df_unido[~df_unido['dni'].isin(df_calificaciones['Dni'])]['¿En que año iniciaste el CBC para Exactas?'].value_counts()"
   ]
  },
  {
   "cell_type": "code",
   "execution_count": null,
   "metadata": {},
   "outputs": [],
   "source": [
    "df_unido[~df_unido['dni'].isin(df_calificaciones['Dni'])][df_unido['¿En que año iniciaste el CBC para Exactas?'] == '2022']['dni']"
   ]
  }
 ],
 "metadata": {
  "kernelspec": {
   "display_name": ".venv",
   "language": "python",
   "name": "python3"
  },
  "language_info": {
   "codemirror_mode": {
    "name": "ipython",
    "version": 3
   },
   "file_extension": ".py",
   "mimetype": "text/x-python",
   "name": "python",
   "nbconvert_exporter": "python",
   "pygments_lexer": "ipython3",
   "version": "3.11.9"
  }
 },
 "nbformat": 4,
 "nbformat_minor": 2
}

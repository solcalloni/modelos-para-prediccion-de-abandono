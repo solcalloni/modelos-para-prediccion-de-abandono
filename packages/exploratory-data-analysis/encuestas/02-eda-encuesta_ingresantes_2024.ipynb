{
 "cells": [
  {
   "cell_type": "code",
   "execution_count": null,
   "metadata": {},
   "outputs": [],
   "source": [
    "import pandas as pd\n",
    "import numpy as np"
   ]
  },
  {
   "cell_type": "markdown",
   "metadata": {},
   "source": [
    "# Encuestas a ingresantes\n",
    "\n",
    "A continuación vamos a estudiar los datos que nos pasaron de encuestas que se le realizaron a ingresantes de la FCEN.\n",
    "\n",
    "Los datasets originales NO serán subidos al repositorio, pues veremos que contienen información delicada.\n",
    "\n",
    "La información se corresponde con datos del segundo cuatrimestre de 2024 en adelante."
   ]
  },
  {
   "cell_type": "markdown",
   "metadata": {},
   "source": [
    "## RIESGO +ACOMPAÑAMIENTO 1C2024"
   ]
  },
  {
   "cell_type": "code",
   "execution_count": null,
   "metadata": {},
   "outputs": [],
   "source": [
    "# Leer el archivo Excel\n",
    "xls = pd.ExcelFile(\"../../../assets/ENCUESTAS+LISTADOS/RIESGO +ACOMPAÑAMIENTO 1C2024.xlsx\")\n",
    "hojas = xls.sheet_names\n",
    "print(hojas)"
   ]
  },
  {
   "cell_type": "markdown",
   "metadata": {},
   "source": [
    "### Primer hoja"
   ]
  },
  {
   "cell_type": "code",
   "execution_count": null,
   "metadata": {},
   "outputs": [],
   "source": [
    "primer_c_2024_1 = pd.read_excel(xls, sheet_name=hojas[0])"
   ]
  },
  {
   "cell_type": "code",
   "execution_count": null,
   "metadata": {},
   "outputs": [],
   "source": [
    "primer_c_2024_1.columns[primer_c_2024_1.columns == 'Puntaje_riesgo']"
   ]
  },
  {
   "cell_type": "code",
   "execution_count": null,
   "metadata": {},
   "outputs": [],
   "source": [
    "primer_c_2024_1['Puntaje_riesgo'].unique()"
   ]
  },
  {
   "cell_type": "markdown",
   "metadata": {},
   "source": [
    "El único valor faltante se debe a que respondió una de las opciones que no estaba escrita exactamente igual en la tabla de puntajes"
   ]
  },
  {
   "cell_type": "code",
   "execution_count": null,
   "metadata": {},
   "outputs": [],
   "source": [
    "print(primer_c_2024_1['Puntaje_riesgo'].isnull().sum())"
   ]
  },
  {
   "cell_type": "code",
   "execution_count": null,
   "metadata": {},
   "outputs": [],
   "source": [
    "primer_c_2024_1.loc[primer_c_2024_1['Puntaje_riesgo'].isnull(), 'Puntaje_riesgo']"
   ]
  },
  {
   "cell_type": "code",
   "execution_count": null,
   "metadata": {},
   "outputs": [],
   "source": [
    "primer_c_2024_1.shape"
   ]
  },
  {
   "cell_type": "code",
   "execution_count": null,
   "metadata": {},
   "outputs": [],
   "source": [
    "primer_c_2024_1['Nº de documento'].nunique()"
   ]
  },
  {
   "cell_type": "code",
   "execution_count": null,
   "metadata": {},
   "outputs": [],
   "source": [
    "frecuencia = primer_c_2024_1['Nº de documento'].value_counts()\n",
    "# Muestra los valores que aparecen más de una vez\n",
    "print(\"Frecuencia de valores en 'Id':\")\n",
    "with pd.option_context('display.max_rows', None):\n",
    "    print(frecuencia[frecuencia > 1])"
   ]
  },
  {
   "cell_type": "code",
   "execution_count": null,
   "metadata": {},
   "outputs": [],
   "source": [
    "primer_c_2024_1[primer_c_2024_1['Nº de documento'].isin(frecuencia[frecuencia > 1].index)].sort_values('Nº de documento').to_csv('duplicados_2024.csv', index=False)"
   ]
  },
  {
   "cell_type": "code",
   "execution_count": null,
   "metadata": {},
   "outputs": [],
   "source": [
    "# Convertir la columna a string (por si acaso no lo está)\n",
    "primer_c_2024_1['Nº de documento'] = primer_c_2024_1['Nº de documento'].astype(str)\n",
    "\n",
    "# Eliminar espacios al principio y al final\n",
    "primer_c_2024_1['Nº de documento'] = primer_c_2024_1['Nº de documento'].str.strip()"
   ]
  },
  {
   "cell_type": "code",
   "execution_count": null,
   "metadata": {},
   "outputs": [],
   "source": [
    "primer_c_2024_1['Nivel'].unique()"
   ]
  },
  {
   "cell_type": "code",
   "execution_count": null,
   "metadata": {},
   "outputs": [],
   "source": [
    "print(primer_c_2024_1['Nivel'].isnull().sum())"
   ]
  },
  {
   "cell_type": "markdown",
   "metadata": {},
   "source": [
    "### Segunda hoja"
   ]
  },
  {
   "cell_type": "markdown",
   "metadata": {},
   "source": [
    "Pareciera tener exactamente el mismo formato que la del año 2023.\n",
    "\n",
    "Hay columnas que fueron autocompletadas con formulas de excel:\n",
    "\n",
    "* Id columna: concatenación entre \"Columna\" y \"Valor\"\n",
    "* Valor: Toma \"valor=puntaje\" y se queda con lo que está antes del símbolo =\n",
    "* Puntaje: Toma \"valor=puntaje\" y se queda con lo que está despues del símbolo =\n",
    "\n",
    "Despues me va a interesar ver si contienen las mismas preguntas"
   ]
  },
  {
   "cell_type": "code",
   "execution_count": null,
   "metadata": {},
   "outputs": [],
   "source": [
    "primer_c_2024_2 = pd.read_excel(xls, sheet_name=hojas[1], header=1)\n",
    "primer_c_2024_2 = primer_c_2024_2[:152]\n",
    "primer_c_2024_2"
   ]
  },
  {
   "cell_type": "markdown",
   "metadata": {},
   "source": [
    "### Tercer hoja\n",
    "Usaron la misma grilla que en el año 2023."
   ]
  },
  {
   "cell_type": "code",
   "execution_count": null,
   "metadata": {},
   "outputs": [],
   "source": [
    "primer_c_2024_3 = pd.read_excel(xls, sheet_name=hojas[2])\n",
    "primer_c_2024_3"
   ]
  },
  {
   "cell_type": "markdown",
   "metadata": {},
   "source": [
    "### Cuarta hoja"
   ]
  },
  {
   "cell_type": "markdown",
   "metadata": {},
   "source": [
    "Como mencioné para 2023, pensaría que a partir de esta tabla se creó la que se tiene en la primer hoja del excel."
   ]
  },
  {
   "cell_type": "code",
   "execution_count": null,
   "metadata": {},
   "outputs": [],
   "source": [
    "primer_c_2024_4 = pd.read_excel(xls, sheet_name=hojas[3], header=1)"
   ]
  },
  {
   "cell_type": "code",
   "execution_count": null,
   "metadata": {},
   "outputs": [],
   "source": [
    "primer_c_2024_4.shape"
   ]
  },
  {
   "cell_type": "code",
   "execution_count": null,
   "metadata": {},
   "outputs": [],
   "source": [
    "primer_c_2024_4['Nº de documento'].isnull().sum()"
   ]
  },
  {
   "cell_type": "code",
   "execution_count": null,
   "metadata": {},
   "outputs": [],
   "source": [
    "primer_c_2024_4['Nº de documento'].nunique()"
   ]
  },
  {
   "cell_type": "code",
   "execution_count": null,
   "metadata": {},
   "outputs": [],
   "source": [
    "primer_c_2024_1['Nº de documento'].nunique()"
   ]
  },
  {
   "cell_type": "code",
   "execution_count": null,
   "metadata": {},
   "outputs": [],
   "source": [
    "primer_c_2024_1['Nº de documento'].isnull().sum()"
   ]
  },
  {
   "cell_type": "code",
   "execution_count": null,
   "metadata": {},
   "outputs": [],
   "source": [
    "# Convertir la columna a string (por si acaso no lo está)\n",
    "primer_c_2024_4['Nº de documento'] = primer_c_2024_4['Nº de documento'].astype(str)\n",
    "\n",
    "# Eliminar espacios al principio y al final\n",
    "primer_c_2024_4['Nº de documento'] = primer_c_2024_4['Nº de documento'].str.strip()\n",
    "# Encuentra los valores que están en ambas columnas\n",
    "# Convierte la columna a cadenas de texto\n",
    "intersection = primer_c_2024_1[primer_c_2024_1['Nº de documento'].isin(primer_c_2024_4['Nº de documento'])]['Nº de documento']\n",
    "\n",
    "# Elimina duplicados (si es necesario)\n",
    "intersection = intersection.drop_duplicates()\n",
    "\n",
    "print(\"Intersección:\", intersection.tolist())"
   ]
  },
  {
   "cell_type": "code",
   "execution_count": null,
   "metadata": {},
   "outputs": [],
   "source": [
    "# Encuentra los valores que están en ambas columnas\n",
    "# Convierte la columna a cadenas de texto\n",
    "intersection = primer_c_2024_4[primer_c_2024_4['Nº de documento'].isin(primer_c_2024_1['Nº de documento'])]['Nº de documento']\n",
    "\n",
    "# Elimina duplicados (si es necesario)\n",
    "intersection = intersection.drop_duplicates()\n",
    "\n",
    "print(\"Intersección:\", intersection.tolist())"
   ]
  },
  {
   "cell_type": "markdown",
   "metadata": {},
   "source": [
    "## Informe final +Acompañamiento-2C2024 ALGEBRA.xlsx"
   ]
  },
  {
   "cell_type": "code",
   "execution_count": null,
   "metadata": {},
   "outputs": [],
   "source": [
    "# Leer el archivo Excel\n",
    "xls_2C = pd.ExcelFile(\"../../../assets/ENCUESTAS+LISTADOS/Informe final +Acompañamiento-2C2024 ALGEBRA.xlsx\")\n",
    "hojas_2C = xls_2C.sheet_names\n",
    "print(hojas_2C)"
   ]
  },
  {
   "cell_type": "code",
   "execution_count": null,
   "metadata": {},
   "outputs": [],
   "source": [
    "segundo_c_2024 = pd.read_excel(xls_2C, sheet_name=hojas_2C[0])"
   ]
  },
  {
   "cell_type": "markdown",
   "metadata": {},
   "source": [
    "En las últimas filas del documento se había armado una tabla a modo de resumen. Elimino dichas filas para poder hacer un análisis de datos."
   ]
  },
  {
   "cell_type": "code",
   "execution_count": null,
   "metadata": {},
   "outputs": [],
   "source": [
    "segundo_c_2024 = segundo_c_2024[:392]"
   ]
  },
  {
   "cell_type": "code",
   "execution_count": null,
   "metadata": {},
   "outputs": [],
   "source": [
    "segundo_c_2024.to_csv('../../../assets/InformeFinal_2C2024/algebra.csv', index=False)"
   ]
  },
  {
   "cell_type": "code",
   "execution_count": null,
   "metadata": {},
   "outputs": [],
   "source": [
    "segundo_c_2024_csv = pd.read_csv('../../../assets/InformeFinal_2C2024/algebra.csv')"
   ]
  },
  {
   "cell_type": "code",
   "execution_count": null,
   "metadata": {},
   "outputs": [],
   "source": [
    "segundo_c_2024_csv.shape"
   ]
  },
  {
   "cell_type": "code",
   "execution_count": null,
   "metadata": {},
   "outputs": [],
   "source": [
    "segundo_c_2024_csv['Apellido'] = segundo_c_2024_csv['Apellido'].str.strip()\n",
    "segundo_c_2024_csv['Nombre'] = segundo_c_2024_csv['Nombre'].str.strip()\n",
    "\n",
    "# Crear una columna combinada de \"Apellido\" y \"Nombre\"\n",
    "segundo_c_2024_csv['Combinado'] = segundo_c_2024_csv['Apellido'] + ' ' + segundo_c_2024_csv['Nombre']\n",
    "\n",
    "# Contar la cantidad de pares únicos de \"Apellido\" y \"Nombre\"\n",
    "pares_unicos = segundo_c_2024_csv['Combinado'].nunique()\n",
    "\n",
    "print(f\"La cantidad de pares únicos de 'Apellido' y 'Nombre' es: {pares_unicos}\")"
   ]
  },
  {
   "cell_type": "markdown",
   "metadata": {},
   "source": [
    "## Estudiantes, notas, resultados F1 2C2024.xlsx"
   ]
  },
  {
   "cell_type": "code",
   "execution_count": null,
   "metadata": {},
   "outputs": [],
   "source": [
    "# Leer el archivo Excel\n",
    "xls_2C_fisica = pd.ExcelFile(\"../../../assets/ENCUESTAS+LISTADOS/Estudiantes, notas, resultados F1 2C2024.xlsx\")\n",
    "hojas_2C_fisica = xls_2C_fisica.sheet_names\n",
    "print(hojas_2C_fisica)"
   ]
  },
  {
   "cell_type": "markdown",
   "metadata": {},
   "source": [
    "## Semáforo 2C 2024.xlsx"
   ]
  },
  {
   "cell_type": "code",
   "execution_count": null,
   "metadata": {},
   "outputs": [],
   "source": [
    "# Leer el archivo Excel\n",
    "xls_2C_2024 = pd.ExcelFile(\"../../../assets/ENCUESTAS+LISTADOS/Semáforo 2C 2024.xlsx\")\n",
    "hojas_2C_2024 = xls_2C_2024.sheet_names\n",
    "print(hojas_2C_2024)"
   ]
  },
  {
   "cell_type": "code",
   "execution_count": null,
   "metadata": {},
   "outputs": [],
   "source": [
    "segundo_c_2024_1 = pd.read_excel(xls_2C_2024, sheet_name=hojas_2C_2024[0])"
   ]
  },
  {
   "cell_type": "code",
   "execution_count": null,
   "metadata": {},
   "outputs": [],
   "source": [
    "segundo_c_2024_1.columns"
   ]
  },
  {
   "cell_type": "code",
   "execution_count": null,
   "metadata": {},
   "outputs": [],
   "source": [
    "segundo_c_2024_1['Nº de documento'].nunique()"
   ]
  },
  {
   "cell_type": "code",
   "execution_count": null,
   "metadata": {},
   "outputs": [],
   "source": [
    "segundo_c_2024_1['Nº de documento'].shape"
   ]
  },
  {
   "cell_type": "code",
   "execution_count": null,
   "metadata": {},
   "outputs": [],
   "source": [
    "frecuencia = segundo_c_2024_1['Nº de documento'].value_counts()\n",
    "# Muestra los valores que aparecen más de una vez\n",
    "print(\"Frecuencia de valores en 'Id':\")\n",
    "with pd.option_context('display.max_rows', None):\n",
    "    print(frecuencia[frecuencia > 1])"
   ]
  },
  {
   "cell_type": "code",
   "execution_count": null,
   "metadata": {},
   "outputs": [],
   "source": [
    "segundo_c_2024_1"
   ]
  }
 ],
 "metadata": {
  "kernelspec": {
   "display_name": ".venv",
   "language": "python",
   "name": "python3"
  },
  "language_info": {
   "codemirror_mode": {
    "name": "ipython",
    "version": 3
   },
   "file_extension": ".py",
   "mimetype": "text/x-python",
   "name": "python",
   "nbconvert_exporter": "python",
   "pygments_lexer": "ipython3",
   "version": "3.11.9"
  }
 },
 "nbformat": 4,
 "nbformat_minor": 2
}

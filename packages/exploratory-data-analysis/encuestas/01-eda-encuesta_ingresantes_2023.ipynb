{
 "cells": [
  {
   "cell_type": "code",
   "execution_count": 1,
   "metadata": {},
   "outputs": [],
   "source": [
    "import pandas as pd\n",
    "import numpy as np"
   ]
  },
  {
   "cell_type": "markdown",
   "metadata": {},
   "source": [
    "# Encuestas a ingresantes\n",
    "\n",
    "A continuación vamos a estudiar los datos que nos pasaron de encuestas que se le realizaron a ingresantes de la FCEN.\n",
    "\n",
    "Los datasets originales NO serán subidos al repositorio, pues veremos que contienen información delicada.\n",
    "\n",
    "La información se corresponde con datos del segundo cuatrimestre de 2023 en adelante."
   ]
  },
  {
   "cell_type": "markdown",
   "metadata": {},
   "source": [
    "## RIESGO +ACOMPAÑAMIENTO 2C 2023"
   ]
  },
  {
   "cell_type": "markdown",
   "metadata": {},
   "source": [
    "El primer archivo que voy a analizar es un archivo de excel que tiene 3 hojas."
   ]
  },
  {
   "cell_type": "code",
   "execution_count": null,
   "metadata": {},
   "outputs": [],
   "source": [
    "# Leer el archivo Excel\n",
    "xls = pd.ExcelFile(\"../../../assets/bronze/ENCUESTAS+LISTADOS/RIESGO +ACOMPAÑAMIENTO 2C 2023.xlsx\")\n",
    "hojas = xls.sheet_names\n",
    "print(hojas)"
   ]
  },
  {
   "cell_type": "markdown",
   "metadata": {},
   "source": [
    "### Primer hoja"
   ]
  },
  {
   "cell_type": "code",
   "execution_count": 4,
   "metadata": {},
   "outputs": [],
   "source": [
    "segundo_c_2023_1 = pd.read_excel(xls, sheet_name=hojas[0])"
   ]
  },
  {
   "cell_type": "code",
   "execution_count": null,
   "metadata": {},
   "outputs": [],
   "source": [
    "with pd.option_context('display.max_rows', None):\n",
    "    print(segundo_c_2023_1.dtypes)"
   ]
  },
  {
   "cell_type": "code",
   "execution_count": 6,
   "metadata": {},
   "outputs": [],
   "source": [
    "nulos = segundo_c_2023_1.isnull().sum()\n",
    "nulos.to_csv('nulos_Encuesta_a_Estudiantes_Iniciale.csv')"
   ]
  },
  {
   "cell_type": "markdown",
   "metadata": {},
   "source": [
    "Note que varias de las filas se estaban descargando de manera incorrecta por problemas de tipos, al descargar la página como csv se solucionó el problema:"
   ]
  },
  {
   "cell_type": "code",
   "execution_count": 7,
   "metadata": {},
   "outputs": [],
   "source": [
    "df = pd.read_csv('../../../assets/silver/RIESGO +ACOMPAÑAMIENTO 2C 2023/RIESGO +ACOMPAÑAMIENTO 2C 2023.xlsx - Encuesta a Estudiantes Iniciale.csv')"
   ]
  },
  {
   "cell_type": "code",
   "execution_count": null,
   "metadata": {},
   "outputs": [],
   "source": [
    "with pd.option_context('display.max_rows', None):\n",
    "    print(df.dtypes)"
   ]
  },
  {
   "cell_type": "code",
   "execution_count": null,
   "metadata": {},
   "outputs": [],
   "source": [
    "nulos = df.isnull().sum()\n",
    "nulos.to_csv('nulos_Encuesta_a_Estudiantes_Iniciale_csv.csv')"
   ]
  },
  {
   "cell_type": "code",
   "execution_count": null,
   "metadata": {},
   "outputs": [],
   "source": [
    "distinct_values = df['ID de respuesta'].nunique()\n",
    "print(distinct_values)"
   ]
  },
  {
   "cell_type": "code",
   "execution_count": null,
   "metadata": {},
   "outputs": [],
   "source": [
    "frecuencia = df['ID de respuesta'].value_counts()\n",
    "\n",
    "# Muestra los valores que aparecen más de una vez\n",
    "print(\"Frecuencia de valores en 'Id':\")\n",
    "with pd.option_context('display.max_rows', None):\n",
    "    print(frecuencia[frecuencia > 1])"
   ]
  },
  {
   "cell_type": "code",
   "execution_count": null,
   "metadata": {},
   "outputs": [],
   "source": [
    "# No se sube pues se veía DNI de las personas\n",
    "df[df['ID de respuesta'] == 11]"
   ]
  },
  {
   "cell_type": "markdown",
   "metadata": {},
   "source": [
    "Sin embargo, solo hay 4 DNI's duplicados"
   ]
  },
  {
   "cell_type": "code",
   "execution_count": null,
   "metadata": {},
   "outputs": [],
   "source": [
    "frecuencia_dni = df['Nº de documento'].value_counts()\n",
    "\n",
    "# Muestra los valores que aparecen más de una vez\n",
    "print(\"Frecuencia de valores en 'Id':\")\n",
    "with pd.option_context('display.max_rows', None):\n",
    "    print(frecuencia_dni[frecuencia_dni > 1])"
   ]
  },
  {
   "cell_type": "code",
   "execution_count": null,
   "metadata": {},
   "outputs": [],
   "source": [
    "df['Nº de documento'].nunique()"
   ]
  },
  {
   "cell_type": "code",
   "execution_count": null,
   "metadata": {},
   "outputs": [],
   "source": [
    "df.shape"
   ]
  },
  {
   "cell_type": "code",
   "execution_count": null,
   "metadata": {},
   "outputs": [],
   "source": [
    "# Convertir la columna a string (por si acaso no lo está)\n",
    "df['Nº de documento'] = df['Nº de documento'].astype(str)\n",
    "\n",
    "# Eliminar espacios al principio y al final\n",
    "df['Nº de documento'] = df['Nº de documento'].str.strip()"
   ]
  },
  {
   "cell_type": "code",
   "execution_count": null,
   "metadata": {},
   "outputs": [],
   "source": [
    "df['Nº de documento'].nunique()"
   ]
  },
  {
   "cell_type": "markdown",
   "metadata": {},
   "source": [
    "Veo que hay un gran número de intersecciones con los DNI's disponibles en ENCUESTAS+LISTADOS/SEMAFORO 2C 2023.xlsx"
   ]
  },
  {
   "cell_type": "code",
   "execution_count": null,
   "metadata": {},
   "outputs": [],
   "source": [
    "semaforo_2c_2023 = pd.read_excel('../../../assets/bronze/ENCUESTAS+LISTADOS/SEMAFORO 2C 2023.xlsx')\n",
    "semaforo_2c_2023.shape"
   ]
  },
  {
   "cell_type": "code",
   "execution_count": null,
   "metadata": {},
   "outputs": [],
   "source": [
    "with pd.option_context('display.max_rows', None):\n",
    "    print(semaforo_2c_2023.dtypes)"
   ]
  },
  {
   "cell_type": "code",
   "execution_count": null,
   "metadata": {},
   "outputs": [],
   "source": [
    "# Encuentra los valores que están en ambas columnas\n",
    "# Convierte la columna a cadenas de texto\n",
    "df['Nº de documento'] = df['Nº de documento'].astype(str)\n",
    "semaforo_2c_2023['Nº de documento'] = semaforo_2c_2023['Nº de documento'].astype(str).str.strip()\n",
    "\n",
    "intersection = df[df['Nº de documento'].isin(semaforo_2c_2023['Nº de documento'])]['Nº de documento']\n",
    "\n",
    "# Elimina duplicados (si es necesario)\n",
    "intersection = intersection.drop_duplicates()\n",
    "\n",
    "print(\"Intersección:\", intersection.tolist())"
   ]
  },
  {
   "cell_type": "code",
   "execution_count": null,
   "metadata": {},
   "outputs": [],
   "source": [
    "intersection2 = semaforo_2c_2023[semaforo_2c_2023['Nº de documento'].isin(df['Nº de documento'])]['Nº de documento']"
   ]
  },
  {
   "cell_type": "code",
   "execution_count": null,
   "metadata": {},
   "outputs": [],
   "source": [
    "intersection.isin(intersection2).sum()"
   ]
  },
  {
   "cell_type": "code",
   "execution_count": null,
   "metadata": {},
   "outputs": [],
   "source": [
    "semaforo_2c_2023['Nº de documento'].nunique()"
   ]
  },
  {
   "cell_type": "code",
   "execution_count": null,
   "metadata": {},
   "outputs": [],
   "source": [
    "semaforo_2c_2023.shape"
   ]
  },
  {
   "cell_type": "code",
   "execution_count": null,
   "metadata": {},
   "outputs": [],
   "source": [
    "frecuencia_dni_semaforo = semaforo_2c_2023['Nº de documento'].value_counts()\n",
    "\n",
    "# Muestra los valores que aparecen más de una vez\n",
    "print(\"Frecuencia de valores en 'Id':\")\n",
    "with pd.option_context('display.max_rows', None):\n",
    "    print(frecuencia_dni_semaforo[frecuencia_dni_semaforo > 1])"
   ]
  },
  {
   "cell_type": "code",
   "execution_count": null,
   "metadata": {},
   "outputs": [],
   "source": [
    "semaforo_2c_2023[semaforo_2c_2023['Nº de documento']=='45689809']"
   ]
  },
  {
   "cell_type": "code",
   "execution_count": null,
   "metadata": {},
   "outputs": [],
   "source": [
    "df[df['Nº de documento']=='45689809']"
   ]
  },
  {
   "cell_type": "markdown",
   "metadata": {},
   "source": [
    "### Segunda hoja"
   ]
  },
  {
   "cell_type": "markdown",
   "metadata": {},
   "source": [
    "Definen una grilla de puntaje:"
   ]
  },
  {
   "cell_type": "code",
   "execution_count": null,
   "metadata": {},
   "outputs": [],
   "source": [
    "segundo_c_2023_2 = pd.read_excel(xls, sheet_name=hojas[1], header=1)\n",
    "segundo_c_2023_2.head()"
   ]
  },
  {
   "cell_type": "code",
   "execution_count": null,
   "metadata": {},
   "outputs": [],
   "source": [
    "segundo_c_2023_2.dtypes"
   ]
  },
  {
   "cell_type": "code",
   "execution_count": null,
   "metadata": {},
   "outputs": [],
   "source": [
    "#count missing values\n",
    "print(segundo_c_2023_2.isnull().sum())"
   ]
  },
  {
   "cell_type": "markdown",
   "metadata": {},
   "source": [
    "Saco las filas que son completamente nulas."
   ]
  },
  {
   "cell_type": "code",
   "execution_count": null,
   "metadata": {},
   "outputs": [],
   "source": [
    "segundo_c_2023_2.dropna(how='all', inplace=True)\n",
    "print(segundo_c_2023_2.isnull().sum())"
   ]
  },
  {
   "cell_type": "code",
   "execution_count": null,
   "metadata": {},
   "outputs": [],
   "source": [
    "segundo_c_2023_2.reset_index(inplace=True, drop=True)\n",
    "segundo_c_2023_2.shape"
   ]
  },
  {
   "cell_type": "markdown",
   "metadata": {},
   "source": [
    "Hay columnas que fueron autocompletadas con formulas de excel:\n",
    "\n",
    "* Id columna: concatenación entre \"Columna\" y \"Valor\"\n",
    "* Valor: Toma \"valor=puntaje\" y se queda con lo que está antes del símbolo =\n",
    "* Puntaje: Toma \"valor=puntaje\" y se queda con lo que está despues del símbolo ="
   ]
  },
  {
   "cell_type": "code",
   "execution_count": null,
   "metadata": {},
   "outputs": [],
   "source": [
    "segundo_c_2023_2['Puntaje'].unique()"
   ]
  },
  {
   "cell_type": "code",
   "execution_count": null,
   "metadata": {},
   "outputs": [],
   "source": [
    "segundo_c_2023_2[segundo_c_2023_2['Puntaje'].isna()]"
   ]
  },
  {
   "cell_type": "code",
   "execution_count": null,
   "metadata": {},
   "outputs": [],
   "source": [
    "# Función para extraer el valor después del \"=\"\n",
    "def extraer_puntaje(valor):\n",
    "    if isinstance(valor, str) and \"=\" in valor:  # Verifica si es una cadena y contiene \"=\"\n",
    "        return valor.split(\"=\")[1].replace(\",\", \".\")  # Extrae el valor y reemplaza coma por punto\n",
    "    return valor  # Si no cumple las condiciones, déjalo igual\n",
    "\n",
    "# Aplica la función a la columna \"Valor\" y crea la columna \"Puntaje\"\n",
    "segundo_c_2023_2['Puntaje'] = segundo_c_2023_2['valor=puntaje'].apply(extraer_puntaje)\n",
    "segundo_c_2023_2['Puntaje'] = pd.to_numeric(segundo_c_2023_2['Puntaje'], errors='coerce')"
   ]
  },
  {
   "cell_type": "code",
   "execution_count": null,
   "metadata": {},
   "outputs": [],
   "source": [
    "segundo_c_2023_2['Puntaje'].unique()"
   ]
  },
  {
   "cell_type": "code",
   "execution_count": null,
   "metadata": {},
   "outputs": [],
   "source": [
    "segundo_c_2023_2['Valor'].unique()"
   ]
  },
  {
   "cell_type": "markdown",
   "metadata": {},
   "source": [
    "Me guardo el resultado en un nuevo csv"
   ]
  },
  {
   "cell_type": "code",
   "execution_count": null,
   "metadata": {},
   "outputs": [],
   "source": [
    "hojas[1]"
   ]
  },
  {
   "cell_type": "code",
   "execution_count": null,
   "metadata": {},
   "outputs": [],
   "source": [
    "segundo_c_2023_2.to_csv('../../../assets/silver/RIESGO +ACOMPAÑAMIENTO 2C 2023/grilla_puntaje.csv', index=False)"
   ]
  },
  {
   "cell_type": "markdown",
   "metadata": {},
   "source": [
    "### Tercer hoja"
   ]
  },
  {
   "cell_type": "code",
   "execution_count": null,
   "metadata": {},
   "outputs": [],
   "source": [
    "segundo_c_2023_3 = pd.read_excel(xls, sheet_name=hojas[2])\n",
    "segundo_c_2023_3"
   ]
  },
  {
   "cell_type": "code",
   "execution_count": null,
   "metadata": {},
   "outputs": [],
   "source": [
    "hojas[2]"
   ]
  },
  {
   "cell_type": "code",
   "execution_count": null,
   "metadata": {},
   "outputs": [],
   "source": [
    "#lo guardo sin el indice\n",
    "segundo_c_2023_3.to_csv('../../../assets/silver/RIESGO +ACOMPAÑAMIENTO 2C 2023/grilla_riesgo.csv', index=False)"
   ]
  },
  {
   "cell_type": "code",
   "execution_count": null,
   "metadata": {},
   "outputs": [],
   "source": [
    "pd.read_csv('../../../assets/silver/RIESGO +ACOMPAÑAMIENTO 2C 2023/grilla_riesgo.csv')"
   ]
  },
  {
   "cell_type": "markdown",
   "metadata": {},
   "source": [
    "## Análisis 2C2023 FISICA"
   ]
  },
  {
   "cell_type": "code",
   "execution_count": null,
   "metadata": {},
   "outputs": [],
   "source": [
    "# Leer el archivo Excel\n",
    "xls_fisica_2023 = pd.ExcelFile(\"../../../assets/bronze/ENCUESTAS+LISTADOS/Análisis 2C2023 FISICA.xlsx\")\n",
    "hojas_fisica_2023 = xls_fisica_2023.sheet_names\n",
    "print(hojas_fisica_2023)"
   ]
  },
  {
   "cell_type": "code",
   "execution_count": null,
   "metadata": {},
   "outputs": [],
   "source": [
    "segundo_c_2023_fisica = pd.read_excel(xls_fisica_2023, sheet_name=hojas_fisica_2023[0])"
   ]
  },
  {
   "cell_type": "code",
   "execution_count": null,
   "metadata": {},
   "outputs": [],
   "source": [
    "segundo_c_2023_fisica.dtypes"
   ]
  },
  {
   "cell_type": "code",
   "execution_count": null,
   "metadata": {},
   "outputs": [],
   "source": [
    "segundo_c_2023_fisica.shape"
   ]
  },
  {
   "cell_type": "code",
   "execution_count": null,
   "metadata": {},
   "outputs": [],
   "source": [
    "segundo_c_2023_fisica['LU'] = segundo_c_2023_fisica['LU'].astype(str).str.strip()"
   ]
  },
  {
   "cell_type": "code",
   "execution_count": null,
   "metadata": {},
   "outputs": [],
   "source": [
    "segundo_c_2023_fisica['LU'].nunique()"
   ]
  }
 ],
 "metadata": {
  "kernelspec": {
   "display_name": ".venv",
   "language": "python",
   "name": "python3"
  },
  "language_info": {
   "codemirror_mode": {
    "name": "ipython",
    "version": 3
   },
   "file_extension": ".py",
   "mimetype": "text/x-python",
   "name": "python",
   "nbconvert_exporter": "python",
   "pygments_lexer": "ipython3",
   "version": "3.11.9"
  }
 },
 "nbformat": 4,
 "nbformat_minor": 2
}

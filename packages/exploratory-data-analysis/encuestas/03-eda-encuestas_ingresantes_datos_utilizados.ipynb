{
 "cells": [
  {
   "cell_type": "code",
   "execution_count": null,
   "metadata": {},
   "outputs": [],
   "source": [
    "import sys\n",
    "sys.path.insert(0, '../')\n",
    "\n",
    "import pandas as pd\n",
    "import numpy as np\n",
    "import helpers_encuestas\n",
    "import helpers_eda_inicial"
   ]
  },
  {
   "cell_type": "code",
   "execution_count": 6,
   "metadata": {},
   "outputs": [],
   "source": [
    "# Leer el archivo Excel\n",
    "encuesta_2c_2023 = df = pd.read_csv('../../../assets/silver/RIESGO +ACOMPAÑAMIENTO 2C 2023/RIESGO +ACOMPAÑAMIENTO 2C 2023.xlsx - Encuesta a Estudiantes Iniciale.csv')\n",
    "xls = pd.ExcelFile(\"../../../assets/bronze/ENCUESTAS+LISTADOS/RIESGO +ACOMPAÑAMIENTO 1C2024.xlsx\")\n",
    "primer_c_2024_1 = pd.read_excel(xls, sheet_name='Encuesta a Estudiantes Iniciale')\n",
    "xls_2C_2024 = pd.ExcelFile(\"../../../assets/bronze/ENCUESTAS+LISTADOS/Semáforo 2C 2024.xlsx\")\n",
    "segundo_c_2024_1 = pd.read_excel(xls_2C_2024, sheet_name='Encuesta a Ingresantes de EXACT')"
   ]
  },
  {
   "cell_type": "code",
   "execution_count": null,
   "metadata": {},
   "outputs": [],
   "source": [
    "# listas de columnas\n",
    "cols_encuesta_2023 = encuesta_2c_2023.columns.to_list()\n",
    "cols_primer_2024_1 = primer_c_2024_1.columns.to_list()\n",
    "cols_segundo_2024_1 = segundo_c_2024_1.columns.to_list()\n",
    "\n",
    "# Lo metemos todo en un diccionario\n",
    "columnas_dict = {\n",
    "    'encuesta_2c_2023': cols_encuesta_2023,\n",
    "    'primer_c_2024_1': cols_primer_2024_1,\n",
    "    'segundo_c_2024_1': cols_segundo_2024_1\n",
    "}\n",
    "\n",
    "# Creamos el DataFrame, pandas se encarga de alinear y rellenar con NaN donde falte\n",
    "df_columnas = pd.DataFrame(dict([(k, pd.Series(v)) for k, v in columnas_dict.items()]))\n",
    "\n",
    "print(df_columnas)"
   ]
  },
  {
   "cell_type": "markdown",
   "metadata": {},
   "source": [
    "Se analizó manualmente las preguntas de cada año, se encontró que los primeros dos cuatrimestres se utilizó el mismo conjunto de preguntas. Sin embargo, en el segundo cuatrimestre de 2024 se cambiaron algunas de las preguntas. En algunos casos solo cambio el formato de la pregunta, en otro se agregaron opciones, etc. Debemos tratar cada uno de estos casos para poner unificar los datasets."
   ]
  },
  {
   "cell_type": "code",
   "execution_count": null,
   "metadata": {},
   "outputs": [],
   "source": [
    "encuesta_2c_2023['¿Cuándo ingresaste a Exactas? '].unique()"
   ]
  },
  {
   "cell_type": "code",
   "execution_count": null,
   "metadata": {},
   "outputs": [],
   "source": [
    "primer_c_2024_1['¿Cuándo ingresaste a Exactas? '].unique()"
   ]
  },
  {
   "cell_type": "code",
   "execution_count": null,
   "metadata": {},
   "outputs": [],
   "source": [
    "print(segundo_c_2024_1.columns.to_list())"
   ]
  },
  {
   "cell_type": "code",
   "execution_count": null,
   "metadata": {},
   "outputs": [],
   "source": [
    "segundo_c_2024_1['¿En qué año ingresaste a Exactas?'].unique()"
   ]
  },
  {
   "cell_type": "code",
   "execution_count": null,
   "metadata": {},
   "outputs": [],
   "source": [
    "encuesta_2c_2023['¿Cuándo ingresaste a Exactas?  [Otro]'].unique()"
   ]
  },
  {
   "cell_type": "code",
   "execution_count": null,
   "metadata": {},
   "outputs": [],
   "source": [
    "primer_c_2024_1['¿Cuándo ingresaste a Exactas?  [Otro]'].unique()"
   ]
  },
  {
   "cell_type": "markdown",
   "metadata": {},
   "source": [
    "Pensé que las respuestas más \"raras\" podían llegar a coincidir porque se ingresó 2 veces la misma encuesta."
   ]
  },
  {
   "cell_type": "code",
   "execution_count": null,
   "metadata": {},
   "outputs": [],
   "source": [
    "np.isin(encuesta_2c_2023['Nº de documento'].astype(str).unique(), primer_c_2024_1['Nº de documento'].astype(str).unique()).sum()"
   ]
  },
  {
   "cell_type": "code",
   "execution_count": null,
   "metadata": {},
   "outputs": [],
   "source": [
    "encuesta_2c_2023['Nº de documento']"
   ]
  },
  {
   "cell_type": "code",
   "execution_count": null,
   "metadata": {},
   "outputs": [],
   "source": [
    "primer_c_2024_1['Nº de documento']"
   ]
  },
  {
   "cell_type": "code",
   "execution_count": null,
   "metadata": {},
   "outputs": [],
   "source": [
    "np.isin(primer_c_2024_1['Nº de documento'].unique(), encuesta_2c_2023['Nº de documento'].unique()).sum()"
   ]
  },
  {
   "cell_type": "code",
   "execution_count": null,
   "metadata": {},
   "outputs": [],
   "source": [
    "primer_c_2024_1[primer_c_2024_1['Nº de documento'].isin(encuesta_2c_2023['Nº de documento'].unique())].to_csv('repetidos.csv', index=False)"
   ]
  },
  {
   "cell_type": "code",
   "execution_count": null,
   "metadata": {},
   "outputs": [],
   "source": [
    "encuesta_2c_2023[encuesta_2c_2023['Nº de documento'].isin(primer_c_2024_1['Nº de documento'].unique())].to_csv('repetidos_2.csv', index=False)"
   ]
  },
  {
   "cell_type": "markdown",
   "metadata": {},
   "source": [
    "Vemos exactamente las filas con esa respuesta:"
   ]
  },
  {
   "cell_type": "code",
   "execution_count": null,
   "metadata": {},
   "outputs": [],
   "source": [
    "primer_c_2024_1[primer_c_2024_1['¿Cuándo ingresaste a Exactas?  [Otro]'] == 'Ingrese a fisica en 2020. Me cambie a biologia en 2023']"
   ]
  },
  {
   "cell_type": "code",
   "execution_count": null,
   "metadata": {},
   "outputs": [],
   "source": [
    "encuesta_2c_2023[encuesta_2c_2023['¿Cuándo ingresaste a Exactas?  [Otro]'] == 'Ingrese a fisica en 2020. Me cambie a biologia en 2023']"
   ]
  },
  {
   "cell_type": "markdown",
   "metadata": {},
   "source": [
    "## Prueba con otro de los datasets"
   ]
  },
  {
   "cell_type": "code",
   "execution_count": null,
   "metadata": {},
   "outputs": [],
   "source": [
    "primer_c_2024_4 = pd.read_excel(xls, sheet_name='Copia de Encuesta a Ingresantes', header=1)"
   ]
  },
  {
   "cell_type": "code",
   "execution_count": null,
   "metadata": {},
   "outputs": [],
   "source": [
    "np.isin(encuesta_2c_2023['Nº de documento'].astype(str).unique(), primer_c_2024_4['Nº de documento'].astype(str).unique()).sum()"
   ]
  },
  {
   "cell_type": "code",
   "execution_count": null,
   "metadata": {},
   "outputs": [],
   "source": [
    "primer_c_2024_4['Nº de documento'].isna().sum()"
   ]
  },
  {
   "cell_type": "code",
   "execution_count": null,
   "metadata": {},
   "outputs": [],
   "source": [
    "primer_c_2024_4['Nº de documento'].nunique()"
   ]
  },
  {
   "cell_type": "code",
   "execution_count": null,
   "metadata": {},
   "outputs": [],
   "source": [
    "primer_c_2024_4.shape"
   ]
  },
  {
   "cell_type": "markdown",
   "metadata": {},
   "source": [
    "## Hojas con las que trabajamos"
   ]
  },
  {
   "cell_type": "markdown",
   "metadata": {},
   "source": [
    "Pareciera que en realidad la hoja correcta es la que se llama 'Copia de Encuesta a Ingresantes'. Por ahora voy a trabajar con dicha tabla y volveré a consultar. El problema con esta hoja es que no tiene asignada la columna con los puntos, por lo tanto, vale la pena consultar si tienen otra versión donde sí asignaron valores al semáforo."
   ]
  },
  {
   "cell_type": "markdown",
   "metadata": {},
   "source": [
    "* encuesta_2c_2023\n",
    "\n",
    "* primer_c_2024_4\n",
    "\n",
    "* segundo_c_2024_1"
   ]
  },
  {
   "cell_type": "code",
   "execution_count": 3,
   "metadata": {},
   "outputs": [],
   "source": [
    "# Leer el archivo Excel\n",
    "encuesta_2c_2023 = df = pd.read_csv('../../../assets/silver/RIESGO +ACOMPAÑAMIENTO 2C 2023/RIESGO +ACOMPAÑAMIENTO 2C 2023.xlsx - Encuesta a Estudiantes Iniciale.csv')\n",
    "xls = pd.ExcelFile(\"../../../assets/bronze/ENCUESTAS+LISTADOS/RIESGO +ACOMPAÑAMIENTO 1C2024.xlsx\")\n",
    "primer_c_2024_4 = pd.read_excel(xls, sheet_name='Copia de Encuesta a Ingresantes', header=1)\n",
    "xls_2C_2024 = pd.ExcelFile(\"../../../assets/bronze/ENCUESTAS+LISTADOS/Semáforo 2C 2024.xlsx\")\n",
    "segundo_c_2024_1 = pd.read_excel(xls_2C_2024, sheet_name='Encuesta a Ingresantes de EXACT')"
   ]
  },
  {
   "cell_type": "code",
   "execution_count": null,
   "metadata": {},
   "outputs": [],
   "source": [
    "print(primer_c_2024_1.shape)\n",
    "print(primer_c_2024_1['Nº de documento'].isna().sum())\n",
    "print(primer_c_2024_1['Nº de documento'].nunique())"
   ]
  },
  {
   "cell_type": "code",
   "execution_count": null,
   "metadata": {},
   "outputs": [],
   "source": [
    "np.isin(encuesta_2c_2023['Nº de documento'].astype(str).unique(), primer_c_2024_1['Nº de documento'].astype(str).unique()).sum()"
   ]
  },
  {
   "cell_type": "code",
   "execution_count": null,
   "metadata": {},
   "outputs": [],
   "source": [
    "np.isin(primer_c_2024_1['Nº de documento'].astype(str).unique(), primer_c_2024_4['Nº de documento'].astype(str).unique()).sum()"
   ]
  },
  {
   "cell_type": "code",
   "execution_count": null,
   "metadata": {},
   "outputs": [],
   "source": [
    "np.isin(primer_c_2024_4['Nº de documento'].astype(str).unique(), segundo_c_2024_1['Nº de documento'].astype(str).unique()).sum()"
   ]
  },
  {
   "cell_type": "code",
   "execution_count": null,
   "metadata": {},
   "outputs": [],
   "source": [
    "np.isin(primer_c_2024_1['Nº de documento'].astype(str).unique(), segundo_c_2024_1['Nº de documento'].astype(str).unique()).sum()"
   ]
  },
  {
   "cell_type": "code",
   "execution_count": null,
   "metadata": {},
   "outputs": [],
   "source": [
    "np.isin(encuesta_2c_2023['Nº de documento'].astype(str).unique(), segundo_c_2024_1['Nº de documento'].astype(str).unique()).sum()"
   ]
  },
  {
   "cell_type": "markdown",
   "metadata": {},
   "source": [
    "Primero vemos la cantidad de nulos, pero para el trabajo solo podemos trabajar con aquellos que tienen el DNI ingresado"
   ]
  },
  {
   "cell_type": "code",
   "execution_count": null,
   "metadata": {},
   "outputs": [],
   "source": [
    "print(encuesta_2c_2023.shape)\n",
    "print(encuesta_2c_2023['Nº de documento'].isna().sum())\n",
    "print(encuesta_2c_2023['Nº de documento'].nunique())"
   ]
  },
  {
   "cell_type": "code",
   "execution_count": null,
   "metadata": {},
   "outputs": [],
   "source": [
    "print(primer_c_2024_4.shape)\n",
    "print(primer_c_2024_4['Nº de documento'].isna().sum())\n",
    "print(primer_c_2024_4['Nº de documento'].nunique())"
   ]
  },
  {
   "cell_type": "code",
   "execution_count": null,
   "metadata": {},
   "outputs": [],
   "source": [
    "print(segundo_c_2024_1.shape)\n",
    "print(segundo_c_2024_1['Nº de documento'].isna().sum())\n",
    "print(segundo_c_2024_1['Nº de documento'].nunique())"
   ]
  },
  {
   "cell_type": "code",
   "execution_count": null,
   "metadata": {},
   "outputs": [],
   "source": [
    "#Eliminamos las columnas vacías y las que sabemos que no usaremos\n",
    "encuesta_2c_2023.drop(columns=['Libreta Universitaria Nº', 'Apellido/s y Nombres', 'Lenguaje inicial', 'Semilla', 'Contraseña', 'Fecha de envío', 'Última página', 'Comentarios Finales'], inplace=True)\n",
    "primer_c_2024_4.drop(columns=['Apellido/s y Nombres', 'Lenguaje inicial', 'Semilla', 'Fecha de envío', 'Última página', 'Unnamed: 5', 'Unnamed: 8', 'Unnamed: 65', 'Unnamed: 66', 'Comentarios Finales'], inplace = True)\n",
    "segundo_c_2024_1.drop(columns=['Apellido/s y Nombres', 'Lenguaje inicial', 'Semilla', 'Fecha de envío', 'Última página','Unnamed: 5', 'Unnamed: 8', 'Unnamed: 65', 'Unnamed: 66', 'Comentarios Finales'], inplace=True)"
   ]
  },
  {
   "cell_type": "code",
   "execution_count": null,
   "metadata": {},
   "outputs": [],
   "source": [
    "# saco los valores nulos\n",
    "encuesta_2c_2023.dropna(subset=['Nº de documento'], inplace=True)\n",
    "primer_c_2024_4.dropna(subset=['Nº de documento'], inplace=True)\n",
    "segundo_c_2024_1.dropna(subset=['Nº de documento'], inplace=True)\n",
    "\n",
    "# Saco los duplicados\n",
    "encuesta_2c_2023.drop_duplicates(inplace=True)\n",
    "primer_c_2024_4.drop_duplicates(inplace=True)\n",
    "segundo_c_2024_1.drop_duplicates(inplace=True)"
   ]
  },
  {
   "cell_type": "code",
   "execution_count": null,
   "metadata": {},
   "outputs": [],
   "source": [
    "segundo_c_2024_1['Nº de documento'].value_counts()"
   ]
  },
  {
   "cell_type": "code",
   "execution_count": null,
   "metadata": {},
   "outputs": [],
   "source": [
    "dni_repetido = segundo_c_2024_1['Nº de documento'].value_counts()[segundo_c_2024_1['Nº de documento'].value_counts() == 2].index.tolist()"
   ]
  },
  {
   "cell_type": "code",
   "execution_count": null,
   "metadata": {},
   "outputs": [],
   "source": [
    "sin_id = segundo_c_2024_1.drop(columns=['ID de respuesta'], inplace=False)\n",
    "sin_id.drop_duplicates(inplace=True)"
   ]
  },
  {
   "cell_type": "code",
   "execution_count": null,
   "metadata": {},
   "outputs": [],
   "source": [
    "sin_id[sin_id['Nº de documento'].isin(dni_repetido)]"
   ]
  },
  {
   "cell_type": "code",
   "execution_count": null,
   "metadata": {},
   "outputs": [],
   "source": [
    "df_filtrado = sin_id[sin_id['Nº de documento'].isin(dni_repetido)]\n",
    "fila1 = df_filtrado.iloc[0]\n",
    "fila2 = df_filtrado.iloc[1]\n",
    "\n",
    "columnas_diferentes = []\n",
    "\n",
    "for col in sin_id.columns:\n",
    "    val1, val2 = fila1[col], fila2[col]\n",
    "    # Si ambos son NaN → continuar\n",
    "    if pd.isna(val1) and pd.isna(val2):\n",
    "        continue\n",
    "    # Si son distintos (incluyendo si uno es NaN y el otro no)\n",
    "    if val1 != val2:\n",
    "        columnas_diferentes.append(col)\n",
    "\n",
    "print(columnas_diferentes)"
   ]
  },
  {
   "cell_type": "markdown",
   "metadata": {},
   "source": [
    "Se ve que es una persona que respondió más de una vez la encuesta y sus respuestas varian levemente, nos quedamos con una de las filas.\n",
    "\n",
    "Para los otros años me dijeron que me podía quedar con cualquiera de las filas, de manera indistinta."
   ]
  },
  {
   "cell_type": "code",
   "execution_count": null,
   "metadata": {},
   "outputs": [],
   "source": [
    "segundo_c_2024_1 = segundo_c_2024_1.drop_duplicates(subset='Nº de documento', keep='last')\n",
    "encuesta_2c_2023 = encuesta_2c_2023.drop_duplicates(subset='Nº de documento', keep='last')\n",
    "primer_c_2024_4 = primer_c_2024_4.drop_duplicates(subset='Nº de documento', keep='last')"
   ]
  },
  {
   "cell_type": "markdown",
   "metadata": {},
   "source": [
    "## Comienzo a arreglar columnas\n",
    "\n",
    "Algunas columnas de segundo_c_2024_1 se llaman distinto porque cambiaron la forma de preguntar pero significan lo mismo. Lo miramos"
   ]
  },
  {
   "cell_type": "code",
   "execution_count": null,
   "metadata": {},
   "outputs": [],
   "source": [
    "segundo_c_2024_1['¿En qué año ingresaste a Exactas?'].unique()"
   ]
  },
  {
   "cell_type": "code",
   "execution_count": null,
   "metadata": {},
   "outputs": [],
   "source": [
    "segundo_c_2024_1['¿En qué cuatrimestre ingresaste?'].unique()"
   ]
  },
  {
   "cell_type": "code",
   "execution_count": null,
   "metadata": {},
   "outputs": [],
   "source": [
    "encuesta_2c_2023['¿Cuándo ingresaste a Exactas? '].unique()"
   ]
  },
  {
   "cell_type": "code",
   "execution_count": null,
   "metadata": {},
   "outputs": [],
   "source": [
    "encuesta_2c_2023['¿Cuándo ingresaste a Exactas?  [Otro]'].unique()"
   ]
  },
  {
   "cell_type": "code",
   "execution_count": null,
   "metadata": {},
   "outputs": [],
   "source": [
    "primer_c_2024_4['¿Cuándo ingresaste a Exactas? '].unique()"
   ]
  },
  {
   "cell_type": "code",
   "execution_count": null,
   "metadata": {},
   "outputs": [],
   "source": [
    "primer_c_2024_4['¿Cuándo ingresaste a Exactas?  [Otro]'].unique()"
   ]
  },
  {
   "cell_type": "code",
   "execution_count": null,
   "metadata": {},
   "outputs": [],
   "source": [
    "helpers_eda_inicial.dataset_profiling(primer_c_2024_4, name='1c2024')"
   ]
  },
  {
   "cell_type": "code",
   "execution_count": null,
   "metadata": {},
   "outputs": [],
   "source": [
    "helpers_eda_inicial.dataset_profiling(encuesta_2c_2023, name='2c2023')\n",
    "helpers_eda_inicial.dataset_profiling(segundo_c_2024_1, name='2c2024')"
   ]
  }
 ],
 "metadata": {
  "kernelspec": {
   "display_name": ".venv",
   "language": "python",
   "name": "python3"
  },
  "language_info": {
   "codemirror_mode": {
    "name": "ipython",
    "version": 3
   },
   "file_extension": ".py",
   "mimetype": "text/x-python",
   "name": "python",
   "nbconvert_exporter": "python",
   "pygments_lexer": "ipython3",
   "version": "3.11.9"
  }
 },
 "nbformat": 4,
 "nbformat_minor": 2
}

{
 "cells": [
  {
   "cell_type": "code",
   "execution_count": null,
   "metadata": {},
   "outputs": [],
   "source": [
    "import sys\n",
    "sys.path.insert(0, '../')\n",
    "\n",
    "import pandas as pd\n",
    "import numpy as np\n",
    "\n",
    "import helpers_cbc\n",
    "import helpers_encuestas"
   ]
  },
  {
   "cell_type": "code",
   "execution_count": null,
   "metadata": {},
   "outputs": [],
   "source": [
    "encuesta_2c_2023_v2 = pd.read_csv('../../../assets/silver/encuestas_limpias_sin_duplicados/encuesta_2c_2023_limpia.csv')\n",
    "primer_c_2024_1_v2 = pd.read_csv('../../../assets/silver/encuestas_limpias_sin_duplicados/encuesta_primer_c_2024_limpia.csv')\n",
    "segundo_c_2024_1_v2 = pd.read_csv('../../../assets/silver/encuestas_limpias_sin_duplicados/encuesta_segundo_c_2024_limpia.csv')"
   ]
  },
  {
   "cell_type": "markdown",
   "metadata": {},
   "source": [
    "Ya tengo las columnas donde cambiaron minimamente la pregunta, quiero unificar el nombre de las mismas para generar un dataset unico"
   ]
  },
  {
   "cell_type": "code",
   "execution_count": null,
   "metadata": {},
   "outputs": [],
   "source": [
    "# Saco los valores nulos\n",
    "helpers_encuestas.delete_null_values(encuesta_2c_2023_v2, primer_c_2024_1_v2, segundo_c_2024_1_v2)\n",
    "helpers_encuestas.drop_dni_duplicates(encuesta_2c_2023_v2, primer_c_2024_1_v2, segundo_c_2024_1_v2)"
   ]
  },
  {
   "cell_type": "code",
   "execution_count": null,
   "metadata": {},
   "outputs": [],
   "source": [
    "encuesta_2c_2023_v2['Nº de documento'].nunique(), primer_c_2024_1_v2['Nº de documento'].nunique(), segundo_c_2024_1_v2['Nº de documento'].nunique()"
   ]
  },
  {
   "cell_type": "markdown",
   "metadata": {},
   "source": [
    "Vemos los tipos asignados"
   ]
  },
  {
   "cell_type": "code",
   "execution_count": null,
   "metadata": {},
   "outputs": [],
   "source": [
    "dtypes = encuesta_2c_2023_v2.dtypes.to_frame(name=\"Data Type\")\n",
    "print(dtypes.to_markdown())"
   ]
  },
  {
   "cell_type": "code",
   "execution_count": null,
   "metadata": {},
   "outputs": [],
   "source": [
    "dtypes = primer_c_2024_1_v2.dtypes.to_frame(name=\"Data Type\")\n",
    "print(dtypes.to_markdown())"
   ]
  },
  {
   "cell_type": "code",
   "execution_count": null,
   "metadata": {},
   "outputs": [],
   "source": [
    "dtypes = segundo_c_2024_1_v2.dtypes.to_frame(name=\"Data Type\")\n",
    "print(dtypes.to_markdown())"
   ]
  },
  {
   "cell_type": "code",
   "execution_count": null,
   "metadata": {},
   "outputs": [],
   "source": [
    "print(primer_c_2024_1_v2['¿Cómo evaluás este espacio destinado al estudio?'].value_counts().to_frame(name=\"Cantidad\").reset_index().rename(columns={\"index\":\"Respuesta\"}).to_markdown())"
   ]
  },
  {
   "cell_type": "code",
   "execution_count": null,
   "metadata": {},
   "outputs": [],
   "source": [
    "print(segundo_c_2024_1_v2['¿Cómo evaluás este espacio destinado al estudio?'].value_counts().to_frame(name=\"Cantidad\").reset_index().rename(columns={\"index\":\"Respuesta\"}).to_markdown())"
   ]
  },
  {
   "cell_type": "code",
   "execution_count": null,
   "metadata": {},
   "outputs": [],
   "source": [
    "print(encuesta_2c_2023_v2['¿Contas con un espacio para el estudio en tu hogar, qué características tiene? [Es adecuado]'].value_counts().to_frame(name=\"Cantidad\").reset_index().rename(columns={\"index\":\"Respuesta\"}).to_markdown())"
   ]
  },
  {
   "cell_type": "code",
   "execution_count": null,
   "metadata": {},
   "outputs": [],
   "source": [
    "print(encuesta_2c_2023_v2['¿Contas con un espacio para el estudio en tu hogar, qué características tiene? [Es medianamente adecuado]'].value_counts().to_frame(name=\"Cantidad\").reset_index().rename(columns={\"index\":\"Respuesta\"}).to_markdown())"
   ]
  },
  {
   "cell_type": "code",
   "execution_count": null,
   "metadata": {},
   "outputs": [],
   "source": [
    "print(encuesta_2c_2023_v2['¿Contas con un espacio para el estudio en tu hogar, qué características tiene? [Es inadecuado]'].value_counts().to_frame(name=\"Cantidad\").reset_index().rename(columns={\"index\":\"Respuesta\"}).to_markdown())"
   ]
  },
  {
   "cell_type": "markdown",
   "metadata": {},
   "source": [
    "Cambio mucho la pregunta y no tengo forma de unificarla entre los 3 cuatrimestres"
   ]
  },
  {
   "cell_type": "code",
   "execution_count": null,
   "metadata": {},
   "outputs": [],
   "source": [
    "helpers_encuestas.drop_columns_final_version(encuesta_2c_2023_v2, primer_c_2024_1_v2, segundo_c_2024_1_v2)"
   ]
  },
  {
   "cell_type": "code",
   "execution_count": null,
   "metadata": {},
   "outputs": [],
   "source": [
    "print(encuesta_2c_2023_v2['¿Cuál o cuáles materias del CBC te generaron mayor dificultad? [Análisis Matemático]'].value_counts().to_frame(name=\"Cantidad\").reset_index().rename(columns={\"index\":\"Respuesta\"}).to_markdown())"
   ]
  },
  {
   "cell_type": "code",
   "execution_count": null,
   "metadata": {},
   "outputs": [],
   "source": [
    "print(primer_c_2024_1_v2['Indicanos el nivel de dificultad que te generaron las materias del CBC [Int. al Conocimiento Científico (IPC)]'].value_counts().to_frame(name=\"Cantidad\").reset_index().rename(columns={\"index\":\"Respuesta\"}).to_markdown())"
   ]
  },
  {
   "cell_type": "code",
   "execution_count": null,
   "metadata": {},
   "outputs": [],
   "source": [
    "columnas_a_transformar = ['Indicanos el nivel de dificultad que te generaron las materias del CBC [Int. al Conocimiento Científico (IPC)]',\n",
    "                        'Indicanos el nivel de dificultad que te generaron las materias del CBC [Int. al Conocimiento de la Sociedad y el Estado (ICSE)]',\n",
    "                        'Indicanos el nivel de dificultad que te generaron las materias del CBC [Análisis Matemático]',\n",
    "                        'Indicanos el nivel de dificultad que te generaron las materias del CBC [Algebra]',\n",
    "                        'Indicanos el nivel de dificultad que te generaron las materias del CBC [Matemática]',\n",
    "                        'Indicanos el nivel de dificultad que te generaron las materias del CBC [Física]',\n",
    "                        'Indicanos el nivel de dificultad que te generaron las materias del CBC [Química]',\n",
    "                        'Indicanos el nivel de dificultad que te generaron las materias del CBC [Biología]']\n",
    "\n",
    "for col in columnas_a_transformar:\n",
    "    print(primer_c_2024_1_v2[col].unique())\n",
    "    print(segundo_c_2024_1_v2[col].unique())"
   ]
  },
  {
   "cell_type": "code",
   "execution_count": null,
   "metadata": {},
   "outputs": [],
   "source": [
    "def transformar_dificultad(df, columna_original):\n",
    "\n",
    "    # Creamos un diccionario con el mapeo deseado\n",
    "    mapeo_dificultad = {\n",
    "        'Baja': 'No',\n",
    "        'Muy Baja': 'No',\n",
    "        'Media': 'No',\n",
    "        'Alta': 'Si',\n",
    "        'Muy Alta': 'Si',\n",
    "        'No la cursé': np.nan\n",
    "    }\n",
    "\n",
    "    # Aplicamos la transformación\n",
    "    df[columna_original] = df[columna_original].replace(mapeo_dificultad)"
   ]
  },
  {
   "cell_type": "code",
   "execution_count": null,
   "metadata": {},
   "outputs": [],
   "source": [
    "columnas_a_transformar = ['Indicanos el nivel de dificultad que te generaron las materias del CBC [Int. al Conocimiento Científico (IPC)]',\n",
    "                        'Indicanos el nivel de dificultad que te generaron las materias del CBC [Int. al Conocimiento de la Sociedad y el Estado (ICSE)]',\n",
    "                        'Indicanos el nivel de dificultad que te generaron las materias del CBC [Análisis Matemático]',\n",
    "                        'Indicanos el nivel de dificultad que te generaron las materias del CBC [Algebra]',\n",
    "                        'Indicanos el nivel de dificultad que te generaron las materias del CBC [Matemática]',\n",
    "                        'Indicanos el nivel de dificultad que te generaron las materias del CBC [Física]',\n",
    "                        'Indicanos el nivel de dificultad que te generaron las materias del CBC [Química]',\n",
    "                        'Indicanos el nivel de dificultad que te generaron las materias del CBC [Biología]']\n",
    "for columna in columnas_a_transformar:\n",
    "    transformar_dificultad(primer_c_2024_1_v2, columna)\n",
    "    transformar_dificultad(segundo_c_2024_1_v2, columna)"
   ]
  },
  {
   "cell_type": "code",
   "execution_count": null,
   "metadata": {},
   "outputs": [],
   "source": [
    "# Diccionario de renombrado\n",
    "renombrar_columnas = {\n",
    "    'Indicanos el nivel de dificultad que te generaron las materias del CBC [Int. al Conocimiento Científico (IPC)]': '¿Cuál o cuáles materias del CBC te generaron mayor dificultad? [Introducción al Pensamiento Científico (IPC)]',\n",
    "    'Indicanos el nivel de dificultad que te generaron las materias del CBC [Int. al Conocimiento de la Sociedad y el Estado (ICSE)]': '¿Cuál o cuáles materias del CBC te generaron mayor dificultad? [Introducción al Conocimiento de la Sociedad y el Estado (ICSE)]',\n",
    "    'Indicanos el nivel de dificultad que te generaron las materias del CBC [Análisis Matemático]': '¿Cuál o cuáles materias del CBC te generaron mayor dificultad? [Análisis Matemático]',\n",
    "    'Indicanos el nivel de dificultad que te generaron las materias del CBC [Algebra]': '¿Cuál o cuáles materias del CBC te generaron mayor dificultad? [Algebra]',\n",
    "    'Indicanos el nivel de dificultad que te generaron las materias del CBC [Matemática]': '¿Cuál o cuáles materias del CBC te generaron mayor dificultad? [Matemática]',\n",
    "    'Indicanos el nivel de dificultad que te generaron las materias del CBC [Física]': '¿Cuál o cuáles materias del CBC te generaron mayor dificultad? [Fisica]',\n",
    "    'Indicanos el nivel de dificultad que te generaron las materias del CBC [Química]': '¿Cuál o cuáles materias del CBC te generaron mayor dificultad? [Quimica]',\n",
    "    'Indicanos el nivel de dificultad que te generaron las materias del CBC [Biología]': '¿Cuál o cuáles materias del CBC te generaron mayor dificultad? [Biología]'\n",
    "}\n",
    "\n",
    "# Renombrar las columnas\n",
    "primer_c_2024_1_v2.rename(columns=renombrar_columnas, inplace=True)\n",
    "segundo_c_2024_1_v2.rename(columns=renombrar_columnas, inplace=True)"
   ]
  },
  {
   "cell_type": "code",
   "execution_count": null,
   "metadata": {},
   "outputs": [],
   "source": [
    "# Diccionario de renombrado\n",
    "renombrar_columnas = {\n",
    "    '¿En caso de haber tenido dificultades, cómo las resolviste? ¿recurriste a alguien? [Tutores del CBC]': '¿Cómo resolviste estas dificultades, recurriste a alguien? [Tutores]',\n",
    "    '¿En caso de haber tenido dificultades, cómo las resolviste? ¿recurriste a alguien? [Compañeras/os de estudio]': '¿Cómo resolviste estas dificultades, recurriste a alguien? [Compañeras/os de estudio]',\n",
    "    '¿En caso de haber tenido dificultades, cómo las resolviste? ¿recurriste a alguien? [Profesor/es particular/es]': '¿Cómo resolviste estas dificultades, recurriste a alguien? [Profesor/es particular/es]',\n",
    "    '¿En caso de haber tenido dificultades, cómo las resolviste? ¿recurriste a alguien? [Familiares]': '¿Cómo resolviste estas dificultades, recurriste a alguien? [Familiares]',\n",
    "    '¿En caso de haber tenido dificultades, cómo las resolviste? ¿recurriste a alguien? [Amigos]': '¿Cómo resolviste estas dificultades, recurriste a alguien? [Amigos]',\n",
    "    '¿En caso de haber tenido dificultades, cómo las resolviste? ¿recurriste a alguien? [Lo resolví por mi cuenta]': '¿Cómo resolviste estas dificultades, recurriste a alguien? [Lo resolví por mi cuenta]',\n",
    "    '¿En caso de haber tenido dificultades, cómo las resolviste? ¿recurriste a alguien? [Otro]': '¿Cómo resolviste estas dificultades, recurriste a alguien? [Otro]',\n",
    "    'Indicá la carrera y en que universidad cursaste\\xa0': 'Indicá la carrera y en que universidad cursaste',\n",
    "    '¿Cual es la ocupación del/a principal sosten de tu hogar? [Otro]': '¿Cual es la ocupacion del/a principal sosten de tu hogar? [Otro]',\n",
    "    '¿Cual es la ocupación del/a principal sosten de tu hogar?': '¿Cual es la ocupacion del/a principal sosten de tu hogar?'\n",
    "}\n",
    "\n",
    "# Renombrar las columnas\n",
    "primer_c_2024_1_v2.rename(columns=renombrar_columnas, inplace=True)\n",
    "segundo_c_2024_1_v2.rename(columns=renombrar_columnas, inplace=True)"
   ]
  },
  {
   "cell_type": "markdown",
   "metadata": {},
   "source": [
    "Me fijo que todos quedaran con los mismos nombres de columnas"
   ]
  },
  {
   "cell_type": "code",
   "execution_count": null,
   "metadata": {},
   "outputs": [],
   "source": [
    "# Obtener las columnas de cada dataset como sets\n",
    "cols1 = set(encuesta_2c_2023_v2.columns)\n",
    "cols2 = set(primer_c_2024_1_v2.columns)\n",
    "cols3 = set(segundo_c_2024_1_v2.columns)\n",
    "\n",
    "# Ver si todos tienen las mismas columnas\n",
    "if cols1 == cols2 == cols3:\n",
    "    print(\"Todos los datasets tienen las mismas columnas.\")\n",
    "else:\n",
    "    print(\"Hay diferencias en las columnas:\")\n",
    "    print(\"Columnas en df1 pero no en df2:\", cols1 - cols2)\n",
    "    print(\"Columnas en df2 pero no en df1:\", cols2 - cols1)\n",
    "    print(\"Columnas en df1 pero no en df3:\", cols1 - cols3)\n",
    "    print(\"Columnas en df3 pero no en df1:\", cols3 - cols1)\n",
    "    print(\"Columnas en df2 pero no en df3:\", cols2 - cols3)\n",
    "    print(\"Columnas en df3 pero no en df2:\", cols3 - cols2)"
   ]
  },
  {
   "cell_type": "code",
   "execution_count": null,
   "metadata": {},
   "outputs": [],
   "source": [
    "encuesta_2c_2023_v2[\"origen\"] = \"2c2023\"\n",
    "primer_c_2024_1_v2[\"origen\"] = \"1c2024\"\n",
    "segundo_c_2024_1_v2[\"origen\"] = \"2c2024\""
   ]
  },
  {
   "cell_type": "code",
   "execution_count": null,
   "metadata": {},
   "outputs": [],
   "source": [
    "# Unir los tres datasets\n",
    "df_concatenado = pd.concat([encuesta_2c_2023_v2, primer_c_2024_1_v2, segundo_c_2024_1_v2], ignore_index=True)\n",
    "\n",
    "# Verificá el resultado\n",
    "print(df_concatenado.shape)\n",
    "df_concatenado.head()"
   ]
  },
  {
   "cell_type": "code",
   "execution_count": null,
   "metadata": {},
   "outputs": [],
   "source": [
    "df_concatenado.dtypes"
   ]
  },
  {
   "cell_type": "code",
   "execution_count": null,
   "metadata": {},
   "outputs": [],
   "source": [
    "df_concatenado.to_csv('../../../assets/silver/encuestas_unificadas/encuestas_concatenadas.csv', index=False)"
   ]
  }
 ],
 "metadata": {
  "kernelspec": {
   "display_name": ".venv",
   "language": "python",
   "name": "python3"
  },
  "language_info": {
   "codemirror_mode": {
    "name": "ipython",
    "version": 3
   },
   "file_extension": ".py",
   "mimetype": "text/x-python",
   "name": "python",
   "nbconvert_exporter": "python",
   "pygments_lexer": "ipython3",
   "version": "3.11.9"
  }
 },
 "nbformat": 4,
 "nbformat_minor": 2
}

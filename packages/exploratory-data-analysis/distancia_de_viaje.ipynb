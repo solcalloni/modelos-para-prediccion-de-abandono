{
 "cells": [
  {
   "cell_type": "code",
   "execution_count": null,
   "metadata": {},
   "outputs": [],
   "source": [
    "import pandas as pd\n",
    "import helpers_cbc\n",
    "from helpers_eda_inicial import initial_eda\n",
    "import numpy as np\n",
    "import datetime\n",
    "import time\n",
    "import googlemaps\n",
    "import calendar\n",
    "import matplotlib.pyplot as plt"
   ]
  },
  {
   "cell_type": "code",
   "execution_count": null,
   "metadata": {},
   "outputs": [],
   "source": [
    "CBC = '../../assets/bronze/CBC/Sitacad_Tesis (1).xlsx'\n",
    "# Load the data\n",
    "xls = pd.ExcelFile(CBC)\n",
    "for sheet_name in xls.sheet_names:\n",
    "    print(sheet_name)\n",
    "\n",
    "df_calificaciones = pd.read_excel(CBC, sheet_name='Calificaciones')\n",
    "df_calificaciones = helpers_cbc.normalize_column_values(df_calificaciones, ['Carrera', 'Dirección', 'Localidad', 'dominio email', 'Materia', 'Nota', 'UBA XXI', 'Es materia FCEN?'])"
   ]
  },
  {
   "cell_type": "code",
   "execution_count": null,
   "metadata": {},
   "outputs": [],
   "source": [
    "df_calificaciones"
   ]
  },
  {
   "cell_type": "markdown",
   "metadata": {},
   "source": [
    "El objetivo de este notebook es probar la API de Google para poder calcular el tiempo de viaje de cada uno de los alumnos. El punto de partida sería la dirección en la columna Dirección."
   ]
  },
  {
   "cell_type": "code",
   "execution_count": null,
   "metadata": {},
   "outputs": [],
   "source": [
    "initial_eda(df_calificaciones)"
   ]
  },
  {
   "cell_type": "markdown",
   "metadata": {},
   "source": [
    "Para la prueba que queremos hacer, lo que me interesa son las columnas direccion y localidad. Puedo quedarme con esas columnas junto con el DNI, luego puedo mergear ambos datasets en función del DNI."
   ]
  },
  {
   "cell_type": "code",
   "execution_count": null,
   "metadata": {},
   "outputs": [],
   "source": [
    "df_direcciones = pd.read_csv('../../assets/silver/enviados/datos_cbc_2020_2025.csv')\n",
    "df_direcciones.columns"
   ]
  },
  {
   "cell_type": "code",
   "execution_count": null,
   "metadata": {},
   "outputs": [],
   "source": [
    "df_direcciones = df_direcciones[['Dni', 'Dirección', 'Localidad']]"
   ]
  },
  {
   "cell_type": "code",
   "execution_count": null,
   "metadata": {},
   "outputs": [],
   "source": [
    "df_direcciones.shape"
   ]
  },
  {
   "cell_type": "markdown",
   "metadata": {},
   "source": [
    "La cantidad de datos faltantes disminuyó porque ahora cada alumno aparece una unica vez."
   ]
  },
  {
   "cell_type": "code",
   "execution_count": null,
   "metadata": {},
   "outputs": [],
   "source": [
    "df_direcciones.isnull().sum()"
   ]
  },
  {
   "cell_type": "code",
   "execution_count": null,
   "metadata": {},
   "outputs": [],
   "source": [
    "df_direcciones['Dirección']"
   ]
  },
  {
   "cell_type": "code",
   "execution_count": null,
   "metadata": {},
   "outputs": [],
   "source": [
    "df_direcciones['Localidad'].unique()"
   ]
  },
  {
   "cell_type": "code",
   "execution_count": null,
   "metadata": {},
   "outputs": [],
   "source": [
    "df_direcciones[df_direcciones['Localidad']=='0']"
   ]
  },
  {
   "cell_type": "markdown",
   "metadata": {},
   "source": [
    "Reemplazo los 0 por null"
   ]
  },
  {
   "cell_type": "code",
   "execution_count": null,
   "metadata": {},
   "outputs": [],
   "source": [
    "df_direcciones['Localidad'] = df_direcciones['Localidad'].replace('0', np.nan)\n",
    "df_direcciones['Dirección'] = df_direcciones['Dirección'].replace('0', np.nan)"
   ]
  },
  {
   "cell_type": "code",
   "execution_count": null,
   "metadata": {},
   "outputs": [],
   "source": [
    "df_direcciones[df_direcciones['Localidad'].isnull()][~df_direcciones['Dirección'].isnull()]"
   ]
  },
  {
   "cell_type": "code",
   "execution_count": null,
   "metadata": {},
   "outputs": [],
   "source": [
    "df_direcciones[df_direcciones['Dirección'].isnull()][~df_direcciones['Localidad'].isnull()]"
   ]
  },
  {
   "cell_type": "code",
   "execution_count": null,
   "metadata": {},
   "outputs": [],
   "source": [
    "df_direcciones['Localidad'] = df_direcciones['Localidad'].replace('NO RESIDENTE', np.nan)"
   ]
  },
  {
   "cell_type": "code",
   "execution_count": null,
   "metadata": {},
   "outputs": [],
   "source": [
    "initial_eda(df_direcciones)"
   ]
  },
  {
   "cell_type": "markdown",
   "metadata": {},
   "source": [
    "## Probando la API"
   ]
  },
  {
   "cell_type": "code",
   "execution_count": null,
   "metadata": {},
   "outputs": [],
   "source": [
    "with open('../../secrets/credential.txt', 'r') as file:\n",
    "    API_KEY = file.read().strip()\n",
    "gmaps = googlemaps.Client(key=API_KEY)"
   ]
  },
  {
   "cell_type": "code",
   "execution_count": null,
   "metadata": {},
   "outputs": [],
   "source": [
    "origin = \"Avenida Corrientes 123\"\n",
    "destination = \"Intendente Güiraldes 2160, Ciudad Universitaria, Pabellón 2, Facultad de Ciencias Exactas y Naturales. Universidad de Buenos Aires. Argentina \"\n",
    "\n",
    "# Llamada al Distance Matrix API\n",
    "result = gmaps.distance_matrix(origins=origin,\n",
    "                               destinations=destination,\n",
    "                               mode=\"transit\", #le decimos que usamos el transporte publico\n",
    "                               departure_time=\"now\", # \"now\" para tiempo en tráfico\n",
    "                               region = \".ar\")  \n",
    "\n",
    "# Extraer duración\n",
    "element = result[\"rows\"][0][\"elements\"][0]\n",
    "duracion_texto = element[\"duration\"][\"text\"]\n",
    "duracion_segundos = element[\"duration\"][\"value\"]\n",
    "print(f\"Tiempo de viaje: {duracion_texto} ({duracion_segundos} segundos)\")"
   ]
  },
  {
   "cell_type": "code",
   "execution_count": null,
   "metadata": {},
   "outputs": [],
   "source": [
    "result"
   ]
  },
  {
   "cell_type": "code",
   "execution_count": null,
   "metadata": {},
   "outputs": [],
   "source": [
    "element"
   ]
  },
  {
   "cell_type": "markdown",
   "metadata": {},
   "source": [
    "Para ciudad universitaria, pabellon 1, podemos usar el Place ID: ChIJRWvgB0i0vJURVpNj15qjgcM\n",
    "\n",
    "Lo conseguimos en la pagina https://developers.google.com/maps/documentation/places/web-service/place-id?hl=es-419"
   ]
  },
  {
   "cell_type": "code",
   "execution_count": null,
   "metadata": {},
   "outputs": [],
   "source": [
    "origin = \"Avenida Corrientes 123\"\n",
    "place_id_destino = \"ChIJRWvgB0i0vJURVpNj15qjgcM\"\n",
    "\n",
    "# Llamada al Distance Matrix API\n",
    "result = gmaps.distance_matrix(origins=origin,\n",
    "                               destinations=[f\"place_id:{place_id_destino}\"],\n",
    "                               mode=\"transit\", #le decimos que usamos el transporte publico\n",
    "                               departure_time=\"now\", # \"now\" para tiempo en tráfico\n",
    "                               region = \"AR\")  \n",
    "\n",
    "# Extraer duración\n",
    "element = result[\"rows\"][0][\"elements\"][0]\n",
    "duracion_texto = element[\"duration\"][\"text\"]\n",
    "duracion_segundos = element[\"duration\"][\"value\"]\n",
    "print(f\"Tiempo de viaje: {duracion_texto} ({duracion_segundos} segundos)\")"
   ]
  },
  {
   "cell_type": "code",
   "execution_count": null,
   "metadata": {},
   "outputs": [],
   "source": [
    "result"
   ]
  },
  {
   "cell_type": "code",
   "execution_count": null,
   "metadata": {},
   "outputs": [],
   "source": [
    "geo = gmaps.geocode(f\"place_id:ChIJMU0kiZ61vJURhkda1IVf9-0\")\n",
    "print(geo)"
   ]
  },
  {
   "cell_type": "markdown",
   "metadata": {},
   "source": [
    "Probamos usando el Plus Code: FH46+76 Buenos Aires, Cdad. Autónoma de Buenos Aires\n",
    "\n",
    "Lo sacamos directamente de Google Maps."
   ]
  },
  {
   "cell_type": "code",
   "execution_count": null,
   "metadata": {},
   "outputs": [],
   "source": [
    "origin = \"Bulnes - 1000, Palermo\"\n",
    "plus_code_destino = \"FH46+76 Buenos Aires, Cdad. Autónoma de Buenos Aires\"\n",
    "\n",
    "# Llamada al Distance Matrix API\n",
    "result = gmaps.distance_matrix(origins=origin,\n",
    "                               destinations=plus_code_destino,\n",
    "                               mode=\"transit\", #le decimos que usamos el transporte publico\n",
    "                               departure_time=\"now\", # \"now\" para tiempo en tráfico\n",
    "                               region = \"AR\")  \n",
    "\n",
    "# Extraer duración\n",
    "element = result[\"rows\"][0][\"elements\"][0]\n",
    "duracion_texto = element[\"duration\"][\"text\"]\n",
    "duracion_segundos = element[\"duration\"][\"value\"]\n",
    "print(f\"Tiempo de viaje: {duracion_texto} ({duracion_segundos} segundos)\")"
   ]
  },
  {
   "cell_type": "markdown",
   "metadata": {},
   "source": [
    "Vemos que ahora sí nos devuelve el lugar correcto. En los otros intentos reemplazaba el destination_addresses por otros más genericos. A su vez, notamos que es importante incluir la localidad en el origen, pues sin la aclaración de \"Palermo\" identificaba otra calle Guemes."
   ]
  },
  {
   "cell_type": "code",
   "execution_count": null,
   "metadata": {},
   "outputs": [],
   "source": [
    "result"
   ]
  },
  {
   "cell_type": "markdown",
   "metadata": {},
   "source": [
    "## Con los datos de la FCEN"
   ]
  },
  {
   "cell_type": "markdown",
   "metadata": {},
   "source": [
    "Me avisaron que nosotros vamos a tener código postal, localidad, departamento y provincia (y a su vez sabemos que hablamos de Argentina)"
   ]
  },
  {
   "cell_type": "code",
   "execution_count": null,
   "metadata": {},
   "outputs": [],
   "source": [
    "codigo_postal= \"C1425\"\n",
    "localidad= \"Palermo\"\n",
    "departamento= \"CABA\"  # equivale a administrative_area_level_1\n",
    "provincia= \"Buenos Aires\"\n",
    "\n",
    "direccion = f\"{codigo_postal}, {localidad}, {departamento}, {provincia}, Argentina\"\n",
    "resp = gmaps.geocode(direccion)"
   ]
  },
  {
   "cell_type": "code",
   "execution_count": null,
   "metadata": {},
   "outputs": [],
   "source": [
    "resp"
   ]
  },
  {
   "cell_type": "code",
   "execution_count": null,
   "metadata": {},
   "outputs": [],
   "source": [
    "loc = resp[0][\"geometry\"][\"location\"]"
   ]
  },
  {
   "cell_type": "code",
   "execution_count": null,
   "metadata": {},
   "outputs": [],
   "source": [
    "loc"
   ]
  },
  {
   "cell_type": "markdown",
   "metadata": {},
   "source": [
    "Me fije en google maps y estaba bastante bien. Veamos cómo le pasamos eso a distance_matrix"
   ]
  },
  {
   "cell_type": "code",
   "execution_count": null,
   "metadata": {},
   "outputs": [],
   "source": [
    "lat_origen, lng_origen = loc[\"lat\"], loc[\"lng\"]\n",
    "print(f\"Origen en: {lat_origen}, {lng_origen}\")"
   ]
  },
  {
   "cell_type": "code",
   "execution_count": null,
   "metadata": {},
   "outputs": [],
   "source": [
    "# 2.1 Definir origen y destino\n",
    "origins      = [(lat_origen, lng_origen)]            # lista de tuplas lat/lng\n",
    "plus_code_destino = \"FH46+76 Buenos Aires, Cdad. Autónoma de Buenos Aires\" # o place_id:<TU_ID> o plus code\n",
    "\n",
    "# 2.2 Hacer la petición\n",
    "result = gmaps.distance_matrix(\n",
    "    origins=origins,\n",
    "    destinations=plus_code_destino,\n",
    "    mode=\"transit\",                # modo: driving, walking, transit...\n",
    "    departure_time=\"now\", # 'now' para tráfico real en driving\n",
    "    region=\"AR\"                    # sesgo geográfico ISO-3166-1 alpha-2\n",
    ")"
   ]
  },
  {
   "cell_type": "code",
   "execution_count": null,
   "metadata": {},
   "outputs": [],
   "source": [
    "# Navegar la estructura de la respuesta\n",
    "element = result[\"rows\"][0][\"elements\"][0]\n",
    "\n",
    "dist_text = element[\"distance\"][\"text\"]   # ej. \"10.1 km\"\n",
    "dist_val  = element[\"distance\"][\"value\"]  # metros, ej. 10106\n",
    "\n",
    "dur_text  = element[\"duration\"][\"text\"]   # ej. \"37 mins\"\n",
    "dur_val   = element[\"duration\"][\"value\"]  # segundos, ej. 2240\n",
    "\n",
    "print(f\"Distancia: {dist_text} ({dist_val} m)\")\n",
    "print(f\"Duración: {dur_text} ({dur_val} s)\")\n"
   ]
  },
  {
   "cell_type": "markdown",
   "metadata": {},
   "source": [
    "Probamos otro ejemplo:\n",
    "\n",
    "En este caso el lugar queda a más de una hora y devuelve un texto distinto, entonces va a ser mejor trabajar con los segundos que devuelve y nosotros lo podemos transformar a minutos."
   ]
  },
  {
   "cell_type": "code",
   "execution_count": null,
   "metadata": {},
   "outputs": [],
   "source": [
    "#Conseguimos latitud y longitud de la dirección\n",
    "codigo_postal= \"C1407\"\n",
    "localidad= \"Parque Avellaneda\"\n",
    "departamento= \"CABA\"  # equivale a administrative_area_level_1\n",
    "provincia= \"Buenos Aires\"\n",
    "\n",
    "direccion = f\"{codigo_postal}, {localidad}, {departamento}, {provincia}, Argentina\"\n",
    "resp = gmaps.geocode(direccion)\n",
    "loc = resp[0][\"geometry\"][\"location\"]\n",
    "lat_origen, lng_origen = loc[\"lat\"], loc[\"lng\"]\n",
    "print(f\"Origen en: {lat_origen}, {lng_origen}\")\n",
    "\n",
    "# Conseguimos el tiempo de viaje\n",
    "# 2.1 Definir origen y destino\n",
    "origins      = [(lat_origen, lng_origen)]            # lista de tuplas lat/lng\n",
    "plus_code_destino = \"FH46+76 Buenos Aires, Cdad. Autónoma de Buenos Aires\" # o place_id:<TU_ID> o plus code\n",
    "\n",
    "# 2.2 Hacer la petición\n",
    "result = gmaps.distance_matrix(\n",
    "    origins=origins,\n",
    "    destinations=plus_code_destino,\n",
    "    mode=\"transit\",                # modo: driving, walking, transit...\n",
    "    departure_time=\"now\", # 'now' para tráfico real en driving\n",
    "    region=\"AR\"                    # sesgo geográfico ISO-3166-1 alpha-2\n",
    ")\n",
    "# Navegar la estructura de la respuesta\n",
    "element = result[\"rows\"][0][\"elements\"][0]\n",
    "\n",
    "dist_text = element[\"distance\"][\"text\"]   # ej. \"10.1 km\"\n",
    "dist_val  = element[\"distance\"][\"value\"]  # metros, ej. 10106\n",
    "\n",
    "dur_text  = element[\"duration\"][\"text\"]   # ej. \"37 mins\"\n",
    "dur_val   = element[\"duration\"][\"value\"]  # segundos, ej. 2240\n",
    "\n",
    "print(f\"Distancia: {dist_text} ({dist_val} m)\")\n",
    "print(f\"Duración: {dur_text} ({dur_val} s)\")"
   ]
  },
  {
   "cell_type": "code",
   "execution_count": null,
   "metadata": {},
   "outputs": [],
   "source": [
    "codigo_postal= \"6000\"\n",
    "localidad= \"JUNIN\"\n",
    "departamento= \"Junin\"  # equivale a administrative_area_level_1\n",
    "provincia= \"Buenos Aires\"\n",
    "\n",
    "dia_llegada = datetime.datetime(2025, 5, 26, 9, 0)\n",
    "arrival_time = calendar.timegm(dia_llegada.utctimetuple())\n",
    "\n",
    "direccion = f\"{localidad}, {codigo_postal}, {departamento}, {provincia}, Argentina\"\n",
    "plus_code_destino = \"FH46+76 Buenos Aires, Cdad. Autónoma de Buenos Aires\" # o place_id:<TU_ID> o plus code\n",
    "# 2.2 Hacer la petición\n",
    "result = gmaps.distance_matrix(\n",
    "    origins=direccion,\n",
    "    destinations=plus_code_destino,\n",
    "    mode=\"transit\",                # modo: driving, walking, transit...\n",
    "    departure_time=arrival_time, # 'now' para tráfico real en driving\n",
    "    region=\"AR\"                    # sesgo geográfico ISO-3166-1 alpha-2\n",
    ")\n",
    "# Navegar la estructura de la respuesta\n",
    "element = result[\"rows\"][0][\"elements\"][0]\n",
    "\n",
    "dist_text = element[\"distance\"][\"text\"]   # ej. \"10.1 km\"\n",
    "dist_val  = element[\"distance\"][\"value\"]  # metros, ej. 10106\n",
    "\n",
    "dur_text  = element[\"duration\"][\"text\"]   # ej. \"37 mins\"\n",
    "dur_val   = element[\"duration\"][\"value\"]  # segundos, ej. 2240\n",
    "\n",
    "print(f\"Distancia: {dist_text} ({dist_val} m)\")\n",
    "print(f\"Duración: {dur_text} ({dur_val} s)\")"
   ]
  },
  {
   "cell_type": "code",
   "execution_count": null,
   "metadata": {},
   "outputs": [],
   "source": [
    "result"
   ]
  },
  {
   "cell_type": "code",
   "execution_count": null,
   "metadata": {},
   "outputs": [],
   "source": [
    "arrival_time"
   ]
  },
  {
   "cell_type": "markdown",
   "metadata": {},
   "source": [
    "Definimos una función con la que podríamos hacer el calculo:"
   ]
  },
  {
   "cell_type": "code",
   "execution_count": null,
   "metadata": {},
   "outputs": [],
   "source": [
    "def distancia_de_viaje_cod_postal(localidad, codigo_postal, departamento, provincia, dia_llegada):\n",
    "    print(\"entre\")\n",
    "    direccion = f\"{codigo_postal}, {localidad}, {departamento}, {provincia}, Argentina\"\n",
    "    plus_code_destino = \"FH46+76 Buenos Aires, Cdad. Autónoma de Buenos Aires\" # o place_id:<TU_ID> o plus code\n",
    "    # 2.2 Hacer la petición\n",
    "    result = gmaps.distance_matrix(\n",
    "        origins=direccion,\n",
    "        destinations=plus_code_destino,\n",
    "        mode=\"transit\",                # modo: driving, walking, transit...\n",
    "        arrival_time=dia_llegada, # 'now' para tráfico real en driving\n",
    "        region=\"AR\"                    # sesgo geográfico ISO-3166-1 alpha-2\n",
    "    )\n",
    "    # Extraer duración\n",
    "    element = result[\"rows\"][0][\"elements\"][0]\n",
    "    print(element)\n",
    "    if element[\"status\"] == \"OK\":\n",
    "        duracion_texto = element[\"duration\"][\"text\"]\n",
    "        duracion_segundos = element[\"duration\"][\"value\"]\n",
    "        print(f\"Tiempo de viaje: {duracion_texto} ({duracion_segundos} segundos)\")\n",
    "        return duracion_segundos\n",
    "    else:\n",
    "        return None  # o manejar errores según convenga"
   ]
  },
  {
   "cell_type": "code",
   "execution_count": null,
   "metadata": {},
   "outputs": [],
   "source": [
    "personas = pd.read_csv('../../assets/silver/data_utilizada/personas_con_target.csv')\n",
    "personas.head(5)"
   ]
  },
  {
   "cell_type": "code",
   "execution_count": null,
   "metadata": {},
   "outputs": [],
   "source": [
    "personas.shape"
   ]
  },
  {
   "cell_type": "code",
   "execution_count": null,
   "metadata": {},
   "outputs": [],
   "source": [
    "personas_datos_direccion = personas[['dni', 'localidad', 'codigo_postal', 'departamento', 'provincia', 'pais']]\n",
    "personas_datos_direccion.head(5)"
   ]
  },
  {
   "cell_type": "code",
   "execution_count": null,
   "metadata": {},
   "outputs": [],
   "source": [
    "personas_datos_direccion.drop_duplicates(inplace=True)"
   ]
  },
  {
   "cell_type": "code",
   "execution_count": null,
   "metadata": {},
   "outputs": [],
   "source": [
    "personas_datos_direccion['codigo_postal'] = personas_datos_direccion['codigo_postal'].astype('Int64')"
   ]
  },
  {
   "cell_type": "code",
   "execution_count": null,
   "metadata": {},
   "outputs": [],
   "source": [
    "personas_datos_direccion.head(5)"
   ]
  },
  {
   "cell_type": "code",
   "execution_count": null,
   "metadata": {},
   "outputs": [],
   "source": [
    "# Nos quedamos con las filas donde todas las columnas excepto 'dni' son nulas\n",
    "personas_datos_direccion = personas_datos_direccion[~personas_datos_direccion.drop(columns='dni').isna().all(axis=1)]"
   ]
  },
  {
   "cell_type": "code",
   "execution_count": null,
   "metadata": {},
   "outputs": [],
   "source": [
    "personas_datos_direccion.shape"
   ]
  },
  {
   "cell_type": "code",
   "execution_count": null,
   "metadata": {},
   "outputs": [],
   "source": [
    "personas_datos_direccion.isnull().sum()"
   ]
  },
  {
   "cell_type": "code",
   "execution_count": null,
   "metadata": {},
   "outputs": [],
   "source": [
    "personas_datos_direccion['pais'].value_counts()"
   ]
  },
  {
   "cell_type": "code",
   "execution_count": null,
   "metadata": {},
   "outputs": [],
   "source": [
    "personas_datos_direccion = personas_datos_direccion[personas_datos_direccion['pais'] == 'Argentina']"
   ]
  },
  {
   "cell_type": "code",
   "execution_count": null,
   "metadata": {},
   "outputs": [],
   "source": [
    "personas_datos_direccion = personas_datos_direccion[~personas_datos_direccion['codigo_postal'].isnull()]"
   ]
  },
  {
   "cell_type": "code",
   "execution_count": null,
   "metadata": {},
   "outputs": [],
   "source": [
    "personas_datos_direccion['codigo_postal'].unique()"
   ]
  },
  {
   "cell_type": "code",
   "execution_count": null,
   "metadata": {},
   "outputs": [],
   "source": [
    "personas_datos_direccion.head(5)"
   ]
  },
  {
   "cell_type": "code",
   "execution_count": null,
   "metadata": {},
   "outputs": [],
   "source": [
    "personas_datos_direccion.reset_index(drop=True, inplace=True)"
   ]
  },
  {
   "cell_type": "code",
   "execution_count": null,
   "metadata": {},
   "outputs": [],
   "source": [
    "personas_datos_direccion_prueba = personas_datos_direccion[personas_datos_direccion['dni'] == '45617841'].copy()"
   ]
  },
  {
   "cell_type": "code",
   "execution_count": null,
   "metadata": {},
   "outputs": [],
   "source": [
    "# No lo debería correr hasta que sepa bien qué valor poner en el horario de partida: departure_time\n",
    "dia_llegada = datetime.datetime(2025, 5, 26, 17, 0)  # Martes 6 de mayo 2025, 9:00 am\n",
    "arrival_time = int(time.mktime(dia_llegada.timetuple()))\n",
    "for index, row in personas_datos_direccion.iterrows():\n",
    "    localidad = row['localidad']\n",
    "    codigo_postal = row['codigo_postal']\n",
    "    departamento = row['departamento']\n",
    "    provincia = row['provincia']\n",
    "    duracion = distancia_de_viaje_cod_postal(localidad, codigo_postal, departamento, provincia, arrival_time)\n",
    "    personas_datos_direccion.loc[index, 'duracion_tarde'] = duracion\n",
    "    print(f\"Vamos por el index {index}\")\n",
    "    print(f\"Localidad: {localidad}, Codigo Postal: {codigo_postal}, Departamento: {departamento}, Provincia: {provincia} , Duración: {duracion}\")"
   ]
  },
  {
   "cell_type": "code",
   "execution_count": null,
   "metadata": {},
   "outputs": [],
   "source": [
    "personas_datos_direccion.head(5)"
   ]
  },
  {
   "cell_type": "code",
   "execution_count": null,
   "metadata": {},
   "outputs": [],
   "source": [
    "personas_datos_direccion.to_csv('../../assets/silver/data_utilizada/datos_fcen_tiempo_viaje_tarde.csv', index=False)"
   ]
  },
  {
   "cell_type": "code",
   "execution_count": null,
   "metadata": {},
   "outputs": [],
   "source": [
    "personas_datos_direccion.boxplot(column='duracion_manana')\n",
    "plt.show()"
   ]
  },
  {
   "cell_type": "code",
   "execution_count": null,
   "metadata": {},
   "outputs": [],
   "source": [
    "# haceme un histograma de la columna 'duracion_manana' de personas_datos_direccion\n",
    "personas_datos_direccion.hist(column='duracion_manana', bins=50)\n",
    "plt.xlabel('Duración (segundos)')\n",
    "plt.ylabel('Frecuencia')\n",
    "plt.title('Histograma de Duración del Viaje')\n",
    "plt.show()"
   ]
  },
  {
   "cell_type": "code",
   "execution_count": null,
   "metadata": {},
   "outputs": [],
   "source": [
    "# haceme un histograma de la columna 'duracion_manana' de personas_datos_direccion\n",
    "personas_datos_direccion[personas_datos_direccion['duracion_manana'] < 14400].hist(column='duracion_manana', bins=50)\n",
    "plt.xlabel('Duración (segundos)')\n",
    "plt.ylabel('Frecuencia')\n",
    "plt.title('Histograma de Duración del Viaje')\n",
    "plt.show()"
   ]
  },
  {
   "cell_type": "markdown",
   "metadata": {},
   "source": [
    "## Con los datos del CBC"
   ]
  },
  {
   "cell_type": "code",
   "execution_count": null,
   "metadata": {},
   "outputs": [],
   "source": [
    "#Sacamos las filas que tienen valor nulo en ambas columnas\n",
    "df_direcciones_sin_nulos = df_direcciones.dropna(subset=['Dirección', 'Localidad'], how='all')"
   ]
  },
  {
   "cell_type": "markdown",
   "metadata": {},
   "source": [
    "Nos interesa probar de calcular el tiempo de viaje en los casos donde solo tenemos la dirección."
   ]
  },
  {
   "cell_type": "code",
   "execution_count": null,
   "metadata": {},
   "outputs": [],
   "source": [
    "df_direcciones_sin_nulos.isnull().sum()"
   ]
  },
  {
   "cell_type": "markdown",
   "metadata": {},
   "source": [
    "Definimos una función que calcule la distancia de “{Dirección}, {Localidad}, Argentina” a Ciudad Universitaria."
   ]
  },
  {
   "cell_type": "code",
   "execution_count": null,
   "metadata": {},
   "outputs": [],
   "source": [
    "def distancia_de_viaje_direccion_y_localidad(direccion, localidad, horario_llegada, gmaps):\n",
    "    origin = f\"{direccion}, {localidad}, Argentina\"\n",
    "    plus_code_destino = \"FH46+76 Buenos Aires, Cdad. Autónoma de Buenos Aires\"\n",
    "\n",
    "    # Llamada al Distance Matrix API\n",
    "    result = gmaps.distance_matrix(origins=origin,\n",
    "                                destinations=plus_code_destino,\n",
    "                                mode=\"transit\", #le decimos que usamos el transporte publico\n",
    "                                arrival_time=horario_llegada, # \"now\" para tiempo en tráfico\n",
    "                                region = \"AR\")  \n",
    "\n",
    "    # Extraer duración\n",
    "    element = result[\"rows\"][0][\"elements\"][0]\n",
    "    if element[\"status\"] == \"OK\":\n",
    "        duracion_texto = element[\"duration\"][\"text\"]\n",
    "        duracion_segundos = element[\"duration\"][\"value\"]\n",
    "        print(f\"Tiempo de viaje: {duracion_texto} ({duracion_segundos} segundos)\")\n",
    "        return duracion_segundos\n",
    "    else:\n",
    "        return None  # o manejar errores según convenga"
   ]
  },
  {
   "cell_type": "code",
   "execution_count": null,
   "metadata": {},
   "outputs": [],
   "source": [
    "# No lo debería correr hasta que sepa bien qué valor poner en el horario de partida: departure_time\n",
    "dia_llegada = datetime.datetime(2025, 5, 6, 9, 0)  # Martes 6 de mayo 2025, 9:00 am\n",
    "arrival_time = int(time.mktime(dia_llegada.timetuple()))\n",
    "for index, row in df_direcciones_sin_nulos.iterrows():\n",
    "    direccion = row['Dirección']\n",
    "    localidad = row['Localidad']\n",
    "    #duracion = distancia_de_viaje_direccion_y_localidad(direccion, localidad, arrival_time, gmaps) #lo comento por si corro la celda sin querer\n",
    "    df_direcciones_sin_nulos.loc[index, 'Duracion_manana'] = duracion\n",
    "    print(f\"Vamos por el index {index}\")\n",
    "    print(f\"Dirección: {direccion}, Localidad: {localidad}, Duración: {duracion}\")"
   ]
  },
  {
   "cell_type": "code",
   "execution_count": null,
   "metadata": {},
   "outputs": [],
   "source": [
    "#df_direcciones_sin_nulos.to_csv('../../assets/silver/distancia_viaje_cbc.csv', index=False)"
   ]
  },
  {
   "cell_type": "code",
   "execution_count": null,
   "metadata": {},
   "outputs": [],
   "source": [
    "df_direcciones_sin_nulos = df_direcciones_sin_nulos.drop(columns=['Duracion'])"
   ]
  },
  {
   "cell_type": "code",
   "execution_count": null,
   "metadata": {},
   "outputs": [],
   "source": [
    "#df_direcciones_sin_nulos.to_csv('../../assets/silver/distancia_viaje_cbc_solo_manana.csv', index=False)"
   ]
  },
  {
   "cell_type": "code",
   "execution_count": null,
   "metadata": {},
   "outputs": [],
   "source": [
    "df_direcciones_sin_nulos.isnull().sum()"
   ]
  },
  {
   "cell_type": "code",
   "execution_count": null,
   "metadata": {},
   "outputs": [],
   "source": [
    "df_direcciones_sin_nulos[df_direcciones_sin_nulos['Duracion_manana'].isnull()]"
   ]
  },
  {
   "cell_type": "code",
   "execution_count": null,
   "metadata": {},
   "outputs": [],
   "source": [
    "df_direcciones_sin_nulos.boxplot(column='Duracion_manana')\n",
    "plt.show()"
   ]
  },
  {
   "cell_type": "markdown",
   "metadata": {},
   "source": [
    "Los que tardan 3 días es porque es un grupo de 8 personas que vivían en Ushuaia."
   ]
  },
  {
   "cell_type": "code",
   "execution_count": null,
   "metadata": {},
   "outputs": [],
   "source": [
    "df_direcciones_sin_nulos[df_direcciones_sin_nulos['Duracion_manana'] > 300000].shape"
   ]
  },
  {
   "cell_type": "code",
   "execution_count": null,
   "metadata": {},
   "outputs": [],
   "source": [
    "df_direcciones_sin_nulos[df_direcciones_sin_nulos['Duracion_manana'] > 300000]"
   ]
  },
  {
   "cell_type": "markdown",
   "metadata": {},
   "source": [
    "Las personas uqe tardan más de un día, vuelve a tener sentido porque viven fuera de Buenos Aires."
   ]
  },
  {
   "cell_type": "code",
   "execution_count": null,
   "metadata": {},
   "outputs": [],
   "source": [
    "df_direcciones_sin_nulos[(df_direcciones_sin_nulos['Duracion_manana'] > 86400) & (df_direcciones_sin_nulos['Duracion_manana'] < 300000)]"
   ]
  },
  {
   "cell_type": "code",
   "execution_count": null,
   "metadata": {},
   "outputs": [],
   "source": [
    "df_direcciones_sin_nulos[(df_direcciones_sin_nulos['Duracion_manana'] > 43200) & (df_direcciones_sin_nulos['Duracion_manana'] < 86400)]['Localidad'].unique()"
   ]
  },
  {
   "cell_type": "code",
   "execution_count": null,
   "metadata": {},
   "outputs": [],
   "source": [
    "df_direcciones_sin_nulos[(df_direcciones_sin_nulos['Duracion_manana'] > 43200) & (df_direcciones_sin_nulos['Duracion_manana'] < 86400)]"
   ]
  },
  {
   "cell_type": "code",
   "execution_count": null,
   "metadata": {},
   "outputs": [],
   "source": [
    "df_direcciones_sin_nulos[(df_direcciones_sin_nulos['Duracion_manana'] > 14400) & (df_direcciones_sin_nulos['Duracion_manana'] < 43200)]['Localidad'].unique()"
   ]
  },
  {
   "cell_type": "code",
   "execution_count": null,
   "metadata": {},
   "outputs": [],
   "source": [
    "df_direcciones_sin_nulos[df_direcciones_sin_nulos['Localidad'].isnull()]"
   ]
  },
  {
   "cell_type": "markdown",
   "metadata": {},
   "source": [
    "Vemos que algunos de los casos donde devuelve null es porque realmente google maps no encuentra forma de llegar a ciudad universitaria utilizando el transporte público."
   ]
  },
  {
   "cell_type": "code",
   "execution_count": null,
   "metadata": {},
   "outputs": [],
   "source": [
    "df_direcciones_sin_nulos[df_direcciones_sin_nulos['Duracion_manana'].isnull()]"
   ]
  }
 ],
 "metadata": {
  "kernelspec": {
   "display_name": ".venv",
   "language": "python",
   "name": "python3"
  },
  "language_info": {
   "codemirror_mode": {
    "name": "ipython",
    "version": 3
   },
   "file_extension": ".py",
   "mimetype": "text/x-python",
   "name": "python",
   "nbconvert_exporter": "python",
   "pygments_lexer": "ipython3",
   "version": "3.11.9"
  }
 },
 "nbformat": 4,
 "nbformat_minor": 2
}

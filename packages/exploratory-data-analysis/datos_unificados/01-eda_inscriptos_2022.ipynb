{
 "cells": [
  {
   "cell_type": "code",
   "execution_count": null,
   "metadata": {},
   "outputs": [],
   "source": [
    "import sys\n",
    "sys.path.insert(0, '../')\n",
    "import pandas as pd\n",
    "import numpy as np\n",
    "import matplotlib.pyplot as plt\n",
    "import seaborn as sns\n",
    "from ydata_profiling import ProfileReport\n",
    "import io\n",
    "import tabulate\n",
    "import helpers_eda_inicial\n",
    "import helpers_cbc"
   ]
  },
  {
   "cell_type": "markdown",
   "metadata": {},
   "source": [
    "Primero me traigo todos los datasets"
   ]
  },
  {
   "cell_type": "code",
   "execution_count": null,
   "metadata": {},
   "outputs": [],
   "source": [
    "cbc, df_carreras = helpers_cbc.get_data('../../../assets/bronze/CBC/Sitacad_Tesis (1).xlsx')\n",
    "actas = pd.read_csv('../../../assets/bronze/FCEN/FCEN_oficial_v2/reportes_actas.csv')\n",
    "personas = pd.read_csv('../../../assets/bronze/FCEN/FCEN_oficial_v3/reporte_personas.csv')"
   ]
  },
  {
   "cell_type": "markdown",
   "metadata": {},
   "source": [
    "Cambio el tipo de dato del DNI en el CBC para que coincida con el tipo de datos de la FCEN"
   ]
  },
  {
   "cell_type": "code",
   "execution_count": 3,
   "metadata": {},
   "outputs": [],
   "source": [
    "cbc['Dni'] = cbc['Dni'].astype(str)\n",
    "actas['fecha'] = pd.to_datetime(actas['fecha'], format='%Y-%m-%d')\n",
    "actas['año'] = actas['fecha'].dt.year\n",
    "actas['mes'] = actas['fecha'].dt.month"
   ]
  },
  {
   "cell_type": "markdown",
   "metadata": {},
   "source": [
    "En función de lo trabajado en `packages/exploratory-data-analysis/FCEN/02-eda_buscando_target.ipynb` decidimos que vamos a trabajar con los inscriptos en 2022. Por lo tanto, me quedo con esos datos."
   ]
  },
  {
   "cell_type": "code",
   "execution_count": null,
   "metadata": {},
   "outputs": [],
   "source": [
    "personas.columns"
   ]
  },
  {
   "cell_type": "markdown",
   "metadata": {},
   "source": [
    "Vemos la cantidad de inscriptos por año"
   ]
  },
  {
   "cell_type": "code",
   "execution_count": null,
   "metadata": {},
   "outputs": [],
   "source": [
    "personas['año_inscripcion_facultad'].value_counts().sort_index()"
   ]
  },
  {
   "cell_type": "code",
   "execution_count": null,
   "metadata": {},
   "outputs": [],
   "source": [
    "print(personas.groupby('carrera_principal')['año_inscripcion_facultad'].value_counts().sort_index().to_markdown())"
   ]
  },
  {
   "cell_type": "markdown",
   "metadata": {},
   "source": [
    "Tomamos solamente las personas de 2022"
   ]
  },
  {
   "cell_type": "code",
   "execution_count": 7,
   "metadata": {},
   "outputs": [],
   "source": [
    "personas_2022 = personas[personas['año_inscripcion_facultad'] == 2022]"
   ]
  },
  {
   "cell_type": "markdown",
   "metadata": {},
   "source": [
    "Me guardo la lista de DNIs de las personas de 2022"
   ]
  },
  {
   "cell_type": "code",
   "execution_count": 8,
   "metadata": {},
   "outputs": [],
   "source": [
    "personas_2022_dnis = personas_2022['dni'].unique()"
   ]
  },
  {
   "cell_type": "code",
   "execution_count": null,
   "metadata": {},
   "outputs": [],
   "source": [
    "personas_2022_dnis.size"
   ]
  },
  {
   "cell_type": "markdown",
   "metadata": {},
   "source": [
    "Nos guardamos las actas de 2022"
   ]
  },
  {
   "cell_type": "code",
   "execution_count": 10,
   "metadata": {},
   "outputs": [],
   "source": [
    "actas_inscriptos_2022 = actas[actas['dni'].isin(personas_2022_dnis)]"
   ]
  },
  {
   "cell_type": "code",
   "execution_count": null,
   "metadata": {},
   "outputs": [],
   "source": [
    "actas_inscriptos_2022['dni'].nunique()"
   ]
  },
  {
   "cell_type": "markdown",
   "metadata": {},
   "source": [
    "Veo además que hay personas con actas anteriores a 2022, lo cual es extraño, pero podrían ser datos mal ingresados. El problema es que no son todas personas distinnas con los datos mal ingresados."
   ]
  },
  {
   "cell_type": "code",
   "execution_count": null,
   "metadata": {},
   "outputs": [],
   "source": [
    "actas_inscriptos_2022['año'].value_counts().sort_index()"
   ]
  },
  {
   "cell_type": "code",
   "execution_count": null,
   "metadata": {},
   "outputs": [],
   "source": [
    "actas_inscriptos_2022[actas_inscriptos_2022['año'] < 2022]['dni'].unique()"
   ]
  },
  {
   "cell_type": "code",
   "execution_count": null,
   "metadata": {},
   "outputs": [],
   "source": [
    "actas[actas['dni'].isin(actas_inscriptos_2022[actas_inscriptos_2022['año'] < 2022]['dni'].unique())].groupby('dni')['fecha'].max()"
   ]
  },
  {
   "cell_type": "markdown",
   "metadata": {},
   "source": [
    "Todos excepto por 1 tienen registros posteriores a 2022, entonces por ahora elimino los registros anteriores a ese año."
   ]
  },
  {
   "cell_type": "code",
   "execution_count": 15,
   "metadata": {},
   "outputs": [],
   "source": [
    "actas_inscriptos_2022 = actas_inscriptos_2022[actas_inscriptos_2022['año'] > 2021]"
   ]
  },
  {
   "cell_type": "code",
   "execution_count": null,
   "metadata": {},
   "outputs": [],
   "source": [
    "actas_inscriptos_2022['dni'].nunique()"
   ]
  },
  {
   "cell_type": "markdown",
   "metadata": {},
   "source": [
    "Defino los semestres relativos"
   ]
  },
  {
   "cell_type": "code",
   "execution_count": 17,
   "metadata": {},
   "outputs": [],
   "source": [
    "conditions = [\n",
    "    (actas_inscriptos_2022['año'] == 2022) & (actas_inscriptos_2022['mes'].between(1, 8)),\n",
    "    (actas_inscriptos_2022['año'] == 2022) & (actas_inscriptos_2022['mes'].between(9, 12)),\n",
    "    (actas_inscriptos_2022['año'] == 2023) & (actas_inscriptos_2022['mes'].isin([1, 2])),\n",
    "    (actas_inscriptos_2022['año'] == 2023) & (actas_inscriptos_2022['mes'].between(3, 8)),\n",
    "    (actas_inscriptos_2022['año'] == 2023) & (actas_inscriptos_2022['mes'].between(9, 12)),\n",
    "    (actas_inscriptos_2022['año'] == 2024) & (actas_inscriptos_2022['mes'].isin([1, 2])),\n",
    "    (actas_inscriptos_2022['año'] == 2024) & (actas_inscriptos_2022['mes'].between(3, 8)),\n",
    "    (actas_inscriptos_2022['año'] == 2024) & (actas_inscriptos_2022['mes'].between(9, 12)),\n",
    "    (actas_inscriptos_2022['año'] == 2025)\n",
    "]\n",
    "values = [0, 1, 1, 2, 3, 3, 4, 5, 5]\n",
    "\n",
    "actas_inscriptos_2022['semestre_relativo'] = np.select(conditions, values, default=np.nan)"
   ]
  },
  {
   "cell_type": "code",
   "execution_count": null,
   "metadata": {},
   "outputs": [],
   "source": [
    "actas_inscriptos_2022['semestre_relativo'].value_counts(dropna = False)"
   ]
  },
  {
   "cell_type": "code",
   "execution_count": null,
   "metadata": {},
   "outputs": [],
   "source": [
    "actas_inscriptos_2022"
   ]
  },
  {
   "cell_type": "markdown",
   "metadata": {},
   "source": [
    "Cuento la cantidad de personas que no tienen un aprobado o que tampoco se anotaron a nada."
   ]
  },
  {
   "cell_type": "code",
   "execution_count": 20,
   "metadata": {},
   "outputs": [],
   "source": [
    "quinto_semestre = actas_inscriptos_2022[actas_inscriptos_2022['semestre_relativo'] == 5]"
   ]
  },
  {
   "cell_type": "code",
   "execution_count": 21,
   "metadata": {},
   "outputs": [],
   "source": [
    "actas_quinto_semestre = personas_2022.merge(quinto_semestre, on='dni', how='left')"
   ]
  },
  {
   "cell_type": "code",
   "execution_count": null,
   "metadata": {},
   "outputs": [],
   "source": [
    "actas_quinto_semestre.columns"
   ]
  },
  {
   "cell_type": "code",
   "execution_count": null,
   "metadata": {},
   "outputs": [],
   "source": [
    "actas_quinto_semestre['materia'].isna().sum()"
   ]
  },
  {
   "cell_type": "markdown",
   "metadata": {},
   "source": [
    "Veamos la cantidad de gente en personas_2022 que no se encuentra en actas_inscriptos_2022"
   ]
  },
  {
   "cell_type": "code",
   "execution_count": null,
   "metadata": {},
   "outputs": [],
   "source": [
    "personas_2022_dnis.size"
   ]
  },
  {
   "cell_type": "code",
   "execution_count": null,
   "metadata": {},
   "outputs": [],
   "source": [
    "np.isin(personas_2022_dnis, actas_inscriptos_2022['dni'].unique()).sum()"
   ]
  },
  {
   "cell_type": "code",
   "execution_count": null,
   "metadata": {},
   "outputs": [],
   "source": [
    "# 1. Obtener todas las combinaciones posibles de DNI y nuevo_valor\n",
    "personas_dni = personas_2022['dni'].unique()\n",
    "periodos = actas_inscriptos_2022['semestre_relativo'].dropna().unique()\n",
    "combinaciones = pd.MultiIndex.from_product([personas_dni, periodos], names=['dni', 'semestre_relativo']).to_frame(index=False)\n",
    "\n",
    "# 2. Crear una tabla que indique en qué combinaciones hubo al menos una materia aprobada\n",
    "aprobaciones = actas_inscriptos_2022[actas_inscriptos_2022['resultado'] == 'Aprobado'][['dni', 'semestre_relativo']].drop_duplicates()\n",
    "aprobaciones['aprobo'] = True\n",
    "\n",
    "# 3. Merge: unimos todas las combinaciones con las aprobaciones\n",
    "merged_2022 = combinaciones.merge(aprobaciones, on=['dni', 'semestre_relativo'], how='left')\n",
    "\n",
    "# 4. Marcar las combinaciones sin materias aprobadas\n",
    "merged_2022['no_aprobo'] = merged_2022['aprobo'].isna()\n",
    "\n",
    "# 5. Contar por periodo\n",
    "conteo = merged_2022.groupby('semestre_relativo')['no_aprobo'].sum().reset_index()\n",
    "\n",
    "# 6. Graficar\n",
    "plt.figure(figsize=(8,5))\n",
    "plt.bar(conteo['semestre_relativo'], conteo['no_aprobo'], color='tomato')\n",
    "plt.xlabel('Periodo')\n",
    "plt.ylabel('Cantidad de personas sin materias aprobadas')\n",
    "plt.title('Cantidad de personas sin aprobar (ni presentarse) por periodo')\n",
    "plt.xticks(conteo['semestre_relativo'])\n",
    "plt.grid(axis='y', linestyle='--', alpha=0.5)\n",
    "plt.tight_layout()\n",
    "plt.show()"
   ]
  },
  {
   "cell_type": "markdown",
   "metadata": {},
   "source": [
    "En realidad nos gustaría tener ese grafico dividido para la cohorte 2022C1 y 2022C2. La forma en que definimos dichas cohortes es:\n",
    "\n",
    "- Tomamos como cohorte 2022 a los estudiantes con LU 2022 y que tengan algún registro entre enero a agosto 2022\n",
    "- Tomamos como cohorte 2022 a los estudiantes con LU 2022 y que NO tengan algún registro entre enero a agosto 2022 pero sí alguno a partir de septiembre 2022"
   ]
  },
  {
   "cell_type": "code",
   "execution_count": null,
   "metadata": {},
   "outputs": [],
   "source": [
    "cohorte_20221c = actas_inscriptos_2022[actas_inscriptos_2022['semestre_relativo'] == 0]['dni'].unique()\n",
    "actas_inscriptos_2022_cohorte_20221c = actas_inscriptos_2022[actas_inscriptos_2022['dni'].isin(cohorte_20221c)].copy()\n",
    "actas_inscriptos_2022_cohorte_20221c.rename(columns={'semestre_relativo': 'semestre_relativo_20221c'}, inplace=True)\n",
    "cohorte_20221c.size"
   ]
  },
  {
   "cell_type": "code",
   "execution_count": null,
   "metadata": {},
   "outputs": [],
   "source": [
    "cohorte_20222c = actas_inscriptos_2022[~actas_inscriptos_2022['dni'].isin(cohorte_20221c)]['dni'].unique()\n",
    "actas_inscriptos_2022_cohorte_20222c = actas_inscriptos_2022[actas_inscriptos_2022['dni'].isin(cohorte_20222c)].copy()\n",
    "cohorte_20222c.size"
   ]
  },
  {
   "cell_type": "code",
   "execution_count": 29,
   "metadata": {},
   "outputs": [],
   "source": [
    "conditions = [\n",
    "    (actas_inscriptos_2022_cohorte_20222c['año'] == 2022) & (actas_inscriptos_2022_cohorte_20222c['mes'].between(9, 12)),\n",
    "    (actas_inscriptos_2022_cohorte_20222c['año'] == 2023) & (actas_inscriptos_2022_cohorte_20222c['mes'].isin([1, 2])),\n",
    "    (actas_inscriptos_2022_cohorte_20222c['año'] == 2023) & (actas_inscriptos_2022_cohorte_20222c['mes'].between(3, 8)),\n",
    "    (actas_inscriptos_2022_cohorte_20222c['año'] == 2023) & (actas_inscriptos_2022_cohorte_20222c['mes'].between(9, 12)),\n",
    "    (actas_inscriptos_2022_cohorte_20222c['año'] == 2024) & (actas_inscriptos_2022_cohorte_20222c['mes'].isin([1, 2])),\n",
    "    (actas_inscriptos_2022_cohorte_20222c['año'] == 2024) & (actas_inscriptos_2022_cohorte_20222c['mes'].between(3, 8)),\n",
    "    (actas_inscriptos_2022_cohorte_20222c['año'] == 2024) & (actas_inscriptos_2022_cohorte_20222c['mes'].between(9, 12)),\n",
    "    (actas_inscriptos_2022_cohorte_20222c['año'] == 2025)\n",
    "]\n",
    "values = [0, 0, 1, 2, 2, 3, 4, 4]\n",
    "\n",
    "actas_inscriptos_2022_cohorte_20222c['semestre_relativo_20222c'] = np.select(conditions, values, default=np.nan)"
   ]
  },
  {
   "cell_type": "code",
   "execution_count": null,
   "metadata": {},
   "outputs": [],
   "source": [
    "# 1. Filtrar los DNI que *sí* tienen al menos una fila con semestre_relativo_20222c == 0\n",
    "dnis_con_semestre_0 = actas_inscriptos_2022_cohorte_20222c.loc[\n",
    "    actas_inscriptos_2022_cohorte_20222c['semestre_relativo_20222c'] == 0, 'dni'\n",
    "].unique()\n",
    "\n",
    "# 2. Filtrar los DNI que *no* están en esa lista\n",
    "dnis_sin_semestre_0 = actas_inscriptos_2022_cohorte_20222c.loc[\n",
    "    ~actas_inscriptos_2022_cohorte_20222c['dni'].isin(dnis_con_semestre_0), 'dni'\n",
    "].unique()\n",
    "\n",
    "# 3. Mostrar los resultados\n",
    "print(dnis_sin_semestre_0)"
   ]
  },
  {
   "cell_type": "code",
   "execution_count": null,
   "metadata": {},
   "outputs": [],
   "source": [
    "actas_inscriptos_2022_cohorte_20222c[actas_inscriptos_2022_cohorte_20222c['dni'].isin(dnis_sin_semestre_0)]['semestre_relativo_20222c'].value_counts(dropna = False)"
   ]
  },
  {
   "cell_type": "code",
   "execution_count": null,
   "metadata": {},
   "outputs": [],
   "source": [
    "# 1. Filtrar los DNI que *sí* tienen al menos una fila con semestre_relativo_20222c == 0\n",
    "dnis_con_semestre_1 = actas_inscriptos_2022_cohorte_20222c.loc[\n",
    "    actas_inscriptos_2022_cohorte_20222c['semestre_relativo_20222c'] == 1, 'dni'\n",
    "].unique()\n",
    "\n",
    "# 3. Mostrar los resultados\n",
    "np.isin(dnis_sin_semestre_0, dnis_con_semestre_1)"
   ]
  },
  {
   "cell_type": "code",
   "execution_count": null,
   "metadata": {},
   "outputs": [],
   "source": [
    "actas_inscriptos_2022_cohorte_20222c[(actas_inscriptos_2022_cohorte_20222c['dni'].isin(dnis_sin_semestre_0)) & (actas_inscriptos_2022_cohorte_20222c['semestre_relativo_20222c'] == 1)]['fecha'].value_counts(dropna = False)"
   ]
  },
  {
   "cell_type": "markdown",
   "metadata": {},
   "source": [
    "Me quedo solamente con la gente que tiene inscripciones en el segundo semestre de 2022"
   ]
  },
  {
   "cell_type": "code",
   "execution_count": 34,
   "metadata": {},
   "outputs": [],
   "source": [
    "actas_inscriptos_2022_cohorte_20222c = actas_inscriptos_2022_cohorte_20222c[~actas_inscriptos_2022_cohorte_20222c['dni'].isin(dnis_sin_semestre_0)]"
   ]
  },
  {
   "cell_type": "code",
   "execution_count": null,
   "metadata": {},
   "outputs": [],
   "source": [
    "actas_inscriptos_2022_cohorte_20222c['dni'].nunique()"
   ]
  },
  {
   "cell_type": "code",
   "execution_count": 36,
   "metadata": {},
   "outputs": [],
   "source": [
    "cohorte_20222c = actas_inscriptos_2022_cohorte_20222c['dni'].unique()"
   ]
  },
  {
   "cell_type": "code",
   "execution_count": null,
   "metadata": {},
   "outputs": [],
   "source": [
    "actas_inscriptos_2022['dni'].nunique()"
   ]
  },
  {
   "cell_type": "code",
   "execution_count": null,
   "metadata": {},
   "outputs": [],
   "source": [
    "personas_2022_dnis.size - actas_inscriptos_2022['dni'].nunique()"
   ]
  },
  {
   "cell_type": "code",
   "execution_count": null,
   "metadata": {},
   "outputs": [],
   "source": [
    "personas_2022[~personas_2022['dni'].isin(actas_inscriptos_2022['dni'].unique())]"
   ]
  },
  {
   "cell_type": "code",
   "execution_count": null,
   "metadata": {},
   "outputs": [],
   "source": [
    "# 1. Obtener todas las combinaciones posibles de DNI y nuevo_valor\n",
    "periodos = actas_inscriptos_2022_cohorte_20221c['semestre_relativo_20221c'].dropna().unique()\n",
    "combinaciones_cohorte_20221c = pd.MultiIndex.from_product([cohorte_20221c, periodos], names=['dni', 'semestre_relativo_20221c']).to_frame(index=False)\n",
    "\n",
    "# 2. Crear una tabla que indique en qué combinaciones hubo al menos una materia aprobada\n",
    "aprobaciones = actas_inscriptos_2022_cohorte_20221c[actas_inscriptos_2022_cohorte_20221c['resultado'] == 'Aprobado'][['dni', 'semestre_relativo_20221c']].drop_duplicates()\n",
    "aprobaciones['aprobo'] = True\n",
    "\n",
    "# 3. Merge: unimos todas las combinaciones con las aprobaciones\n",
    "merged = combinaciones_cohorte_20221c.merge(aprobaciones, on=['dni', 'semestre_relativo_20221c'], how='left')\n",
    "\n",
    "# 4. Marcar las combinaciones sin materias aprobadas\n",
    "merged['no_aprobo'] = merged['aprobo'].isna()\n",
    "\n",
    "# 5. Contar por periodo\n",
    "conteo = merged.groupby('semestre_relativo_20221c')['no_aprobo'].sum().reset_index()\n",
    "\n",
    "# 6. Graficar\n",
    "plt.figure(figsize=(8,5))\n",
    "plt.bar(conteo['semestre_relativo_20221c'], conteo['no_aprobo'], color='tomato')\n",
    "plt.xlabel('Periodo')\n",
    "plt.ylabel('Cantidad de personas sin materias aprobadas')\n",
    "plt.title('Cantidad de personas sin aprobar (ni presentarse) por periodo cohorte 20221c')\n",
    "plt.xticks(conteo['semestre_relativo_20221c'])\n",
    "plt.grid(axis='y', linestyle='--', alpha=0.5)\n",
    "plt.tight_layout()\n",
    "plt.show()"
   ]
  },
  {
   "cell_type": "code",
   "execution_count": null,
   "metadata": {},
   "outputs": [],
   "source": [
    "conteo"
   ]
  },
  {
   "cell_type": "code",
   "execution_count": null,
   "metadata": {},
   "outputs": [],
   "source": [
    "# 6. Graficar\n",
    "plt.figure(figsize=(8,5))\n",
    "plt.bar(conteo[conteo['semestre_relativo_20221c'] < 5]['semestre_relativo_20221c'], conteo[conteo['semestre_relativo_20221c'] < 5]['no_aprobo'], color='tomato')\n",
    "plt.xlabel('Periodo')\n",
    "plt.ylabel('Cantidad de personas sin materias aprobadas')\n",
    "plt.title('Cantidad de personas sin aprobar (ni presentarse) por periodo cohorte 20221c')\n",
    "plt.xticks(conteo[conteo['semestre_relativo_20221c'] < 5]['semestre_relativo_20221c'])\n",
    "plt.grid(axis='y', linestyle='--', alpha=0.5)\n",
    "plt.tight_layout()\n",
    "plt.show()"
   ]
  },
  {
   "cell_type": "code",
   "execution_count": null,
   "metadata": {},
   "outputs": [],
   "source": [
    "# 1. Obtener todas las combinaciones posibles de DNI y nuevo_valor\n",
    "periodos = actas_inscriptos_2022_cohorte_20222c['semestre_relativo_20222c'].dropna().unique()\n",
    "combinaciones_cohorte_20222c = pd.MultiIndex.from_product([cohorte_20222c, periodos], names=['dni', 'semestre_relativo_20222c']).to_frame(index=False)\n",
    "\n",
    "# 2. Crear una tabla que indique en qué combinaciones hubo al menos una materia aprobada\n",
    "aprobaciones = actas_inscriptos_2022_cohorte_20222c[actas_inscriptos_2022_cohorte_20222c['resultado'] == 'Aprobado'][['dni', 'semestre_relativo_20222c']].drop_duplicates()\n",
    "aprobaciones['aprobo'] = True\n",
    "\n",
    "# 3. Merge: unimos todas las combinaciones con las aprobaciones\n",
    "merged = combinaciones_cohorte_20222c.merge(aprobaciones, on=['dni', 'semestre_relativo_20222c'], how='left')\n",
    "\n",
    "# 4. Marcar las combinaciones sin materias aprobadas\n",
    "merged['no_aprobo'] = merged['aprobo'].isna()\n",
    "\n",
    "# 5. Contar por periodo\n",
    "conteo = merged.groupby('semestre_relativo_20222c')['no_aprobo'].sum().reset_index()\n",
    "\n",
    "# 6. Graficar\n",
    "plt.figure(figsize=(8,5))\n",
    "plt.bar(conteo['semestre_relativo_20222c'], conteo['no_aprobo'], color='tomato')\n",
    "plt.xlabel('Periodo')\n",
    "plt.ylabel('Cantidad de personas sin materias aprobadas')\n",
    "plt.title('Cantidad de personas sin aprobar (ni presentarse) por periodo 20222c')\n",
    "plt.xticks(conteo['semestre_relativo_20222c'])\n",
    "plt.grid(axis='y', linestyle='--', alpha=0.5)\n",
    "plt.tight_layout()\n",
    "plt.show()"
   ]
  },
  {
   "cell_type": "markdown",
   "metadata": {},
   "source": [
    "Si miramos la cantidad de gente 'nueva' que no tiene un aprobado, la cantidad es bastante reducida."
   ]
  },
  {
   "cell_type": "code",
   "execution_count": null,
   "metadata": {},
   "outputs": [],
   "source": [
    "# Asegurarnos que nuevo_valor es numérico para ordenarlo\n",
    "merged_2022['semestre_relativo'] = merged_2022['semestre_relativo'].astype(int)\n",
    "\n",
    "# Crear un diccionario para guardar los nuevos por periodo\n",
    "nuevos_no_aprobaron = {}\n",
    "\n",
    "# Mantener un set de DNIs que ya habían fallado antes\n",
    "historico_no_aprobados = set()\n",
    "\n",
    "# Iterar por los periodos en orden\n",
    "for periodo in sorted(merged_2022['semestre_relativo'].unique()):\n",
    "    # Personas que no aprobaron en este periodo\n",
    "    actuales = set(merged_2022[(merged_2022['semestre_relativo'] == periodo) & (merged_2022['no_aprobo'])]['dni'])\n",
    "    \n",
    "    # Nuevos = actuales que no estaban antes\n",
    "    nuevos = actuales - historico_no_aprobados\n",
    "    nuevos_no_aprobaron[periodo] = len(nuevos)\n",
    "    \n",
    "    # Actualizar el histórico\n",
    "    historico_no_aprobados.update(actuales)\n",
    "\n",
    "# Convertir a DataFrame para graficar o analizar\n",
    "nuevos_df = pd.DataFrame(list(nuevos_no_aprobaron.items()), columns=['semestre_relativo', 'nuevos_no_aprobaron'])\n",
    "print(nuevos_df)"
   ]
  },
  {
   "cell_type": "markdown",
   "metadata": {},
   "source": [
    "## 3 variables nuevas"
   ]
  },
  {
   "cell_type": "markdown",
   "metadata": {},
   "source": [
    "Por cada dni quiero calcular para cada valor de 'semestre_relativo':\n",
    "- #inscripciones: cantidad de filas con tipo_acta 'Acta de Regulares/Promociones' (O sea, materia) que tiene con ese semestre, no importa si aprobó, reprobó u abandonó\n",
    "- #tp_aprobados: debe tener en 'tipo_acta' el valor 'Acta de Regulares/Promociones' y en 'resultado' el valor de 'Aprobado'\n",
    "- #finales_inscriptos: cantidad de filas con el valor 'Acta de Examen' en la columna 'tipo_acta'"
   ]
  },
  {
   "cell_type": "code",
   "execution_count": 45,
   "metadata": {},
   "outputs": [],
   "source": [
    "# Crear columnas auxiliares\n",
    "actas_inscriptos_2022['es_inscripcion'] = (\n",
    "    (actas_inscriptos_2022['tipo_acta'] == 'Acta de Regulares/Promociones')\n",
    ")\n",
    "\n",
    "actas_inscriptos_2022['es_tp_aprobado'] = (\n",
    "    (actas_inscriptos_2022['tipo_acta'] == 'Acta de Regulares/Promociones') &\n",
    "    (actas_inscriptos_2022['resultado'] == 'Aprobado')\n",
    ")\n",
    "\n",
    "actas_inscriptos_2022['es_final_inscripto'] = (\n",
    "    actas_inscriptos_2022['tipo_acta'] == 'Acta de Examen'\n",
    ")\n",
    "\n",
    "# Agrupar y calcular métricas\n",
    "resumen_v2 = actas_inscriptos_2022.groupby(['dni', 'semestre_relativo']).agg(\n",
    "    inscripciones=('es_inscripcion', 'sum'),\n",
    "    tp_aprobados=('es_tp_aprobado', 'sum'),\n",
    "    finales_inscriptos=('es_final_inscripto', 'sum')\n",
    ").reset_index()\n",
    "\n",
    "# 5. Hacer el merge con el resumen\n",
    "resumen_completo = combinaciones.merge(\n",
    "    resumen_v2,\n",
    "    on=['dni', 'semestre_relativo'],\n",
    "    how='left'\n",
    ").fillna(0)"
   ]
  },
  {
   "cell_type": "code",
   "execution_count": null,
   "metadata": {},
   "outputs": [],
   "source": [
    "resumen_completo.groupby('semestre_relativo').count()"
   ]
  },
  {
   "cell_type": "code",
   "execution_count": null,
   "metadata": {},
   "outputs": [],
   "source": [
    "resumen_completo"
   ]
  },
  {
   "cell_type": "code",
   "execution_count": null,
   "metadata": {},
   "outputs": [],
   "source": [
    "metricas = ['inscripciones', 'tp_aprobados', 'finales_inscriptos']\n",
    "\n",
    "for metrica in metricas:\n",
    "    tabla = pd.crosstab(resumen_completo['semestre_relativo'], resumen_completo[metrica])\n",
    "    plt.figure(figsize=(10, 6))\n",
    "    sns.heatmap(tabla, annot=True, fmt='d', cmap='Blues')\n",
    "    plt.title(f'Distribución de {metrica} por semestre_relativo')\n",
    "    plt.xlabel(metrica)\n",
    "    plt.ylabel('semestre_relativo')\n",
    "    plt.show()"
   ]
  },
  {
   "cell_type": "code",
   "execution_count": null,
   "metadata": {},
   "outputs": [],
   "source": [
    "resumen_completo['total_actividad'] = (\n",
    "    resumen_completo['inscripciones'] +\n",
    "    resumen_completo['tp_aprobados'] +\n",
    "    resumen_completo['finales_inscriptos']\n",
    ")\n",
    "\n",
    "tabla = pd.crosstab(resumen_completo['semestre_relativo'], resumen_completo['total_actividad'])\n",
    "\n",
    "plt.figure(figsize=(10, 6))\n",
    "sns.heatmap(tabla, annot=True, fmt='d', cmap='Purples')\n",
    "plt.title('Distribución de actividad total por semestre_relativo')\n",
    "plt.xlabel('Total de Actividad (inscripciones + tp_aprobados + finales_inscriptos)')\n",
    "plt.ylabel('semestre_relativo')\n",
    "plt.show()"
   ]
  },
  {
   "cell_type": "markdown",
   "metadata": {},
   "source": [
    "Ahora lo vemos por cohorte"
   ]
  },
  {
   "cell_type": "code",
   "execution_count": 50,
   "metadata": {},
   "outputs": [],
   "source": [
    "def cuatro_metricas(actas, combinaciones, cohorte):\n",
    "    # Crear columnas auxiliares\n",
    "    actas['es_inscripcion'] = (\n",
    "        (actas['tipo_acta'] == 'Acta de Regulares/Promociones')\n",
    "    )\n",
    "\n",
    "    actas['es_tp_aprobado'] = (\n",
    "        (actas['tipo_acta'] == 'Acta de Regulares/Promociones') &\n",
    "        (actas['resultado'] == 'Aprobado')\n",
    "    )\n",
    "\n",
    "    actas['es_final_inscripto'] = (\n",
    "        actas['tipo_acta'] == 'Acta de Examen'\n",
    "    )\n",
    "\n",
    "    # Agrupar y calcular métricas\n",
    "    resumen_v2 = actas.groupby(['dni', f'semestre_relativo_{cohorte}']).agg(\n",
    "        inscripciones=('es_inscripcion', 'sum'),\n",
    "        tp_aprobados=('es_tp_aprobado', 'sum'),\n",
    "        finales_inscriptos=('es_final_inscripto', 'sum')\n",
    "    ).reset_index()\n",
    "\n",
    "    # 5. Hacer el merge con el resumen\n",
    "    resumen_completo = combinaciones.merge(\n",
    "        resumen_v2,\n",
    "        on=['dni', f'semestre_relativo_{cohorte}'],\n",
    "        how='left'\n",
    "    ).fillna(0)\n",
    "\n",
    "    resumen_completo['total_actividad'] = (\n",
    "        resumen_completo['inscripciones'] +\n",
    "        resumen_completo['tp_aprobados'] +\n",
    "        resumen_completo['finales_inscriptos']\n",
    "    )\n",
    "\n",
    "    resumen_completo['total_actividad_promedio'] = resumen_completo['total_actividad'] / 3\n",
    "\n",
    "    metricas = ['inscripciones', 'tp_aprobados', 'finales_inscriptos']\n",
    "\n",
    "    for metrica in metricas:\n",
    "        tabla = pd.crosstab(resumen_completo[f'semestre_relativo_{cohorte}'],\n",
    "                            resumen_completo[metrica])\n",
    "        plt.figure(figsize=(10, 6))\n",
    "        sns.heatmap(tabla, annot=True, fmt='d', cmap='Blues')\n",
    "        plt.title(f'Distribución de {metrica} por semestre_relativo {cohorte}')\n",
    "        plt.xlabel(metrica)\n",
    "        plt.ylabel(f'semestre_relativo {cohorte}')\n",
    "        plt.show()\n",
    "\n",
    "    tabla = pd.crosstab(resumen_completo[f'semestre_relativo_{cohorte}'],\n",
    "                         resumen_completo['total_actividad'])\n",
    "\n",
    "    plt.figure(figsize=(10, 6))\n",
    "    sns.heatmap(tabla, annot=True, fmt='d', cmap='Purples')\n",
    "    plt.title('Distribución de actividad total por semestre_relativo')\n",
    "    plt.xlabel('Total de Actividad (inscripciones + tp_aprobados + finales_inscriptos)')\n",
    "    plt.ylabel(f'semestre_relativo {cohorte}')\n",
    "    plt.show()\n",
    "    \n",
    "    tabla_2 = pd.crosstab(resumen_completo[f'semestre_relativo_{cohorte}'],\n",
    "                         resumen_completo['total_actividad_promedio'])\n",
    "\n",
    "    plt.figure(figsize=(10, 6))\n",
    "    sns.heatmap(tabla_2, annot=True, fmt='d', cmap='Purples')\n",
    "    plt.title('Distribución de actividad total promedio por semestre_relativo')\n",
    "    plt.xlabel('Total de Actividad Promedio (inscripciones + tp_aprobados + finales_inscriptos)/3')\n",
    "    plt.ylabel(f'semestre_relativo {cohorte}')\n",
    "    plt.show()\n",
    "\n",
    "    print(resumen_completo.groupby(f'semestre_relativo_{cohorte}').count())\n",
    "    return resumen_completo"
   ]
  },
  {
   "cell_type": "code",
   "execution_count": null,
   "metadata": {},
   "outputs": [],
   "source": [
    "resumen_completo_20221c = cuatro_metricas(actas_inscriptos_2022_cohorte_20221c, combinaciones_cohorte_20221c, '20221c')"
   ]
  },
  {
   "cell_type": "markdown",
   "metadata": {},
   "source": [
    "Lo que quiero confiirmar es que todos los puntajes (1,2,3,4) bajan a medida que aumenta el semestre.\n",
    "El unico que aumenta es puntaje 0.  Pero eso confirma el abandono"
   ]
  },
  {
   "cell_type": "code",
   "execution_count": 52,
   "metadata": {},
   "outputs": [],
   "source": [
    "def promedio_cantidad_actividad_personas(resumen_completo, met, semestre_relativo, promedio_personas, actividad):\n",
    "    # Filtrar los valores entre 1 y 3 actividades\n",
    "    df_filtrado = resumen_completo[resumen_completo[met].isin(actividad)]\n",
    "\n",
    "    # Contar cuántas personas por semestre y total_actividad\n",
    "    conteo = df_filtrado.groupby([semestre_relativo, met])['dni'].nunique().reset_index(name='cantidad_personas')\n",
    "\n",
    "    # Promediar por semestre\n",
    "    promedio = conteo.groupby(semestre_relativo)['cantidad_personas'].mean().reset_index(name=promedio_personas)\n",
    "    print(promedio)"
   ]
  },
  {
   "cell_type": "code",
   "execution_count": null,
   "metadata": {},
   "outputs": [],
   "source": [
    "promedio_cantidad_actividad_personas(resumen_completo_20221c, 'total_actividad', 'semestre_relativo_20221c', 'promedio_personas_1_2', [1, 2])"
   ]
  },
  {
   "cell_type": "code",
   "execution_count": null,
   "metadata": {},
   "outputs": [],
   "source": [
    "promedio_cantidad_actividad_personas(resumen_completo_20221c, 'total_actividad', 'semestre_relativo_20221c', 'promedio_personas_1_2_3', [1, 2, 3])"
   ]
  },
  {
   "cell_type": "code",
   "execution_count": null,
   "metadata": {},
   "outputs": [],
   "source": [
    "promedio_cantidad_actividad_personas(resumen_completo_20221c, 'total_actividad', 'semestre_relativo_20221c', 'promedio_personas_1_2_3_4', [1, 2, 3, 4])"
   ]
  },
  {
   "cell_type": "code",
   "execution_count": null,
   "metadata": {},
   "outputs": [],
   "source": [
    "promedio_cantidad_actividad_personas(resumen_completo_20221c, 'total_actividad', 'semestre_relativo_20221c', 'promedio_personas_1_2_3_4_5', [1, 2, 3, 4, 5])"
   ]
  },
  {
   "cell_type": "code",
   "execution_count": null,
   "metadata": {},
   "outputs": [],
   "source": [
    "# 1. Clasificar la actividad\n",
    "def clasificar_actividad(valor):\n",
    "    if valor == 0:\n",
    "        return 'sin_actividad'\n",
    "    elif valor <= 3:\n",
    "        return 'actividad_baja'\n",
    "    else:\n",
    "        return 'actividad_alta'\n",
    "\n",
    "resumen_completo_20221c['categoria_actividad'] = resumen_completo_20221c['total_actividad'].apply(clasificar_actividad)\n",
    "\n",
    "# 2. Contar por categoría y semestre\n",
    "cuadro = resumen_completo_20221c.groupby(\n",
    "    [f'semestre_relativo_20221c', 'categoria_actividad']\n",
    ").agg(\n",
    "    cantidad=('dni', 'nunique')  # suponiendo que cada fila es una persona por semestre\n",
    ").reset_index()\n",
    "\n",
    "# 3. Calcular total por semestre para sacar porcentaje\n",
    "totales = cohorte_20221c.size\n",
    "cuadro['porcentaje'] = cuadro['cantidad'] / totales * 100\n",
    "\n",
    "# 4. Pivotear para que quede como tabla resumen\n",
    "cuadro_pivot = cuadro.pivot(\n",
    "    index=f'semestre_relativo_20221c',\n",
    "    columns='categoria_actividad',\n",
    "    values='porcentaje'\n",
    ").fillna(0).reset_index()\n",
    "cuadro_pivot"
   ]
  },
  {
   "cell_type": "code",
   "execution_count": null,
   "metadata": {},
   "outputs": [],
   "source": [
    "resumen_completo_20221c"
   ]
  },
  {
   "cell_type": "markdown",
   "metadata": {},
   "source": [
    "viendo todo esto para la cohorte 20222c"
   ]
  },
  {
   "cell_type": "code",
   "execution_count": null,
   "metadata": {},
   "outputs": [],
   "source": [
    "resumen_completo_20222c = cuatro_metricas(actas_inscriptos_2022_cohorte_20222c, combinaciones_cohorte_20222c, '20222c')"
   ]
  },
  {
   "cell_type": "code",
   "execution_count": null,
   "metadata": {},
   "outputs": [],
   "source": [
    "promedio_cantidad_actividad_personas(resumen_completo_20222c, 'total_actividad', 'semestre_relativo_20222c', 'promedio_personas_1_2', [1, 2])"
   ]
  },
  {
   "cell_type": "code",
   "execution_count": null,
   "metadata": {},
   "outputs": [],
   "source": [
    "promedio_cantidad_actividad_personas(resumen_completo_20222c, 'total_actividad', 'semestre_relativo_20222c', 'promedio_personas_1_2_3', [1, 2, 3])"
   ]
  },
  {
   "cell_type": "code",
   "execution_count": null,
   "metadata": {},
   "outputs": [],
   "source": [
    "promedio_cantidad_actividad_personas(resumen_completo_20222c, 'total_actividad', 'semestre_relativo_20222c', 'promedio_personas_1_2_3_4', [1, 2, 3, 4])"
   ]
  },
  {
   "cell_type": "code",
   "execution_count": null,
   "metadata": {},
   "outputs": [],
   "source": [
    "# 1. Clasificar la actividad\n",
    "def clasificar_actividad(valor):\n",
    "    if valor == 0:\n",
    "        return 'sin_actividad'\n",
    "    elif valor <= 3:\n",
    "        return 'actividad_baja'\n",
    "    else:\n",
    "        return 'actividad_alta'\n",
    "\n",
    "resumen_completo_20222c['categoria_actividad'] = resumen_completo_20222c['total_actividad'].apply(clasificar_actividad)\n",
    "\n",
    "# 2. Contar por categoría y semestre\n",
    "cuadro = resumen_completo_20222c.groupby(\n",
    "    [f'semestre_relativo_20222c', 'categoria_actividad']\n",
    ").agg(\n",
    "    cantidad=('dni', 'nunique')  # suponiendo que cada fila es una persona por semestre\n",
    ").reset_index()\n",
    "\n",
    "# 3. Calcular total por semestre para sacar porcentaje\n",
    "totales = cohorte_20222c.size\n",
    "cuadro['porcentaje'] = cuadro['cantidad'] / totales * 100\n",
    "\n",
    "# 4. Pivotear para que quede como tabla resumen\n",
    "cuadro_pivot = cuadro.pivot(\n",
    "    index=f'semestre_relativo_20222c',\n",
    "    columns='categoria_actividad',\n",
    "    values='porcentaje'\n",
    ").fillna(0).reset_index()\n",
    "cuadro_pivot"
   ]
  },
  {
   "cell_type": "code",
   "execution_count": null,
   "metadata": {},
   "outputs": [],
   "source": [
    "totales"
   ]
  },
  {
   "cell_type": "markdown",
   "metadata": {},
   "source": [
    "# Veo un caso especial"
   ]
  },
  {
   "cell_type": "code",
   "execution_count": null,
   "metadata": {},
   "outputs": [],
   "source": [
    "resumen_completo[resumen_completo['total_actividad'] == 17]"
   ]
  },
  {
   "cell_type": "code",
   "execution_count": 67,
   "metadata": {},
   "outputs": [],
   "source": [
    "dni_caso_especial = resumen_completo[resumen_completo['total_actividad'] == 17]['dni'].values[0]"
   ]
  },
  {
   "cell_type": "code",
   "execution_count": null,
   "metadata": {},
   "outputs": [],
   "source": [
    "# quiero ver toda la salida\n",
    "# y no solo la primera fila\n",
    "pd.set_option('display.max_columns', None)\n",
    "personas_2022[personas_2022['dni'] == dni_caso_especial]"
   ]
  },
  {
   "cell_type": "code",
   "execution_count": null,
   "metadata": {},
   "outputs": [],
   "source": [
    "actas_inscriptos_2022_cohorte_20221c[actas_inscriptos_2022_cohorte_20221c['dni'] == dni_caso_especial]['materia'].value_counts()"
   ]
  },
  {
   "cell_type": "code",
   "execution_count": null,
   "metadata": {},
   "outputs": [],
   "source": [
    "actas_inscriptos_2022_cohorte_20221c[actas_inscriptos_2022_cohorte_20221c['dni'] == dni_caso_especial][actas_inscriptos_2022_cohorte_20221c['materia'] == 'Grandes Modelos de Lenguaje: Fundamentos y Aplicaciones - ECI2024'].value_counts()"
   ]
  },
  {
   "cell_type": "code",
   "execution_count": null,
   "metadata": {},
   "outputs": [],
   "source": [
    "actas_inscriptos_2022_cohorte_20221c[actas_inscriptos_2022_cohorte_20221c['dni'] == dni_caso_especial][actas_inscriptos_2022_cohorte_20221c['semestre_relativo_20221c'] == 4]"
   ]
  },
  {
   "cell_type": "markdown",
   "metadata": {},
   "source": [
    "Me gustaría ver también la cantidad de actas de examen que figuran como aprobadas"
   ]
  },
  {
   "cell_type": "code",
   "execution_count": null,
   "metadata": {},
   "outputs": [],
   "source": [
    "# 1. Crear columna auxiliar para finales aprobados\n",
    "actas_inscriptos_2022['es_final_aprobado'] = (\n",
    "    (actas_inscriptos_2022['tipo_acta'] == 'Acta de Examen') &\n",
    "    (actas_inscriptos_2022['resultado'] == 'Aprobado')\n",
    ")\n",
    "\n",
    "# 2. Agrupar y sumar\n",
    "resumen_finales_aprobados = actas_inscriptos_2022.groupby(['dni', 'semestre_relativo']).agg(\n",
    "    finales_aprobados=('es_final_aprobado', 'sum')\n",
    ").reset_index()\n",
    "\n",
    "# 4. Merge para completar con ceros\n",
    "resumen_finales_aprobados_completo = combinaciones.merge(\n",
    "    resumen_finales_aprobados,\n",
    "    on=['dni', 'semestre_relativo'],\n",
    "    how='left'\n",
    ").fillna(0)"
   ]
  },
  {
   "cell_type": "code",
   "execution_count": null,
   "metadata": {},
   "outputs": [],
   "source": [
    "tabla = pd.crosstab(resumen_finales_aprobados_completo['semestre_relativo'], resumen_finales_aprobados_completo['finales_aprobados'])\n",
    "plt.figure(figsize=(10, 6))\n",
    "sns.heatmap(tabla, annot=True, fmt='d', cmap='Blues')\n",
    "plt.title(f'Distribución de finales aprobados por semestre_relativo')\n",
    "plt.xlabel('finales_aprobados')\n",
    "plt.ylabel('semestre_relativo')\n",
    "plt.show()"
   ]
  },
  {
   "cell_type": "markdown",
   "metadata": {},
   "source": [
    "Puedo calcular la procrastinación, dado que aprobó los TP, nos gustaría ver cuánto tarda en rendir el final en promedio"
   ]
  },
  {
   "cell_type": "code",
   "execution_count": null,
   "metadata": {},
   "outputs": [],
   "source": [
    "# Paso 1: Separar las promociones aprobadas\n",
    "promo_aprobadas = actas_inscriptos_2022[\n",
    "    (actas_inscriptos_2022['tipo_acta'] == 'Acta de Regulares/Promociones') &\n",
    "    (actas_inscriptos_2022['resultado'] == 'Aprobado')\n",
    "][['dni', 'materia', 'semestre_relativo']].rename(\n",
    "    columns={'semestre_relativo': 'semestre_promocion'}\n",
    ")\n",
    "\n",
    "# Paso 2: Separar los exámenes\n",
    "actas_examen = actas_inscriptos_2022[\n",
    "    (actas_inscriptos_2022['tipo_acta'] == 'Acta de Examen')\n",
    "][['dni', 'materia', 'semestre_relativo']].rename(\n",
    "    columns={'semestre_relativo': 'semestre_examen'}\n",
    ")\n",
    "\n",
    "# Paso 3: Hacer merge entre promociones aprobadas y exámenes\n",
    "merged = promo_aprobadas.merge(actas_examen, on=['dni', 'materia'], how='inner')\n",
    "\n",
    "# Paso 4: Calcular la diferencia de semestre\n",
    "merged['diferencia_semestres'] = merged['semestre_examen'] - merged['semestre_promocion']"
   ]
  },
  {
   "cell_type": "code",
   "execution_count": null,
   "metadata": {},
   "outputs": [],
   "source": [
    "conteo = merged['diferencia_semestres'].value_counts().sort_index()\n",
    "\n",
    "# Crear el gráfico\n",
    "plt.figure(figsize=(10, 6))\n",
    "sns.barplot(x=conteo.index, y=conteo.values, color='skyblue')\n",
    "\n",
    "plt.title('Distribución de Diferencia de Semestres entre Promoción y Examen')\n",
    "plt.xlabel('Diferencia de Semestres')\n",
    "plt.ylabel('Cantidad de Casos')\n",
    "plt.xticks(rotation=45)\n",
    "plt.grid(axis='y', linestyle='--', alpha=0.7)\n",
    "plt.tight_layout()\n",
    "plt.show()"
   ]
  },
  {
   "cell_type": "code",
   "execution_count": null,
   "metadata": {},
   "outputs": [],
   "source": [
    "promedio_por_dni = merged.groupby('dni')['diferencia_semestres'].mean().reset_index()\n",
    "promedio_por_dni.columns = ['dni', 'promedio_diferencia_semestres']\n",
    "plt.figure(figsize=(10, 6))\n",
    "sns.histplot(promedio_por_dni['promedio_diferencia_semestres'], bins=20, kde=True, color='salmon')\n",
    "\n",
    "plt.title('Distribución del Promedio de Diferencia de Semestres por DNI')\n",
    "plt.xlabel('Promedio de Diferencia de Semestres')\n",
    "plt.ylabel('Cantidad de Estudiantes')\n",
    "plt.grid(axis='y', linestyle='--', alpha=0.7)\n",
    "plt.tight_layout()\n",
    "plt.show()"
   ]
  },
  {
   "cell_type": "markdown",
   "metadata": {},
   "source": [
    "### Genero el EDA inicial"
   ]
  },
  {
   "cell_type": "code",
   "execution_count": null,
   "metadata": {},
   "outputs": [],
   "source": [
    "helpers_eda_inicial.dataset_profiling(personas_2022, 'personas_2022')\n",
    "helpers_eda_inicial.dataset_profiling(actas_inscriptos_2022, 'actas_inscriptos_2022')"
   ]
  }
 ],
 "metadata": {
  "kernelspec": {
   "display_name": ".venv",
   "language": "python",
   "name": "python3"
  },
  "language_info": {
   "codemirror_mode": {
    "name": "ipython",
    "version": 3
   },
   "file_extension": ".py",
   "mimetype": "text/x-python",
   "name": "python",
   "nbconvert_exporter": "python",
   "pygments_lexer": "ipython3",
   "version": "3.11.9"
  }
 },
 "nbformat": 4,
 "nbformat_minor": 2
}

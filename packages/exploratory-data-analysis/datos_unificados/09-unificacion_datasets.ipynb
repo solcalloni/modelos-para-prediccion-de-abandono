{
 "cells": [
  {
   "cell_type": "code",
   "execution_count": 1,
   "metadata": {},
   "outputs": [],
   "source": [
    "import sys\n",
    "sys.path.insert(0, '../')\n",
    "import pandas as pd\n",
    "import numpy as np\n",
    "import matplotlib.pyplot as plt\n",
    "import seaborn as sns"
   ]
  },
  {
   "cell_type": "markdown",
   "metadata": {},
   "source": [
    "Para el dataset final unificado necesito:\n",
    "\n",
    "* CBC\n",
    "* Columna de tiempo de viaje\n",
    "* Actas de la FCEN\n",
    "* Datos personales de alumnos de la FCEN\n",
    "* Hace cuanto hizo el CBC"
   ]
  },
  {
   "cell_type": "code",
   "execution_count": null,
   "metadata": {},
   "outputs": [],
   "source": [
    "# columnas del CBC\n",
    "cbc = pd.read_csv('../../../assets/silver/data_utilizada/cbc_final.csv')\n",
    "cbc['Dni'] = cbc['Dni'].astype(str)\n",
    "cbc.head(5)"
   ]
  },
  {
   "cell_type": "code",
   "execution_count": null,
   "metadata": {},
   "outputs": [],
   "source": [
    "actas = pd.read_csv('../../../assets/silver/data_utilizada/actas_entrenamiento.csv')\n",
    "actas.head(5)"
   ]
  },
  {
   "cell_type": "code",
   "execution_count": null,
   "metadata": {},
   "outputs": [],
   "source": [
    "resumen_semestre = pd.read_csv('../../../assets/silver/data_utilizada/resumen_personas_por_semestre.csv')\n",
    "resumen_semestre.head(5)"
   ]
  },
  {
   "cell_type": "code",
   "execution_count": null,
   "metadata": {},
   "outputs": [],
   "source": [
    "# datos personales\n",
    "datos_personales = pd.read_csv('../../../assets/silver/data_utilizada/personas_con_target.csv')\n",
    "datos_personales.head(5)"
   ]
  },
  {
   "cell_type": "code",
   "execution_count": null,
   "metadata": {},
   "outputs": [],
   "source": [
    "# tiempo de viaje\n",
    "tiempo_viaje = pd.read_csv('../../../assets/silver/data_utilizada/tiempo_viaje_manana.csv')\n",
    "tiempo_viaje.head(5)"
   ]
  },
  {
   "cell_type": "code",
   "execution_count": null,
   "metadata": {},
   "outputs": [],
   "source": [
    "anios_cbc = pd.read_csv('../../../assets/silver/data_utilizada/tiempo_desde_cbc.csv')\n",
    "anios_cbc['dni'] = anios_cbc['dni'].astype(str)\n",
    "anios_cbc.head(5)"
   ]
  },
  {
   "cell_type": "markdown",
   "metadata": {},
   "source": [
    "Veamos que todos tengan el tipo de dato para poder hacer la unificación y la cantidad de datos correctos."
   ]
  },
  {
   "cell_type": "code",
   "execution_count": null,
   "metadata": {},
   "outputs": [],
   "source": [
    "def data_basica(df, dni):\n",
    "    print(df.columns)\n",
    "    print(df.shape)\n",
    "    print(df[f'{dni}'].nunique())\n",
    "    print(df.dtypes)"
   ]
  },
  {
   "cell_type": "code",
   "execution_count": null,
   "metadata": {},
   "outputs": [],
   "source": [
    "data_basica(cbc, 'Dni')"
   ]
  },
  {
   "cell_type": "code",
   "execution_count": null,
   "metadata": {},
   "outputs": [],
   "source": [
    "data_basica(actas, 'Dni')"
   ]
  },
  {
   "cell_type": "code",
   "execution_count": null,
   "metadata": {},
   "outputs": [],
   "source": [
    "data_basica(resumen_semestre, 'dni')"
   ]
  },
  {
   "cell_type": "code",
   "execution_count": null,
   "metadata": {},
   "outputs": [],
   "source": [
    "data_basica(datos_personales, 'dni')"
   ]
  },
  {
   "cell_type": "code",
   "execution_count": null,
   "metadata": {},
   "outputs": [],
   "source": [
    "data_basica(tiempo_viaje, 'dni')"
   ]
  },
  {
   "cell_type": "code",
   "execution_count": null,
   "metadata": {},
   "outputs": [],
   "source": [
    "data_basica(anios_cbc, 'dni')"
   ]
  },
  {
   "cell_type": "markdown",
   "metadata": {},
   "source": [
    "Todo parece estar bien el único que falta corregir es resumen_semestre"
   ]
  },
  {
   "cell_type": "code",
   "execution_count": null,
   "metadata": {},
   "outputs": [],
   "source": [
    "resumen_semestre.drop(columns=['total_actividad'], inplace=True)\n",
    "resumen_semestre"
   ]
  },
  {
   "cell_type": "code",
   "execution_count": null,
   "metadata": {},
   "outputs": [],
   "source": [
    "resumen_semestre = resumen_semestre[resumen_semestre['semestre_relativo'] != 4]"
   ]
  },
  {
   "cell_type": "code",
   "execution_count": null,
   "metadata": {},
   "outputs": [],
   "source": [
    "resumen_semestre['dni'].nunique()"
   ]
  },
  {
   "cell_type": "code",
   "execution_count": null,
   "metadata": {},
   "outputs": [],
   "source": [
    "# Hacemos melt para que quede en formato largo (si no lo está ya)\n",
    "resumen_semestre_melt = pd.melt(\n",
    "    resumen_semestre, \n",
    "    id_vars=['dni', 'semestre_relativo'], \n",
    "    value_vars=['inscripciones', 'tp_aprobados', 'finales_inscriptos']\n",
    ")"
   ]
  },
  {
   "cell_type": "code",
   "execution_count": null,
   "metadata": {},
   "outputs": [],
   "source": [
    "# Ahora pivotamos para que cada variable quede con su sufijo de semestre\n",
    "resumen_semestre_pivot = resumen_semestre_melt.pivot_table(\n",
    "    index='dni', \n",
    "    columns=['variable', 'semestre_relativo'], \n",
    "    values='value'\n",
    ")\n",
    "\n",
    "# Acomodamos los nombres de las columnas\n",
    "resumen_semestre_pivot.columns = [f'{var}_{sem}' for var, sem in resumen_semestre_pivot.columns]\n",
    "resumen_semestre_pivot = resumen_semestre_pivot.reset_index()"
   ]
  },
  {
   "cell_type": "code",
   "execution_count": null,
   "metadata": {},
   "outputs": [],
   "source": [
    "#resumen_semestre_pivot.to_csv('../../../assets/silver/data_utilizada/resumen_personas_por_semestre_pivot.csv', index=False)"
   ]
  },
  {
   "cell_type": "code",
   "execution_count": 8,
   "metadata": {},
   "outputs": [],
   "source": [
    "resumen_semestre = pd.read_csv('../../../assets/silver/data_utilizada/resumen_personas_por_semestre_pivot.csv')"
   ]
  },
  {
   "cell_type": "code",
   "execution_count": null,
   "metadata": {},
   "outputs": [],
   "source": [
    "data_basica(resumen_semestre, 'dni')"
   ]
  },
  {
   "cell_type": "markdown",
   "metadata": {},
   "source": [
    "## JUNTAMOS TODO"
   ]
  },
  {
   "cell_type": "code",
   "execution_count": null,
   "metadata": {},
   "outputs": [],
   "source": [
    "# Unimos datos personales con resumen_semestre\n",
    "datos_personales.columns"
   ]
  },
  {
   "cell_type": "code",
   "execution_count": null,
   "metadata": {},
   "outputs": [],
   "source": [
    "datos_personales.drop(columns=['codigo_postal', 'localidad', 'departamento', 'provincia', 'pais', 'dominio_email', 'carrera_principal', 'acceso_a_internet', 'grupo_edad'], inplace=True)"
   ]
  },
  {
   "cell_type": "code",
   "execution_count": null,
   "metadata": {},
   "outputs": [],
   "source": [
    "cbc.rename(columns={'Dni': 'dni'}, inplace=True)"
   ]
  },
  {
   "cell_type": "code",
   "execution_count": null,
   "metadata": {},
   "outputs": [],
   "source": [
    "dataset_gold = datos_personales.merge(cbc, on='dni', how='left')\n",
    "dataset_gold.shape"
   ]
  },
  {
   "cell_type": "code",
   "execution_count": null,
   "metadata": {},
   "outputs": [],
   "source": [
    "resumen_semestre.columns"
   ]
  },
  {
   "cell_type": "code",
   "execution_count": null,
   "metadata": {},
   "outputs": [],
   "source": [
    "dataset_gold = dataset_gold.merge(resumen_semestre, on='dni', how='left')\n",
    "dataset_gold.shape"
   ]
  },
  {
   "cell_type": "code",
   "execution_count": null,
   "metadata": {},
   "outputs": [],
   "source": [
    "actas.columns"
   ]
  },
  {
   "cell_type": "code",
   "execution_count": null,
   "metadata": {},
   "outputs": [],
   "source": [
    "actas.rename(columns={'Dni': 'dni'}, inplace=True)"
   ]
  },
  {
   "cell_type": "code",
   "execution_count": null,
   "metadata": {},
   "outputs": [],
   "source": [
    "dataset_gold = dataset_gold.merge(actas, on='dni', how='left')\n",
    "dataset_gold.shape"
   ]
  },
  {
   "cell_type": "code",
   "execution_count": null,
   "metadata": {},
   "outputs": [],
   "source": [
    "dataset_gold = dataset_gold.merge(tiempo_viaje, on='dni', how='left')\n",
    "dataset_gold.shape"
   ]
  },
  {
   "cell_type": "code",
   "execution_count": null,
   "metadata": {},
   "outputs": [],
   "source": [
    "anios_cbc.columns"
   ]
  },
  {
   "cell_type": "code",
   "execution_count": null,
   "metadata": {},
   "outputs": [],
   "source": [
    "dataset_gold = dataset_gold.merge(anios_cbc, on='dni', how='left')\n",
    "dataset_gold.shape"
   ]
  },
  {
   "cell_type": "code",
   "execution_count": null,
   "metadata": {},
   "outputs": [],
   "source": [
    "dataset_gold"
   ]
  },
  {
   "cell_type": "code",
   "execution_count": null,
   "metadata": {},
   "outputs": [],
   "source": [
    "dataset_gold.to_csv('../../../assets/gold/dataset_gold_v1.csv', index=False)"
   ]
  },
  {
   "cell_type": "code",
   "execution_count": null,
   "metadata": {},
   "outputs": [],
   "source": [
    "dataset_gold.columns"
   ]
  },
  {
   "cell_type": "code",
   "execution_count": null,
   "metadata": {},
   "outputs": [],
   "source": [
    "dataset_gold_test = dataset_gold.drop(columns = ['dni'])"
   ]
  },
  {
   "cell_type": "code",
   "execution_count": null,
   "metadata": {},
   "outputs": [],
   "source": [
    "# Verifica si hay filas duplicadas\n",
    "duplicados = dataset_gold_test.duplicated()\n",
    "\n",
    "# Mostrar cuántas filas duplicadas hay\n",
    "print(f\"Cantidad de filas duplicadas: {duplicados.sum()}\")\n",
    "\n",
    "# Opcional: mostrar las filas duplicadas\n",
    "filas_duplicadas = dataset_gold_test[duplicados]\n",
    "print(filas_duplicadas)"
   ]
  },
  {
   "cell_type": "code",
   "execution_count": null,
   "metadata": {},
   "outputs": [],
   "source": [
    "dataset_gold_test = dataset_gold_test.drop(columns = ['nacionalidad'])"
   ]
  },
  {
   "cell_type": "code",
   "execution_count": null,
   "metadata": {},
   "outputs": [],
   "source": [
    "# Verifica si hay filas duplicadas\n",
    "duplicados = dataset_gold_test.duplicated()\n",
    "\n",
    "# Mostrar cuántas filas duplicadas hay\n",
    "print(f\"Cantidad de filas duplicadas: {duplicados.sum()}\")\n",
    "\n",
    "# Opcional: mostrar las filas duplicadas\n",
    "filas_duplicadas = dataset_gold_test[duplicados]\n",
    "print(filas_duplicadas)"
   ]
  },
  {
   "cell_type": "code",
   "execution_count": null,
   "metadata": {},
   "outputs": [],
   "source": [
    "dataset_gold_test = dataset_gold_test.drop(columns = ['tiempo_desde_cbc'])\n",
    "# Verifica si hay filas duplicadas\n",
    "duplicados = dataset_gold_test.duplicated()\n",
    "\n",
    "# Mostrar cuántas filas duplicadas hay\n",
    "print(f\"Cantidad de filas duplicadas: {duplicados.sum()}\")\n",
    "\n",
    "# Opcional: mostrar las filas duplicadas\n",
    "filas_duplicadas = dataset_gold_test[duplicados]\n",
    "print(filas_duplicadas)"
   ]
  }
 ],
 "metadata": {
  "kernelspec": {
   "display_name": ".venv",
   "language": "python",
   "name": "python3"
  },
  "language_info": {
   "codemirror_mode": {
    "name": "ipython",
    "version": 3
   },
   "file_extension": ".py",
   "mimetype": "text/x-python",
   "name": "python",
   "nbconvert_exporter": "python",
   "pygments_lexer": "ipython3",
   "version": "3.11.9"
  }
 },
 "nbformat": 4,
 "nbformat_minor": 2
}

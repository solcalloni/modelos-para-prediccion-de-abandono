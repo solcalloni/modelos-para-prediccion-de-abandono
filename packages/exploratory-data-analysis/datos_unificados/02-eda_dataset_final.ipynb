{
 "cells": [
  {
   "cell_type": "code",
   "execution_count": null,
   "metadata": {},
   "outputs": [],
   "source": [
    "import sys\n",
    "sys.path.insert(0, '../')\n",
    "import pandas as pd\n",
    "import numpy as np\n",
    "import matplotlib.pyplot as plt\n",
    "import matplotlib.ticker as ticker\n",
    "import seaborn as sns\n",
    "from ydata_profiling import ProfileReport\n",
    "import io\n",
    "import tabulate\n",
    "import helpers_eda_inicial\n",
    "import helpers_cbc"
   ]
  },
  {
   "cell_type": "code",
   "execution_count": null,
   "metadata": {},
   "outputs": [],
   "source": [
    "cbc, df_carreras = helpers_cbc.get_data('../../../assets/bronze/CBC/Sitacad_Tesis (1).xlsx')\n",
    "actas = pd.read_csv('../../../assets/bronze/FCEN/FCEN_oficial_v2/reportes_actas.csv')\n",
    "personas = pd.read_csv('../../../assets/bronze/FCEN/FCEN_oficial_v3/reporte_personas.csv')\n",
    "cbc['Dni'] = cbc['Dni'].astype(str)\n",
    "actas['fecha'] = pd.to_datetime(actas['fecha'], format='%Y-%m-%d')\n",
    "actas['año'] = actas['fecha'].dt.year\n",
    "actas['mes'] = actas['fecha'].dt.month"
   ]
  },
  {
   "cell_type": "markdown",
   "metadata": {},
   "source": [
    "Vamos a trabajar con las personas de LU 2021 y 2022"
   ]
  },
  {
   "cell_type": "code",
   "execution_count": null,
   "metadata": {},
   "outputs": [],
   "source": [
    "personas_2021_2022 = personas[(personas['año_inscripcion_facultad'] == 2021) | (personas['año_inscripcion_facultad'] == 2022)]\n",
    "personas_2021_2022['año_inscripcion_facultad'].value_counts().sort_index()"
   ]
  },
  {
   "cell_type": "code",
   "execution_count": 72,
   "metadata": {},
   "outputs": [],
   "source": [
    "personas_2021_2022_dnis = personas_2021_2022['dni'].unique()"
   ]
  },
  {
   "cell_type": "markdown",
   "metadata": {},
   "source": [
    "Nos guardamos las actas de las personas con LU 2021 y 2022"
   ]
  },
  {
   "cell_type": "code",
   "execution_count": 73,
   "metadata": {},
   "outputs": [],
   "source": [
    "actas_inscriptos_2021_2022 = actas[actas['dni'].isin(personas_2021_2022_dnis)]"
   ]
  },
  {
   "cell_type": "code",
   "execution_count": 74,
   "metadata": {},
   "outputs": [],
   "source": [
    "personas_con_actas = personas_2021_2022.merge(actas_inscriptos_2021_2022, on='dni', how='left')"
   ]
  },
  {
   "cell_type": "code",
   "execution_count": null,
   "metadata": {},
   "outputs": [],
   "source": [
    "personas_con_actas.groupby('año_inscripcion_facultad')['dni'].nunique().sort_index()"
   ]
  },
  {
   "cell_type": "code",
   "execution_count": null,
   "metadata": {},
   "outputs": [],
   "source": [
    "personas_con_actas.columns"
   ]
  },
  {
   "cell_type": "markdown",
   "metadata": {},
   "source": [
    "Vemos que hay personas que no tienen actas asignadas, pues no tienen un valor en la columna 'resultado' (donde antes siempre teníamos los valores Aprobado, Reprobado o Ausente) Pero a nosotros nos interesa quedarnos solamente con aquellas personas que tienen regitros en siu-guarani."
   ]
  },
  {
   "cell_type": "code",
   "execution_count": null,
   "metadata": {},
   "outputs": [],
   "source": [
    "personas_con_actas['resultado'].value_counts(dropna = False)"
   ]
  },
  {
   "cell_type": "code",
   "execution_count": 78,
   "metadata": {},
   "outputs": [],
   "source": [
    "alumnos_sin_actas = personas_con_actas[personas_con_actas['resultado'].isna()]['dni'].unique()"
   ]
  },
  {
   "cell_type": "code",
   "execution_count": null,
   "metadata": {},
   "outputs": [],
   "source": [
    "personas_con_actas = personas_con_actas[~personas_con_actas['resultado'].isna()]\n",
    "personas_con_actas[personas_con_actas['dni'].isin(alumnos_sin_actas)]"
   ]
  },
  {
   "cell_type": "code",
   "execution_count": null,
   "metadata": {},
   "outputs": [],
   "source": [
    "personas_con_actas['resultado'].value_counts(dropna = False)"
   ]
  },
  {
   "cell_type": "code",
   "execution_count": null,
   "metadata": {},
   "outputs": [],
   "source": [
    "personas_con_actas.groupby('año_inscripcion_facultad')['dni'].nunique().sort_index()"
   ]
  },
  {
   "cell_type": "markdown",
   "metadata": {},
   "source": [
    "Veo además que hay personas con actas anteriores a 2021, lo cual es extraño, pero podrían ser datos mal ingresados o tal vez está relacionado con la pandemia, no se si será gente que no pudo anotarse durante el 2020 pero les permitieron cursar o algo así."
   ]
  },
  {
   "cell_type": "code",
   "execution_count": null,
   "metadata": {},
   "outputs": [],
   "source": [
    "actas_inscriptos_2021_2022['año'].value_counts().sort_index()"
   ]
  },
  {
   "cell_type": "code",
   "execution_count": null,
   "metadata": {},
   "outputs": [],
   "source": [
    "actas_inscriptos_2021_2022[actas_inscriptos_2021_2022['año'] < 2021]['dni'].unique().shape[0]"
   ]
  },
  {
   "cell_type": "code",
   "execution_count": null,
   "metadata": {},
   "outputs": [],
   "source": [
    "actas_inscriptos_2021_2022[actas_inscriptos_2021_2022['año'] == 2020]['dni'].unique().shape[0]"
   ]
  },
  {
   "cell_type": "code",
   "execution_count": null,
   "metadata": {},
   "outputs": [],
   "source": [
    "actas_inscriptos_2021_2022[actas_inscriptos_2021_2022['año'] == 2020]['materia'].value_counts().sort_index()"
   ]
  },
  {
   "cell_type": "code",
   "execution_count": null,
   "metadata": {},
   "outputs": [],
   "source": [
    "personas_con_actas.groupby('año_inscripcion_facultad')['año'].value_counts().sort_index()"
   ]
  },
  {
   "cell_type": "code",
   "execution_count": null,
   "metadata": {},
   "outputs": [],
   "source": [
    "personas_con_actas.groupby(['año_inscripcion_facultad','año'])['dni'].nunique().sort_index()"
   ]
  },
  {
   "cell_type": "markdown",
   "metadata": {},
   "source": [
    "Me fijo de eliminar las actas anteriores al año de inscripción de la personas. Al sacar las actas anteriores a su año de inscripción me quedan 3083 de las 3170 que eran originalmente. Sin embargo, veo que hay muchas personas con LU 2021 que tienen registros de actas en 2020, por lo que me voy a fijar de directamente sacar las personas que tienen registros en 2020."
   ]
  },
  {
   "cell_type": "code",
   "execution_count": 88,
   "metadata": {},
   "outputs": [],
   "source": [
    "personas_con_actas_2021_o_mas = personas_con_actas[personas_con_actas['año_inscripcion_facultad'] <= personas_con_actas['año']]"
   ]
  },
  {
   "cell_type": "code",
   "execution_count": null,
   "metadata": {},
   "outputs": [],
   "source": [
    "personas_con_actas_2021_o_mas['dni'].nunique(), personas_con_actas['dni'].nunique()"
   ]
  },
  {
   "cell_type": "code",
   "execution_count": null,
   "metadata": {},
   "outputs": [],
   "source": [
    "personas_con_actas.groupby('año_inscripcion_facultad')['dni'].nunique().sort_index()"
   ]
  },
  {
   "cell_type": "markdown",
   "metadata": {},
   "source": [
    "Me fijo de directamente eliminar a las personas que tienen actas anteriores a su año de inscripción."
   ]
  },
  {
   "cell_type": "code",
   "execution_count": 91,
   "metadata": {},
   "outputs": [],
   "source": [
    "dnis_actas_anteriores_inscripcion = personas_con_actas[personas_con_actas['año_inscripcion_facultad'] > personas_con_actas['año']]['dni'].unique()"
   ]
  },
  {
   "cell_type": "code",
   "execution_count": null,
   "metadata": {},
   "outputs": [],
   "source": [
    "dnis_actas_anteriores_inscripcion.size, personas_con_actas['dni'].nunique()"
   ]
  },
  {
   "cell_type": "code",
   "execution_count": 93,
   "metadata": {},
   "outputs": [],
   "source": [
    "personas_con_actas_restringido_2021 = personas_con_actas[~personas_con_actas['dni'].isin(dnis_actas_anteriores_inscripcion)]"
   ]
  },
  {
   "cell_type": "code",
   "execution_count": null,
   "metadata": {},
   "outputs": [],
   "source": [
    "personas_con_actas_restringido_2021['dni'].nunique(), personas_con_actas['dni'].nunique()"
   ]
  },
  {
   "cell_type": "code",
   "execution_count": null,
   "metadata": {},
   "outputs": [],
   "source": [
    "personas_con_actas_restringido_2021.groupby(['año_inscripcion_facultad','año'])['dni'].nunique().sort_index()"
   ]
  },
  {
   "cell_type": "code",
   "execution_count": null,
   "metadata": {},
   "outputs": [],
   "source": [
    "personas_con_actas_restringido_2021.groupby('año_inscripcion_facultad')['dni'].nunique().sort_index()"
   ]
  },
  {
   "cell_type": "markdown",
   "metadata": {},
   "source": [
    "## Con lo que vamos a trabajar"
   ]
  },
  {
   "cell_type": "markdown",
   "metadata": {},
   "source": [
    "Entonces, trabajamos con personas_con_actas_restringido_2021, este dataset contiene los datos personales y las actas de la FCEN. Lo comenzamos a analizar, pero luego debemos fijarnos de juntarlo con los datos del CBC y encuestas de manera correcta."
   ]
  },
  {
   "cell_type": "markdown",
   "metadata": {},
   "source": [
    "#### No importa si no tenemos el historial de su CBC"
   ]
  },
  {
   "cell_type": "code",
   "execution_count": null,
   "metadata": {},
   "outputs": [],
   "source": [
    "personas_con_actas_restringido_2021.dtypes"
   ]
  },
  {
   "cell_type": "code",
   "execution_count": null,
   "metadata": {},
   "outputs": [],
   "source": [
    "personas_con_actas_restringido_2021.drop(columns=['nivel_estudio','estado_nivel_estudio'], inplace=True)"
   ]
  },
  {
   "cell_type": "code",
   "execution_count": 99,
   "metadata": {},
   "outputs": [],
   "source": [
    "#helpers_eda_inicial.dataset_profiling(personas_con_actas_restringido_2021, 'personas_con_actas_restringido_2021')"
   ]
  },
  {
   "cell_type": "markdown",
   "metadata": {},
   "source": [
    "### Deberíamos asignar semestre relativo\n",
    "\n",
    "Pues de esta manera nos aseguramos de trabajar con gente que tenga los registros necesarios (aunque ya descartamos a la gente que no tenía registros o cuyos registros eran anteriores a su año de inscripción)\n",
    "\n",
    "Cuál variable estamos tomando como target? El alumno se encuentra en riesgo de abandono en el semestre relativo 4, donde riesgo de abandono sería #inscripciones + #tps_aprobados + #finales < 3\n",
    "\n",
    "Por lo tanto:\n",
    "\n",
    "Toma valor 0 si\n",
    "#inscripciones + #tps_aprobados + #finales >= 3 en el semestre relativo 4\n",
    "\n",
    "Toma valor 1 si \n",
    "#inscripciones + #tps_aprobados + #finales < 3 en el semestre relativo 4\n",
    "Es decir, el alumno se encuentra en riesgo de abandono en el semestre relativo 4"
   ]
  },
  {
   "cell_type": "code",
   "execution_count": null,
   "metadata": {},
   "outputs": [],
   "source": [
    "personas_con_actas_restringido_2021.columns"
   ]
  },
  {
   "cell_type": "markdown",
   "metadata": {},
   "source": [
    "Primero lo defino como si todos estuvieran desde el primer cuatrimestre de cada año"
   ]
  },
  {
   "cell_type": "code",
   "execution_count": null,
   "metadata": {},
   "outputs": [],
   "source": [
    "conditions_iniciales = [\n",
    "    (personas_con_actas_restringido_2021['año_inscripcion_facultad'] == 2022) & (personas_con_actas_restringido_2021['año'] == 2022) & (personas_con_actas_restringido_2021['mes'].between(1, 8)),\n",
    "    (personas_con_actas_restringido_2021['año_inscripcion_facultad'] == 2022) & (personas_con_actas_restringido_2021['año'] == 2022) & (personas_con_actas_restringido_2021['mes'].between(9, 12)),\n",
    "    (personas_con_actas_restringido_2021['año_inscripcion_facultad'] == 2022) & (personas_con_actas_restringido_2021['año'] == 2023) & (personas_con_actas_restringido_2021['mes'].isin([1, 2])),\n",
    "    (personas_con_actas_restringido_2021['año_inscripcion_facultad'] == 2022) & (personas_con_actas_restringido_2021['año'] == 2023) & (personas_con_actas_restringido_2021['mes'].between(3, 8)),\n",
    "    (personas_con_actas_restringido_2021['año_inscripcion_facultad'] == 2022) & (personas_con_actas_restringido_2021['año'] == 2023) & (personas_con_actas_restringido_2021['mes'].between(9, 12)),\n",
    "    (personas_con_actas_restringido_2021['año_inscripcion_facultad'] == 2022) & (personas_con_actas_restringido_2021['año'] == 2024) & (personas_con_actas_restringido_2021['mes'].isin([1, 2])),\n",
    "    (personas_con_actas_restringido_2021['año_inscripcion_facultad'] == 2022) & (personas_con_actas_restringido_2021['año'] == 2024) & (personas_con_actas_restringido_2021['mes'].between(3, 8)),\n",
    "    (personas_con_actas_restringido_2021['año_inscripcion_facultad'] == 2022) & (personas_con_actas_restringido_2021['año'] == 2024) & (personas_con_actas_restringido_2021['mes'].between(9, 12)),\n",
    "    (personas_con_actas_restringido_2021['año_inscripcion_facultad'] == 2022) & (personas_con_actas_restringido_2021['año'] == 2025), ##Ahora aclaro para 2021\n",
    "    (personas_con_actas_restringido_2021['año_inscripcion_facultad'] == 2021) & (personas_con_actas_restringido_2021['año'] == 2021) & (personas_con_actas_restringido_2021['mes'].between(1, 8)),\n",
    "    (personas_con_actas_restringido_2021['año_inscripcion_facultad'] == 2021) & (personas_con_actas_restringido_2021['año'] == 2021) & (personas_con_actas_restringido_2021['mes'].between(9, 12)),\n",
    "    (personas_con_actas_restringido_2021['año_inscripcion_facultad'] == 2021) & (personas_con_actas_restringido_2021['año'] == 2022) & (personas_con_actas_restringido_2021['mes'].isin([1, 2])),\n",
    "    (personas_con_actas_restringido_2021['año_inscripcion_facultad'] == 2021) & (personas_con_actas_restringido_2021['año'] == 2022) & (personas_con_actas_restringido_2021['mes'].between(3, 8)),\n",
    "    (personas_con_actas_restringido_2021['año_inscripcion_facultad'] == 2021) & (personas_con_actas_restringido_2021['año'] == 2022) & (personas_con_actas_restringido_2021['mes'].between(9, 12)),\n",
    "    (personas_con_actas_restringido_2021['año_inscripcion_facultad'] == 2021) & (personas_con_actas_restringido_2021['año'] == 2023) & (personas_con_actas_restringido_2021['mes'].isin([1, 2])),\n",
    "    (personas_con_actas_restringido_2021['año_inscripcion_facultad'] == 2021) & (personas_con_actas_restringido_2021['año'] == 2023) & (personas_con_actas_restringido_2021['mes'].between(3, 8)),\n",
    "    (personas_con_actas_restringido_2021['año_inscripcion_facultad'] == 2021) & (personas_con_actas_restringido_2021['año'] == 2023) & (personas_con_actas_restringido_2021['mes'].between(9, 12)),\n",
    "    (personas_con_actas_restringido_2021['año_inscripcion_facultad'] == 2021) & (personas_con_actas_restringido_2021['año'] == 2024) & (personas_con_actas_restringido_2021['mes'].isin([1, 2])),\n",
    "]\n",
    "values = [0, 1, 1, 2, 3, 3, 4, 5, 5, 0, 1, 1, 2, 3, 3, 4, 5, 5]\n",
    "\n",
    "personas_con_actas_restringido_2021['semestre_relativo'] = np.select(conditions_iniciales, values, default=np.nan)"
   ]
  },
  {
   "cell_type": "markdown",
   "metadata": {},
   "source": [
    "Vemos que hay un gran conjunto de actas que no se les asignó un semestre relativo. Sin embargo, la gran mayoría de esas actas pertenecen a personas que tienen asignadas actas para los semestres relativos 0 y 1"
   ]
  },
  {
   "cell_type": "code",
   "execution_count": null,
   "metadata": {},
   "outputs": [],
   "source": [
    "personas_con_actas_restringido_2021['semestre_relativo'].value_counts(dropna = False)"
   ]
  },
  {
   "cell_type": "code",
   "execution_count": null,
   "metadata": {},
   "outputs": [],
   "source": [
    "actas_sin_semestre_relativo = personas_con_actas_restringido_2021[personas_con_actas_restringido_2021['semestre_relativo'].isna()]['dni'].unique()\n",
    "actas_sin_semestre_relativo.shape"
   ]
  },
  {
   "cell_type": "code",
   "execution_count": null,
   "metadata": {},
   "outputs": [],
   "source": [
    "personas_con_actas_restringido_2021[personas_con_actas_restringido_2021['dni'].isin(actas_sin_semestre_relativo) & (personas_con_actas_restringido_2021['semestre_relativo'].isin([0,1]))]['dni'].nunique()"
   ]
  },
  {
   "cell_type": "markdown",
   "metadata": {},
   "source": [
    "Por ahora, voy a pasar a asignar si la persona es del primer o segundo semestre de cada año."
   ]
  },
  {
   "cell_type": "code",
   "execution_count": null,
   "metadata": {},
   "outputs": [],
   "source": [
    "cohorte_20221c = personas_con_actas_restringido_2021[(personas_con_actas_restringido_2021['año_inscripcion_facultad'] == 2022) & (personas_con_actas_restringido_2021['semestre_relativo'] == 0)]['dni'].unique()\n",
    "personas_con_actas_restringido_2021['es_cohorte_2022C1'] = personas_con_actas_restringido_2021['dni'].isin(cohorte_20221c)"
   ]
  },
  {
   "cell_type": "code",
   "execution_count": null,
   "metadata": {},
   "outputs": [],
   "source": [
    "cohorte_20221c.size"
   ]
  },
  {
   "cell_type": "markdown",
   "metadata": {},
   "source": [
    "El resto de 2022 debería ser de la cohorte 2022C2, por lo que nos quedamos con ellos y les restamos 1 a su valor en la columna 'semestre_relativo'. Luego, los que sigan sin tener un semestre 0, los sacamos."
   ]
  },
  {
   "cell_type": "code",
   "execution_count": null,
   "metadata": {},
   "outputs": [],
   "source": [
    "cohorte_20222c = personas_con_actas_restringido_2021[(personas_con_actas_restringido_2021['año_inscripcion_facultad'] == 2022) & (~personas_con_actas_restringido_2021['dni'].isin(cohorte_20221c))]['dni'].unique()\n",
    "personas_con_actas_restringido_2021['es_cohorte_2022C2']= personas_con_actas_restringido_2021['dni'].isin(cohorte_20222c)\n",
    "cohorte_20222c.size"
   ]
  },
  {
   "cell_type": "code",
   "execution_count": 108,
   "metadata": {},
   "outputs": [],
   "source": [
    "personas_con_actas_restringido_2021.loc[personas_con_actas_restringido_2021['es_cohorte_2022C2'], 'semestre_relativo'] -= 1"
   ]
  },
  {
   "cell_type": "code",
   "execution_count": null,
   "metadata": {},
   "outputs": [],
   "source": [
    "# 1. Filtrar los DNI que *sí* tienen al menos una fila con semestre_relativo_20222c == 0\n",
    "dnis_con_semestre_0 = personas_con_actas_restringido_2021.loc[\n",
    "    (personas_con_actas_restringido_2021['es_cohorte_2022C2']) & (personas_con_actas_restringido_2021['semestre_relativo'] == 0), 'dni'\n",
    "].unique()\n",
    "\n",
    "# 2. Filtrar los DNI que *no* están en esa lista\n",
    "dnis_sin_semestre_0 = personas_con_actas_restringido_2021.loc[\n",
    "   (personas_con_actas_restringido_2021['es_cohorte_2022C2']) & (~personas_con_actas_restringido_2021['dni'].isin(dnis_con_semestre_0)), 'dni'\n",
    "].unique()\n",
    "\n",
    "# 3. Mostrar los resultados\n",
    "print(dnis_sin_semestre_0)"
   ]
  },
  {
   "cell_type": "code",
   "execution_count": 110,
   "metadata": {},
   "outputs": [],
   "source": [
    "personas_con_actas_restringido_2021 = personas_con_actas_restringido_2021[~personas_con_actas_restringido_2021['dni'].isin(dnis_sin_semestre_0)]"
   ]
  },
  {
   "cell_type": "markdown",
   "metadata": {},
   "source": [
    "Hasta este punto debería haber quedado completamente arreglado todos los que se inscribieron en 2022"
   ]
  },
  {
   "cell_type": "code",
   "execution_count": null,
   "metadata": {},
   "outputs": [],
   "source": [
    "cohorte_20222c = personas_con_actas_restringido_2021[(personas_con_actas_restringido_2021['año_inscripcion_facultad'] == 2022) & (personas_con_actas_restringido_2021['es_cohorte_2022C2'])]['dni'].unique()\n",
    "cohorte_20222c.size"
   ]
  },
  {
   "cell_type": "code",
   "execution_count": null,
   "metadata": {},
   "outputs": [],
   "source": [
    "personas_con_actas_restringido_2021[personas_con_actas_restringido_2021['año_inscripcion_facultad'] == 2022]['dni'].nunique()"
   ]
  },
  {
   "cell_type": "markdown",
   "metadata": {},
   "source": [
    "Ahora debemos arreglar la cohorte de 2021."
   ]
  },
  {
   "cell_type": "code",
   "execution_count": null,
   "metadata": {},
   "outputs": [],
   "source": [
    "cohorte_20211c = personas_con_actas_restringido_2021[(personas_con_actas_restringido_2021['año_inscripcion_facultad'] == 2021) & (personas_con_actas_restringido_2021['semestre_relativo'] == 0)]['dni'].unique()\n",
    "personas_con_actas_restringido_2021['es_cohorte_2021C1'] = personas_con_actas_restringido_2021['dni'].isin(cohorte_20211c)\n",
    "cohorte_20211c.size"
   ]
  },
  {
   "cell_type": "code",
   "execution_count": null,
   "metadata": {},
   "outputs": [],
   "source": [
    "cohorte_20212c = personas_con_actas_restringido_2021[(personas_con_actas_restringido_2021['año_inscripcion_facultad'] == 2021) & (~personas_con_actas_restringido_2021['dni'].isin(cohorte_20211c))]['dni'].unique()\n",
    "personas_con_actas_restringido_2021['es_cohorte_2021C2']= personas_con_actas_restringido_2021['dni'].isin(cohorte_20212c)\n",
    "cohorte_20212c.size"
   ]
  },
  {
   "cell_type": "code",
   "execution_count": 115,
   "metadata": {},
   "outputs": [],
   "source": [
    "personas_con_actas_restringido_2021.loc[personas_con_actas_restringido_2021['es_cohorte_2021C2'], 'semestre_relativo'] -= 1"
   ]
  },
  {
   "cell_type": "code",
   "execution_count": null,
   "metadata": {},
   "outputs": [],
   "source": [
    "# 1. Filtrar los DNI que *sí* tienen al menos una fila con semestre_relativo_20222c == 0\n",
    "dnis_con_semestre_0 = personas_con_actas_restringido_2021.loc[\n",
    "    (personas_con_actas_restringido_2021['es_cohorte_2021C2']) & (personas_con_actas_restringido_2021['semestre_relativo'] == 0), 'dni'\n",
    "].unique()\n",
    "\n",
    "# 2. Filtrar los DNI que *no* están en esa lista\n",
    "dnis_sin_semestre_0 = personas_con_actas_restringido_2021.loc[\n",
    "   (personas_con_actas_restringido_2021['es_cohorte_2021C2']) & (~personas_con_actas_restringido_2021['dni'].isin(dnis_con_semestre_0)), 'dni'\n",
    "].unique()\n",
    "\n",
    "# 3. Mostrar los resultados\n",
    "print(dnis_sin_semestre_0)"
   ]
  },
  {
   "cell_type": "code",
   "execution_count": null,
   "metadata": {},
   "outputs": [],
   "source": [
    "personas_con_actas_restringido_2021 = personas_con_actas_restringido_2021[~personas_con_actas_restringido_2021['dni'].isin(dnis_sin_semestre_0)]\n",
    "cohorte_20212c = personas_con_actas_restringido_2021[(personas_con_actas_restringido_2021['año_inscripcion_facultad'] == 2021) & (personas_con_actas_restringido_2021['es_cohorte_2021C2'])]['dni'].unique()\n",
    "cohorte_20212c.size"
   ]
  },
  {
   "cell_type": "code",
   "execution_count": null,
   "metadata": {},
   "outputs": [],
   "source": [
    "personas_con_actas_restringido_2021['semestre_relativo'].value_counts(dropna = False)"
   ]
  },
  {
   "cell_type": "code",
   "execution_count": null,
   "metadata": {},
   "outputs": [],
   "source": [
    "personas_con_actas_restringido_2021[personas_con_actas_restringido_2021['semestre_relativo'].isnull()]['fecha'].hist()"
   ]
  },
  {
   "cell_type": "code",
   "execution_count": null,
   "metadata": {},
   "outputs": [],
   "source": [
    "personas_con_actas_restringido_2021 = personas_con_actas_restringido_2021[personas_con_actas_restringido_2021['semestre_relativo'] < 5]\n",
    "personas_con_actas_restringido_2021['semestre_relativo'].value_counts(dropna = False)"
   ]
  },
  {
   "cell_type": "code",
   "execution_count": null,
   "metadata": {},
   "outputs": [],
   "source": [
    "personas_con_actas_restringido_2021['dni'].nunique()"
   ]
  },
  {
   "cell_type": "markdown",
   "metadata": {},
   "source": [
    "Me quedo con el dataset que tenga solamente las personas para las que encontré actas y que cumplen con el requisito de que sus actas sean posteriores a su año de inscripción."
   ]
  },
  {
   "cell_type": "code",
   "execution_count": null,
   "metadata": {},
   "outputs": [],
   "source": [
    "dni_personas_con_actas_restringido_2021 = personas_con_actas_restringido_2021['dni'].unique()\n",
    "personas_restringido_2021_a_2022 = personas[personas['dni'].isin(dni_personas_con_actas_restringido_2021)]\n",
    "personas_restringido_2021_a_2022['dni'].nunique(), personas_con_actas_restringido_2021['dni'].nunique()"
   ]
  },
  {
   "cell_type": "code",
   "execution_count": null,
   "metadata": {},
   "outputs": [],
   "source": [
    "personas_restringido_2021_a_2022.drop(columns=['nivel_estudio','estado_nivel_estudio'], inplace=True)"
   ]
  },
  {
   "cell_type": "code",
   "execution_count": 124,
   "metadata": {},
   "outputs": [],
   "source": [
    "#helpers_eda_inicial.dataset_profiling(personas_restringido_2021_a_2022, 'personas_restringido_2021_a_2022')"
   ]
  },
  {
   "cell_type": "markdown",
   "metadata": {},
   "source": [
    "### Edad\n",
    "\n",
    "Recordemos que para el estudio de características de las personas usamos personas_restringido_2021_a_2022, que usa los DNI de personas_con_actas_restringido_2021"
   ]
  },
  {
   "cell_type": "code",
   "execution_count": null,
   "metadata": {},
   "outputs": [],
   "source": [
    "# hago un barplot de personas_restringido_2021_a_2022['edad']\n",
    "%matplotlib inline\n",
    "\n",
    "plt.figure(figsize=(10, 5))\n",
    "sns.histplot(personas_restringido_2021_a_2022['edad'], bins=20)\n",
    "plt.title('Distribución de edades de los alumnos')\n",
    "plt.xlabel('Edad')\n",
    "plt.ylabel('Frecuencia')\n",
    "plt.show()"
   ]
  },
  {
   "cell_type": "code",
   "execution_count": null,
   "metadata": {},
   "outputs": [],
   "source": [
    "# hago un boxplot de personas_restringido_2021_a_2022['edad']\n",
    "plt.figure(figsize=(10, 5))\n",
    "sns.boxplot(x=personas_restringido_2021_a_2022['edad'])\n",
    "plt.title('Boxplot de edades de los alumnos')\n",
    "plt.xlabel('Edad')\n",
    "plt.show()"
   ]
  },
  {
   "cell_type": "code",
   "execution_count": null,
   "metadata": {},
   "outputs": [],
   "source": [
    "# reemplazo por NA las edades iguales a 125\n",
    "personas_restringido_2021_a_2022['edad'].replace(125, np.nan, inplace=True)\n",
    "personas_con_actas_restringido_2021['edad'].replace(125, np.nan, inplace=True)"
   ]
  },
  {
   "cell_type": "code",
   "execution_count": null,
   "metadata": {},
   "outputs": [],
   "source": [
    "# hago un barplot de personas_restringido_2021_a_2022['edad']\n",
    "plt.figure(figsize=(10, 5))\n",
    "sns.histplot(personas_restringido_2021_a_2022['edad'], bins=20)\n",
    "plt.title('Distribución de edades de los alumnos en el año 2025')\n",
    "plt.xlabel('Edad')\n",
    "plt.ylabel('Frecuencia')\n",
    "plt.show()"
   ]
  },
  {
   "cell_type": "code",
   "execution_count": null,
   "metadata": {},
   "outputs": [],
   "source": [
    "# si en 'año_inscripcion_facultad' es 2021, entonces 'edad' es igual a 'edad' - 4. Pero si en 'año_inscripcion_facultad' es 2022, entonces 'edad' es igual a 'edad' - 3\n",
    "personas_restringido_2021_a_2022['edad_inscripcion'] = np.where(personas_restringido_2021_a_2022['año_inscripcion_facultad'] == 2021,\n",
    "                                                      personas_restringido_2021_a_2022['edad'] - 4,\n",
    "                                                      personas_restringido_2021_a_2022['edad'] - 3)\n",
    "# hago un barplot de personas_restringido_2021_a_2022['edad_inscripcion']\n",
    "plt.figure(figsize=(10, 5))\n",
    "sns.histplot(personas_restringido_2021_a_2022['edad_inscripcion'], bins=30, stat='probability')\n",
    "plt.title('Distribución de edades de los alumnos al inscribirse', fontsize=15)\n",
    "plt.xticks(fontsize=12)\n",
    "plt.yticks(fontsize=12)\n",
    "plt.xlabel('Edad', fontsize=15)\n",
    "plt.ylabel('Proporción', fontsize=15)\n",
    "plt.show()"
   ]
  },
  {
   "cell_type": "code",
   "execution_count": null,
   "metadata": {},
   "outputs": [],
   "source": [
    "# hago un boxplot de personas_restringido_2021_a_2022['edad']\n",
    "plt.figure(figsize=(10, 5))\n",
    "sns.boxplot(x=personas_restringido_2021_a_2022['edad_inscripcion'])\n",
    "plt.title('Boxplot de edades de los alumnos al inscribirse')\n",
    "plt.xlabel('Edad')\n",
    "plt.show()"
   ]
  },
  {
   "cell_type": "code",
   "execution_count": null,
   "metadata": {},
   "outputs": [],
   "source": [
    "plt.figure(figsize=(10, 5))\n",
    "sns.histplot(personas_restringido_2021_a_2022[~personas_restringido_2021_a_2022['edad_inscripcion'].isna()]['edad_inscripcion'], bins=30, stat='probability')\n",
    "plt.gca().yaxis  # eje Y en %\n",
    "plt.gca().xaxis.set_major_locator(ticker.MultipleLocator(5))  # ticks cada 1 año\n",
    "\n",
    "plt.title('Distribución de edades de los alumnos al inscribirse', fontsize=15)\n",
    "plt.xticks(fontsize=12)\n",
    "plt.yticks(fontsize=12)\n",
    "plt.xlabel('Edad', fontsize=12)\n",
    "plt.ylabel('Porcentaje', fontsize=12)\n",
    "plt.show()"
   ]
  },
  {
   "cell_type": "code",
   "execution_count": null,
   "metadata": {},
   "outputs": [],
   "source": [
    "plt.figure(figsize=(10, 5))\n",
    "sns.histplot(personas_restringido_2021_a_2022[(~personas_restringido_2021_a_2022['edad_inscripcion'].isna()) & (personas_restringido_2021_a_2022['año_inscripcion_facultad'] == 2021)]['edad_inscripcion'], bins=30, stat='probability')\n",
    "plt.gca().yaxis.set_major_formatter(ticker.PercentFormatter(xmax=1.0))  # eje Y en %\n",
    "plt.gca().xaxis.set_major_locator(ticker.MultipleLocator(5))  # ticks cada 1 año\n",
    "\n",
    "plt.title('Distribución de edades de los alumnos al inscribirse en 2021')\n",
    "plt.xlabel('Edad')\n",
    "plt.ylabel('Porcentaje')\n",
    "plt.show()"
   ]
  },
  {
   "cell_type": "code",
   "execution_count": null,
   "metadata": {},
   "outputs": [],
   "source": [
    "# hago un boxplot de personas_restringido_2021_a_2022['edad']\n",
    "plt.figure(figsize=(10, 5))\n",
    "sns.boxplot(x=personas_restringido_2021_a_2022[(~personas_restringido_2021_a_2022['edad_inscripcion'].isna()) & (personas_restringido_2021_a_2022['año_inscripcion_facultad'] == 2021)]['edad_inscripcion'])\n",
    "plt.title('Boxplot de edades de los alumnos al inscribirse en 2021')\n",
    "plt.xlabel('Edad')\n",
    "plt.show()"
   ]
  },
  {
   "cell_type": "code",
   "execution_count": null,
   "metadata": {},
   "outputs": [],
   "source": [
    "plt.figure(figsize=(10, 5))\n",
    "sns.histplot(personas_restringido_2021_a_2022[(~personas_restringido_2021_a_2022['edad_inscripcion'].isna()) & (personas_restringido_2021_a_2022['año_inscripcion_facultad'] == 2022)]['edad_inscripcion'], bins=30, stat='probability')\n",
    "plt.gca().yaxis.set_major_formatter(ticker.PercentFormatter(xmax=1.0))  # eje Y en %\n",
    "plt.gca().xaxis.set_major_locator(ticker.MultipleLocator(5))  # ticks cada 1 año\n",
    "\n",
    "plt.title('Distribución de edades de los alumnos al inscribirse en 2022')\n",
    "plt.xlabel('Edad')\n",
    "plt.ylabel('Porcentaje')\n",
    "plt.show()"
   ]
  },
  {
   "cell_type": "code",
   "execution_count": null,
   "metadata": {},
   "outputs": [],
   "source": [
    "# hago un boxplot de personas_restringido_2021_a_2022['edad']\n",
    "plt.figure(figsize=(10, 5))\n",
    "sns.boxplot(x=personas_restringido_2021_a_2022[(~personas_restringido_2021_a_2022['edad_inscripcion'].isna()) & (personas_restringido_2021_a_2022['año_inscripcion_facultad'] == 2022)]['edad_inscripcion'])\n",
    "plt.title('Boxplot de edades de los alumnos al inscribirse en 2022')\n",
    "plt.xlabel('Edad')\n",
    "plt.show()"
   ]
  },
  {
   "cell_type": "markdown",
   "metadata": {},
   "source": [
    "### Sexo"
   ]
  },
  {
   "cell_type": "code",
   "execution_count": null,
   "metadata": {},
   "outputs": [],
   "source": [
    "# barplot de la variable sexo del dataset personas_restringido_2021_a_2022\n",
    "plt.figure(figsize=(10, 5))\n",
    "sns.countplot(x='sexo', data=personas_restringido_2021_a_2022)\n",
    "plt.title('Distribución de la variable sexo', fontsize=15)\n",
    "plt.xticks(fontsize=13)\n",
    "plt.yticks(fontsize=12)\n",
    "plt.xlabel('Sexo', fontsize=15)\n",
    "plt.ylabel('Cantidad', fontsize=15)\n",
    "plt.show()"
   ]
  },
  {
   "cell_type": "code",
   "execution_count": null,
   "metadata": {},
   "outputs": [],
   "source": [
    "# barplot de la variable sexo del dataset personas_restringido_2021_a_2022\n",
    "plt.figure(figsize=(10, 5))\n",
    "sns.countplot(x='sexo', data=personas_restringido_2021_a_2022, stat='probability')\n",
    "plt.title('Distribución de la variable sexo', fontsize=15)\n",
    "plt.xticks(fontsize=13)\n",
    "plt.yticks(fontsize=12)\n",
    "plt.xlabel('Sexo', fontsize=15)\n",
    "plt.ylabel('Proporción', fontsize=15)\n",
    "plt.show()"
   ]
  },
  {
   "cell_type": "code",
   "execution_count": null,
   "metadata": {},
   "outputs": [],
   "source": [
    "personas_restringido_2021_a_2022['sexo'].value_counts(normalize=True)"
   ]
  },
  {
   "cell_type": "code",
   "execution_count": null,
   "metadata": {},
   "outputs": [],
   "source": [
    "# barplot de la variable sexo del dataset personas_restringido_2021_a_2022, agrupado por año_inscripcion_facultad\n",
    "plt.figure(figsize=(10, 5))\n",
    "sns.countplot(x='sexo', data=personas_restringido_2021_a_2022, hue='año_inscripcion_facultad', stat='probability', palette='muted')\n",
    "plt.title('Distribución de sexo de los alumnos')\n",
    "plt.xlabel('Sexo')\n",
    "plt.ylabel('Frecuencia')\n",
    "plt.legend(title='Año de inscripción')\n",
    "plt.show()"
   ]
  },
  {
   "cell_type": "code",
   "execution_count": null,
   "metadata": {},
   "outputs": [],
   "source": [
    "# barplot de la variable sexo del dataset personas_restringido_2021_a_2022\n",
    "plt.figure(figsize=(10, 5))\n",
    "sns.countplot(x='sexo', data=personas_restringido_2021_a_2022[personas_restringido_2021_a_2022['año_inscripcion_facultad'] == 2021], stat='probability')\n",
    "plt.title('Distribución de sexo de los alumnos con inscripción en 2021')\n",
    "plt.xlabel('Sexo')\n",
    "plt.ylabel('Frecuencia')\n",
    "plt.show()"
   ]
  },
  {
   "cell_type": "code",
   "execution_count": null,
   "metadata": {},
   "outputs": [],
   "source": [
    "# barplot de la variable sexo del dataset personas_restringido_2021_a_2022\n",
    "plt.figure(figsize=(10, 5))\n",
    "sns.countplot(x='sexo', data=personas_restringido_2021_a_2022[personas_restringido_2021_a_2022['año_inscripcion_facultad'] == 2022], stat='probability', order=['Masculino', 'Femenino'])\n",
    "plt.title('Distribución de sexo de los alumnos con inscripción en 2022')\n",
    "plt.xlabel('Sexo')\n",
    "plt.ylabel('Frecuencia')\n",
    "plt.show()"
   ]
  },
  {
   "cell_type": "markdown",
   "metadata": {},
   "source": [
    "### Nacionalidad"
   ]
  },
  {
   "cell_type": "code",
   "execution_count": null,
   "metadata": {},
   "outputs": [],
   "source": [
    "# barplot de la variable sexo del dataset personas_restringido_2021_a_2022\n",
    "plt.figure(figsize=(10, 5))\n",
    "sns.countplot(x='nacionalidad', data=personas_restringido_2021_a_2022, stat='probability')\n",
    "plt.title('Distribución de la nacionalidad de los alumnos')\n",
    "plt.xlabel('Nacionalidad')\n",
    "plt.ylabel('Frecuencia')\n",
    "plt.show()"
   ]
  },
  {
   "cell_type": "markdown",
   "metadata": {},
   "source": [
    "### Variables que se usan para calcular tiempo de viaje"
   ]
  },
  {
   "cell_type": "code",
   "execution_count": null,
   "metadata": {},
   "outputs": [],
   "source": [
    "personas_restringido_2021_a_2022['pais'].value_counts(dropna = False).sort_index()"
   ]
  },
  {
   "cell_type": "code",
   "execution_count": null,
   "metadata": {},
   "outputs": [],
   "source": [
    "personas_restringido_2021_a_2022[personas_restringido_2021_a_2022['pais'].isna()]"
   ]
  },
  {
   "cell_type": "code",
   "execution_count": null,
   "metadata": {},
   "outputs": [],
   "source": [
    "personas_restringido_2021_a_2022[personas_restringido_2021_a_2022['codigo_postal'].isna()]['pais'].value_counts(dropna = False)"
   ]
  },
  {
   "cell_type": "code",
   "execution_count": null,
   "metadata": {},
   "outputs": [],
   "source": [
    "personas_restringido_2021_a_2022[personas_restringido_2021_a_2022['localidad'].isna()]['pais'].value_counts(dropna = False)"
   ]
  },
  {
   "cell_type": "code",
   "execution_count": null,
   "metadata": {},
   "outputs": [],
   "source": [
    "personas_restringido_2021_a_2022[personas_restringido_2021_a_2022['departamento'].isna()]['pais'].value_counts(dropna = False)"
   ]
  },
  {
   "cell_type": "code",
   "execution_count": null,
   "metadata": {},
   "outputs": [],
   "source": [
    "personas_restringido_2021_a_2022[personas_restringido_2021_a_2022['provincia'].isna()]['pais'].value_counts(dropna = False)"
   ]
  },
  {
   "cell_type": "markdown",
   "metadata": {},
   "source": [
    "### dominio_mail"
   ]
  },
  {
   "cell_type": "code",
   "execution_count": null,
   "metadata": {},
   "outputs": [],
   "source": [
    "# barplot de la variable sexo del dataset personas_restringido_2021_a_2022\n",
    "plt.figure(figsize=(10, 5))\n",
    "sns.countplot(x='dominio_email', data=personas_restringido_2021_a_2022, stat='probability')\n",
    "plt.title('Distribución del dominio_email de los alumnos')\n",
    "plt.xticks(rotation=45, ha='right') \n",
    "plt.xlabel('Dominio Email')\n",
    "plt.ylabel('Frecuencia')\n",
    "plt.show()"
   ]
  },
  {
   "cell_type": "markdown",
   "metadata": {},
   "source": [
    "### Situación madre y padre"
   ]
  },
  {
   "cell_type": "code",
   "execution_count": null,
   "metadata": {},
   "outputs": [],
   "source": [
    "# Función para preparar los datos con proporciones y NaN como categoría\n",
    "def preparar_datos(columna):\n",
    "    serie = personas_restringido_2021_a_2022[columna].fillna('Faltante')  # incluir NaN como \"Faltante\"\n",
    "    proporciones = serie.value_counts(normalize=True).reset_index()\n",
    "    proporciones.columns = ['categoria', 'proporcion']\n",
    "    return proporciones\n",
    "\n",
    "# Preparar los datos para cada columna\n",
    "df_padre = preparar_datos('situacion_padre')\n",
    "df_madre = preparar_datos('situacion_madre')\n",
    "\n",
    "# Crear figura con subplots\n",
    "fig, axes = plt.subplots(1, 2, figsize=(14, 6), sharey=True)\n",
    "\n",
    "# Barplot para situacion_padre\n",
    "sns.barplot(data=df_padre, x='categoria', y='proporcion', ax=axes[0])\n",
    "axes[0].set_title('Situación del Padre')\n",
    "axes[0].set_xlabel('Situación')\n",
    "axes[0].set_ylabel('Proporción')\n",
    "axes[0].tick_params(axis='x', rotation=45)\n",
    "\n",
    "# Barplot para situacion_madre\n",
    "sns.barplot(data=df_madre, x='categoria', y='proporcion', ax=axes[1])\n",
    "axes[1].set_title('Situación de la Madre')\n",
    "axes[1].set_xlabel('Situación')\n",
    "axes[1].set_ylabel('')\n",
    "axes[1].tick_params(axis='x', rotation=45)\n",
    "\n",
    "plt.tight_layout()\n",
    "plt.show()"
   ]
  },
  {
   "cell_type": "code",
   "execution_count": null,
   "metadata": {},
   "outputs": [],
   "source": [
    "# Preparar los datos para cada columna\n",
    "df_padre = preparar_datos('nivel_estudio_padre')\n",
    "df_madre = preparar_datos('nivel_estudio_madre')\n",
    "\n",
    "# Crear figura con subplots\n",
    "fig, axes = plt.subplots(1, 2, figsize=(14, 6), sharey=True)\n",
    "\n",
    "# Barplot para situacion_padre\n",
    "sns.barplot(data=df_padre, x='categoria', y='proporcion', ax=axes[0])\n",
    "axes[0].set_title('Nivel de estudio Padre', fontsize=15)\n",
    "axes[0].set_xlabel('Nivel de estudio', fontsize=14)\n",
    "axes[0].set_ylabel('Proporción', fontsize=14)\n",
    "axes[0].tick_params(axis='x', rotation=90)\n",
    "\n",
    "# Barplot para situacion_madre\n",
    "sns.barplot(data=df_madre, x='categoria', y='proporcion', ax=axes[1])\n",
    "axes[1].set_title('Nivel de Estudio Madre', fontsize=15)\n",
    "axes[1].set_xlabel('Nivel de estudio', fontsize=14)\n",
    "axes[1].set_ylabel('', fontsize=14)\n",
    "axes[1].tick_params(axis='x', rotation=90)\n",
    "\n",
    "plt.tight_layout()\n",
    "plt.show()"
   ]
  },
  {
   "cell_type": "code",
   "execution_count": null,
   "metadata": {},
   "outputs": [],
   "source": [
    "df_padre"
   ]
  },
  {
   "cell_type": "code",
   "execution_count": null,
   "metadata": {},
   "outputs": [],
   "source": [
    "df_madre"
   ]
  },
  {
   "cell_type": "code",
   "execution_count": null,
   "metadata": {},
   "outputs": [],
   "source": [
    "# Función para preparar los datos con conteo y NaN como categoría\n",
    "def preparar_datos_conteo(columna):\n",
    "    serie = personas_restringido_2021_a_2022[columna].fillna('Faltante')  # incluir NaN como \"Faltante\"\n",
    "    conteos = serie.value_counts().reset_index()\n",
    "    conteos.columns = ['categoria', 'cantidad']\n",
    "    return conteos\n",
    "\n",
    "# Preparar los datos para cada columna\n",
    "df_padre = preparar_datos_conteo('nivel_estudio_padre')\n",
    "df_madre = preparar_datos_conteo('nivel_estudio_madre')\n",
    "\n",
    "# Crear figura con subplots\n",
    "fig, axes = plt.subplots(1, 2, figsize=(14, 6), sharey=True)\n",
    "\n",
    "# Barplot para nivel_estudio_padre\n",
    "sns.barplot(data=df_padre, x='categoria', y='cantidad', ax=axes[0])\n",
    "axes[0].set_title('Nivel de estudio Padre')\n",
    "axes[0].set_xlabel('Nivel de estudio')\n",
    "axes[0].set_ylabel('Cantidad')\n",
    "axes[0].tick_params(axis='x', rotation=90)\n",
    "\n",
    "# Barplot para nivel_estudio_madre\n",
    "sns.barplot(data=df_madre, x='categoria', y='cantidad', ax=axes[1])\n",
    "axes[1].set_title('Nivel de Estudio Madre')\n",
    "axes[1].set_xlabel('Nivel de estudio')\n",
    "axes[1].set_ylabel('')\n",
    "axes[1].tick_params(axis='x', rotation=90)\n",
    "\n",
    "plt.tight_layout()\n",
    "plt.show()\n"
   ]
  },
  {
   "cell_type": "code",
   "execution_count": null,
   "metadata": {},
   "outputs": [],
   "source": [
    "helpers_eda_inicial.display_missing_values(personas_restringido_2021_a_2022)"
   ]
  },
  {
   "cell_type": "markdown",
   "metadata": {},
   "source": [
    "### acceso_a_internet"
   ]
  },
  {
   "cell_type": "code",
   "execution_count": null,
   "metadata": {},
   "outputs": [],
   "source": [
    "# Crear una copia de la columna, reemplazando NaN por \"Faltante\"\n",
    "df = personas_restringido_2021_a_2022[['dni', 'acceso_a_internet']].copy()\n",
    "#df['acceso_a_internet'] = df['acceso_a_internet'].fillna('Faltante')\n",
    "\n",
    "# Crear el barplot con proporciones\n",
    "plt.figure(figsize=(10, 5))\n",
    "sns.countplot(x='acceso_a_internet', data=df, stat='probability')\n",
    "plt.title('Distribución del acceso a internet de los alumnos')\n",
    "plt.xticks(rotation=45, ha='right') \n",
    "plt.xlabel('Acceso a internet')\n",
    "plt.ylabel('Proporción')\n",
    "plt.tight_layout()\n",
    "plt.show()"
   ]
  },
  {
   "cell_type": "markdown",
   "metadata": {},
   "source": [
    "### situacion_laboral"
   ]
  },
  {
   "cell_type": "code",
   "execution_count": null,
   "metadata": {},
   "outputs": [],
   "source": [
    "# Crear una copia de la columna, reemplazando NaN por \"Faltante\"\n",
    "nombres_largos = {\n",
    "    'No trabajó y no buscó trabajo (no esta pensando en trabajar)': 'No trabaja ni busca trabajo',\n",
    "    'Trabajó al menos una hora (incluye a los que no trabajaron por licencia, vacaciones, enfermedad)': 'Trabajó al menos una hora',\n",
    "    'No trabajó y buscó trabajo en algún momento de los últimos 30 días': 'No trabaja pero busca',\n",
    "    'Desconoce': 'Desconoce'\n",
    "}\n",
    "\n",
    "df = personas_restringido_2021_a_2022[['dni', 'situacion_laboral']].copy()\n",
    "df['situacion_laboral'] = df['situacion_laboral'].replace(nombres_largos)\n",
    "df['situacion_laboral'] = df['situacion_laboral'].fillna('Faltante')\n",
    "\n",
    "# Crear el barplot con proporciones\n",
    "plt.figure(figsize=(11, 6))\n",
    "sns.countplot(x='situacion_laboral', data=df, order=df['situacion_laboral'].value_counts(dropna = False).index)\n",
    "plt.title('Distribución de la situación laboral', fontsize=15)\n",
    "plt.xticks(rotation=45, ha='right', fontsize=12) \n",
    "plt.yticks(fontsize=12)\n",
    "plt.xlabel('Situación laboral', fontsize=15)\n",
    "plt.ylabel('Cantidad', fontsize=15)\n",
    "\n",
    "plt.tight_layout()\n",
    "plt.show()"
   ]
  },
  {
   "cell_type": "code",
   "execution_count": null,
   "metadata": {},
   "outputs": [],
   "source": [
    "# Crear una copia de la columna, reemplazando NaN por \"Faltante\"\n",
    "nombres_largos = {\n",
    "    'No trabajó y no buscó trabajo (no esta pensando en trabajar)': 'No trabaja ni busca trabajo',\n",
    "    'Trabajó al menos una hora (incluye a los que no trabajaron por licencia, vacaciones, enfermedad)': 'Trabajó al menos una hora',\n",
    "    'No trabajó y buscó trabajo en algún momento de los últimos 30 días': 'No trabaja pero busca',\n",
    "    'Desconoce': 'Desconoce'\n",
    "}\n",
    "\n",
    "df = personas_restringido_2021_a_2022[['dni', 'situacion_laboral']].copy()\n",
    "df['situacion_laboral'] = df['situacion_laboral'].replace(nombres_largos)\n",
    "df['situacion_laboral'] = df['situacion_laboral'].fillna('Faltante')\n",
    "\n",
    "# Crear el barplot con proporciones\n",
    "plt.figure(figsize=(11, 6))\n",
    "sns.countplot(x='situacion_laboral', data=df, stat='probability', order=df['situacion_laboral'].value_counts(dropna = False).index)\n",
    "plt.title('Distribución de la situación laboral', fontsize=15)\n",
    "plt.xticks(rotation=45, ha='right', fontsize=12) \n",
    "plt.yticks(fontsize=12)\n",
    "plt.xlabel('Situación laboral', fontsize=15)\n",
    "plt.ylabel('Proporción', fontsize=15)\n",
    "\n",
    "plt.tight_layout()\n",
    "plt.show()"
   ]
  },
  {
   "cell_type": "code",
   "execution_count": null,
   "metadata": {},
   "outputs": [],
   "source": [
    "df['situacion_laboral'].value_counts(normalize=True)"
   ]
  },
  {
   "cell_type": "markdown",
   "metadata": {},
   "source": [
    "### año_inscripcion_facultad"
   ]
  },
  {
   "cell_type": "code",
   "execution_count": null,
   "metadata": {},
   "outputs": [],
   "source": [
    "df = personas_restringido_2021_a_2022[['dni', 'año_inscripcion_facultad']].copy()\n",
    "df['año_inscripcion_facultad'] = df['año_inscripcion_facultad'].fillna('Faltante')\n",
    "\n",
    "# Crear el barplot con proporciones\n",
    "plt.figure(figsize=(10, 5))\n",
    "sns.countplot(x='año_inscripcion_facultad', data=df, stat='probability', order=df['año_inscripcion_facultad'].value_counts(dropna = False).index)\n",
    "plt.title('Distribución del año de inscripcion a la facultad')\n",
    "plt.xticks(rotation=45, ha='right') \n",
    "plt.xlabel('Año de inscripcion a la facultad')\n",
    "plt.ylabel('Proporción')\n",
    "plt.tight_layout()\n",
    "plt.show()"
   ]
  },
  {
   "cell_type": "markdown",
   "metadata": {},
   "source": [
    "## Ahora quiero ver por semestre asignado"
   ]
  },
  {
   "cell_type": "code",
   "execution_count": null,
   "metadata": {},
   "outputs": [],
   "source": [
    "#personas_restringido_2021_a_2022.to_csv('../../../../assets/silver/data_utilizada/solo_datos_personales.csv')"
   ]
  },
  {
   "cell_type": "code",
   "execution_count": null,
   "metadata": {},
   "outputs": [],
   "source": [
    "#personas_con_actas_restringido_2021.to_csv('../../../../assets/silver/data_utilizada/personas_un_acta_por_fila.csv')"
   ]
  },
  {
   "cell_type": "code",
   "execution_count": null,
   "metadata": {},
   "outputs": [],
   "source": [
    "semestre_de_inscripcion = personas_con_actas_restringido_2021[\n",
    "    ['dni', 'es_cohorte_2022C1', 'es_cohorte_2022C2', 'es_cohorte_2021C1', 'es_cohorte_2021C2']\n",
    "].drop_duplicates()\n",
    "semestre_de_inscripcion['dni'].nunique()"
   ]
  },
  {
   "cell_type": "code",
   "execution_count": 158,
   "metadata": {},
   "outputs": [],
   "source": [
    "# Contar cuántos True hay por fila\n",
    "cohorte_cols = ['es_cohorte_2022C1', 'es_cohorte_2022C2', 'es_cohorte_2021C1', 'es_cohorte_2021C2']\n",
    "semestre_de_inscripcion['cohortes_true_count'] = semestre_de_inscripcion[cohorte_cols].sum(axis=1)\n",
    "\n",
    "# Filtrar los casos incorrectos (donde no hay exactamente 1 True)\n",
    "casos_invalidos = semestre_de_inscripcion[semestre_de_inscripcion['cohortes_true_count'] != 1]"
   ]
  },
  {
   "cell_type": "code",
   "execution_count": null,
   "metadata": {},
   "outputs": [],
   "source": [
    "if casos_invalidos.empty:\n",
    "    print(\"✔️ Todos los DNI tienen exactamente una cohorte asignada.\")\n",
    "else:\n",
    "    print(\"❌ Hay DNIs con múltiples o ninguna cohorte asignada:\")\n",
    "    print(casos_invalidos)"
   ]
  },
  {
   "cell_type": "code",
   "execution_count": null,
   "metadata": {},
   "outputs": [],
   "source": [
    "cohorte_cols = ['es_cohorte_2022C1', 'es_cohorte_2022C2', 'es_cohorte_2021C1', 'es_cohorte_2021C2']\n",
    "semestre_de_inscripcion['cohorte'] = semestre_de_inscripcion[cohorte_cols].idxmax(axis=1)\n",
    "semestre_de_inscripcion['cohorte'] = semestre_de_inscripcion['cohorte'].str.replace('es_cohorte_', '')\n",
    "\n",
    "sns.countplot(data=semestre_de_inscripcion, x='cohorte', order=sorted(semestre_de_inscripcion['cohorte'].unique()))\n",
    "plt.title(\"Distribución por cohorte\", fontsize=15)\n",
    "plt.xlabel(\"Cohorte\", fontsize=15)\n",
    "plt.ylabel(\"Cantidad de personas\", fontsize=15)\n",
    "plt.xticks(rotation=0, fontsize=12)\n",
    "plt.yticks(fontsize=12)\n",
    "plt.tight_layout()\n",
    "plt.show()"
   ]
  },
  {
   "cell_type": "code",
   "execution_count": null,
   "metadata": {},
   "outputs": [],
   "source": [
    "# Calcular proporciones\n",
    "cohorte_props = semestre_de_inscripcion['cohorte'].value_counts(normalize=True).reset_index()\n",
    "cohorte_props.columns = ['cohorte', 'proporcion']\n",
    "\n",
    "# Ordenar por cohorte si querés que aparezcan en orden cronológico\n",
    "cohorte_props = cohorte_props.sort_values('cohorte')\n",
    "\n",
    "# Graficar\n",
    "sns.barplot(data=cohorte_props, x='cohorte', y='proporcion')\n",
    "plt.title(\"Distribución por cohorte\", fontsize=15)\n",
    "plt.xlabel(\"Cohorte\", fontsize=15)\n",
    "plt.ylabel(\"Proporción\", fontsize=15)\n",
    "plt.xticks(rotation=0, fontsize=12)\n",
    "plt.yticks(fontsize=12)\n",
    "plt.tight_layout()\n",
    "plt.show()"
   ]
  },
  {
   "cell_type": "code",
   "execution_count": null,
   "metadata": {},
   "outputs": [],
   "source": [
    "cohorte_props"
   ]
  },
  {
   "cell_type": "code",
   "execution_count": null,
   "metadata": {},
   "outputs": [],
   "source": [
    "personas_con_actas_restringido_2021['carrera'].isna().sum()"
   ]
  },
  {
   "cell_type": "code",
   "execution_count": null,
   "metadata": {},
   "outputs": [],
   "source": [
    "# Paso 1: Contar las veces que cada persona se inscribió a cada carrera\n",
    "conteos = personas_con_actas_restringido_2021.groupby(['dni', 'carrera']).size().reset_index(name='conteo')\n",
    "\n",
    "# Paso 2: Para cada dni, quedarte con la carrera de mayor conteo\n",
    "conteos = conteos.sort_values(['dni', 'conteo'], ascending=[True, False])\n",
    "carrera_mas_frecuente = conteos.drop_duplicates(subset='dni', keep='first')\n",
    "carrera_mas_frecuente"
   ]
  },
  {
   "cell_type": "code",
   "execution_count": null,
   "metadata": {},
   "outputs": [],
   "source": [
    "# Ver distribución como tabla\n",
    "distribucion = carrera_mas_frecuente['carrera'].value_counts(dropna= False)\n",
    "\n",
    "print(distribucion)\n",
    "\n",
    "# Gráfico de barras\n",
    "distribucion.plot(kind='bar', figsize=(15, 5))\n",
    "plt.title('Distribución de carreras más frecuentes por persona', fontsize=15)\n",
    "plt.xlabel('Carrera Principal', fontsize=12)\n",
    "plt.ylabel('Cantidad de personas', fontsize=12)\n",
    "plt.xticks(rotation=90, fontsize=12)\n",
    "plt.tight_layout()\n",
    "plt.show()"
   ]
  },
  {
   "cell_type": "code",
   "execution_count": null,
   "metadata": {},
   "outputs": [],
   "source": [
    "proporcion = carrera_mas_frecuente['carrera'].value_counts(normalize=True)\n",
    "print(proporcion)\n",
    "\n",
    "proporcion.plot(kind='bar', figsize=(15, 5))\n",
    "plt.title('Proporción de carreras más frecuentes por persona')\n",
    "plt.xlabel('Carrera')\n",
    "plt.ylabel('Proporción')\n",
    "plt.xticks(rotation=90)\n",
    "plt.tight_layout()\n",
    "plt.show()"
   ]
  },
  {
   "cell_type": "code",
   "execution_count": null,
   "metadata": {},
   "outputs": [],
   "source": [
    "# Calcular distribución\n",
    "distribucion = carrera_mas_frecuente['carrera'].value_counts(normalize=True)\n",
    "\n",
    "# Agrupar carreras con 63 o menos casos\n",
    "umbral = 0.017\n",
    "carreras_comunes = distribucion[distribucion > umbral]\n",
    "otros_total = distribucion[distribucion <= umbral].sum()\n",
    "\n",
    "# Crear nueva serie combinada\n",
    "distribucion_modificada = carreras_comunes.copy()\n",
    "distribucion_modificada['Otras carreras'] = otros_total\n",
    "\n",
    "# Mapeo de nombres personalizados\n",
    "etiquetas_personalizadas = {\n",
    "    'Licenciatura en Ciencias de la Computación': 'Computación',\n",
    "    'Licenciatura en Ciencias Biológicas': 'Biología',\n",
    "    'Licenciatura en Ciencias Físicas': 'Física',\n",
    "    'Licenciatura en Ciencias de Datos': 'Datos',\n",
    "    'Licenciatura en Ciencias Químicas': 'Química',\n",
    "    'Licenciatura en Ciencias Matemáticas': 'Matemática',\n",
    "    'Licenciatura en Ciencias de la Atmósfera': 'Atmósfera',\n",
    "    'Licenciatura en Ciencia y Tecnología de Alimentos': 'Alimentos',\n",
    "    'Licenciatura en Ciencias Geológicas': 'Geología',\n",
    "    'Otras carreras': 'Otras carreras'\n",
    "}\n",
    "\n",
    "# Renombrar los índices según el diccionario\n",
    "distribucion_modificada.index = distribucion_modificada.index.map(lambda x: etiquetas_personalizadas.get(x, x))\n",
    "\n",
    "# Ordenar por cantidad descendente\n",
    "distribucion_modificada = distribucion_modificada.sort_values(ascending=False)\n",
    "\n",
    "# Graficar\n",
    "distribucion_modificada.plot(kind='bar', figsize=(9, 5), color='royalblue')\n",
    "plt.title('Distribución de carrera principal', fontsize=15)\n",
    "plt.xlabel('Carrera Principal', fontsize=12)\n",
    "plt.ylabel('Proporción', fontsize=12)\n",
    "plt.xticks(rotation=45, ha='right', fontsize=12)\n",
    "plt.tight_layout()\n",
    "plt.show()\n"
   ]
  },
  {
   "cell_type": "code",
   "execution_count": null,
   "metadata": {},
   "outputs": [],
   "source": [
    "# Calcular distribución\n",
    "distribucion = carrera_mas_frecuente['carrera'].value_counts(dropna=False)\n",
    "\n",
    "# Agrupar carreras con 63 o menos casos\n",
    "umbral = 51\n",
    "carreras_comunes = distribucion[distribucion > umbral]\n",
    "otros_total = distribucion[distribucion <= umbral].sum()\n",
    "\n",
    "# Crear nueva serie combinada\n",
    "distribucion_modificada = carreras_comunes.copy()\n",
    "distribucion_modificada['Otras carreras'] = otros_total\n",
    "\n",
    "# Mapeo de nombres personalizados\n",
    "etiquetas_personalizadas = {\n",
    "    'Licenciatura en Ciencias de la Computación': 'Computación',\n",
    "    'Licenciatura en Ciencias Biológicas': 'Biología',\n",
    "    'Licenciatura en Ciencias Físicas': 'Física',\n",
    "    'Licenciatura en Ciencias de Datos': 'Datos',\n",
    "    'Licenciatura en Ciencias Químicas': 'Química',\n",
    "    'Licenciatura en Ciencias Matemáticas': 'Matemática',\n",
    "    'Licenciatura en Ciencias de la Atmósfera': 'Atmósfera',\n",
    "    'Licenciatura en Ciencia y Tecnología de Alimentos': 'Alimentos',\n",
    "    'Licenciatura en Ciencias Geológicas': 'Geología',\n",
    "    'Otras carreras': 'Otras carreras'\n",
    "}\n",
    "\n",
    "# Renombrar los índices según el diccionario\n",
    "distribucion_modificada.index = distribucion_modificada.index.map(lambda x: etiquetas_personalizadas.get(x, x))\n",
    "\n",
    "# Ordenar por cantidad descendente\n",
    "distribucion_modificada = distribucion_modificada.sort_values(ascending=False)\n",
    "\n",
    "# Graficar\n",
    "distribucion_modificada.plot(kind='bar', figsize=(9, 5), color='royalblue')\n",
    "plt.title('Distribución de carrera principal', fontsize=15)\n",
    "plt.xlabel('Carrera Principal', fontsize=12)\n",
    "plt.ylabel('Cantidad', fontsize=12)\n",
    "plt.xticks(rotation=45, ha='right', fontsize=12)\n",
    "plt.tight_layout()\n",
    "plt.show()\n"
   ]
  }
 ],
 "metadata": {
  "kernelspec": {
   "display_name": ".venv",
   "language": "python",
   "name": "python3"
  },
  "language_info": {
   "codemirror_mode": {
    "name": "ipython",
    "version": 3
   },
   "file_extension": ".py",
   "mimetype": "text/x-python",
   "name": "python",
   "nbconvert_exporter": "python",
   "pygments_lexer": "ipython3",
   "version": "3.11.9"
  }
 },
 "nbformat": 4,
 "nbformat_minor": 2
}

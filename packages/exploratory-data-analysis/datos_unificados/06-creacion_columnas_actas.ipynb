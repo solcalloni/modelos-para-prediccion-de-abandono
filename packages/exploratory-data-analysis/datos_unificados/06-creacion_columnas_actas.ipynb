{
 "cells": [
  {
   "cell_type": "code",
   "execution_count": null,
   "metadata": {},
   "outputs": [],
   "source": [
    "import pandas as pd\n",
    "import numpy as np"
   ]
  },
  {
   "cell_type": "code",
   "execution_count": null,
   "metadata": {},
   "outputs": [],
   "source": [
    "actas_con_personas = pd.read_csv('../../../assets/silver/data_utilizada/personas_un_acta_por_fila.csv')\n",
    "actas_con_personas['fecha'] = pd.to_datetime(actas_con_personas['fecha'], format='%Y-%m-%d')\n",
    "actas_con_personas['dni'] = actas_con_personas['dni'].astype(str)\n",
    "actas_con_personas.drop(columns = ['Unnamed: 0'], inplace = True)\n",
    "actas_con_personas['dni'].nunique()"
   ]
  },
  {
   "cell_type": "code",
   "execution_count": null,
   "metadata": {},
   "outputs": [],
   "source": [
    "actas_con_personas.columns"
   ]
  },
  {
   "cell_type": "code",
   "execution_count": null,
   "metadata": {},
   "outputs": [],
   "source": [
    "actas = actas_con_personas[['dni', 'materia', 'carrera', 'tipo_acta', 'fecha', 'nota', 'resultado', 'semestre_relativo']].copy()"
   ]
  },
  {
   "cell_type": "markdown",
   "metadata": {},
   "source": [
    "Siguiendo la misma logica que con el CBC, debemos tener las siguientes columnas:\n",
    "\n",
    "Tenemos una fila por DNI y, como ahora definimos que queremos predecir qué pasa en el semestre relativo 4, tendríamos por cada semestre relativo j (j tomando valores 0 a 3 inclusive) las columnas:\n",
    "\n",
    "* #inscripciones_j: como la que usamos para la target\n",
    "* #TPs_aprobados_j: Para los TPS (excepto casos específicos) no tenemos nota numérica, solamente si aprobó, reprobó o dejó la materia, por eso tomamos la cantidad. En cambio para finales si tenemos el dato de la nota.\n",
    "* #finales_inscriptos_j: como la que usamos para calcular la target\n",
    "\n",
    "Hay que agregar las materias como columnas. En principio son 40 para la carrera.\n",
    "La difrencia es que en el cbc es un cluster y en la carrera se ponen en el orden que haya rendido. \n",
    "Para cada materia:\n",
    "hay que tomar fecha 0 como 1/1/2020 y a partir de ahi un numero natural que sean la cantidad de dias desde 1/1/2020. Luego, agregar la fecha de TP. agregar la nota tambien.  Esto es para materias aprobadas.\n",
    "\n",
    "La idea es tener una distribucion empirica de que rinde, cada cuanto.\n",
    "\n",
    "Entonces por cada una de las 9 materias en los semestres relativos 0 a 3 tenemos:\n",
    "- 'fecha_TP_materia_x' donde es un número que cuenta los días desde 1/1/2020\n",
    "- 'tp_aprobado': 1 si aprobó 0 si no?\n",
    "- 'fecha_final_materia_x' donde es un número que cuenta los días desde 1/1/2020\n",
    "- 'nota_final_materia_x'\n",
    "\n",
    "Donde x va de 1 a 9 y si rindió la materia más de una vez, tenemos columnas distintas informando sobre las distintas veces que cursó.\n",
    "\n",
    "Doy un ejemplo: Labo de datos TP aprobado el 1/2/2022 y final aprobado con 8 1/3/2022\n",
    "- 'fecha_TP_materia_x' = 31\n",
    "- 'tp_aprobado': 1\n",
    "- 'fecha_final_materia_x' = 31+28 = 59\n",
    "- 'nota_final_materia_x' = 8\n",
    "Si no hubiera aprobado la materia, Labo de datos TP desaprobado/abandonado el 1/2/2022\n",
    "- 'fecha_TP_materia_x' = 31\n",
    "- 'tp_aprobado': 0\n",
    "- 'fecha_final_materia_x' = dato faltante\n",
    "- 'nota_final_materia_x' = 0\n",
    "\n",
    "Luego, si la persona tiene más de 9 materias, completamos 4 columnas más:\n",
    "- promedio de fecha\n",
    "- promedio de nota de final\n",
    "- 'tp_aprobado': pongo si aprobó algún TP"
   ]
  },
  {
   "cell_type": "code",
   "execution_count": null,
   "metadata": {},
   "outputs": [],
   "source": [
    "actas['dni'].nunique()"
   ]
  },
  {
   "cell_type": "markdown",
   "metadata": {},
   "source": [
    "## Primeras columnas"
   ]
  },
  {
   "cell_type": "markdown",
   "metadata": {},
   "source": [
    "Para las primeras columnas, yo ya tenía un dataset que ayudará a calcular:\n",
    "\n",
    "Tenemos una fila por DNI y, como ahora definimos que queremos predecir qué pasa en el semestre relativo 4, tendríamos por cada semestre relativo j (j tomando valores 0 a 3 inclusive) las columnas:\n",
    "\n",
    "* #inscripciones_j: como la que usamos para la target\n",
    "* #TPs_aprobados_j: Para los TPS (excepto casos específicos) no tenemos nota numérica, solamente si aprobó, reprobó o dejó la materia, por eso tomamos la cantidad. En cambio para finales si tenemos el dato de la nota.\n",
    "* #finales_inscriptos_j: como la que usamos para calcular la target"
   ]
  },
  {
   "cell_type": "code",
   "execution_count": null,
   "metadata": {},
   "outputs": [],
   "source": [
    "variables_resumen = pd.read_csv('../../../assets/silver/data_utilizada/resumen_personas_por_semestre.csv')"
   ]
  },
  {
   "cell_type": "code",
   "execution_count": null,
   "metadata": {},
   "outputs": [],
   "source": [
    "variables_resumen['dni'] = variables_resumen['dni'].astype(str)"
   ]
  },
  {
   "cell_type": "code",
   "execution_count": null,
   "metadata": {},
   "outputs": [],
   "source": [
    "variables_resumen.columns"
   ]
  },
  {
   "cell_type": "code",
   "execution_count": null,
   "metadata": {},
   "outputs": [],
   "source": [
    "# Primero pivotamos el DataFrame\n",
    "df_pivot = variables_resumen.pivot(index='dni', columns='semestre_relativo', \n",
    "                    values=['inscripciones', 'tp_aprobados', 'finales_inscriptos', 'total_actividad'])\n",
    "\n",
    "# Aplanamos los nombres de columnas combinadas (MultiIndex)\n",
    "df_pivot.columns = [f'{col}_{sem}' for col, sem in df_pivot.columns]\n",
    "\n",
    "# Reiniciamos el índice para que 'dni' vuelva a ser una columna\n",
    "df_pivot.reset_index(inplace=True)"
   ]
  },
  {
   "cell_type": "code",
   "execution_count": null,
   "metadata": {},
   "outputs": [],
   "source": [
    "df_pivot.columns"
   ]
  },
  {
   "cell_type": "code",
   "execution_count": null,
   "metadata": {},
   "outputs": [],
   "source": [
    "df_pivot[df_pivot['total_actividad_4.0']>=3].shape #igual que cuando calculé la target"
   ]
  },
  {
   "cell_type": "markdown",
   "metadata": {},
   "source": [
    "Por ahora dejé las columnas del semestre relativo 4, pero para el entrenamiento no se pasarán"
   ]
  },
  {
   "cell_type": "markdown",
   "metadata": {},
   "source": [
    "## Resto de columnas\n",
    "\n",
    "Entonces por cada una de las 9 materias en los semestres relativos 0 a 3 tenemos:\n",
    "- 'fecha_TP_materia_x' donde es un número que cuenta los días desde 1/1/2020\n",
    "- 'tp_aprobado': 1 si aprobó 0 si no\n",
    "- 'fecha_final_materia_x' donde es un número que cuenta los días desde 1/1/2020\n",
    "- 'nota_final_materia_x'\n",
    "\n",
    "Donde x va de 1 a 9 y si rindió la materia más de una vez, tenemos columnas distintas informando sobre las distintas veces que cursó.\n",
    "\n",
    "Doy un ejemplo: Labo de datos TP aprobado el 1/2/2022 y final aprobado con 8 1/3/2022\n",
    "- 'fecha_TP_materia_x' = 31\n",
    "- 'tp_aprobado': 1\n",
    "- 'fecha_final_materia_x' = 31+28 = 59\n",
    "- 'nota_final_materia_x' = 8\n",
    "Si no hubiera aprobado la materia, Labo de datos TP desaprobado/abandonado el 1/2/2022\n",
    "- 'fecha_TP_materia_x' = 31\n",
    "- 'tp_aprobado': 0\n",
    "- 'fecha_final_materia_x' = dato faltante\n",
    "- 'nota_final_materia_x' = 0\n",
    "\n",
    "Luego, si la persona tiene más de 9 materias, completamos 4 columnas más:\n",
    "- promedio de fecha\n",
    "- promedio de nota de final\n",
    "- 'tp_aprobado': pongo si aprobó algún TP"
   ]
  },
  {
   "cell_type": "code",
   "execution_count": null,
   "metadata": {},
   "outputs": [],
   "source": [
    "actas.columns"
   ]
  },
  {
   "cell_type": "markdown",
   "metadata": {},
   "source": [
    "Como primer paso, me tengo que quedar con las materias que sean anteriores al semestre relativo 4"
   ]
  },
  {
   "cell_type": "code",
   "execution_count": null,
   "metadata": {},
   "outputs": [],
   "source": [
    "actas_entrenamiento = actas[actas['semestre_relativo'] != 4].copy()\n",
    "actas_entrenamiento['semestre_relativo'].unique()"
   ]
  },
  {
   "cell_type": "code",
   "execution_count": null,
   "metadata": {},
   "outputs": [],
   "source": [
    "actas_entrenamiento['dni'].nunique()"
   ]
  },
  {
   "cell_type": "code",
   "execution_count": null,
   "metadata": {},
   "outputs": [],
   "source": [
    "actas_entrenamiento['nota'].unique()"
   ]
  },
  {
   "cell_type": "code",
   "execution_count": null,
   "metadata": {},
   "outputs": [],
   "source": [
    "actas_entrenamiento[actas_entrenamiento['dni'] == '42950464']"
   ]
  },
  {
   "cell_type": "markdown",
   "metadata": {},
   "source": [
    "Primero cambio la fecha por la fecha numerica"
   ]
  },
  {
   "cell_type": "code",
   "execution_count": null,
   "metadata": {},
   "outputs": [],
   "source": [
    "# Suponiendo que ya tenés el DataFrame cargado como df\n",
    "fecha_cero = pd.Timestamp(\"2020-01-01\")\n",
    "actas_entrenamiento['fecha_numerica'] = (actas_entrenamiento['fecha'] - fecha_cero).dt.days\n",
    "actas_entrenamiento['fecha_numerica'].min(), actas_entrenamiento['fecha_numerica'].max()"
   ]
  },
  {
   "cell_type": "code",
   "execution_count": null,
   "metadata": {},
   "outputs": [],
   "source": [
    "# Supongamos que actas_entrenamiento es tu DataFrame original\n",
    "# Paso 1: Separar los TPS aprobados y desaprobados\n",
    "is_tp = actas_entrenamiento['tipo_acta'] == 'Acta de Regulares/Promociones'\n",
    "tp_aprobados = actas_entrenamiento[is_tp & (actas_entrenamiento['resultado'] == 'Aprobado')].copy()\n",
    "tp_desaprobados = actas_entrenamiento[is_tp & (actas_entrenamiento['resultado'] != 'Aprobado')].copy()\n",
    "\n",
    "# Paso 2: Separar los finales y hacer promedio si hay múltiples por persona y materia\n",
    "finales = actas_entrenamiento[actas_entrenamiento['tipo_acta'] == 'Acta de Examen'].copy()\n",
    "# reemplazo los Aprob. de la columna 'nota' por NaN para evitar problemas al promediar\n",
    "finales['nota'] = finales['nota'].replace('Aprob.', np.nan).astype(float)\n",
    "\n",
    "finales_grouped = finales.groupby(['dni', 'materia']).agg({\n",
    "    'fecha_numerica': 'mean',\n",
    "    'nota': 'mean'\n",
    "}).reset_index()\n",
    "finales_grouped.rename(columns={\n",
    "    'fecha_numerica': 'fecha_final_materia',\n",
    "    'nota': 'nota_final_materia'\n",
    "}, inplace=True)\n",
    "\n",
    "# Paso 3: Merge entre TP aprobados y finales\n",
    "merged_tp_final = pd.merge(\n",
    "    tp_aprobados[['dni', 'materia', 'fecha_numerica']],\n",
    "    finales_grouped,\n",
    "    on=['dni', 'materia'],\n",
    "    how='outer',\n",
    "    suffixes=('', '_final')\n",
    ")\n",
    "merged_tp_final.rename(columns={\n",
    "    'fecha_numerica': 'fecha_TP_materia'\n",
    "}, inplace=True)\n",
    "merged_tp_final['tp_aprobado_materia'] = merged_tp_final['fecha_TP_materia'].apply(lambda x: 1 if pd.notna(x) else pd.NA)\n",
    "\n",
    "# Paso 4: Agregar los TPs desaprobados\n",
    "tp_desaprobados_agg = tp_desaprobados[['dni', 'materia', 'fecha_numerica']].copy()\n",
    "tp_desaprobados_agg.rename(columns={\n",
    "    'fecha_numerica': 'fecha_TP_materia'\n",
    "}, inplace=True)\n",
    "tp_desaprobados_agg['tp_aprobado_materia'] = 0\n",
    "tp_desaprobados_agg['fecha_final_materia'] = pd.NA\n",
    "tp_desaprobados_agg['nota_final_materia'] = pd.NA\n",
    "\n",
    "# Unir con el anterior\n",
    "full_actas_entrenamiento = pd.concat([merged_tp_final, tp_desaprobados_agg], ignore_index=True)\n",
    "\n",
    "resultados = []\n",
    "for dni, grupo in full_actas_entrenamiento.groupby('dni'):\n",
    "    grupo = grupo.sort_values(by='fecha_TP_materia').reset_index(drop=True)\n",
    "    row = {'Dni': dni}\n",
    "\n",
    "    # Primeras 9 materias\n",
    "    for i in range(min(9, len(grupo))):\n",
    "        fila = grupo.iloc[i]\n",
    "        idx = i + 1\n",
    "        row[f'fecha_TP_materia_{idx}'] = fila['fecha_TP_materia']\n",
    "        row[f'tp_aprobado_materia_{idx}'] = fila['tp_aprobado_materia']\n",
    "        row[f'fecha_final_materia_{idx}'] = fila['fecha_final_materia']\n",
    "        row[f'nota_final_materia_{idx}'] = fila['nota_final_materia']\n",
    "\n",
    "    # Materias restantes para el resumen (10)\n",
    "    if len(grupo) > 9:\n",
    "        resto = grupo.iloc[9:]\n",
    "\n",
    "        row['fecha_TP_materia_10'] = np.floor(resto['fecha_TP_materia'].mean(skipna=True))\n",
    "        row['tp_aprobado_materia_10'] = 1 if (resto['tp_aprobado_materia'] == 1).any() else 0\n",
    "        row['fecha_final_materia_10'] = np.floor(resto['fecha_final_materia'].mean(skipna=True))\n",
    "        row['nota_final_materia_10'] = np.floor(resto['nota_final_materia'].mean(skipna=True))\n",
    "    else:\n",
    "        row['fecha_TP_materia_10'] = pd.NA\n",
    "        row['tp_aprobado_materia_10'] = pd.NA\n",
    "        row['fecha_final_materia_10'] = pd.NA\n",
    "        row['nota_final_materia_10'] = pd.NA\n",
    "\n",
    "    resultados.append(row)\n",
    "\n",
    "final_df = pd.DataFrame(resultados)\n",
    "# Ahora final_actas_entrenamiento tiene la estructura deseada"
   ]
  },
  {
   "cell_type": "code",
   "execution_count": null,
   "metadata": {},
   "outputs": [],
   "source": [
    "final_df"
   ]
  },
  {
   "cell_type": "code",
   "execution_count": null,
   "metadata": {},
   "outputs": [],
   "source": [
    "final_df.to_csv('../../../assets/silver/data_utilizada/actas_entrenamiento.csv', index=False)"
   ]
  },
  {
   "cell_type": "code",
   "execution_count": null,
   "metadata": {},
   "outputs": [],
   "source": [
    "cuento = actas_entrenamiento[actas_entrenamiento['tipo_acta'] == 'Acta de Regulares/Promociones'].groupby(['dni', 'materia', 'resultado']).size().reset_index(name='count')"
   ]
  },
  {
   "cell_type": "code",
   "execution_count": null,
   "metadata": {},
   "outputs": [],
   "source": [
    "cuento[(cuento['count'] > 1) & (cuento['resultado'] == 'Aprobado')]"
   ]
  },
  {
   "cell_type": "code",
   "execution_count": null,
   "metadata": {},
   "outputs": [],
   "source": [
    "actas_entrenamiento[(actas_entrenamiento['dni'] == '96151169') & (actas_entrenamiento['materia'] == 'Análisis II')]"
   ]
  },
  {
   "cell_type": "code",
   "execution_count": null,
   "metadata": {},
   "outputs": [],
   "source": [
    "carreras_promo = actas_entrenamiento[\n",
    "    (actas_entrenamiento[\"tipo_acta\"] == \"Acta de Regulares/Promociones\") &\n",
    "    (actas_entrenamiento[\"resultado\"] == \"Aprobado\")\n",
    "][[\"dni\", \"materia\", \"carrera\"]].drop_duplicates()\n",
    "\n",
    "# 2. Hacemos merge para traer esa carrera a todas las filas del mismo dni y materia\n",
    "df_merged = actas_entrenamiento.merge(\n",
    "    carreras_promo,\n",
    "    on=[\"dni\", \"materia\"],\n",
    "    how=\"left\",\n",
    "    suffixes=(\"\", \"_promo\")\n",
    ")\n",
    "\n",
    "# 3. Filtramos solo las filas de Acta de Examen\n",
    "examenes = df_merged[df_merged[\"tipo_acta\"] == \"Acta de Examen\"]\n",
    "\n",
    "# 4. Verificamos si hay alguna diferencia de carrera respecto a la promoción\n",
    "condicion_incorrecta = examenes[\"carrera\"] != examenes[\"carrera_promo\"]\n",
    "errores = examenes[condicion_incorrecta & examenes[\"carrera_promo\"].notna()]\n",
    "\n",
    "# 5. Mostramos los casos donde no se cumple la condición\n",
    "print(errores)"
   ]
  },
  {
   "cell_type": "code",
   "execution_count": null,
   "metadata": {},
   "outputs": [],
   "source": [
    "errores"
   ]
  },
  {
   "cell_type": "code",
   "execution_count": null,
   "metadata": {},
   "outputs": [],
   "source": [
    "final_df['Dni'].nunique()"
   ]
  }
 ],
 "metadata": {
  "kernelspec": {
   "display_name": ".venv",
   "language": "python",
   "name": "python3"
  },
  "language_info": {
   "codemirror_mode": {
    "name": "ipython",
    "version": 3
   },
   "file_extension": ".py",
   "mimetype": "text/x-python",
   "name": "python",
   "nbconvert_exporter": "python",
   "pygments_lexer": "ipython3",
   "version": "3.11.9"
  }
 },
 "nbformat": 4,
 "nbformat_minor": 2
}

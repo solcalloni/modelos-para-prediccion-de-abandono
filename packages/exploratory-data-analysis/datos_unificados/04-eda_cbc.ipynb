{
 "cells": [
  {
   "cell_type": "code",
   "execution_count": null,
   "metadata": {},
   "outputs": [],
   "source": [
    "import sys\n",
    "sys.path.insert(0, '../')\n",
    "import pandas as pd\n",
    "import numpy as np\n",
    "import matplotlib.pyplot as plt\n",
    "import seaborn as sns\n",
    "from ydata_profiling import ProfileReport\n",
    "import io\n",
    "import tabulate\n",
    "import helpers_eda_inicial\n",
    "import helpers_cbc"
   ]
  },
  {
   "cell_type": "markdown",
   "metadata": {},
   "source": [
    "Me traigo las datasets que estuve armando y limpiando. Ahora me gustaría poder estudiar los datos del CBC de las personas. Así luego resultará más fácil hacer el merge."
   ]
  },
  {
   "cell_type": "code",
   "execution_count": null,
   "metadata": {},
   "outputs": [],
   "source": [
    "personas_con_target = pd.read_csv('../../../assets/silver/data_utilizada/personas_con_target.csv')\n",
    "actas_con_personas = pd.read_csv('../../../assets/silver/data_utilizada/personas_un_acta_por_fila.csv')\n",
    "clusters = pd.read_csv('../../../assets/silver/CBC/df_carreras_con_cluster.csv')"
   ]
  },
  {
   "cell_type": "code",
   "execution_count": null,
   "metadata": {},
   "outputs": [],
   "source": [
    "actas_con_personas['fecha'] = pd.to_datetime(actas_con_personas['fecha'], format='%Y-%m-%d')\n",
    "actas_con_personas['dni'] = actas_con_personas['dni'].astype(str)\n",
    "actas_con_personas.drop(columns = ['Unnamed: 0'], inplace = True)"
   ]
  },
  {
   "cell_type": "code",
   "execution_count": null,
   "metadata": {},
   "outputs": [],
   "source": [
    "personas_con_target_dnis = personas_con_target['dni'].astype(str).unique()\n",
    "personas_con_target_dnis.size"
   ]
  },
  {
   "cell_type": "code",
   "execution_count": null,
   "metadata": {},
   "outputs": [],
   "source": [
    "personas_con_target.dtypes"
   ]
  },
  {
   "cell_type": "markdown",
   "metadata": {},
   "source": [
    "Me traigo el cbc"
   ]
  },
  {
   "cell_type": "code",
   "execution_count": null,
   "metadata": {},
   "outputs": [],
   "source": [
    "cbc, df_carreras = helpers_cbc.get_data('../../../assets/bronze/CBC/Sitacad_Tesis (1).xlsx')"
   ]
  },
  {
   "cell_type": "code",
   "execution_count": null,
   "metadata": {},
   "outputs": [],
   "source": [
    "cbc.head(5)"
   ]
  },
  {
   "cell_type": "markdown",
   "metadata": {},
   "source": [
    "Como ahora se el DNI de las personas con las uqe vamos a trabajar, me puedo quedar solo con esas filas."
   ]
  },
  {
   "cell_type": "code",
   "execution_count": null,
   "metadata": {},
   "outputs": [],
   "source": [
    "cbc.dtypes"
   ]
  },
  {
   "cell_type": "markdown",
   "metadata": {},
   "source": [
    "Lo paso a string porque así está en personas_con_target pero vamos a revisar con cuidado los casos que no tienen match."
   ]
  },
  {
   "cell_type": "code",
   "execution_count": null,
   "metadata": {},
   "outputs": [],
   "source": [
    "cbc.shape"
   ]
  },
  {
   "cell_type": "code",
   "execution_count": null,
   "metadata": {},
   "outputs": [],
   "source": [
    "cbc['Dni'] = cbc['Dni'].astype(str)"
   ]
  },
  {
   "cell_type": "code",
   "execution_count": null,
   "metadata": {},
   "outputs": [],
   "source": [
    "cbc_en_fcen = cbc[cbc['Dni'].isin(personas_con_target_dnis)]"
   ]
  },
  {
   "cell_type": "code",
   "execution_count": null,
   "metadata": {},
   "outputs": [],
   "source": [
    "cbc_en_fcen.shape, cbc_en_fcen['Dni'].nunique(), cbc_en_fcen['Dni'].nunique() / personas_con_target_dnis.size, cbc_en_fcen['Dni'].nunique() / cbc['Dni'].nunique()"
   ]
  },
  {
   "cell_type": "code",
   "execution_count": null,
   "metadata": {},
   "outputs": [],
   "source": [
    "personas_con_target[~personas_con_target['dni'].isin(cbc_en_fcen['Dni'].unique())]['dni'].to_csv('../../../assets/silver/CBC/dnis_no_en_fcen.csv', index = False, header = False)"
   ]
  },
  {
   "cell_type": "code",
   "execution_count": null,
   "metadata": {},
   "outputs": [],
   "source": [
    "plt.figure(figsize=(10, 5))\n",
    "sns.histplot(data=cbc_en_fcen, x='Fecha', bins=30)  # ajustá el número de bins si querés más o menos detalle\n",
    "plt.title('Distribución de registros por fecha')\n",
    "plt.xlabel('Fecha')\n",
    "plt.ylabel('Cantidad de registros')\n",
    "plt.xticks(rotation=45)\n",
    "plt.tight_layout()\n",
    "plt.show()"
   ]
  },
  {
   "cell_type": "markdown",
   "metadata": {},
   "source": [
    "Veo que hay actas posteriores a 2022, por lo que me gustaría revisar qué características tienen las actas del CBC posteriores al año de inscripción de las personas (lo hago más abajo) Antes deamos la distribución de los meses de registro"
   ]
  },
  {
   "cell_type": "code",
   "execution_count": null,
   "metadata": {},
   "outputs": [],
   "source": [
    "cbc_en_fcen['año'] = cbc_en_fcen['Fecha'].dt.year\n",
    "cbc_en_fcen['mes'] = cbc_en_fcen['Fecha'].dt.month"
   ]
  },
  {
   "cell_type": "code",
   "execution_count": null,
   "metadata": {},
   "outputs": [],
   "source": [
    "# Contar la cantidad de actas por año y mes\n",
    "conteo = cbc_en_fcen.groupby(['año', 'mes']).size().reset_index(name='cantidad')\n",
    "\n",
    "# Calcular el total de actas por año\n",
    "totales_por_año = conteo.groupby('año')['cantidad'].transform('sum')\n",
    "\n",
    "# Calcular el porcentaje\n",
    "conteo['porcentaje'] = conteo['cantidad'] / totales_por_año * 100\n",
    "\n",
    "# Asegurar el orden correcto de los meses si están en texto\n",
    "#orden_meses = ['Enero', 'Febrero', 'Marzo', 'Abril', 'Mayo', 'Junio',\n",
    "#               'Julio', 'Agosto', 'Septiembre', 'Octubre', 'Noviembre', 'Diciembre']\n",
    "#conteo['mes'] = pd.Categorical(conteo['mes'], categories=orden_meses, ordered=True)\n",
    "\n",
    "# Crear el barplot agrupado\n",
    "plt.figure(figsize=(12, 6))\n",
    "sns.barplot(data=conteo, x='mes', y='cantidad', hue='año', palette='viridis')\n",
    "\n",
    "plt.xlabel('Mes')\n",
    "plt.ylabel('Cantidad de actas del CBC')\n",
    "plt.title('Cantidad de actas por mes y año')\n",
    "plt.xticks(rotation=45)\n",
    "plt.legend(title='Año')\n",
    "plt.tight_layout()\n",
    "plt.show()\n",
    "\n",
    "# Crear el barplot agrupado\n",
    "plt.figure(figsize=(12, 6))\n",
    "sns.barplot(data=conteo, x='mes', y='porcentaje', hue='año', palette='viridis')\n",
    "\n",
    "plt.xlabel('Mes')\n",
    "plt.ylabel('Porcentaje de actas del CBC(%)')\n",
    "plt.title('Distribución porcentual de actas por mes y año')\n",
    "plt.xticks(rotation=45)\n",
    "plt.legend(title='Año')\n",
    "plt.tight_layout()\n",
    "plt.show()"
   ]
  },
  {
   "cell_type": "code",
   "execution_count": null,
   "metadata": {},
   "outputs": [],
   "source": [
    "cbc_en_fcen[cbc_en_fcen['año']>2022]['año'].value_counts()"
   ]
  },
  {
   "cell_type": "code",
   "execution_count": null,
   "metadata": {},
   "outputs": [],
   "source": [
    "cbc_en_fcen[cbc_en_fcen['año']>2022].groupby(['año', 'mes'])['Es materia FCEN?'].value_counts()"
   ]
  },
  {
   "cell_type": "code",
   "execution_count": null,
   "metadata": {},
   "outputs": [],
   "source": [
    "cbc_en_fcen[cbc_en_fcen['año'] == 2025]"
   ]
  },
  {
   "cell_type": "markdown",
   "metadata": {},
   "source": [
    "Sin personas que tienen registros de otros años, no hay problema con borrar los de 2025. Pero lo debo hacer en función de su cohorte."
   ]
  },
  {
   "cell_type": "code",
   "execution_count": null,
   "metadata": {},
   "outputs": [],
   "source": [
    "personas_con_target[personas_con_target['dni'].isin(cbc_en_fcen[cbc_en_fcen['año'] == 2025]['Dni'].unique())]"
   ]
  },
  {
   "cell_type": "markdown",
   "metadata": {},
   "source": [
    "Debemos para cada dato del CBC asociar la cohorte de la persona. Anoto para cada cohorte, el mes y año del último registro que se puede tener del CBC.\n",
    "\n",
    "* 2021C1: 09/2023\n",
    "* 2021C2: 03/2024\n",
    "* 2022C1: 09/2024\n",
    "* 2022C2: 03/2025"
   ]
  },
  {
   "cell_type": "code",
   "execution_count": null,
   "metadata": {},
   "outputs": [],
   "source": [
    "cbc_en_fcen.columns"
   ]
  },
  {
   "cell_type": "code",
   "execution_count": null,
   "metadata": {},
   "outputs": [],
   "source": [
    "personas_con_target.columns"
   ]
  },
  {
   "cell_type": "code",
   "execution_count": null,
   "metadata": {},
   "outputs": [],
   "source": [
    "cohorte_personas = personas_con_target[personas_con_target['dni'].isin(cbc_en_fcen['Dni'].unique())][['dni', 'cohorte']].drop_duplicates()\n",
    "cohorte_personas.shape"
   ]
  },
  {
   "cell_type": "code",
   "execution_count": null,
   "metadata": {},
   "outputs": [],
   "source": [
    "cbc_en_fcen = cbc_en_fcen.merge(cohorte_personas, how = 'left', left_on = 'Dni', right_on = 'dni')\n",
    "cbc_en_fcen.drop(columns = ['dni'], inplace = True)\n",
    "cbc_en_fcen.head(5)"
   ]
  },
  {
   "cell_type": "code",
   "execution_count": null,
   "metadata": {},
   "outputs": [],
   "source": [
    "# Diccionario con los últimos registros válidos por cohorte\n",
    "fechas_limite = {\n",
    "    '2021C1': (2023, 9),\n",
    "    '2021C2': (2024, 3),\n",
    "    '2022C1': (2024, 9),\n",
    "    '2022C2': (2025, 3)\n",
    "}\n",
    "def es_valido(row):\n",
    "    año_limite, mes_limite = fechas_limite.get(row['cohorte'], (0, 0))\n",
    "    if row['año'] < año_limite:\n",
    "        return True\n",
    "    elif row['año'] == año_limite:\n",
    "        return row['mes'] <= mes_limite\n",
    "    else:\n",
    "        return False\n",
    "\n",
    "cbc_en_fcen['valido'] = cbc_en_fcen.apply(es_valido, axis=1)"
   ]
  },
  {
   "cell_type": "code",
   "execution_count": null,
   "metadata": {},
   "outputs": [],
   "source": [
    "cbc_en_fcen['valido'].value_counts()"
   ]
  },
  {
   "cell_type": "code",
   "execution_count": null,
   "metadata": {},
   "outputs": [],
   "source": [
    "cbc_en_fcen[~cbc_en_fcen['valido']]['Es materia FCEN?'].value_counts()"
   ]
  },
  {
   "cell_type": "code",
   "execution_count": null,
   "metadata": {},
   "outputs": [],
   "source": [
    "cbc_en_fcen = cbc_en_fcen[cbc_en_fcen['valido']]\n",
    "cbc_en_fcen = cbc_en_fcen.drop(columns='valido')\n",
    "cbc_en_fcen.head(5)"
   ]
  },
  {
   "cell_type": "code",
   "execution_count": null,
   "metadata": {},
   "outputs": [],
   "source": [
    "cbc_en_fcen['Dni'].nunique()"
   ]
  },
  {
   "cell_type": "code",
   "execution_count": null,
   "metadata": {},
   "outputs": [],
   "source": [
    "cbc_en_fcen.columns"
   ]
  },
  {
   "cell_type": "markdown",
   "metadata": {},
   "source": [
    "Ahora que tengo separados a los que me \"interesan\". Puedo estudiar la distribución de algunas de las variables. En particular:\n",
    "\n",
    "* 'Es materia FCEN?': Puedo ver la cantidad de personas que cursaron alguna materia que no sea de la FCEN\n",
    "* 'Materia': Puedo ver la distribución de materias distintas que cursaron las personas\n",
    "* 'Nota': Puedo ver la distribución del promedio de nota\n",
    "\n",
    "Además, yo ya había calculado el tiempo de viaje con los datos del CBC, por lo que podría estudiarlo (aunque debería calcular tiempo de viaje de la FCEN también)"
   ]
  },
  {
   "cell_type": "code",
   "execution_count": null,
   "metadata": {},
   "outputs": [],
   "source": [
    "cbc_en_fcen['Es materia FCEN?'].value_counts()"
   ]
  },
  {
   "cell_type": "code",
   "execution_count": null,
   "metadata": {},
   "outputs": [],
   "source": [
    "sns.countplot(data=cbc_en_fcen, x='Es materia FCEN?')\n",
    "plt.xlabel('Es materia FCEN?')\n",
    "plt.ylabel('Cantidad de filas')\n",
    "plt.title('Cantidad de filas por valor en \"Es materia FCEN?\"')\n",
    "plt.show()"
   ]
  },
  {
   "cell_type": "code",
   "execution_count": null,
   "metadata": {},
   "outputs": [],
   "source": [
    "# Filtrar los dni que tienen al menos una fila con 'SI'\n",
    "dni_con_si = cbc_en_fcen[cbc_en_fcen['Es materia FCEN?'] == 'SI']['Dni'].unique()\n",
    "\n",
    "# Crear un nuevo DataFrame para graficar\n",
    "resumen = pd.DataFrame({\n",
    "    'Tiene al menos un SI': ['Sí', 'No'],\n",
    "    'Cantidad de dni': [\n",
    "        len(dni_con_si),\n",
    "        cbc_en_fcen['Dni'].nunique() - len(dni_con_si)\n",
    "    ]\n",
    "})\n",
    "\n",
    "# Hacer el gráfico\n",
    "sns.barplot(data=resumen, x='Tiene al menos un SI', y='Cantidad de dni')\n",
    "plt.title('Cantidad de DNI según si tienen al menos un \"SI\" en \"Es materia FCEN?\"')\n",
    "plt.show()\n"
   ]
  },
  {
   "cell_type": "code",
   "execution_count": null,
   "metadata": {},
   "outputs": [],
   "source": [
    "resumen"
   ]
  },
  {
   "cell_type": "code",
   "execution_count": null,
   "metadata": {},
   "outputs": [],
   "source": [
    "cbc_en_fcen[~cbc_en_fcen['Dni'].isin(dni_con_si)]"
   ]
  },
  {
   "cell_type": "code",
   "execution_count": null,
   "metadata": {},
   "outputs": [],
   "source": [
    "personas_con_target[personas_con_target['dni'].isin(cbc_en_fcen[~cbc_en_fcen['Dni'].isin(dni_con_si)]['Dni'].unique())]['año_inscripcion_facultad'].value_counts()"
   ]
  },
  {
   "cell_type": "code",
   "execution_count": null,
   "metadata": {},
   "outputs": [],
   "source": [
    "# Calcular proporciones\n",
    "proporciones_filas = cbc_en_fcen['Materia'].value_counts().reset_index()\n",
    "proporciones_filas.columns = ['Materia', 'Cantidad']\n",
    "\n",
    "sns.barplot(data=proporciones_filas, x='Materia', y = 'Cantidad')\n",
    "plt.xlabel('Materia')\n",
    "plt.ylabel('Cantidad de filas')\n",
    "plt.title('Cantidad de filas por Materia')\n",
    "plt.xticks(rotation=90)\n",
    "plt.show()"
   ]
  },
  {
   "cell_type": "code",
   "execution_count": null,
   "metadata": {},
   "outputs": [],
   "source": [
    "# Calcular proporciones\n",
    "proporciones_filas = cbc_en_fcen['Materia'].value_counts(normalize=True).reset_index()\n",
    "proporciones_filas.columns = ['Materia', 'Proporción']\n",
    "\n",
    "# Gráfico\n",
    "sns.barplot(data=proporciones_filas, x='Materia', y='Proporción')\n",
    "plt.title('Proporción de filas por valor en \"Materia\"')\n",
    "plt.ylabel('Proporción')\n",
    "plt.xticks(rotation=90)\n",
    "plt.show()"
   ]
  },
  {
   "cell_type": "markdown",
   "metadata": {},
   "source": [
    "Me gustaría ver la proporción de los clusters, ya cuento con un archivo donde asigne un número a cada uno."
   ]
  },
  {
   "cell_type": "code",
   "execution_count": null,
   "metadata": {},
   "outputs": [],
   "source": [
    "clusters = clusters[['Materia', 'Cluster']].drop_duplicates()\n",
    "clusters.columns = ['materia', 'cluster']"
   ]
  },
  {
   "cell_type": "code",
   "execution_count": null,
   "metadata": {},
   "outputs": [],
   "source": [
    "clusters.sort_values(by = 'cluster')"
   ]
  },
  {
   "cell_type": "code",
   "execution_count": null,
   "metadata": {},
   "outputs": [],
   "source": [
    "cbc_en_fcen = cbc_en_fcen.merge(clusters, how = 'left', left_on = 'Materia', right_on = 'materia')"
   ]
  },
  {
   "cell_type": "markdown",
   "metadata": {},
   "source": [
    "Los que no tienen valores asignados es porque son materias de otras carreras"
   ]
  },
  {
   "cell_type": "code",
   "execution_count": null,
   "metadata": {},
   "outputs": [],
   "source": [
    "cbc_en_fcen.isna().sum()"
   ]
  },
  {
   "cell_type": "code",
   "execution_count": null,
   "metadata": {},
   "outputs": [],
   "source": [
    "cbc_en_fcen.loc[cbc_en_fcen['Materia'] == 'ALGEBRA A', 'cluster'] = 5"
   ]
  },
  {
   "cell_type": "code",
   "execution_count": null,
   "metadata": {},
   "outputs": [],
   "source": [
    "cbc_en_fcen[cbc_en_fcen['materia'].isna()]['Es materia FCEN?'].unique()"
   ]
  },
  {
   "cell_type": "code",
   "execution_count": null,
   "metadata": {},
   "outputs": [],
   "source": [
    "cbc_en_fcen.drop(columns = ['materia'], inplace = True)\n",
    "cbc_en_fcen['cluster'].fillna(8, inplace = True)"
   ]
  },
  {
   "cell_type": "code",
   "execution_count": null,
   "metadata": {},
   "outputs": [],
   "source": [
    "cbc_en_fcen"
   ]
  },
  {
   "cell_type": "code",
   "execution_count": null,
   "metadata": {},
   "outputs": [],
   "source": [
    "# Calcular proporciones\n",
    "proporciones_filas = cbc_en_fcen['cluster'].value_counts().reset_index()\n",
    "proporciones_filas.columns = ['cluster', 'Cantidad']\n",
    "\n",
    "sns.barplot(data=proporciones_filas, x='cluster', y = 'Cantidad')\n",
    "plt.xlabel('cluster')\n",
    "plt.ylabel('Cantidad de filas')\n",
    "plt.title('Cantidad de filas por cluster')\n",
    "plt.xticks(rotation=0)\n",
    "plt.show()"
   ]
  },
  {
   "cell_type": "code",
   "execution_count": null,
   "metadata": {},
   "outputs": [],
   "source": [
    "# Calcular proporciones\n",
    "proporciones_filas = cbc_en_fcen['cluster'].value_counts(normalize=True).reset_index()\n",
    "proporciones_filas.columns = ['cluster', 'Proporción']\n",
    "\n",
    "# Gráfico\n",
    "sns.barplot(data=proporciones_filas, x='cluster', y='Proporción')\n",
    "plt.title('Proporción de filas por valor en \"cluster\"')\n",
    "plt.ylabel('Proporción')\n",
    "plt.xticks(rotation=0)\n",
    "plt.show()"
   ]
  },
  {
   "cell_type": "code",
   "execution_count": null,
   "metadata": {},
   "outputs": [],
   "source": [
    "# Calcular proporciones\n",
    "proporciones_filas = cbc_en_fcen['Nota'].value_counts().reset_index()\n",
    "proporciones_filas.columns = ['Nota', 'Cantidad']\n",
    "\n",
    "sns.barplot(data=proporciones_filas, x='Nota', y = 'Cantidad')\n",
    "plt.xlabel('Nota')\n",
    "plt.ylabel('Cantidad de filas')\n",
    "plt.title('Cantidad de filas por Nota')\n",
    "plt.xticks(rotation=0)\n",
    "plt.show()"
   ]
  },
  {
   "cell_type": "code",
   "execution_count": null,
   "metadata": {},
   "outputs": [],
   "source": [
    "# Calcular proporciones\n",
    "proporciones_filas = cbc_en_fcen['Nota'].value_counts(normalize=True).reset_index()\n",
    "proporciones_filas.columns = ['Nota', 'Proporción']\n",
    "\n",
    "# Gráfico\n",
    "sns.barplot(data=proporciones_filas, x='Nota', y='Proporción')\n",
    "plt.title('Proporción de filas por valor en \"Nota\"')\n",
    "plt.ylabel('Proporción')\n",
    "plt.xticks(rotation=0)\n",
    "plt.show()"
   ]
  },
  {
   "cell_type": "markdown",
   "metadata": {},
   "source": [
    "## Veo los datos de la FCEN (mas que nada para ver la condición de los estudiantes de los que sí tenemos registro del CBC)"
   ]
  },
  {
   "cell_type": "code",
   "execution_count": null,
   "metadata": {},
   "outputs": [],
   "source": [
    "personas_con_target_y_cbc = personas_con_target[personas_con_target['dni'].isin(cbc_en_fcen['Dni'].unique())]"
   ]
  },
  {
   "cell_type": "code",
   "execution_count": null,
   "metadata": {},
   "outputs": [],
   "source": [
    "# Agrupar y contar\n",
    "df_plot = (\n",
    "    personas_con_target_y_cbc\n",
    "    .groupby(['cohorte', 'target'])\n",
    "    .size()\n",
    "    .reset_index(name='count')\n",
    ")\n",
    "\n",
    "# Crear barplot\n",
    "plt.figure(figsize=(10, 6))\n",
    "sns.barplot(data=df_plot, x='cohorte', y='count', hue='target')\n",
    "plt.title('Distribución de Target por Cohorte')\n",
    "plt.xlabel('Cohorte')\n",
    "plt.ylabel('Cantidad')\n",
    "plt.legend(title='Target')\n",
    "plt.xticks(rotation=45)\n",
    "plt.tight_layout()\n",
    "plt.show()"
   ]
  },
  {
   "cell_type": "code",
   "execution_count": null,
   "metadata": {},
   "outputs": [],
   "source": [
    "# Paso 1: Conteo de cada (cohorte, target)\n",
    "conteos = (\n",
    "    personas_con_target_y_cbc\n",
    "    .groupby(['cohorte', 'target'])\n",
    "    .size()\n",
    "    .reset_index(name='count')\n",
    ")\n",
    "\n",
    "# Paso 2: Calcular proporciones por cohorte\n",
    "conteos['proporcion'] = (\n",
    "    conteos\n",
    "    .groupby('cohorte')['count']\n",
    "    .transform(lambda x: x / x.sum())\n",
    ")\n",
    "\n",
    "# Paso 3: Plotear\n",
    "plt.figure(figsize=(10, 6))\n",
    "sns.barplot(data=conteos, x='cohorte', y='proporcion', hue='target')\n",
    "plt.title('Proporción de Target por Cohorte')\n",
    "plt.xlabel('Cohorte')\n",
    "plt.ylabel('Proporción')\n",
    "plt.legend(title='Target')\n",
    "plt.xticks(rotation=45)\n",
    "plt.tight_layout()\n",
    "plt.show()"
   ]
  },
  {
   "cell_type": "markdown",
   "metadata": {},
   "source": [
    "Voy a revisar qué características tienen las actas del CBC posteriores al año de inscripción de las personas."
   ]
  },
  {
   "cell_type": "code",
   "execution_count": null,
   "metadata": {},
   "outputs": [],
   "source": [
    "personas_con_target_y_cbc.columns"
   ]
  },
  {
   "cell_type": "markdown",
   "metadata": {},
   "source": [
    "## Con la target\n",
    "\n",
    "podemos ver cómo es la distribución de algunas de las variables condicionando por la target."
   ]
  },
  {
   "cell_type": "code",
   "execution_count": null,
   "metadata": {},
   "outputs": [],
   "source": [
    "cbc_en_fcen.head(5)"
   ]
  },
  {
   "cell_type": "code",
   "execution_count": null,
   "metadata": {},
   "outputs": [],
   "source": [
    "cbc_en_fcen['Fecha'].describe()"
   ]
  },
  {
   "cell_type": "code",
   "execution_count": null,
   "metadata": {},
   "outputs": [],
   "source": [
    "cbc_en_fcen[cbc_en_fcen['UBA XXI'] == 'SI']['Materia'].unique()"
   ]
  },
  {
   "cell_type": "code",
   "execution_count": null,
   "metadata": {},
   "outputs": [],
   "source": [
    "cbc_en_fcen[cbc_en_fcen['UBA XXI'] == 'SI']['cluster'].unique()"
   ]
  },
  {
   "cell_type": "code",
   "execution_count": null,
   "metadata": {},
   "outputs": [],
   "source": [
    "cbc_en_fcen.columns"
   ]
  },
  {
   "cell_type": "code",
   "execution_count": null,
   "metadata": {},
   "outputs": [],
   "source": [
    "print(cbc_en_fcen.groupby(['cohorte', 'Es materia FCEN?'])['Fecha'].value_counts().reset_index(name='count').sort_values(by=['cohorte', 'Es materia FCEN?', 'Fecha']).to_markdown())"
   ]
  },
  {
   "cell_type": "markdown",
   "metadata": {},
   "source": [
    "como esto despues lo voy a usar para entrenar el modelo, no puedo tener los registros del semestre relativo 4 --> los saco (vemos que no son muchos igual)"
   ]
  },
  {
   "cell_type": "code",
   "execution_count": null,
   "metadata": {},
   "outputs": [],
   "source": [
    "# Diccionario con los últimos registros válidos por cohorte\n",
    "fechas_limite = {\n",
    "    '2021C1': (2023, 2),\n",
    "    '2021C2': (2023, 8),\n",
    "    '2022C1': (2024, 2),\n",
    "    '2022C2': (2024, 8)\n",
    "}\n",
    "def es_valido(row):\n",
    "    año_limite, mes_limite = fechas_limite.get(row['cohorte'], (0, 0))\n",
    "    if row['año'] < año_limite:\n",
    "        return True\n",
    "    elif row['año'] == año_limite:\n",
    "        return row['mes'] <= mes_limite\n",
    "    else:\n",
    "        return False\n",
    "\n",
    "cbc_en_fcen['valido'] = cbc_en_fcen.apply(es_valido, axis=1)"
   ]
  },
  {
   "cell_type": "code",
   "execution_count": null,
   "metadata": {},
   "outputs": [],
   "source": [
    "cbc_en_fcen = cbc_en_fcen[cbc_en_fcen['valido']]\n",
    "cbc_en_fcen['Dni'].nunique()"
   ]
  },
  {
   "cell_type": "code",
   "execution_count": null,
   "metadata": {},
   "outputs": [],
   "source": [
    "cbc_en_fcen[cbc_en_fcen['Nota'] == 'AP'].shape"
   ]
  },
  {
   "cell_type": "code",
   "execution_count": null,
   "metadata": {},
   "outputs": [],
   "source": [
    "cbc_en_fcen[cbc_en_fcen['Dni'].isin(cbc_en_fcen[cbc_en_fcen['Nota'] == 'AP']['Dni'].unique())].groupby(['Dni']).size()"
   ]
  },
  {
   "cell_type": "code",
   "execution_count": null,
   "metadata": {},
   "outputs": [],
   "source": [
    "# Suponemos que df ya tiene las columnas: DNI, Cluster, Nota\n",
    "cbc_en_fcen.loc[:,'Nota'] = cbc_en_fcen['Nota'].replace('A', '0')\n",
    "cbc_en_fcen.loc[:,'Nota'] = cbc_en_fcen['Nota'].replace('NR', '0')"
   ]
  },
  {
   "cell_type": "code",
   "execution_count": null,
   "metadata": {},
   "outputs": [],
   "source": [
    "#elimino filas que tienen AP en la columna 'Nota'\n",
    "# reemplazo los AP en la columna Nota por el promedio de la persona\n",
    "cbc_en_fcen['nota_num'] = pd.to_numeric(cbc_en_fcen['Nota'], errors='coerce')  # Convertir a numérico, NaN para errores"
   ]
  },
  {
   "cell_type": "code",
   "execution_count": null,
   "metadata": {},
   "outputs": [],
   "source": [
    "cbc_en_fcen['nota_num'].isnull().sum()"
   ]
  },
  {
   "cell_type": "code",
   "execution_count": null,
   "metadata": {},
   "outputs": [],
   "source": [
    "# Calculamos el promedio por persona ignorando 'AP' (NaN)\n",
    "promedios = np.floor(cbc_en_fcen.groupby('Dni')['nota_num'].mean())\n",
    "\n",
    "# Función para reemplazar 'AP' con el promedio correspondiente\n",
    "def reemplazar_ap(row):\n",
    "    if row['Nota'] == 'AP':\n",
    "        return promedios[row['Dni']]\n",
    "    else:\n",
    "        return row['nota_num']\n",
    "\n",
    "# Aplicamos la función\n",
    "cbc_en_fcen['nota_limpia'] = cbc_en_fcen.apply(reemplazar_ap, axis=1)\n",
    "# Si querés, podés reemplazar la columna original o eliminar las auxiliares\n",
    "cbc_en_fcen['Nota'] = cbc_en_fcen['nota_limpia']\n",
    "cbc_en_fcen = cbc_en_fcen.drop(columns=['nota_num', 'nota_limpia'])\n",
    "\n",
    "#paso la columna a integer\n",
    "cbc_en_fcen.loc[:,'Nota'] = cbc_en_fcen['Nota'].astype(int)"
   ]
  },
  {
   "cell_type": "code",
   "execution_count": null,
   "metadata": {},
   "outputs": [],
   "source": [
    "cbc_en_fcen['Nota'].unique()"
   ]
  },
  {
   "cell_type": "code",
   "execution_count": null,
   "metadata": {},
   "outputs": [],
   "source": [
    "# Suponiendo que ya tenés el DataFrame cargado como df\n",
    "fecha_cero = pd.Timestamp(\"2020-01-01\")\n",
    "cbc_en_fcen['Fecha_numerica'] = (cbc_en_fcen['Fecha'] - fecha_cero).dt.days\n",
    "cbc_en_fcen['Fecha_numerica'].min(), cbc_en_fcen['Fecha_numerica'].max()"
   ]
  },
  {
   "cell_type": "code",
   "execution_count": null,
   "metadata": {},
   "outputs": [],
   "source": [
    "# Agrupamos\n",
    "agg = cbc_en_fcen.groupby(['Dni', 'cluster']).agg(\n",
    "    nota_promedio=('Nota', 'mean'),\n",
    "    fecha_promedio=('Fecha_numerica', 'mean')\n",
    ").reset_index()"
   ]
  },
  {
   "cell_type": "code",
   "execution_count": null,
   "metadata": {},
   "outputs": [],
   "source": [
    "# Paso 1: Agrupar para saber cuántas veces rindió cada materia\n",
    "rindio_por_materia = cbc_en_fcen.groupby(['Dni', 'Materia', 'cluster']).agg(\n",
    "    veces_rindio=('Nota', 'count')\n",
    ").reset_index()\n",
    "\n",
    "# Paso 2: Agrupar por Dni y cluster, y calcular el promedio de \"veces que rindió por materia\"\n",
    "promedio_rindio_por_cluster = rindio_por_materia.groupby(['Dni', 'cluster']).agg(\n",
    "    cantidad_veces_promedio=('veces_rindio', 'mean')\n",
    ").reset_index()\n",
    "# Paso 2: juntamos con promedio de veces que rindió por materia dentro del cluster\n",
    "agg_final = agg.merge(promedio_rindio_por_cluster, on=['Dni', 'cluster'], how='left')"
   ]
  },
  {
   "cell_type": "code",
   "execution_count": null,
   "metadata": {},
   "outputs": [],
   "source": [
    "agg_final[agg_final['cluster'] == 7]"
   ]
  },
  {
   "cell_type": "code",
   "execution_count": null,
   "metadata": {},
   "outputs": [],
   "source": [
    "# Pivot nota\n",
    "pivot_nota = agg_final.pivot(index='Dni', columns='cluster', values='nota_promedio')\n",
    "pivot_nota.columns = [f'nota_cluster_{col}' for col in pivot_nota.columns]\n",
    "\n",
    "# Pivot cantidad de veces que rindió\n",
    "pivot_cantidad = agg_final.pivot(index='Dni', columns='cluster', values='cantidad_veces_promedio')\n",
    "pivot_cantidad.columns = [f'cantidad_de_veces_que_rindio_cluster_{col}' for col in pivot_cantidad.columns]\n",
    "\n",
    "# Pivot fecha\n",
    "pivot_fecha = agg_final.pivot(index='Dni', columns='cluster', values='fecha_promedio')\n",
    "pivot_fecha.columns = [f'fecha_promedio_cluster_{col}' for col in pivot_fecha.columns]\n",
    "\n",
    "# Unimos todo\n",
    "df_final = pd.concat([pivot_nota, pivot_cantidad, pivot_fecha], axis=1).reset_index()"
   ]
  },
  {
   "cell_type": "code",
   "execution_count": null,
   "metadata": {},
   "outputs": [],
   "source": [
    "df_final"
   ]
  },
  {
   "cell_type": "code",
   "execution_count": null,
   "metadata": {},
   "outputs": [],
   "source": [
    "helpers_eda_inicial.display_missing_values(df_final)"
   ]
  },
  {
   "cell_type": "markdown",
   "metadata": {},
   "source": [
    "voy a probar otra forma de distribuir los clusters, a ver si mejora:"
   ]
  },
  {
   "cell_type": "code",
   "execution_count": null,
   "metadata": {},
   "outputs": [],
   "source": [
    "cbc_en_fcen.columns"
   ]
  },
  {
   "cell_type": "code",
   "execution_count": null,
   "metadata": {},
   "outputs": [],
   "source": [
    "cbc_en_fcen_copia = cbc_en_fcen[['Dni', 'Nota', 'Materia', 'Fecha_numerica', 'cluster', 'UBA XXI']].copy()\n",
    "cbc_en_fcen_copia.loc[cbc_en_fcen_copia['Materia'] == 'ALGEBRA A', 'cluster'] = 1\n",
    "cbc_en_fcen_copia.loc[cbc_en_fcen_copia['Materia'] == 'ALGEBRA', 'cluster'] = 1\n",
    "cbc_en_fcen_copia.loc[cbc_en_fcen_copia['Materia'] == 'INTROD. AL PENSAMIENTO COMPUTACIONAL', 'cluster'] = 4"
   ]
  },
  {
   "cell_type": "code",
   "execution_count": null,
   "metadata": {},
   "outputs": [],
   "source": [
    "# Agrupamos\n",
    "agg = cbc_en_fcen_copia.groupby(['Dni', 'cluster']).agg(\n",
    "    nota_promedio=('Nota', 'mean'),\n",
    "    cantidad_rindio=('Nota', 'count'),\n",
    "    fecha_promedio=('Fecha_numerica', 'mean')\n",
    ").reset_index()\n",
    "\n",
    "# Paso 1: Agrupar para saber cuántas veces rindió cada materia\n",
    "rindio_por_materia = cbc_en_fcen_copia.groupby(['Dni', 'Materia', 'cluster']).agg(\n",
    "    veces_rindio=('Nota', 'count')\n",
    ").reset_index()\n",
    "\n",
    "# Paso 2: Agrupar por Dni y cluster, y calcular el promedio de \"veces que rindió por materia\"\n",
    "promedio_rindio_por_cluster = rindio_por_materia.groupby(['Dni', 'cluster']).agg(\n",
    "    cantidad_veces_promedio=('veces_rindio', 'mean')\n",
    ").reset_index()\n",
    "# Paso 2: juntamos con promedio de veces que rindió por materia dentro del cluster\n",
    "agg_final = agg.merge(promedio_rindio_por_cluster, on=['Dni', 'cluster'], how='left')\n",
    "\n",
    "# Pivot nota\n",
    "pivot_nota = agg_final.pivot(index='Dni', columns='cluster', values='nota_promedio')\n",
    "pivot_nota.columns = [f'nota_cluster_{col}' for col in pivot_nota.columns]\n",
    "\n",
    "# Pivot cantidad de veces que rindió\n",
    "pivot_cantidad = agg_final.pivot(index='Dni', columns='cluster', values='cantidad_veces_promedio')\n",
    "pivot_cantidad.columns = [f'cantidad_de_veces_que_rindio_cluster_{col}' for col in pivot_cantidad.columns]\n",
    "\n",
    "# Pivot fecha\n",
    "pivot_fecha = agg_final.pivot(index='Dni', columns='cluster', values='fecha_promedio')\n",
    "pivot_fecha.columns = [f'fecha_promedio_cluster_{col}' for col in pivot_fecha.columns]\n",
    "\n",
    "# Unimos todo\n",
    "df_final = pd.concat([pivot_nota, pivot_cantidad, pivot_fecha], axis=1).reset_index()\n"
   ]
  },
  {
   "cell_type": "code",
   "execution_count": null,
   "metadata": {},
   "outputs": [],
   "source": [
    "uba_xxi_flags = cbc_en_fcen_copia.groupby(['Dni', 'cluster'])['UBA XXI'].apply(\n",
    "    lambda x: any(v == 'SI' for v in x)\n",
    ").reset_index().rename(columns={'UBA XXI': 'cursada_por_uba_xxi'})\n",
    "\n",
    "pivot_uba_xxi = uba_xxi_flags.pivot(index='Dni', columns='cluster', values='cursada_por_uba_xxi')\n",
    "pivot_uba_xxi.columns = [f'cursada_por_uba_xxi_cluster_{col}' for col in pivot_uba_xxi.columns]\n",
    "\n",
    "# Primero reseteamos el índice para tener 'Dni' como columna\n",
    "pivot_uba_xxi = pivot_uba_xxi.reset_index()\n",
    "\n",
    "# Luego mergeamos\n",
    "df_final = df_final.merge(pivot_uba_xxi, on='Dni', how='left')"
   ]
  },
  {
   "cell_type": "code",
   "execution_count": null,
   "metadata": {},
   "outputs": [],
   "source": [
    "df_final.columns"
   ]
  },
  {
   "cell_type": "code",
   "execution_count": null,
   "metadata": {},
   "outputs": [],
   "source": [
    "df_final.shape"
   ]
  },
  {
   "cell_type": "code",
   "execution_count": null,
   "metadata": {},
   "outputs": [],
   "source": [
    "helpers_eda_inicial.display_missing_values(df_final)"
   ]
  },
  {
   "cell_type": "code",
   "execution_count": null,
   "metadata": {},
   "outputs": [],
   "source": [
    "# Calcular proporciones\n",
    "proporciones_filas = cbc_en_fcen_copia['cluster'].value_counts().reset_index()\n",
    "proporciones_filas.columns = ['cluster', 'Cantidad']\n",
    "\n",
    "sns.barplot(data=proporciones_filas, x='cluster', y = 'Cantidad')\n",
    "plt.xlabel('cluster')\n",
    "plt.ylabel('Cantidad de filas')\n",
    "plt.title('Cantidad de filas por cluster')\n",
    "plt.xticks(rotation=0)\n",
    "plt.show()\n",
    "\n",
    "# Calcular proporciones\n",
    "proporciones_filas = cbc_en_fcen_copia['cluster'].value_counts(normalize=True).reset_index()\n",
    "proporciones_filas.columns = ['cluster', 'Proporción']\n",
    "\n",
    "# Gráfico\n",
    "sns.barplot(data=proporciones_filas, x='cluster', y='Proporción')\n",
    "plt.title('Proporción de filas por valor en \"cluster\"')\n",
    "plt.ylabel('Proporción')\n",
    "plt.xticks(rotation=0)\n",
    "plt.show()"
   ]
  },
  {
   "cell_type": "code",
   "execution_count": null,
   "metadata": {},
   "outputs": [],
   "source": [
    "# Set estilo\n",
    "sns.set(style=\"whitegrid\")\n",
    "variables_creadas = df_final.drop(columns='Dni')\n",
    "\n",
    "# Gráficos\n",
    "variables_creadas.hist(bins=20, figsize=(20, 15))\n",
    "plt.suptitle(\"Distribución de todas las variables por cluster\", fontsize=16)\n",
    "plt.tight_layout()\n",
    "plt.show()"
   ]
  },
  {
   "cell_type": "code",
   "execution_count": null,
   "metadata": {},
   "outputs": [],
   "source": [
    "# Seleccionamos las columnas\n",
    "cols_nota = [f'nota_cluster_{i}.0' for i in range(1, 7)] + [f'nota_cluster_{i}.0' for i in range(8, 9)]\n",
    "df_notas = df_final[cols_nota]\n",
    "\n",
    "# Filtramos columnas que no sean completamente NaN\n",
    "df_notas = df_notas.loc[:, df_notas.notna().any()]\n",
    "\n",
    "# Convertimos a numérico por si acaso (ignora errores)\n",
    "df_notas = df_notas.apply(pd.to_numeric, errors='coerce')\n",
    "\n",
    "# Graficamos\n",
    "sns.set(style=\"whitegrid\")\n",
    "df_notas.hist(bins=10, figsize=(16, 10))\n",
    "plt.suptitle(\"Distribución de notas promedio por cluster (1.0 al 8.0)\", fontsize=16)\n",
    "plt.tight_layout()\n",
    "plt.show()"
   ]
  },
  {
   "cell_type": "code",
   "execution_count": null,
   "metadata": {},
   "outputs": [],
   "source": [
    "# Filtrar columnas de interés\n",
    "uba_xxi_columns = [col for col in df_final.columns if col.startswith('cursada_por_uba_xxi_cluster_')]\n",
    "\n",
    "# Calcular conteos por columna\n",
    "value_counts_df = pd.DataFrame({\n",
    "    col: df_final[col].value_counts(dropna=False) for col in uba_xxi_columns\n",
    "}).T.fillna(0)\n",
    "\n",
    "# Asegurar que todos los valores (True, False, NaN) estén como columnas\n",
    "for val in [True, False, np.nan]:\n",
    "    if val not in value_counts_df.columns:\n",
    "        value_counts_df[val] = 0\n",
    "\n",
    "# Ordenar columnas\n",
    "value_counts_df = value_counts_df[[True, False, np.nan]]\n",
    "\n",
    "# Renombrar columnas para mejor lectura\n",
    "value_counts_df.columns = ['Cursó por UBA XXI', 'No cursó por UBA XXI', 'Sin datos']\n",
    "\n",
    "# Graficar\n",
    "value_counts_df.plot(kind='bar', stacked=False, figsize=(12, 6), colormap='viridis')\n",
    "plt.title('Distribución de cursada por UBA XXI por cluster')\n",
    "plt.ylabel('Cantidad de estudiantes')\n",
    "plt.xlabel('Cluster')\n",
    "plt.xticks(rotation=45, ha='right')\n",
    "plt.legend(loc='upper right')\n",
    "plt.tight_layout()\n",
    "plt.show()\n"
   ]
  },
  {
   "cell_type": "code",
   "execution_count": null,
   "metadata": {},
   "outputs": [],
   "source": [
    "# Filtrar columnas de interés\n",
    "uba_xxi_columns = [col for col in df_final.columns if col.startswith('cursada_por_uba_xxi_cluster_')]\n",
    "\n",
    "# Calcular conteos por columna\n",
    "value_counts_df = pd.DataFrame({\n",
    "    col: df_final[col].value_counts(dropna=False) for col in uba_xxi_columns\n",
    "}).T.fillna(0)\n",
    "\n",
    "# Asegurar que todos los valores estén como columnas\n",
    "for val in [True, False, np.nan]:\n",
    "    if val not in value_counts_df.columns:\n",
    "        value_counts_df[val] = 0\n",
    "\n",
    "# Ordenar columnas\n",
    "value_counts_df = value_counts_df[[True, False, np.nan]]\n",
    "\n",
    "# Renombrar columnas para legibilidad\n",
    "value_counts_df.columns = ['Cursó por UBA XXI', 'No cursó por UBA XXI', 'Sin datos']\n",
    "\n",
    "# Calcular proporciones\n",
    "proportions_df = value_counts_df.div(value_counts_df.sum(axis=1), axis=0)\n",
    "\n",
    "# Graficar\n",
    "proportions_df.plot(kind='bar', stacked=False, figsize=(12, 6), colormap='viridis')\n",
    "plt.title('Proporción de estudiantes que cursaron por UBA XXI por cluster')\n",
    "plt.ylabel('Proporción')\n",
    "plt.xlabel('Cluster')\n",
    "plt.xticks(rotation=45, ha='right')\n",
    "plt.legend(loc='upper right')\n",
    "plt.tight_layout()\n",
    "plt.show()"
   ]
  },
  {
   "cell_type": "code",
   "execution_count": null,
   "metadata": {},
   "outputs": [],
   "source": [
    "personas_con_target_y_cbc = personas_con_target_y_cbc.merge(df_final, how = 'left', left_on = 'dni', right_on = 'Dni')"
   ]
  },
  {
   "cell_type": "code",
   "execution_count": null,
   "metadata": {},
   "outputs": [],
   "source": [
    "# Cantidad de filas por cluster y target\n",
    "cantidades = personas_con_target_y_cbc.groupby(['nota_cluster_1.0', 'target']).size().reset_index(name='Cantidad')\n",
    "\n",
    "# Gráfico\n",
    "sns.barplot(data=cantidades, x='nota_cluster_1.0', y='Cantidad', hue='target')\n",
    "plt.xlabel('nota_cluster_1.0')\n",
    "plt.ylabel('Cantidad de filas')\n",
    "plt.title('Cantidad de filas por cluster y target')\n",
    "plt.xticks(rotation=90)\n",
    "plt.show()"
   ]
  },
  {
   "cell_type": "code",
   "execution_count": null,
   "metadata": {},
   "outputs": [],
   "source": [
    "df_final.dtypes"
   ]
  },
  {
   "cell_type": "code",
   "execution_count": null,
   "metadata": {},
   "outputs": [],
   "source": [
    "for col in df_final.columns:\n",
    "    if 'nota_cluster' in col or 'cantidad_de_veces_que_rindio_cluster' in col or 'fecha_promedio_cluster' in col:\n",
    "        df_final[col] = np.floor(df_final[col])"
   ]
  },
  {
   "cell_type": "markdown",
   "metadata": {},
   "source": [
    "## Nos guardamos la versión final!"
   ]
  },
  {
   "cell_type": "code",
   "execution_count": null,
   "metadata": {},
   "outputs": [],
   "source": [
    "df_final.to_csv('../../../assets/silver/data_utilizada/cbc_final.csv', index = False)"
   ]
  },
  {
   "cell_type": "code",
   "execution_count": null,
   "metadata": {},
   "outputs": [],
   "source": [
    "for col in cols_nota:\n",
    "    personas_con_target_y_cbc[col] = pd.to_numeric(\n",
    "        personas_con_target_y_cbc[col], errors='coerce'\n",
    "    )"
   ]
  },
  {
   "cell_type": "code",
   "execution_count": null,
   "metadata": {},
   "outputs": [],
   "source": [
    "personas_con_target_y_cbc['dni'].nunique()"
   ]
  },
  {
   "cell_type": "markdown",
   "metadata": {},
   "source": [
    "Estan buenos estos graficos, pero en todo caso los debería hacer cuando haga merge con todo el resto, si no medio raro"
   ]
  },
  {
   "cell_type": "code",
   "execution_count": null,
   "metadata": {},
   "outputs": [],
   "source": [
    "def plot_histogram(cluster):\n",
    "\n",
    "    # Agrupar por bin y target\n",
    "    cantidades = personas_con_target_y_cbc.groupby([f'nota_cluster_{cluster}.0', 'target']).size().reset_index(name='Cantidad')\n",
    "\n",
    "    # Gráfico de barras con cantidades incluyendo NA\n",
    "    plt.figure(figsize=(10, 6))\n",
    "    sns.barplot(data=cantidades, x=f'nota_cluster_{cluster}.0', y='Cantidad', hue='target')\n",
    "\n",
    "    plt.xlabel(f'nota_cluster_{cluster}.0')\n",
    "    plt.ylabel('Cantidad de filas')\n",
    "    plt.title(f'Cantidad de filas por nota_cluster_{cluster}.0 (incluyendo NA) y target')\n",
    "    plt.xticks(rotation=0)\n",
    "    plt.tight_layout()\n",
    "    plt.show()\n",
    "\n",
    "\n",
    "    # Calcular la suma total por bin para calcular proporciones\n",
    "    total_por_bin = cantidades.groupby(f'nota_cluster_{cluster}.0')['Cantidad'].transform('sum')\n",
    "\n",
    "    # Calcular la proporción por cada grupo target dentro del bin\n",
    "    cantidades['Proporcion'] = cantidades['Cantidad'] / total_por_bin\n",
    "\n",
    "    # Gráfico de barras con proporciones incluyendo NA\n",
    "    plt.figure(figsize=(10, 6))\n",
    "    sns.barplot(data=cantidades, x=f'nota_cluster_{cluster}.0', y='Proporcion', hue='target')\n",
    "\n",
    "    plt.xlabel(f'nota_cluster_{cluster}.0')\n",
    "    plt.ylabel('Proporción')\n",
    "    plt.title(f'Proporción por nota_cluster_{cluster}.0 (incluyendo NA) y target')\n",
    "    plt.xticks(rotation=0)\n",
    "    plt.tight_layout()\n",
    "    plt.show()\n"
   ]
  },
  {
   "cell_type": "code",
   "execution_count": null,
   "metadata": {},
   "outputs": [],
   "source": [
    "for i in range(1, 7):\n",
    "    plot_histogram(i)"
   ]
  },
  {
   "cell_type": "code",
   "execution_count": null,
   "metadata": {},
   "outputs": [],
   "source": [
    "plot_histogram(8)"
   ]
  },
  {
   "cell_type": "code",
   "execution_count": null,
   "metadata": {},
   "outputs": [],
   "source": [
    "def plot_histogram(cluster):\n",
    "    columna = f'nota_cluster_{cluster}.0'\n",
    "\n",
    "    # Crear una copia con NA reemplazado por string 'NA'\n",
    "    df = personas_con_target_y_cbc.copy()\n",
    "    df[columna] = df[columna].fillna('NA')\n",
    "\n",
    "    # Agrupar por bin (incluyendo 'NA') y target\n",
    "    cantidades = df.groupby([columna, 'target']).size().reset_index(name='Cantidad')\n",
    "\n",
    "    # Gráfico de barras con cantidades incluyendo NA\n",
    "    plt.figure(figsize=(10, 6))\n",
    "    sns.barplot(data=cantidades, x=columna, y='Cantidad', hue='target')\n",
    "    plt.xlabel(columna)\n",
    "    plt.ylabel('Cantidad de filas')\n",
    "    plt.title(f'Cantidad de filas por {columna} (incluyendo NA) y target')\n",
    "    plt.xticks(rotation=0)\n",
    "    plt.tight_layout()\n",
    "    plt.show()\n",
    "\n",
    "    # Calcular la suma total por bin para calcular proporciones\n",
    "    total_por_bin = cantidades.groupby(columna)['Cantidad'].transform('sum')\n",
    "\n",
    "    # Calcular la proporción por cada grupo target dentro del bin\n",
    "    cantidades['Proporcion'] = cantidades['Cantidad'] / total_por_bin\n",
    "\n",
    "    # Gráfico de barras con proporciones incluyendo NA\n",
    "    plt.figure(figsize=(10, 6))\n",
    "    sns.barplot(data=cantidades, x=columna, y='Proporcion', hue='target')\n",
    "    plt.xlabel(columna)\n",
    "    plt.ylabel('Proporción')\n",
    "    plt.title(f'Proporción por {columna} (incluyendo NA) y target')\n",
    "    plt.xticks(rotation=0)\n",
    "    plt.tight_layout()\n",
    "    plt.show()\n"
   ]
  },
  {
   "cell_type": "code",
   "execution_count": null,
   "metadata": {},
   "outputs": [],
   "source": [
    "for i in range(1, 7):\n",
    "    plot_histogram(i)"
   ]
  },
  {
   "cell_type": "code",
   "execution_count": null,
   "metadata": {},
   "outputs": [],
   "source": [
    "plot_histogram(8)"
   ]
  }
 ],
 "metadata": {
  "kernelspec": {
   "display_name": ".venv",
   "language": "python",
   "name": "python3"
  },
  "language_info": {
   "codemirror_mode": {
    "name": "ipython",
    "version": 3
   },
   "file_extension": ".py",
   "mimetype": "text/x-python",
   "name": "python",
   "nbconvert_exporter": "python",
   "pygments_lexer": "ipython3",
   "version": "3.11.9"
  }
 },
 "nbformat": 4,
 "nbformat_minor": 2
}

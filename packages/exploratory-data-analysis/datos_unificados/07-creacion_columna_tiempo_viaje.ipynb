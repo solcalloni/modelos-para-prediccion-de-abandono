{
 "cells": [
  {
   "cell_type": "code",
   "execution_count": 1,
   "metadata": {},
   "outputs": [],
   "source": [
    "import sys\n",
    "sys.path.insert(0, '../')\n",
    "import pandas as pd\n",
    "import numpy as np\n",
    "import matplotlib.pyplot as plt\n",
    "import seaborn as sns\n",
    "import io\n",
    "import tabulate"
   ]
  },
  {
   "cell_type": "markdown",
   "metadata": {},
   "source": [
    "## Tiempo de viaje a la mañana"
   ]
  },
  {
   "cell_type": "markdown",
   "metadata": {},
   "source": [
    "Me traigo los datasets que tienen los tiempo de viaje, pero también me debo traer el dataset con los datos personales (pues hay personas de la FCEN para las cuales no se podía calcular el tiempo de viaje)"
   ]
  },
  {
   "cell_type": "code",
   "execution_count": null,
   "metadata": {},
   "outputs": [],
   "source": [
    "tiempo_cbc = pd.read_csv('../../../assets/silver/data_utilizada/distancia_viaje_cbc_solo_manana.csv')\n",
    "tiempo_fcen = pd.read_csv('../../../assets/silver/data_utilizada/datos_fcen_tiempo_viaje.csv')\n",
    "personas = pd.read_csv('../../../assets/silver/data_utilizada/personas_con_target.csv')\n",
    "personas.head(5)"
   ]
  },
  {
   "cell_type": "code",
   "execution_count": 4,
   "metadata": {},
   "outputs": [],
   "source": [
    "tiempo_fcen_tarde = pd.read_csv('../../../assets/silver/data_utilizada/datos_fcen_tiempo_viaje_tarde.csv')"
   ]
  },
  {
   "cell_type": "code",
   "execution_count": null,
   "metadata": {},
   "outputs": [],
   "source": [
    "personas.dtypes"
   ]
  },
  {
   "cell_type": "code",
   "execution_count": null,
   "metadata": {},
   "outputs": [],
   "source": [
    "tiempo_cbc.dtypes"
   ]
  },
  {
   "cell_type": "code",
   "execution_count": null,
   "metadata": {},
   "outputs": [],
   "source": [
    "tiempo_fcen.dtypes"
   ]
  },
  {
   "cell_type": "code",
   "execution_count": null,
   "metadata": {},
   "outputs": [],
   "source": [
    "tiempo_cbc['Dni'] = tiempo_cbc['Dni'].astype(str)"
   ]
  },
  {
   "cell_type": "code",
   "execution_count": null,
   "metadata": {},
   "outputs": [],
   "source": [
    "tiempo_cbc.head(5)"
   ]
  },
  {
   "cell_type": "code",
   "execution_count": null,
   "metadata": {},
   "outputs": [],
   "source": [
    "tiempo_fcen.head(5)"
   ]
  },
  {
   "cell_type": "code",
   "execution_count": null,
   "metadata": {},
   "outputs": [],
   "source": [
    "print(tiempo_cbc.shape)\n",
    "print(tiempo_fcen.shape)\n",
    "print(personas.shape)\n",
    "print(tiempo_fcen_tarde.shape)"
   ]
  },
  {
   "cell_type": "markdown",
   "metadata": {},
   "source": [
    "Nos quedamos con las columnas que contienen le dato del dni (para poder juntarlas) y las que contienen el tiempo de viaje"
   ]
  },
  {
   "cell_type": "code",
   "execution_count": null,
   "metadata": {},
   "outputs": [],
   "source": [
    "tiempo_cbc = tiempo_cbc[['Dni', 'Duracion_manana']]\n",
    "tiempo_cbc.columns = ['dni', 'duracion_manana_cbc']\n",
    "tiempo_fcen = tiempo_fcen[['dni', 'duracion_manana']]\n",
    "tiempo_fcen.columns = ['dni', 'duracion_manana_fcen']"
   ]
  },
  {
   "cell_type": "code",
   "execution_count": null,
   "metadata": {},
   "outputs": [],
   "source": [
    "personas = personas.merge(tiempo_cbc, on='dni', how='left')\n",
    "personas.shape"
   ]
  },
  {
   "cell_type": "code",
   "execution_count": null,
   "metadata": {},
   "outputs": [],
   "source": [
    "personas = personas.merge(tiempo_fcen, on='dni', how='left')\n",
    "personas.shape"
   ]
  },
  {
   "cell_type": "code",
   "execution_count": null,
   "metadata": {},
   "outputs": [],
   "source": [
    "personas[['duracion_manana_cbc', 'duracion_manana_fcen']].describe()"
   ]
  },
  {
   "cell_type": "code",
   "execution_count": null,
   "metadata": {},
   "outputs": [],
   "source": [
    "personas[['duracion_manana_cbc', 'duracion_manana_fcen']].isnull().sum()"
   ]
  },
  {
   "cell_type": "markdown",
   "metadata": {},
   "source": [
    "En principio definimos 0 y más de 4 horas (14400seg) como atipico. Vemos como cambia la distribución si cumplimos con eso"
   ]
  },
  {
   "cell_type": "code",
   "execution_count": null,
   "metadata": {},
   "outputs": [],
   "source": [
    "personas['duracion_manana_cbc'] = personas['duracion_manana_cbc'].replace(0, np.nan)\n",
    "personas['duracion_manana_fcen'] = personas['duracion_manana_fcen'].replace(0, np.nan)"
   ]
  },
  {
   "cell_type": "code",
   "execution_count": null,
   "metadata": {},
   "outputs": [],
   "source": [
    "personas[['duracion_manana_cbc', 'duracion_manana_fcen']].describe()"
   ]
  },
  {
   "cell_type": "code",
   "execution_count": null,
   "metadata": {},
   "outputs": [],
   "source": [
    "personas[['duracion_manana_cbc', 'duracion_manana_fcen']].isnull().sum()"
   ]
  },
  {
   "cell_type": "code",
   "execution_count": null,
   "metadata": {},
   "outputs": [],
   "source": [
    "# reemplazo todo valor mayor a 14400 por NaN, ya que es un valor que no tiene sentido\n",
    "personas['duracion_manana_cbc'] = personas['duracion_manana_cbc'].replace(\n",
    "    personas['duracion_manana_cbc'][personas['duracion_manana_cbc'] > 14400].values, np.nan)\n",
    "personas['duracion_manana_fcen'] = personas['duracion_manana_fcen'].replace(\n",
    "    personas['duracion_manana_fcen'][personas['duracion_manana_fcen'] > 14400].values, np.nan)"
   ]
  },
  {
   "cell_type": "code",
   "execution_count": null,
   "metadata": {},
   "outputs": [],
   "source": [
    "personas[['duracion_manana_cbc', 'duracion_manana_fcen']].describe()"
   ]
  },
  {
   "cell_type": "code",
   "execution_count": null,
   "metadata": {},
   "outputs": [],
   "source": [
    "personas[['duracion_manana_cbc', 'duracion_manana_fcen']].isnull().sum()"
   ]
  },
  {
   "cell_type": "code",
   "execution_count": null,
   "metadata": {},
   "outputs": [],
   "source": [
    "personas[personas['duracion_manana_cbc'].isnull() & personas['duracion_manana_fcen'].isnull()].shape"
   ]
  },
  {
   "cell_type": "code",
   "execution_count": null,
   "metadata": {},
   "outputs": [],
   "source": [
    "personas[(~personas['duracion_manana_cbc'].isnull()) & (personas['duracion_manana_fcen'].isnull())].shape"
   ]
  },
  {
   "cell_type": "code",
   "execution_count": null,
   "metadata": {},
   "outputs": [],
   "source": [
    "personas[(personas['duracion_manana_cbc'].isnull()) & (~personas['duracion_manana_fcen'].isnull())].shape"
   ]
  },
  {
   "cell_type": "code",
   "execution_count": null,
   "metadata": {},
   "outputs": [],
   "source": [
    "personas[(~personas['duracion_manana_cbc'].isnull()) & (personas['duracion_manana_fcen'].isnull())].shape"
   ]
  },
  {
   "cell_type": "markdown",
   "metadata": {},
   "source": [
    "Nosotros siempre que podamos nos vamos a quedar con los datos de la FCEN, pues son más actuales. Como hay 9 casos en donde tenemos la información de tiempo de viaje en el CBC pero no en la FCEN, tomamos esos casos para definir su tiempo de viaje a la facultad. Definimos la columna 'tiempo_de_viaje'"
   ]
  },
  {
   "cell_type": "code",
   "execution_count": null,
   "metadata": {},
   "outputs": [],
   "source": [
    "# defino columna 'tiempo_de_viaje' como la duracion de fcen si no es nulo, sino la de cbc\n",
    "personas['tiempo_de_viaje'] = personas['duracion_manana_fcen']\n",
    "personas.loc[personas['tiempo_de_viaje'].isnull(), 'tiempo_de_viaje'] = \\\n",
    "    personas['duracion_manana_cbc'][personas['tiempo_de_viaje'].isnull()]"
   ]
  },
  {
   "cell_type": "markdown",
   "metadata": {},
   "source": [
    "Tiene sentido porque tiene 9 casos menos de nulos gracias a que completamos con el CBC"
   ]
  },
  {
   "cell_type": "code",
   "execution_count": null,
   "metadata": {},
   "outputs": [],
   "source": [
    "personas[['duracion_manana_cbc', 'duracion_manana_fcen', 'tiempo_de_viaje']].isnull().sum()"
   ]
  },
  {
   "cell_type": "code",
   "execution_count": null,
   "metadata": {},
   "outputs": [],
   "source": [
    "personas[['duracion_manana_cbc', 'duracion_manana_fcen', 'tiempo_de_viaje']].describe()"
   ]
  },
  {
   "cell_type": "markdown",
   "metadata": {},
   "source": [
    "Nos quedamos con las columnas que nos interesan guardar aparte"
   ]
  },
  {
   "cell_type": "code",
   "execution_count": null,
   "metadata": {},
   "outputs": [],
   "source": [
    "tiempo_viaje = personas[['dni', 'tiempo_de_viaje']].copy()\n",
    "tiempo_viaje.to_csv('../../../assets/silver/data_utilizada/tiempo_viaje_manana.csv', index=False)"
   ]
  },
  {
   "cell_type": "code",
   "execution_count": null,
   "metadata": {},
   "outputs": [],
   "source": [
    "# Estilo visual\n",
    "sns.set(style=\"whitegrid\", palette=\"pastel\")\n",
    "\n",
    "# Tamaño del gráfico\n",
    "plt.figure(figsize=(8, 5))\n",
    "\n",
    "# Boxplot\n",
    "sns.boxplot(x=personas['tiempo_de_viaje'], color=\"skyblue\")\n",
    "\n",
    "# Título y etiquetas\n",
    "plt.title('Distribución del tiempo de viaje', fontsize=14)\n",
    "plt.xlabel('Tiempo de viaje (seg)', fontsize=12)\n",
    "mean_val = personas['tiempo_de_viaje'].mean()\n",
    "plt.axvline(mean_val, color='red', linestyle='--', label=f'Media: {mean_val:.1f}')\n",
    "plt.legend()\n",
    "median_val = personas['tiempo_de_viaje'].median()\n",
    "plt.axvline(median_val, color='blue', linestyle='--', label=f'Mediana: {median_val:.1f}')\n",
    "plt.legend()\n",
    "\n",
    "# Mostrar\n",
    "plt.tight_layout()\n",
    "plt.show()\n"
   ]
  },
  {
   "cell_type": "code",
   "execution_count": null,
   "metadata": {},
   "outputs": [],
   "source": [
    "# Estilo visual\n",
    "sns.set(style=\"whitegrid\", palette=\"pastel\")\n",
    "\n",
    "# Tamaño del gráfico\n",
    "plt.figure(figsize=(8, 5))\n",
    "\n",
    "# Histograma con densidad opcional\n",
    "sns.histplot(data=personas, x='tiempo_de_viaje', bins=30, kde=True, color='skyblue')\n",
    "\n",
    "# Título y etiquetas\n",
    "plt.title('Distribución del tiempo de viaje', fontsize=14)\n",
    "plt.xlabel('Tiempo de viaje (seg)', fontsize=12)\n",
    "plt.ylabel('Frecuencia', fontsize=12)\n",
    "\n",
    "# Mostrar\n",
    "plt.tight_layout()\n",
    "plt.show()"
   ]
  },
  {
   "cell_type": "code",
   "execution_count": null,
   "metadata": {},
   "outputs": [],
   "source": [
    "sns.set(style=\"whitegrid\", palette=\"pastel\")\n",
    "plt.figure(figsize=(8, 5))\n",
    "\n",
    "# Histograma con proporciones\n",
    "sns.histplot(data=personas, x='tiempo_de_viaje', bins=40, kde=False, stat=\"probability\", color='skyblue')\n",
    "\n",
    "# Título y etiquetas\n",
    "plt.title('Distribución del tiempo de viaje', fontsize=14)\n",
    "plt.xlabel('Tiempo de viaje (seg)', fontsize=12)\n",
    "plt.ylabel('Proporción', fontsize=12)\n",
    "mean_val = personas['tiempo_de_viaje'].mean()\n",
    "plt.axvline(mean_val, color='red', linestyle='--', label=f'Media: {mean_val:.1f}')\n",
    "plt.legend()\n",
    "median_val = personas['tiempo_de_viaje'].median()\n",
    "plt.axvline(median_val, color='blue', linestyle='--', label=f'Mediana: {median_val:.1f}')\n",
    "plt.legend()\n",
    "\n",
    "plt.tight_layout()\n",
    "plt.show()"
   ]
  },
  {
   "cell_type": "code",
   "execution_count": null,
   "metadata": {},
   "outputs": [],
   "source": [
    "# Estilo visual\n",
    "sns.set(style=\"whitegrid\", palette=\"pastel\")\n",
    "\n",
    "# Tamaño del gráfico\n",
    "plt.figure(figsize=(8, 5))\n",
    "\n",
    "# Histograma con densidad opcional\n",
    "sns.histplot(data=personas[personas['target'] == 0], x='tiempo_de_viaje', bins=50, kde=True, color='skyblue')\n",
    "\n",
    "# Título y etiquetas\n",
    "plt.title('Distribución del tiempo de viaje sin riesgo de abandono', fontsize=14)\n",
    "plt.xlabel('Tiempo de viaje (seg)', fontsize=12)\n",
    "plt.ylabel('Frecuencia', fontsize=12)\n",
    "\n",
    "# Mostrar\n",
    "plt.tight_layout()\n",
    "plt.show()"
   ]
  },
  {
   "cell_type": "code",
   "execution_count": null,
   "metadata": {},
   "outputs": [],
   "source": [
    "sns.set(style=\"whitegrid\", palette=\"pastel\")\n",
    "plt.figure(figsize=(8, 5))\n",
    "\n",
    "# Histograma con proporciones\n",
    "sns.histplot(data=personas[personas['target'] == 0], x='tiempo_de_viaje', bins=50, kde=True, stat=\"probability\", color='skyblue')\n",
    "\n",
    "# Título y etiquetas\n",
    "plt.title('Distribución proporcional del tiempo de viaje sin riesgo de abandono', fontsize=14)\n",
    "plt.xlabel('Tiempo de viaje (seg)', fontsize=12)\n",
    "plt.ylabel('Proporción', fontsize=12)\n",
    "\n",
    "plt.tight_layout()\n",
    "plt.show()"
   ]
  },
  {
   "cell_type": "code",
   "execution_count": null,
   "metadata": {},
   "outputs": [],
   "source": [
    "# Estilo visual\n",
    "sns.set(style=\"whitegrid\", palette=\"pastel\")\n",
    "\n",
    "# Tamaño del gráfico\n",
    "plt.figure(figsize=(8, 5))\n",
    "\n",
    "# Histograma con densidad opcional\n",
    "sns.histplot(data=personas[personas['target'] == 1], x='tiempo_de_viaje', bins=50, kde=True, color='orange')\n",
    "\n",
    "# Título y etiquetas\n",
    "plt.title('Distribución del tiempo de viaje con riesgo de abandono', fontsize=14)\n",
    "plt.xlabel('Tiempo de viaje (seg)', fontsize=12)\n",
    "plt.ylabel('Frecuencia', fontsize=12)\n",
    "\n",
    "# Mostrar\n",
    "plt.tight_layout()\n",
    "plt.show()"
   ]
  },
  {
   "cell_type": "code",
   "execution_count": null,
   "metadata": {},
   "outputs": [],
   "source": [
    "sns.set(style=\"whitegrid\", palette=\"pastel\")\n",
    "plt.figure(figsize=(8, 5))\n",
    "\n",
    "# Histograma con proporciones\n",
    "sns.histplot(data=personas[personas['target'] == 1], x='tiempo_de_viaje', bins=50, kde=True, stat=\"probability\", color='orange')\n",
    "\n",
    "# Título y etiquetas\n",
    "plt.title('Distribución proporcional del tiempo de viaje con riesgo de abandono', fontsize=14)\n",
    "plt.xlabel('Tiempo de viaje (seg)', fontsize=12)\n",
    "plt.ylabel('Proporción', fontsize=12)\n",
    "\n",
    "plt.tight_layout()\n",
    "plt.show()"
   ]
  },
  {
   "cell_type": "code",
   "execution_count": null,
   "metadata": {},
   "outputs": [],
   "source": [
    "personas['grupo_viaje'] = pd.cut(personas['tiempo_de_viaje'], bins=[0, 3600, 14400])\n",
    "\n",
    "# Normalizado (proporciones)\n",
    "prop_df = personas.groupby('grupo_viaje')['target'].value_counts(normalize=True).unstack()\n",
    "\n",
    "prop_df.rename(columns={0: 'No Abandono', 1: 'Abandono'}, inplace=True)\n",
    "prop_df_abandono = prop_df['Abandono'] \n",
    "\n",
    "plt.figure(figsize=(8, 5))\n",
    "prop_df_abandono.plot(kind='bar', stacked=False, color=[\"#6CCDA3\"])\n",
    "plt.title(\"Distribución de Abandono por tiempo de viaje\", fontsize=15)\n",
    "plt.ylabel(\"Proporción\", fontsize=15)\n",
    "plt.xlabel(\"Tiempo de viaje (horas)\", fontsize=15)\n",
    "plt.xticks(rotation=0, fontsize=13)\n",
    "plt.yticks(fontsize=12)\n",
    "plt.legend(fontsize=14)\n",
    "plt.show()"
   ]
  },
  {
   "cell_type": "code",
   "execution_count": null,
   "metadata": {},
   "outputs": [],
   "source": [
    "prop_df_abandono"
   ]
  },
  {
   "cell_type": "code",
   "execution_count": null,
   "metadata": {},
   "outputs": [],
   "source": [
    "# Calcular los conteos de cada valor de target por grupo etario\n",
    "conteos_df = personas.groupby('grupo_viaje')['target'].value_counts().unstack(fill_value=0)\n",
    "conteos_df.rename(columns={0: 'No Abandono', 1: 'Abandono'}, inplace=True)\n",
    "\n",
    "# Graficar como barras apiladas\n",
    "conteos_df.plot(kind='bar', stacked=False, color=[\"#5D81E2\", \"#6CCDA3\"])\n",
    "plt.title(\"Cantidad de personas por tiempo de viaje y target\", fontsize=15)\n",
    "plt.ylabel(\"Cantidad\", fontsize=15)\n",
    "plt.xlabel(\"Tiempo de viaje (horas)\", fontsize=15)\n",
    "plt.legend(title=\"Target\", fontsize=12)\n",
    "plt.xticks(rotation=0, fontsize=13)\n",
    "plt.yticks(fontsize=12)\n",
    "plt.tight_layout()\n",
    "plt.show()"
   ]
  },
  {
   "cell_type": "markdown",
   "metadata": {},
   "source": [
    "## Tiempo de viaje a la tarde"
   ]
  },
  {
   "cell_type": "code",
   "execution_count": null,
   "metadata": {},
   "outputs": [],
   "source": [
    "tiempo_fcen_tarde = tiempo_fcen_tarde[['dni', 'duracion_tarde']]\n",
    "tiempo_fcen_tarde.columns = ['dni', 'duracion_tarde_fcen']"
   ]
  },
  {
   "cell_type": "code",
   "execution_count": null,
   "metadata": {},
   "outputs": [],
   "source": [
    "personas = personas.merge(tiempo_fcen_tarde, on='dni', how='left')\n",
    "personas.shape"
   ]
  },
  {
   "cell_type": "code",
   "execution_count": null,
   "metadata": {},
   "outputs": [],
   "source": [
    "personas['duracion_tarde_fcen'] = personas['duracion_tarde_fcen'].replace(\n",
    "    personas['duracion_tarde_fcen'][personas['duracion_tarde_fcen'] > 14400].values, np.nan)"
   ]
  },
  {
   "cell_type": "code",
   "execution_count": null,
   "metadata": {},
   "outputs": [],
   "source": [
    "# Estilo visual\n",
    "sns.set(style=\"whitegrid\", palette=\"pastel\")\n",
    "\n",
    "# Tamaño del gráfico\n",
    "plt.figure(figsize=(8, 5))\n",
    "\n",
    "# Boxplot\n",
    "sns.boxplot(x=personas['duracion_tarde_fcen'], color=\"skyblue\")\n",
    "\n",
    "# Título y etiquetas\n",
    "plt.title('Distribución del tiempo de viaje', fontsize=14)\n",
    "plt.xlabel('Tiempo de viaje (seg)', fontsize=12)\n",
    "mean_val = personas['duracion_tarde_fcen'].mean()\n",
    "plt.axvline(mean_val, color='red', linestyle='--', label=f'Media: {mean_val:.1f}')\n",
    "plt.legend()\n",
    "median_val = personas['duracion_tarde_fcen'].median()\n",
    "plt.axvline(median_val, color='blue', linestyle='--', label=f'Mediana: {median_val:.1f}')\n",
    "plt.legend()\n",
    "\n",
    "# Mostrar\n",
    "plt.tight_layout()\n",
    "plt.show()\n"
   ]
  },
  {
   "cell_type": "code",
   "execution_count": null,
   "metadata": {},
   "outputs": [],
   "source": [
    "# Estilo visual\n",
    "sns.set(style=\"whitegrid\", palette=\"pastel\")\n",
    "\n",
    "# Tamaño del gráfico\n",
    "plt.figure(figsize=(8, 5))\n",
    "\n",
    "# Histograma con densidad opcional\n",
    "sns.histplot(data=personas, x='duracion_tarde_fcen', bins=30, kde=True, color='skyblue')\n",
    "\n",
    "# Título y etiquetas\n",
    "plt.title('Distribución del tiempo de viaje', fontsize=14)\n",
    "plt.xlabel('Tiempo de viaje (seg)', fontsize=12)\n",
    "plt.ylabel('Frecuencia', fontsize=12)\n",
    "\n",
    "# Mostrar\n",
    "plt.tight_layout()\n",
    "plt.show()"
   ]
  },
  {
   "cell_type": "code",
   "execution_count": null,
   "metadata": {},
   "outputs": [],
   "source": [
    "personas['grupo_viaje_tarde'] = pd.cut(personas['duracion_tarde_fcen'], bins=[0, 3600, 14400])\n",
    "\n",
    "# Normalizado (proporciones)\n",
    "prop_df = personas.groupby('grupo_viaje_tarde')['target'].value_counts(normalize=True).unstack()\n",
    "\n",
    "prop_df.plot(kind='bar', stacked=False)\n",
    "plt.title(\"Distribución del target por tiempo de viaje\")\n",
    "plt.ylabel(\"Proporción\")\n",
    "plt.xlabel(\"Tiempo de viaje (horas)\")\n",
    "plt.xticks(rotation=0)\n",
    "plt.legend(title=\"Target\")\n",
    "plt.show()"
   ]
  },
  {
   "cell_type": "code",
   "execution_count": null,
   "metadata": {},
   "outputs": [],
   "source": [
    "# Calcular los conteos de cada valor de target por grupo etario\n",
    "conteos_df = personas.groupby('grupo_viaje_tarde')['target'].value_counts().unstack(fill_value=0)\n",
    "\n",
    "# Graficar como barras apiladas\n",
    "conteos_df.plot(kind='bar', stacked=False)\n",
    "plt.title(\"Cantidad de personas por tiempo de viaje y target\")\n",
    "plt.ylabel(\"Cantidad\")\n",
    "plt.xlabel(\"Tiempo de viaje (horas)\")\n",
    "plt.legend(title=\"Target\")\n",
    "plt.xticks(rotation=0)\n",
    "plt.tight_layout()\n",
    "plt.show()"
   ]
  }
 ],
 "metadata": {
  "kernelspec": {
   "display_name": ".venv",
   "language": "python",
   "name": "python3"
  },
  "language_info": {
   "codemirror_mode": {
    "name": "ipython",
    "version": 3
   },
   "file_extension": ".py",
   "mimetype": "text/x-python",
   "name": "python",
   "nbconvert_exporter": "python",
   "pygments_lexer": "ipython3",
   "version": "3.11.9"
  }
 },
 "nbformat": 4,
 "nbformat_minor": 2
}

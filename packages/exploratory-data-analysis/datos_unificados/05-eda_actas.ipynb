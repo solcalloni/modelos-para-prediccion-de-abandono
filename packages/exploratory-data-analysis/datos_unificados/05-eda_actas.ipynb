{
 "cells": [
  {
   "cell_type": "code",
   "execution_count": null,
   "metadata": {},
   "outputs": [],
   "source": [
    "import sys\n",
    "sys.path.insert(0, '../')\n",
    "import pandas as pd\n",
    "import numpy as np\n",
    "import matplotlib.pyplot as plt\n",
    "import seaborn as sns"
   ]
  },
  {
   "cell_type": "code",
   "execution_count": null,
   "metadata": {},
   "outputs": [],
   "source": [
    "actas_con_personas = pd.read_csv('../../../assets/silver/data_utilizada/personas_un_acta_por_fila.csv')\n",
    "actas_con_personas['fecha'] = pd.to_datetime(actas_con_personas['fecha'], format='%Y-%m-%d')\n",
    "actas_con_personas['dni'] = actas_con_personas['dni'].astype(str)\n",
    "actas_con_personas.drop(columns = ['Unnamed: 0'], inplace = True)"
   ]
  },
  {
   "cell_type": "code",
   "execution_count": null,
   "metadata": {},
   "outputs": [],
   "source": [
    "actas_con_personas['dni'].nunique()"
   ]
  },
  {
   "cell_type": "markdown",
   "metadata": {},
   "source": [
    "Siguiendo la misma logica que con el CBC, debemos tener las siguientes columnas:\n",
    "\n",
    "Tenemos una fila por DNI y, como ahora definimos que queremos predecir qué pasa en el semestre relativo 4, tendríamos por cada semestre relativo j (j tomando valores 0 a 3 inclusive) las columnas:\n",
    "\n",
    "* #inscripciones_j: como la que usamos para la target\n",
    "* #TPs_aprobados_j: Para los TPS (excepto casos específicos) no tenemos nota numérica, solamente si aprobó, reprobó o dejó la materia, por eso tomamos la cantidad. En cambio para finales si tenemos el dato de la nota.\n",
    "* #finales_inscriptos_j: como la que usamos para calcular la target\n",
    "* #Promedio_de_finales_j: Si no rindió ninguno es 0. Si se anotó y no se presentó suma 0 en el cálculo del promedio.\n",
    "\n",
    "Hay que agregar las materias como columnas. En principio son 40 para la carrera.\n",
    "La difrencia es que en el cbc es un cluster y en la carrera se ponen en el orden que haya rendido. \n",
    "Para cada materia:\n",
    "hay que tomar fecha 0 como 1/1/2020 y a partir de ahi un numero natural que sean la cantidad de dias desde 1/1/2020. Luego, agregar la fecha de TP. agregar la nota tambien.  Esto es para materias aprobadas.\n",
    "\n",
    "La idea es tener una distribucion empirica de que rinde, cada cuanto.\n",
    " *Si alguien rindio mas de 40 materias se toman las 1ras 40. Vemos si hay mucha gente en estas condiciones.\n",
    "\n",
    "Entonces por cada una de las 40 materias en los semestres relativos 0 a 3 (me fijo si hay gente con más materias que eso y lo dejo en el docs) tenemos:\n",
    "- 'fecha_TP_materia_x' donde es un número que cuenta los días desde 1/1/2020\n",
    "- 'tp_aprobado': 1 si aprobó 0 si no?\n",
    "- 'fecha_final_materia_x' donde es un número que cuenta los días desde 1/1/2020\n",
    "- 'nota_final_materia_x'\n",
    "\n",
    "Donde x va de 1 a 40 y si rindió la materia más de una vez, tenemos columnas distintas informando sobre las distintas veces que cursó.\n",
    "\n",
    "Doy un ejemplo: Labo de datos TP aprobado el 1/2/2022 y final aprobado con 8 1/3/2022\n",
    "- 'fecha_TP_materia_x' = 31\n",
    "- 'tp_aprobado': 1\n",
    "- 'fecha_final_materia_x' = 31+28 = 59\n",
    "- 'nota_final_materia_x' = 8\n",
    "Si no hubiera aprobado la materia, Labo de datos TP desaprobado/abandonado el 1/2/2022\n",
    "- 'fecha_TP_materia_x' = 31\n",
    "- 'tp_aprobado': 0\n",
    "- 'fecha_final_materia_x' = dato faltante\n",
    "- 'nota_final_materia_x' = 0"
   ]
  },
  {
   "cell_type": "markdown",
   "metadata": {},
   "source": [
    "Vemos la cantidad de materias que hicieron las personas. Como agrupo cada materia con su final y, en caso de cursar la materia más de una vez tengo conjuntos de columnas distintos. Debo contar la cantidad de filas que cada DNI tiene de 'Acta de Regulares/Promociones'"
   ]
  },
  {
   "cell_type": "code",
   "execution_count": null,
   "metadata": {},
   "outputs": [],
   "source": [
    "actas_con_personas.columns"
   ]
  },
  {
   "cell_type": "code",
   "execution_count": null,
   "metadata": {},
   "outputs": [],
   "source": [
    "actas_con_personas[actas_con_personas['tipo_acta'] == 'Acta de Regulares/Promociones'].groupby('dni').size().reset_index(name='count').sort_values(by=['count'], ascending=False)"
   ]
  },
  {
   "cell_type": "code",
   "execution_count": null,
   "metadata": {},
   "outputs": [],
   "source": [
    "# Crear el DataFrame filtrado y agrupado\n",
    "df_counts = (\n",
    "    actas_con_personas[actas_con_personas['tipo_acta'] == 'Acta de Regulares/Promociones']\n",
    "    .groupby('dni')\n",
    "    .size()\n",
    "    .reset_index(name='count')\n",
    ")\n",
    "\n",
    "# Contar cuántas veces aparece cada valor de 'count'\n",
    "count_distribution = df_counts['count'].value_counts().sort_index()\n",
    "\n",
    "plt.figure(figsize=(8, 5))\n",
    "sns.barplot(x=count_distribution.index, y=count_distribution.values, color='skyblue')\n",
    "plt.xlabel('Cantidad de actas por DNI')\n",
    "plt.ylabel('Cantidad de personas')\n",
    "plt.title('Distribución de cantidad de actas de Regulares/Promociones por persona')\n",
    "plt.show()"
   ]
  },
  {
   "cell_type": "code",
   "execution_count": null,
   "metadata": {},
   "outputs": [],
   "source": [
    "# Contar cuántas veces aparece cada valor de 'count' y calcular proporción\n",
    "count_distribution = df_counts['count'].value_counts(normalize=True).sort_index()\n",
    "\n",
    "plt.figure(figsize=(8, 5))\n",
    "sns.barplot(x=count_distribution.index, y=count_distribution.values, color='skyblue')\n",
    "plt.xlabel('Cantidad de actas por DNI')\n",
    "plt.ylabel('Proporción de personas')\n",
    "plt.title('Distribución proporcional de actas de Regulares/Promociones por persona')\n",
    "\n",
    "plt.show()"
   ]
  },
  {
   "cell_type": "code",
   "execution_count": null,
   "metadata": {},
   "outputs": [],
   "source": [
    "# Contar cuántas personas tienen cada cantidad de actas\n",
    "counts = df_counts['count'].value_counts().sort_index()\n",
    "\n",
    "# Calcular el acumulado\n",
    "cumulative_counts = counts.cumsum()\n",
    "\n",
    "# Graficar\n",
    "plt.figure(figsize=(8, 5))\n",
    "plt.plot(cumulative_counts.index, cumulative_counts.values, marker='o', color='steelblue')\n",
    "plt.xlabel('Cantidad de actas por persona')\n",
    "plt.ylabel('Cantidad acumulada de personas')\n",
    "plt.title('Distribución acumulada de actas de Regulares/Promociones por persona')\n",
    "plt.grid(True)\n",
    "plt.tight_layout()\n",
    "plt.show()"
   ]
  },
  {
   "cell_type": "code",
   "execution_count": null,
   "metadata": {},
   "outputs": [],
   "source": [
    "# Calcular proporciones acumuladas\n",
    "cumulative_proportions = (df_counts['count'].value_counts(normalize=True)\n",
    "                          .sort_index()\n",
    "                          .cumsum())\n",
    "\n",
    "# Graficar proporciones acumuladas\n",
    "plt.figure(figsize=(8, 5))\n",
    "plt.plot(cumulative_proportions.index, cumulative_proportions.values, marker='o', color='darkorange')\n",
    "plt.xlabel('Cantidad de actas por persona')\n",
    "plt.ylabel('Proporción acumulada de personas')\n",
    "plt.title('Distribución proporcional acumulada de actas de Regulares/Promociones por persona')\n",
    "plt.grid(True)\n",
    "plt.tight_layout()\n",
    "# Agregar xticks para cada valor posible\n",
    "plt.xticks(cumulative_proportions.index)\n",
    "plt.show()\n"
   ]
  },
  {
   "cell_type": "code",
   "execution_count": null,
   "metadata": {},
   "outputs": [],
   "source": [
    "cumulative_proportions"
   ]
  },
  {
   "cell_type": "markdown",
   "metadata": {},
   "source": [
    "No es tan loco, pensemos que en la FCEN las carreras estan pensadas para que hagas 2 o 3 materias por cuatrimestre y nosotros estamos tomando 4 semestres relativos. Sin embargo, a su vez quiero ver qué pasa si saco las materias que sean del semestre relativo 4"
   ]
  },
  {
   "cell_type": "code",
   "execution_count": null,
   "metadata": {},
   "outputs": [],
   "source": [
    "# Crear el DataFrame filtrado y agrupado\n",
    "df_counts = (\n",
    "    actas_con_personas[(actas_con_personas['tipo_acta'] == 'Acta de Regulares/Promociones') & (actas_con_personas['semestre_relativo'] != 4)]\n",
    "    .groupby('dni')\n",
    "    .size()\n",
    "    .reset_index(name='count')\n",
    ")\n",
    "\n",
    "# Contar cuántas personas tienen cada cantidad de actas\n",
    "counts = df_counts['count'].value_counts().sort_index()\n",
    "\n",
    "# Calcular el acumulado\n",
    "cumulative_counts = counts.cumsum()\n",
    "\n",
    "# Graficar\n",
    "plt.figure(figsize=(8, 5))\n",
    "plt.plot(cumulative_counts.index, cumulative_counts.values, marker='o', color='steelblue')\n",
    "plt.xlabel('Cantidad de actas por persona')\n",
    "plt.ylabel('Cantidad acumulada de personas')\n",
    "plt.title('Distribución acumulada de actas de Regulares/Promociones por persona')\n",
    "plt.grid(True)\n",
    "plt.tight_layout()\n",
    "plt.show()"
   ]
  },
  {
   "cell_type": "code",
   "execution_count": null,
   "metadata": {},
   "outputs": [],
   "source": [
    "# Calcular proporciones acumuladas\n",
    "cumulative_proportions = (df_counts['count'].value_counts(normalize=True)\n",
    "                          .sort_index()\n",
    "                          .cumsum())\n",
    "\n",
    "# Graficar proporciones acumuladas\n",
    "plt.figure(figsize=(8, 5))\n",
    "plt.plot(cumulative_proportions.index, cumulative_proportions.values, marker='o', color='darkorange')\n",
    "plt.xlabel('Cantidad de actas por persona')\n",
    "plt.ylabel('Proporción acumulada de personas')\n",
    "plt.title('Distribución proporcional acumulada de actas de Regulares/Promociones por persona')\n",
    "plt.grid(True)\n",
    "plt.tight_layout()\n",
    "# Agregar xticks para cada valor posible\n",
    "plt.xticks(cumulative_proportions.index)\n",
    "plt.show()\n"
   ]
  },
  {
   "cell_type": "code",
   "execution_count": null,
   "metadata": {},
   "outputs": [],
   "source": [
    "cumulative_proportions"
   ]
  },
  {
   "cell_type": "code",
   "execution_count": null,
   "metadata": {},
   "outputs": [],
   "source": [
    "reverse_cumulative_counts"
   ]
  },
  {
   "cell_type": "code",
   "execution_count": null,
   "metadata": {},
   "outputs": [],
   "source": [
    "# Calcular la cantidad de personas con cierta cantidad de actas o más (distribución acumulada inversa)\n",
    "reverse_cumulative_counts = counts[::-1].cumsum()[::-1]\n",
    "\n",
    "# También calculamos la proporción acumulada inversa\n",
    "reverse_cumulative_proportions = (df_counts['count'].value_counts(normalize=True)\n",
    "                                  .sort_index(ascending=False)\n",
    "                                  .cumsum()\n",
    "                                  .sort_index())\n",
    "\n",
    "# Graficar proporción acumulada inversa\n",
    "plt.figure(figsize=(8, 5))\n",
    "plt.plot(reverse_cumulative_proportions.index, reverse_cumulative_proportions.values, marker='o', color='seagreen')\n",
    "plt.xlabel('Cantidad de actas por persona')\n",
    "plt.ylabel('Proporción de personas con esa cantidad o más')\n",
    "plt.title('Proporción de personas con cierta cantidad de actas o más')\n",
    "plt.grid(True)\n",
    "plt.xticks(reverse_cumulative_proportions.index)\n",
    "plt.tight_layout()\n",
    "plt.show()"
   ]
  },
  {
   "cell_type": "code",
   "execution_count": null,
   "metadata": {},
   "outputs": [],
   "source": [
    "reverse_cumulative_proportions"
   ]
  },
  {
   "cell_type": "code",
   "execution_count": null,
   "metadata": {},
   "outputs": [],
   "source": [
    "# Crear el DataFrame filtrado y agrupado\n",
    "df_counts = (\n",
    "    actas_con_personas[(actas_con_personas['tipo_acta'] == 'Acta de Regulares/Promociones')]\n",
    "    .groupby('dni')\n",
    "    .size()\n",
    "    .reset_index(name='count')\n",
    ")\n",
    "\n",
    "# Contar cuántas personas tienen cada cantidad de actas\n",
    "counts = df_counts['count'].value_counts().sort_index()\n",
    "\n",
    "\n",
    "# Calcular la cantidad de personas con cierta cantidad de actas o más (distribución acumulada inversa)\n",
    "reverse_cumulative_counts = counts[::-1].cumsum()[::-1]\n",
    "\n",
    "# También calculamos la proporción acumulada inversa\n",
    "reverse_cumulative_proportions = (df_counts['count'].value_counts(normalize=True)\n",
    "                                  .sort_index(ascending=False)\n",
    "                                  .cumsum()\n",
    "                                  .sort_index())\n",
    "\n",
    "# Graficar proporción acumulada inversa\n",
    "plt.figure(figsize=(8, 5))\n",
    "plt.plot(reverse_cumulative_proportions.index, reverse_cumulative_proportions.values, marker='o', color='seagreen')\n",
    "plt.xlabel('Cantidad de actas por persona')\n",
    "plt.ylabel('Proporción de personas con esa cantidad o más')\n",
    "plt.title('Proporción de personas con cierta cantidad de actas o más')\n",
    "plt.grid(True)\n",
    "plt.xticks(reverse_cumulative_proportions.index)\n",
    "plt.tight_layout()\n",
    "plt.show()"
   ]
  },
  {
   "cell_type": "code",
   "execution_count": null,
   "metadata": {},
   "outputs": [],
   "source": [
    "reverse_cumulative_proportions"
   ]
  },
  {
   "cell_type": "code",
   "execution_count": null,
   "metadata": {},
   "outputs": [],
   "source": [
    "df_counts[df_counts['count'] == 28]"
   ]
  },
  {
   "cell_type": "code",
   "execution_count": null,
   "metadata": {},
   "outputs": [],
   "source": [
    "# Crear el DataFrame filtrado y agrupado\n",
    "df_counts = (\n",
    "    actas_con_personas\n",
    "    .groupby('dni')\n",
    "    .size()\n",
    "    .reset_index(name='count')\n",
    ")\n",
    "\n",
    "# Contar cuántas personas tienen cada cantidad de actas\n",
    "counts = df_counts['count'].value_counts().sort_index()\n",
    "\n",
    "\n",
    "# Calcular la cantidad de personas con cierta cantidad de actas o más (distribución acumulada inversa)\n",
    "reverse_cumulative_counts = counts[::-1].cumsum()[::-1]\n",
    "\n",
    "# También calculamos la proporción acumulada inversa\n",
    "reverse_cumulative_proportions = (df_counts['count'].value_counts(normalize=True)\n",
    "                                  .sort_index(ascending=False)\n",
    "                                  .cumsum()\n",
    "                                  .sort_index())\n",
    "\n",
    "# Graficar proporción acumulada inversa\n",
    "plt.figure(figsize=(8, 5))\n",
    "plt.plot(reverse_cumulative_proportions.index, reverse_cumulative_proportions.values, marker='o', color='seagreen')\n",
    "plt.xlabel('Cantidad de actas por persona')\n",
    "plt.ylabel('Proporción de personas con esa cantidad o más')\n",
    "plt.title('Proporción de personas con cierta cantidad de actas o más')\n",
    "plt.grid(True)\n",
    "plt.xticks(reverse_cumulative_proportions.index)\n",
    "plt.tight_layout()\n",
    "plt.show()"
   ]
  },
  {
   "cell_type": "code",
   "execution_count": null,
   "metadata": {},
   "outputs": [],
   "source": [
    "reverse_cumulative_proportions"
   ]
  },
  {
   "cell_type": "code",
   "execution_count": null,
   "metadata": {},
   "outputs": [],
   "source": [
    "# Paso 1: Agrupar por dni y semestre_relativo\n",
    "grupo = actas_con_personas.groupby(['dni', 'semestre_relativo'])['tipo_acta']\n",
    "\n",
    "# Paso 2: Verificar si todos los tipo_acta dentro del grupo son 'Acta Examen'\n",
    "solo_acta_examen = grupo.apply(lambda x: (x == 'Acta de Examen').all())\n",
    "\n",
    "# Paso 3: Filtrar los grupos donde eso se cumple\n",
    "resultado = solo_acta_examen[solo_acta_examen].reset_index()\n",
    "\n",
    "# Ahora resultado contiene las combinaciones de dni y semestre_relativo donde solo hubo 'Acta Examen'\n"
   ]
  },
  {
   "cell_type": "code",
   "execution_count": null,
   "metadata": {},
   "outputs": [],
   "source": [
    "resultado[resultado['semestre_relativo'] == 1]"
   ]
  },
  {
   "cell_type": "code",
   "execution_count": null,
   "metadata": {},
   "outputs": [],
   "source": [
    "chusmeo = actas_con_personas[actas_con_personas['dni'].isin(resultado[resultado['semestre_relativo'] == 0]['dni'].unique())][['dni', 'materia', 'tipo_acta', 'resultado', 'nota', 'fecha', 'semestre_relativo']]"
   ]
  },
  {
   "cell_type": "code",
   "execution_count": null,
   "metadata": {},
   "outputs": [],
   "source": [
    "chusmeo[chusmeo['semestre_relativo'] == 0].sort_values(by=['dni', 'fecha'], ascending=False)"
   ]
  },
  {
   "cell_type": "code",
   "execution_count": null,
   "metadata": {},
   "outputs": [],
   "source": [
    "chusmeo = actas_con_personas[actas_con_personas['dni'].isin(resultado[resultado['semestre_relativo'] == 1]['dni'].unique())][['dni', 'materia', 'tipo_acta', 'resultado', 'nota', 'fecha', 'semestre_relativo']]\n",
    "chusmeo[chusmeo['semestre_relativo'].isin([0,1])].sort_values(by=['dni', 'fecha'], ascending=False)"
   ]
  },
  {
   "cell_type": "code",
   "execution_count": null,
   "metadata": {},
   "outputs": [],
   "source": [
    "# Paso 1: Filtramos columnas necesarias\n",
    "df_filtrado = actas_con_personas[actas_con_personas['semestre_relativo'] != 4][['dni', 'materia', 'tipo_acta']]\n",
    "\n",
    "# Paso 2: Agrupar por dni y materia\n",
    "def tiene_examen_sin_regular(x):\n",
    "    tipos = set(x)\n",
    "    return 'Acta de Examen' in tipos and 'Acta de Regulares/Promociones' not in tipos\n",
    "\n",
    "condicion = df_filtrado.groupby(['dni', 'materia'])['tipo_acta'].apply(tiene_examen_sin_regular)\n",
    "\n",
    "# Paso 3: Filtrar los casos que cumplen\n",
    "resultado = condicion[condicion].reset_index()\n",
    "\n",
    "# resultado ahora tiene los dni y materias que cumplen la condición"
   ]
  },
  {
   "cell_type": "code",
   "execution_count": null,
   "metadata": {},
   "outputs": [],
   "source": [
    "# Paso 1: Obtener la cantidad de veces que aparece cada DNI\n",
    "frecuencias = resultado.groupby('dni').size()\n",
    "\n",
    "# Paso 2: Agrupar por tamaño (por ejemplo, cuántos DNIs aparecen 1, 2, 3 veces...)\n",
    "distribucion = frecuencias.value_counts().sort_index()\n",
    "\n",
    "# Paso 3: Mostrar en tabla (opcional)\n",
    "print(distribucion)\n",
    "\n",
    "# Paso 4: Graficar\n",
    "distribucion.plot(kind='bar')\n",
    "plt.xlabel('Cantidad de veces que aparece un DNI')\n",
    "plt.ylabel('Cantidad de DNIs')\n",
    "plt.title('Distribución de tamaño de grupos por DNI')\n",
    "plt.show()"
   ]
  },
  {
   "cell_type": "code",
   "execution_count": null,
   "metadata": {},
   "outputs": [],
   "source": [
    "# Contar la cantidad de materias distintas por DNI\n",
    "materias_por_dni = actas_con_personas.groupby('dni')['materia'].nunique().reset_index()\n",
    "\n",
    "# Renombrar la columna para mayor claridad\n",
    "materias_por_dni.columns = ['dni', 'materias_distintas']\n",
    "\n",
    "print(materias_por_dni)"
   ]
  },
  {
   "cell_type": "code",
   "execution_count": null,
   "metadata": {},
   "outputs": [],
   "source": [
    "# Definimos un rango máximo para las materias distintas que querés analizar\n",
    "max_materias = materias_por_dni['materias_distintas'].max()\n",
    "\n",
    "# Creamos un DataFrame para mostrar la cantidad de personas con al menos X materias distintas\n",
    "resultado = pd.DataFrame({\n",
    "    'materias_minimas': range(1, max_materias + 1),\n",
    "    'cantidad_personas': [ (materias_por_dni['materias_distintas'] >= x).sum() for x in range(1, max_materias + 1) ]\n",
    "})\n",
    "\n",
    "print(resultado)"
   ]
  },
  {
   "cell_type": "code",
   "execution_count": null,
   "metadata": {},
   "outputs": [],
   "source": [
    "total_personas = len(materias_por_dni)\n",
    "\n",
    "resultado = pd.DataFrame({\n",
    "    'materias_minimas': range(1, max_materias + 1),\n",
    "    'cantidad_personas': [ (materias_por_dni['materias_distintas'] >= x).sum() for x in range(1, max_materias + 1) ]\n",
    "})\n",
    "\n",
    "resultado['proporcion'] = (resultado['cantidad_personas'] / total_personas) * 100\n",
    "\n",
    "print(resultado)\n"
   ]
  },
  {
   "cell_type": "code",
   "execution_count": null,
   "metadata": {},
   "outputs": [],
   "source": [
    "resultado = (\n",
    "    actas_con_personas.groupby(['dni', 'semestre_relativo'])['materia']\n",
    "      .nunique()\n",
    "      .reset_index(name='cantidad_materias_distintas')\n",
    ")\n",
    "\n",
    "print(resultado)\n",
    "\n",
    "# Sumar por DNI para tener total\n",
    "total_por_dni = resultado.groupby('dni')['cantidad_materias_distintas'].sum().reset_index(name='total_materias_distintas')\n",
    "\n",
    "# Ahora contar personas que tengan total_materias_distintas >= n\n",
    "for n in range(1, max(total_por_dni['total_materias_distintas'])):\n",
    "    cantidad_personas = (total_por_dni['total_materias_distintas'] >= n).sum()\n",
    "    print(f\"Personas con al menos {n} materias distintas (sumando semestres): {cantidad_personas}\")"
   ]
  },
  {
   "cell_type": "code",
   "execution_count": null,
   "metadata": {},
   "outputs": [],
   "source": [
    "total_por_dni[total_por_dni['total_materias_distintas'] < 6]"
   ]
  },
  {
   "cell_type": "code",
   "execution_count": null,
   "metadata": {},
   "outputs": [],
   "source": [
    "actas_con_personas[actas_con_personas['dni'] == '19094420'][['fecha', 'semestre_relativo', 'materia', 'resultado', 'nota']]"
   ]
  }
 ],
 "metadata": {
  "kernelspec": {
   "display_name": ".venv",
   "language": "python",
   "name": "python3"
  },
  "language_info": {
   "codemirror_mode": {
    "name": "ipython",
    "version": 3
   },
   "file_extension": ".py",
   "mimetype": "text/x-python",
   "name": "python",
   "nbconvert_exporter": "python",
   "pygments_lexer": "ipython3",
   "version": "3.11.9"
  }
 },
 "nbformat": 4,
 "nbformat_minor": 2
}

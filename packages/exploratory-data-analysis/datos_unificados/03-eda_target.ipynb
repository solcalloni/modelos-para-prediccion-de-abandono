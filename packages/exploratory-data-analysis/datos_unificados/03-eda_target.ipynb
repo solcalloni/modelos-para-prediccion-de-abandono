{
 "cells": [
  {
   "cell_type": "code",
   "execution_count": null,
   "metadata": {},
   "outputs": [],
   "source": [
    "import sys\n",
    "sys.path.insert(0, '../')\n",
    "import pandas as pd\n",
    "import numpy as np\n",
    "import matplotlib.pyplot as plt\n",
    "import seaborn as sns\n",
    "from ydata_profiling import ProfileReport\n",
    "import io\n",
    "import tabulate\n",
    "import helpers_eda_inicial\n",
    "import helpers_cbc\n",
    "from sklearn.linear_model import LinearRegression\n",
    "from sklearn.metrics import mean_squared_error"
   ]
  },
  {
   "cell_type": "code",
   "execution_count": null,
   "metadata": {},
   "outputs": [],
   "source": [
    "personas = pd.read_csv('../../../assets/silver/data_utilizada/solo_datos_personales.csv')\n",
    "actas_con_personas = pd.read_csv('../../../assets/silver/data_utilizada/personas_un_acta_por_fila.csv')"
   ]
  },
  {
   "cell_type": "code",
   "execution_count": 3,
   "metadata": {},
   "outputs": [],
   "source": [
    "actas_con_personas['fecha'] = pd.to_datetime(actas_con_personas['fecha'], format='%Y-%m-%d')\n",
    "actas_con_personas['dni'] = actas_con_personas['dni'].astype(str)\n",
    "personas.drop(columns = ['Unnamed: 0'], inplace = True)\n",
    "actas_con_personas.drop(columns = ['Unnamed: 0'], inplace = True)"
   ]
  },
  {
   "cell_type": "code",
   "execution_count": null,
   "metadata": {},
   "outputs": [],
   "source": [
    "actas_con_personas.dtypes"
   ]
  },
  {
   "cell_type": "code",
   "execution_count": null,
   "metadata": {},
   "outputs": [],
   "source": [
    "personas.dtypes"
   ]
  },
  {
   "cell_type": "markdown",
   "metadata": {},
   "source": [
    "Tenemos que crear la variable target para cada uno de los DNIs"
   ]
  },
  {
   "cell_type": "code",
   "execution_count": null,
   "metadata": {},
   "outputs": [],
   "source": [
    "actas_con_personas['dni'].nunique()"
   ]
  },
  {
   "cell_type": "code",
   "execution_count": null,
   "metadata": {},
   "outputs": [],
   "source": [
    "actas_con_personas[~actas_con_personas['dni'].isin(personas['dni'].unique())]['dni'].unique()"
   ]
  },
  {
   "cell_type": "code",
   "execution_count": 265,
   "metadata": {},
   "outputs": [],
   "source": [
    "personas_dni = personas['dni'].unique()\n",
    "periodos = actas_con_personas['semestre_relativo'].dropna().unique()\n",
    "combinaciones = pd.MultiIndex.from_product([personas_dni, periodos], names=['dni', 'semestre_relativo']).to_frame(index=False)"
   ]
  },
  {
   "cell_type": "code",
   "execution_count": null,
   "metadata": {},
   "outputs": [],
   "source": [
    "personas_dni.size"
   ]
  },
  {
   "cell_type": "code",
   "execution_count": null,
   "metadata": {},
   "outputs": [],
   "source": [
    "periodos"
   ]
  },
  {
   "cell_type": "code",
   "execution_count": 268,
   "metadata": {},
   "outputs": [],
   "source": [
    "# Crear columnas auxiliares\n",
    "actas_con_personas['es_inscripcion'] = (\n",
    "    (actas_con_personas['tipo_acta'] == 'Acta de Regulares/Promociones')\n",
    ")\n",
    "\n",
    "actas_con_personas['es_tp_aprobado'] = (\n",
    "    (actas_con_personas['tipo_acta'] == 'Acta de Regulares/Promociones') &\n",
    "    (actas_con_personas['resultado'] == 'Aprobado')\n",
    ")\n",
    "\n",
    "actas_con_personas['es_final_inscripto'] = (\n",
    "    actas_con_personas['tipo_acta'] == 'Acta de Examen'\n",
    ")\n",
    "\n",
    "# Agrupar y calcular métricas\n",
    "resumen_v2 = actas_con_personas.groupby(['dni', 'semestre_relativo']).agg(\n",
    "    inscripciones=('es_inscripcion', 'sum'),\n",
    "    tp_aprobados=('es_tp_aprobado', 'sum'),\n",
    "    finales_inscriptos=('es_final_inscripto', 'sum')\n",
    ").reset_index()\n",
    "\n",
    "# 5. Hacer el merge con el resumen\n",
    "resumen_completo = combinaciones.merge(\n",
    "    resumen_v2,\n",
    "    on=['dni', 'semestre_relativo'],\n",
    "    how='left'\n",
    ").fillna(0)"
   ]
  },
  {
   "cell_type": "code",
   "execution_count": null,
   "metadata": {},
   "outputs": [],
   "source": [
    "resumen_completo.groupby('semestre_relativo').count()"
   ]
  },
  {
   "cell_type": "code",
   "execution_count": 270,
   "metadata": {},
   "outputs": [],
   "source": [
    "resumen_completo['total_actividad'] = (\n",
    "    resumen_completo['inscripciones'] +\n",
    "    resumen_completo['tp_aprobados'] +\n",
    "    resumen_completo['finales_inscriptos']\n",
    ")"
   ]
  },
  {
   "cell_type": "code",
   "execution_count": null,
   "metadata": {},
   "outputs": [],
   "source": [
    "resumen_completo.head()"
   ]
  },
  {
   "cell_type": "code",
   "execution_count": null,
   "metadata": {},
   "outputs": [],
   "source": [
    "resumen_completo.groupby('semestre_relativo').count()"
   ]
  },
  {
   "cell_type": "code",
   "execution_count": null,
   "metadata": {},
   "outputs": [],
   "source": [
    "metricas = ['inscripciones', 'tp_aprobados', 'finales_inscriptos', 'total_actividad']\n",
    "\n",
    "for metrica in metricas:\n",
    "    tabla = pd.crosstab(resumen_completo['semestre_relativo'], resumen_completo[metrica])\n",
    "    plt.figure(figsize=(10, 6))\n",
    "    sns.heatmap(tabla, annot=True, fmt='d', cmap='Blues')\n",
    "    plt.title(f'Distribución de {metrica} por Semestre Relativo')\n",
    "    plt.xlabel(metrica)\n",
    "    plt.ylabel('Semestre Relativo')\n",
    "    plt.show()"
   ]
  },
  {
   "cell_type": "code",
   "execution_count": null,
   "metadata": {},
   "outputs": [],
   "source": [
    "tabla = pd.crosstab(resumen_completo['semestre_relativo'], resumen_completo['total_actividad'])\n",
    "plt.figure(figsize=(10, 6))\n",
    "sns.heatmap(tabla, annot=True, fmt='d', cmap='Blues')\n",
    "plt.title(f'Distribución de Total de Actividad por Semestre Relativo', fontsize=15)\n",
    "plt.xlabel('Total de Actividad', fontsize=15)\n",
    "plt.ylabel('Semestre Relativo', fontsize=15)\n",
    "plt.xticks(fontsize=11)\n",
    "plt.yticks(fontsize=13)\n",
    "plt.show()"
   ]
  },
  {
   "cell_type": "code",
   "execution_count": null,
   "metadata": {},
   "outputs": [],
   "source": [
    "y"
   ]
  },
  {
   "cell_type": "code",
   "execution_count": null,
   "metadata": {},
   "outputs": [],
   "source": [
    "y_pred"
   ]
  },
  {
   "cell_type": "code",
   "execution_count": null,
   "metadata": {},
   "outputs": [],
   "source": [
    "# X = índice (semestre_relativo), convertido en array 2D\n",
    "X = tabla.index.to_numpy().reshape(-1, 1)\n",
    "y = tabla[0.0].to_numpy()\n",
    "\n",
    "# Ajustar regresión lineal\n",
    "modelo = LinearRegression()\n",
    "modelo.fit(X, y)\n",
    "y_pred = modelo.predict(X)\n",
    "mse = mean_squared_error(y, y_pred)\n",
    "print(f\"Error cuadrático medio (MSE): {mse:.4f}\")\n",
    "\n",
    "# Graficar\n",
    "plt.figure(figsize=(8, 5))\n",
    "sns.scatterplot(x=tabla.index, y=tabla[0.0], label='Datos reales')\n",
    "plt.plot(tabla.index, y_pred, color='red', label='Regresión lineal')\n",
    "plt.title(f'Cantidad de personas con total de actividad = 0 por semestre relativo', fontsize=15)\n",
    "plt.xticks(range(0,5), fontsize=11)\n",
    "plt.yticks(fontsize=11)\n",
    "plt.xlabel('Semestre relativo', fontsize=14)\n",
    "plt.ylabel('Cantidad', fontsize=14)\n",
    "plt.grid(True)\n",
    "plt.legend(fontsize=12, title_fontsize=13)\n",
    "plt.tight_layout()\n",
    "plt.show()"
   ]
  },
  {
   "cell_type": "code",
   "execution_count": null,
   "metadata": {},
   "outputs": [],
   "source": [
    "# X = índice (semestre_relativo), convertido en array 2D\n",
    "X = tabla.index.to_numpy().reshape(-1, 1)\n",
    "y = tabla[1.0].to_numpy() + tabla[2.0].to_numpy() + tabla[3.0].to_numpy()\n",
    "actividad_total = tabla[1.0] + tabla[2.0] + tabla[3.0]\n",
    "\n",
    "# Ajustar regresión lineal\n",
    "modelo = LinearRegression()\n",
    "modelo.fit(X, y)\n",
    "y_pred = modelo.predict(X)\n",
    "mse = mean_squared_error(y, y_pred)\n",
    "print(f\"Error cuadrático medio (MSE): {mse:.4f}\")\n",
    "\n",
    "# Graficar\n",
    "plt.figure(figsize=(8, 5))\n",
    "sns.scatterplot(x=tabla.index, y=actividad_total, label='Datos reales')\n",
    "plt.plot(tabla.index, y_pred, color='red', label='Regresión lineal')\n",
    "plt.title(f'Cantidad de personas con total de actividad entre 1 y 3 por semestre relativo', fontsize=15)\n",
    "plt.xticks(range(0,5), fontsize=11)\n",
    "plt.yticks(fontsize=11)\n",
    "plt.xlabel('Semestre relativo', fontsize=14)\n",
    "plt.ylabel('Cantidad', fontsize=14)\n",
    "plt.grid(True)\n",
    "plt.legend(fontsize=12, title_fontsize=13)\n",
    "plt.tight_layout()\n",
    "plt.show()"
   ]
  },
  {
   "cell_type": "code",
   "execution_count": 279,
   "metadata": {},
   "outputs": [],
   "source": [
    "#resumen_completo.to_csv('../../../../assets/silver/data_utilizada/resumen_personas_por_semestre.csv', index=False)"
   ]
  },
  {
   "cell_type": "code",
   "execution_count": null,
   "metadata": {},
   "outputs": [],
   "source": [
    "resumen_completo_semestre_4 = resumen_completo[resumen_completo['semestre_relativo'] == 4]\n",
    "resumen_completo_semestre_4['dni'].nunique()"
   ]
  },
  {
   "cell_type": "code",
   "execution_count": null,
   "metadata": {},
   "outputs": [],
   "source": [
    "resumen_completo_semestre_4['target'] = np.where(resumen_completo_semestre_4['total_actividad'] < 3, 1, 0)\n",
    "resumen_completo_semestre_4= resumen_completo_semestre_4[['dni','target']]"
   ]
  },
  {
   "cell_type": "code",
   "execution_count": null,
   "metadata": {},
   "outputs": [],
   "source": [
    "resumen_completo_semestre_4['target'].value_counts(dropna= False)"
   ]
  },
  {
   "cell_type": "code",
   "execution_count": null,
   "metadata": {},
   "outputs": [],
   "source": [
    "personas_con_target = pd.merge(personas, resumen_completo_semestre_4, on='dni', how='left')\n",
    "personas_con_target['target'].value_counts(dropna= False)"
   ]
  },
  {
   "cell_type": "code",
   "execution_count": null,
   "metadata": {},
   "outputs": [],
   "source": [
    "semestre_de_inscripcion = actas_con_personas[\n",
    "    ['dni', 'es_cohorte_2022C1', 'es_cohorte_2022C2', 'es_cohorte_2021C1', 'es_cohorte_2021C2']\n",
    "].drop_duplicates()\n",
    "print(semestre_de_inscripcion['dni'].nunique())\n",
    "\n",
    "# Contar cuántos True hay por fila\n",
    "cohorte_cols = ['es_cohorte_2022C1', 'es_cohorte_2022C2', 'es_cohorte_2021C1', 'es_cohorte_2021C2']\n",
    "semestre_de_inscripcion['cohortes_true_count'] = semestre_de_inscripcion[cohorte_cols].sum(axis=1)\n",
    "\n",
    "# Filtrar los casos incorrectos (donde no hay exactamente 1 True)\n",
    "casos_invalidos = semestre_de_inscripcion[semestre_de_inscripcion['cohortes_true_count'] != 1]\n",
    "if casos_invalidos.empty:\n",
    "    print(\"✔️ Todos los DNI tienen exactamente una cohorte asignada.\")\n",
    "else:\n",
    "    print(\"❌ Hay DNIs con múltiples o ninguna cohorte asignada:\")\n",
    "    print(casos_invalidos)"
   ]
  },
  {
   "cell_type": "code",
   "execution_count": 285,
   "metadata": {},
   "outputs": [],
   "source": [
    "cohorte_cols = ['es_cohorte_2022C1', 'es_cohorte_2022C2', 'es_cohorte_2021C1', 'es_cohorte_2021C2']\n",
    "semestre_de_inscripcion['cohorte'] = semestre_de_inscripcion[cohorte_cols].idxmax(axis=1)\n",
    "semestre_de_inscripcion['cohorte'] = semestre_de_inscripcion['cohorte'].str.replace('es_cohorte_', '')"
   ]
  },
  {
   "cell_type": "code",
   "execution_count": 286,
   "metadata": {},
   "outputs": [],
   "source": [
    "semestre_de_inscripcion = semestre_de_inscripcion[['dni', 'cohorte']]"
   ]
  },
  {
   "cell_type": "code",
   "execution_count": 287,
   "metadata": {},
   "outputs": [],
   "source": [
    "personas_con_target = pd.merge(personas_con_target, semestre_de_inscripcion, on='dni', how='left')"
   ]
  },
  {
   "cell_type": "code",
   "execution_count": null,
   "metadata": {},
   "outputs": [],
   "source": [
    "personas_con_target.columns"
   ]
  },
  {
   "cell_type": "code",
   "execution_count": null,
   "metadata": {},
   "outputs": [],
   "source": [
    "personas_con_target.groupby('cohorte')['target'].value_counts(dropna= False)"
   ]
  },
  {
   "cell_type": "code",
   "execution_count": null,
   "metadata": {},
   "outputs": [],
   "source": [
    "# Obtener los conteos (incluyendo NaN)\n",
    "conteos = personas_con_target['target'].value_counts(dropna=False).reset_index()\n",
    "conteos.columns = ['target', 'count']\n",
    "\n",
    "# Convertir NaN a string para que seaborn lo grafique\n",
    "conteos['target'] = conteos['target'].astype(str)\n",
    "\n",
    "# Crear barplot\n",
    "plt.figure(figsize=(8, 5))\n",
    "sns.barplot(data=conteos, x='target', y='count', palette='pastel')\n",
    "plt.title('Distribución de variable Target', fontsize=15)\n",
    "plt.xlabel('Target', fontsize=12)\n",
    "plt.ylabel('Cantidad', fontsize=12)\n",
    "plt.xticks(fontsize=11)\n",
    "plt.yticks(fontsize=11)\n",
    "plt.tight_layout()\n",
    "plt.show()"
   ]
  },
  {
   "cell_type": "code",
   "execution_count": null,
   "metadata": {},
   "outputs": [],
   "source": [
    "# Obtener los conteos (incluyendo NaN)\n",
    "conteos = personas_con_target['target'].value_counts(dropna=False).reset_index()\n",
    "conteos.columns = ['target', 'count']\n",
    "\n",
    "# Calcular proporciones\n",
    "total = conteos['count'].sum()\n",
    "conteos['proporcion'] = conteos['count'] / total\n",
    "\n",
    "# Reemplazar valores por etiquetas más descriptivas\n",
    "mapeo_etiquetas = {0: 'No Abandono', 1: 'Abandono'}\n",
    "conteos['target'] = conteos['target'].map(mapeo_etiquetas).fillna('Desconocido')\n",
    "\n",
    "# Crear barplot con proporciones\n",
    "plt.figure(figsize=(8, 5))\n",
    "sns.barplot(data=conteos, x='target', y='proporcion', palette ={'No Abandono': \"#5D81E2\", 'Abandono': \"#6CCDA3\"})\n",
    "plt.title('Distribución de variable Target', fontsize=15)\n",
    "plt.xlabel('Target', fontsize=13)\n",
    "plt.ylabel('Proporción', fontsize=12)\n",
    "plt.xticks(fontsize=12)\n",
    "plt.yticks(fontsize=11)\n",
    "plt.tight_layout()\n",
    "plt.show()"
   ]
  },
  {
   "cell_type": "code",
   "execution_count": null,
   "metadata": {},
   "outputs": [],
   "source": [
    "conteos"
   ]
  },
  {
   "cell_type": "code",
   "execution_count": null,
   "metadata": {},
   "outputs": [],
   "source": [
    "# Agrupar y contar\n",
    "df_plot = (\n",
    "    personas_con_target\n",
    "    .groupby(['cohorte', 'target'])\n",
    "    .size()\n",
    "    .reset_index(name='count')\n",
    ")\n",
    "\n",
    "# Crear barplot\n",
    "plt.figure(figsize=(10, 6))\n",
    "sns.barplot(data=df_plot, x='cohorte', y='count', hue='target', palette ={0: \"#5D81E2\", 1: \"#6CCDA3\"})\n",
    "plt.title('Distribución de Target por Cohorte')\n",
    "plt.xlabel('Cohorte')\n",
    "plt.ylabel('Cantidad')\n",
    "plt.legend(title='Target')\n",
    "plt.xticks(rotation=45)\n",
    "plt.tight_layout()\n",
    "plt.show()"
   ]
  },
  {
   "cell_type": "code",
   "execution_count": null,
   "metadata": {},
   "outputs": [],
   "source": [
    "# Paso 1: Conteo de cada (cohorte, target)\n",
    "conteos = (\n",
    "    personas_con_target\n",
    "    .groupby(['cohorte', 'target'])\n",
    "    .size()\n",
    "    .reset_index(name='count')\n",
    ")\n",
    "\n",
    "# Paso 2: Calcular proporciones por cohorte\n",
    "conteos['proporcion'] = (\n",
    "    conteos\n",
    "    .groupby('cohorte')['count']\n",
    "    .transform(lambda x: x / x.sum())\n",
    ")\n",
    "\n",
    "# Paso 3: Plotear\n",
    "plt.figure(figsize=(10, 6))\n",
    "sns.barplot(data=conteos, x='cohorte', y='proporcion', hue='target', palette ={0: \"#5D81E2\", 1: \"#6CCDA3\"})\n",
    "plt.title('Proporción de Target por Cohorte')\n",
    "plt.xlabel('Cohorte')\n",
    "plt.ylabel('Proporción')\n",
    "plt.legend(title='Target')\n",
    "plt.xticks(rotation=45)\n",
    "plt.tight_layout()\n",
    "plt.show()\n"
   ]
  },
  {
   "cell_type": "markdown",
   "metadata": {},
   "source": [
    "## Sexo"
   ]
  },
  {
   "cell_type": "code",
   "execution_count": null,
   "metadata": {},
   "outputs": [],
   "source": [
    "# Agrupar y contar\n",
    "df_plot = (\n",
    "    personas_con_target\n",
    "    .groupby(['sexo', 'target'])\n",
    "    .size()\n",
    "    .reset_index(name='count')\n",
    ")\n",
    "\n",
    "# Crear barplot\n",
    "plt.figure(figsize=(10, 6))\n",
    "sns.barplot(data=df_plot, x='sexo', y='count', hue='target', palette ={0: \"#5D81E2\", 1: \"#6CCDA3\"})\n",
    "plt.title('Distribución de Target por Sexo')\n",
    "plt.xlabel('Cohorte')\n",
    "plt.ylabel('Cantidad')\n",
    "plt.legend(title='Target')\n",
    "plt.xticks(rotation=45)\n",
    "plt.tight_layout()\n",
    "plt.show()"
   ]
  },
  {
   "cell_type": "code",
   "execution_count": null,
   "metadata": {},
   "outputs": [],
   "source": [
    "# Paso 1: Conteo de cada (sexo, target)\n",
    "conteos = (\n",
    "    personas_con_target\n",
    "    .groupby(['sexo', 'target'])\n",
    "    .size()\n",
    "    .reset_index(name='count')\n",
    ")\n",
    "\n",
    "# Paso 2: Calcular proporciones por sexo\n",
    "conteos['proporcion'] = (\n",
    "    conteos\n",
    "    .groupby('sexo')['count']\n",
    "    .transform(lambda x: x / x.sum())\n",
    ")\n",
    "\n",
    "\n",
    "\n",
    "# Paso 3: Plotear\n",
    "plt.figure(figsize=(10, 6))\n",
    "sns.barplot(data=conteos, x='sexo', y='proporcion', hue='target', palette ={0: \"#5D81E2\", 1: \"#6CCDA3\"})\n",
    "plt.title('Proporción de Target por Sexo')\n",
    "plt.xlabel('Sexo')\n",
    "plt.ylabel('Proporción')\n",
    "plt.legend(title='Target')\n",
    "plt.xticks(rotation=45)\n",
    "plt.tight_layout()\n",
    "plt.show()"
   ]
  },
  {
   "cell_type": "markdown",
   "metadata": {},
   "source": [
    "## Situación Laboral"
   ]
  },
  {
   "cell_type": "code",
   "execution_count": null,
   "metadata": {},
   "outputs": [],
   "source": [
    "# Copiar dataframe y completar valores faltantes\n",
    "df_plot = personas_con_target.copy()\n",
    "df_plot['situacion_laboral'] = df_plot['situacion_laboral'].fillna('Faltante')\n",
    "\n",
    "# Reemplazar nombres largos por versiones más legibles\n",
    "nombres_largos = {\n",
    "    'No trabajó y no buscó trabajo (no esta pensando en trabajar)': 'No trabaja ni busca trabajo',\n",
    "    'Trabajó al menos una hora (incluye a los que no trabajaron por licencia, vacaciones, enfermedad)': 'Trabajó al menos una hora',\n",
    "    'No trabajó y buscó trabajo en algún momento de los últimos 30 días': 'No trabaja pero busca',\n",
    "    'Desconoce': 'Desconoce'\n",
    "}\n",
    "df_plot['situacion_laboral'] = df_plot['situacion_laboral'].replace(nombres_largos)\n",
    "\n",
    "# Agrupar por situación laboral y target, y contar ocurrencias\n",
    "df_plot = (\n",
    "    df_plot\n",
    "    .groupby(['situacion_laboral', 'target'])\n",
    "    .size()\n",
    "    .reset_index(name='count')\n",
    ")\n",
    "\n",
    "mapeo_etiquetas = {0: 'No Abandono', 1: 'Abandono'}\n",
    "df_plot['target'] = df_plot['target'].map(mapeo_etiquetas).fillna('Desconocido')\n",
    "\n",
    "# Obtener orden de categorías según cantidad total (de más a menos)\n",
    "orden_situacion = (\n",
    "    df_plot\n",
    "    .groupby('situacion_laboral')['count']\n",
    "    .sum()\n",
    "    .sort_values(ascending=False)\n",
    "    .index\n",
    ")\n",
    "\n",
    "# Crear gráfico de barras\n",
    "plt.figure(figsize=(8, 6))\n",
    "sns.barplot(\n",
    "    data=df_plot,\n",
    "    x='situacion_laboral',\n",
    "    y='count',\n",
    "    hue='target',\n",
    "    palette ={'No Abandono': \"#5D81E2\", 'Abandono': \"#6CCDA3\"},\n",
    "    order=orden_situacion\n",
    ")\n",
    "plt.title('Distribución de Target por Situación Laboral', fontsize=15)\n",
    "plt.xlabel('Situación Laboral', fontsize=15)\n",
    "plt.ylabel('Cantidad', fontsize=12)\n",
    "plt.legend(title='Target', fontsize=13, title_fontsize=13)\n",
    "plt.xticks(rotation=90, fontsize=11)\n",
    "plt.yticks(fontsize=11)\n",
    "plt.tight_layout()\n",
    "plt.show()\n"
   ]
  },
  {
   "cell_type": "code",
   "execution_count": null,
   "metadata": {},
   "outputs": [],
   "source": [
    "df_plot"
   ]
  },
  {
   "cell_type": "code",
   "execution_count": null,
   "metadata": {},
   "outputs": [],
   "source": [
    "# Copiar dataframe y completar valores faltantes\n",
    "df_plot = personas_con_target.copy()\n",
    "df_plot['situacion_laboral'] = df_plot['situacion_laboral'].fillna('Faltante')\n",
    "\n",
    "# Reemplazar nombres largos por versiones más legibles\n",
    "nombres_largos = {\n",
    "    'No trabajó y no buscó trabajo (no esta pensando en trabajar)': 'No trabaja ni busca trabajo',\n",
    "    'Trabajó al menos una hora (incluye a los que no trabajaron por licencia, vacaciones, enfermedad)': 'Trabajó al menos una hora',\n",
    "    'No trabajó y buscó trabajo en algún momento de los últimos 30 días': 'No trabaja pero busca',\n",
    "    'Desconoce': 'Desconoce'\n",
    "}\n",
    "df_plot['situacion_laboral'] = df_plot['situacion_laboral'].replace(nombres_largos)\n",
    "\n",
    "# Paso 1: Conteo de cada (situacion_laboral, target)\n",
    "conteos = (\n",
    "    df_plot\n",
    "    .groupby(['situacion_laboral', 'target'])\n",
    "    .size()\n",
    "    .reset_index(name='count')\n",
    ")\n",
    "\n",
    "# Paso 2: Calcular proporciones por situacion_laboral\n",
    "conteos['proporcion'] = (\n",
    "    conteos\n",
    "    .groupby('situacion_laboral')['count']\n",
    "    .transform(lambda x: x / x.sum())\n",
    ")\n",
    "\n",
    "# Ordenar según total de personas en cada situación laboral (de mayor a menor)\n",
    "orden_situacion = (\n",
    "    conteos\n",
    "    .groupby('situacion_laboral')['count']\n",
    "    .sum()\n",
    "    .sort_values(ascending=False)\n",
    "    .index\n",
    ")\n",
    "\n",
    "# Paso 3: Plotear\n",
    "plt.figure(figsize=(8, 6))\n",
    "sns.barplot(\n",
    "    data=conteos,\n",
    "    x='situacion_laboral',\n",
    "    y='proporcion',\n",
    "    hue='target',\n",
    "    order=orden_situacion,\n",
    "    palette ={0: \"#5D81E2\", 1: \"#6CCDA3\"}\n",
    ")\n",
    "plt.title('Proporción de Target por Situación Laboral', fontsize=15)\n",
    "plt.xlabel('Situación Laboral', fontsize=15)\n",
    "plt.ylabel('Proporción', fontsize=12)\n",
    "plt.legend(title='Target', fontsize=13, title_fontsize=13)\n",
    "plt.xticks(rotation=90, fontsize=11)\n",
    "plt.yticks(fontsize=11)\n",
    "plt.tight_layout()\n",
    "plt.show()\n"
   ]
  },
  {
   "cell_type": "code",
   "execution_count": null,
   "metadata": {},
   "outputs": [],
   "source": [
    "# Filtrar solo los casos con target == 1\n",
    "conteos_filtrado = conteos[conteos['target'] == 1].copy()\n",
    "\n",
    "# Cambiar valor de target a 'Abandono' para el gráfico\n",
    "conteos_filtrado['target'] = 'Abandono'\n",
    "\n",
    "# Plotear\n",
    "plt.figure(figsize=(8, 6))\n",
    "sns.barplot(\n",
    "    data=conteos_filtrado,\n",
    "    x='situacion_laboral',\n",
    "    y='proporcion',\n",
    "    hue='target',  # opcional, ahora todo será \"Abandono\"\n",
    "    order=orden_situacion,\n",
    "    palette = {'No Abandono': \"#5D81E2\", 'Abandono': \"#6CCDA3\"}  # Verde\n",
    ")\n",
    "plt.title('Proporción de Abandono por Situación Laboral', fontsize=15)\n",
    "plt.xlabel('Situación Laboral', fontsize=15)\n",
    "plt.ylabel('Proporción', fontsize=12)\n",
    "plt.legend(title='', fontsize=13)  # si prefieres eliminar completamente la leyenda, usa: plt.legend().remove()\n",
    "plt.xticks(rotation=90, fontsize=11)\n",
    "plt.yticks(fontsize=11)\n",
    "plt.tight_layout()\n",
    "plt.show()"
   ]
  },
  {
   "cell_type": "code",
   "execution_count": null,
   "metadata": {},
   "outputs": [],
   "source": [
    "conteos_filtrado"
   ]
  },
  {
   "cell_type": "markdown",
   "metadata": {},
   "source": [
    "## Acceso a internet"
   ]
  },
  {
   "cell_type": "code",
   "execution_count": null,
   "metadata": {},
   "outputs": [],
   "source": [
    "# Agrupar y contar\n",
    "df_plot = (\n",
    "    personas_con_target\n",
    "    .groupby(['acceso_a_internet', 'target'])\n",
    "    .size()\n",
    "    .reset_index(name='count')\n",
    ")\n",
    "\n",
    "# Crear barplot\n",
    "plt.figure(figsize=(15, 6))\n",
    "sns.barplot(data=df_plot, x='acceso_a_internet', y='count', hue='target')\n",
    "plt.title('Distribución de Target por Acceso a internet')\n",
    "plt.xlabel('Acceso a internet')\n",
    "plt.ylabel('Cantidad')\n",
    "plt.legend(title='Target')\n",
    "plt.xticks(rotation=90)\n",
    "plt.tight_layout()\n",
    "plt.show()"
   ]
  },
  {
   "cell_type": "code",
   "execution_count": null,
   "metadata": {},
   "outputs": [],
   "source": [
    "# Paso 1: Conteo de cada (acceso_a_internet, target)\n",
    "conteos = (\n",
    "    personas_con_target\n",
    "    .groupby(['acceso_a_internet', 'target'])\n",
    "    .size()\n",
    "    .reset_index(name='count')\n",
    ")\n",
    "\n",
    "# Paso 2: Calcular proporciones por acceso_a_internet\n",
    "conteos['proporcion'] = (\n",
    "    conteos\n",
    "    .groupby('acceso_a_internet')['count']\n",
    "    .transform(lambda x: x / x.sum())\n",
    ")\n",
    "\n",
    "# Paso 3: Plotear\n",
    "plt.figure(figsize=(10, 6))\n",
    "sns.barplot(data=conteos, x='acceso_a_internet', y='proporcion', hue='target')\n",
    "plt.title('Proporción de Target por Acceso Internet')\n",
    "plt.xlabel('Acceso Internet')\n",
    "plt.ylabel('Proporción')\n",
    "plt.legend(title='Target')\n",
    "plt.xticks(rotation=90)\n",
    "plt.tight_layout()\n",
    "plt.show()"
   ]
  },
  {
   "cell_type": "markdown",
   "metadata": {},
   "source": [
    "## Carrera Principal recalculada"
   ]
  },
  {
   "cell_type": "code",
   "execution_count": 337,
   "metadata": {},
   "outputs": [],
   "source": [
    "# Paso 1: Contar las veces que cada persona se inscribió a cada carrera\n",
    "conteos = actas_con_personas.groupby(['dni', 'carrera']).size().reset_index(name='conteo')\n",
    "\n",
    "# Paso 2: Para cada dni, quedarte con la carrera de mayor conteo\n",
    "conteos = conteos.sort_values(['dni', 'conteo'], ascending=[True, False])\n",
    "carrera_mas_frecuente = conteos.drop_duplicates(subset='dni', keep='first')\n",
    "carrera_mas_frecuente\n",
    "personas_con_target = pd.merge(personas_con_target, carrera_mas_frecuente[['dni', 'carrera']], on='dni', how='left')"
   ]
  },
  {
   "cell_type": "code",
   "execution_count": null,
   "metadata": {},
   "outputs": [],
   "source": [
    "personas_con_target.columns"
   ]
  },
  {
   "cell_type": "code",
   "execution_count": null,
   "metadata": {},
   "outputs": [],
   "source": [
    "# Agrupar y contar\n",
    "df_plot = (\n",
    "    personas_con_target\n",
    "    .groupby(['carrera', 'target'])\n",
    "    .size()\n",
    "    .reset_index(name='count')\n",
    ")\n",
    "\n",
    "# Crear barplot\n",
    "plt.figure(figsize=(15, 5))\n",
    "sns.barplot(data=df_plot, x='carrera', y='count', hue='target')\n",
    "plt.title('Distribución de Target por carrera principal')\n",
    "plt.xlabel('Carrera principal')\n",
    "plt.ylabel('Cantidad')\n",
    "plt.legend(title='Target')\n",
    "plt.xticks(rotation=90)\n",
    "plt.tight_layout()\n",
    "plt.show()"
   ]
  },
  {
   "cell_type": "code",
   "execution_count": null,
   "metadata": {},
   "outputs": [],
   "source": [
    "# Lista de carreras a mantener\n",
    "carreras_mantener = [\n",
    "    'Licenciatura en Ciencias de la Computación',\n",
    "    'Licenciatura en Ciencias Biológicas',\n",
    "    'Licenciatura en Ciencias Físicas',\n",
    "    'Licenciatura en Ciencias de Datos',\n",
    "    'Licenciatura en Ciencias Químicas',\n",
    "    'Licenciatura en Ciencias Matemáticas',\n",
    "    'Licenciatura en Ciencias de la Atmósfera',\n",
    "    'Licenciatura en Ciencia y Tecnología de Alimentos',\n",
    "    'Licenciatura en Ciencias Geológicas'\n",
    "]\n",
    "\n",
    "# Etiquetas personalizadas\n",
    "etiquetas_personalizadas = {\n",
    "    'Licenciatura en Ciencias de la Computación': 'Computación',\n",
    "    'Licenciatura en Ciencias Biológicas': 'Biología',\n",
    "    'Licenciatura en Ciencias Físicas': 'Física',\n",
    "    'Licenciatura en Ciencias de Datos': 'Datos',\n",
    "    'Licenciatura en Ciencias Químicas': 'Química',\n",
    "    'Licenciatura en Ciencias Matemáticas': 'Matemática',\n",
    "    'Licenciatura en Ciencias de la Atmósfera': 'Atmósfera',\n",
    "    'Licenciatura en Ciencia y Tecnología de Alimentos': 'Alimentos',\n",
    "    'Licenciatura en Ciencias Geológicas': 'Geología',\n",
    "    'Otras carreras': 'Otras carreras'\n",
    "}\n",
    "\n",
    "# Crear columna agrupada\n",
    "personas_con_target['carrera_filtrada'] = personas_con_target['carrera'].apply(\n",
    "    lambda x: x if x in carreras_mantener else 'Otras carreras'\n",
    ")\n",
    "\n",
    "# Agrupar y contar\n",
    "df_plot = (\n",
    "    personas_con_target\n",
    "    .groupby(['carrera_filtrada', 'target'])\n",
    "    .size()\n",
    "    .reset_index(name='count')\n",
    ")\n",
    "\n",
    "# Reemplazar nombres por etiquetas personalizadas\n",
    "df_plot['carrera_filtrada'] = df_plot['carrera_filtrada'].replace(etiquetas_personalizadas)\n",
    "\n",
    "# Ordenar categorías en el gráfico\n",
    "orden_etiquetas = [etiquetas_personalizadas[c] for c in carreras_mantener] + ['Otras carreras']\n",
    "df_plot['carrera_filtrada'] = pd.Categorical(df_plot['carrera_filtrada'], categories=orden_etiquetas, ordered=True)\n",
    "\n",
    "mapeo_etiquetas = {0: 'No Abandono', 1: 'Abandono'}\n",
    "df_plot['target'] = df_plot['target'].map(mapeo_etiquetas).fillna('Desconocido')\n",
    "\n",
    "# Crear barplot\n",
    "plt.figure(figsize=(9, 6))\n",
    "sns.barplot(data=df_plot, x='carrera_filtrada', y='count', hue='target', palette = {'No Abandono': \"#5D81E2\", 'Abandono': \"#6CCDA3\"})\n",
    "plt.title('Distribución de Target por carrera principal', fontsize=15)\n",
    "plt.xlabel('Carrera principal', fontsize=15)\n",
    "plt.ylabel('Cantidad', fontsize=15)\n",
    "plt.legend(title='Target', fontsize=13, title_fontsize=13)\n",
    "plt.xticks(rotation=90, fontsize=11)\n",
    "plt.yticks(fontsize=11)\n",
    "plt.tight_layout()\n",
    "plt.show()\n"
   ]
  },
  {
   "cell_type": "code",
   "execution_count": null,
   "metadata": {},
   "outputs": [],
   "source": [
    "# Lista de carreras a mantener\n",
    "carreras_mantener = [\n",
    "    'Licenciatura en Ciencias de la Computación',\n",
    "    'Licenciatura en Ciencias Biológicas',\n",
    "    'Licenciatura en Ciencias Físicas',\n",
    "    'Licenciatura en Ciencias de Datos',\n",
    "    'Licenciatura en Ciencias Químicas',\n",
    "    'Licenciatura en Ciencias Matemáticas',\n",
    "    'Licenciatura en Ciencias de la Atmósfera',\n",
    "    'Licenciatura en Ciencia y Tecnología de Alimentos',\n",
    "    'Licenciatura en Ciencias Geológicas'\n",
    "]\n",
    "\n",
    "# Etiquetas personalizadas\n",
    "etiquetas_personalizadas = {\n",
    "    'Licenciatura en Ciencias de la Computación': 'Computación',\n",
    "    'Licenciatura en Ciencias Biológicas': 'Biología',\n",
    "    'Licenciatura en Ciencias Físicas': 'Física',\n",
    "    'Licenciatura en Ciencias de Datos': 'Datos',\n",
    "    'Licenciatura en Ciencias Químicas': 'Química',\n",
    "    'Licenciatura en Ciencias Matemáticas': 'Matemática',\n",
    "    'Licenciatura en Ciencias de la Atmósfera': 'Atmósfera',\n",
    "    'Licenciatura en Ciencia y Tecnología de Alimentos': 'Alimentos',\n",
    "    'Licenciatura en Ciencias Geológicas': 'Geología',\n",
    "    'Otras carreras': 'Otras carreras'\n",
    "}\n",
    "\n",
    "# Paso 1: Agrupar las carreras no deseadas como 'Otras carreras'\n",
    "personas_con_target['carrera_filtrada'] = personas_con_target['carrera'].apply(\n",
    "    lambda x: x if x in carreras_mantener else 'Otras carreras'\n",
    ")\n",
    "\n",
    "# Paso 2: Conteo por carrera filtrada y target\n",
    "conteos = (\n",
    "    personas_con_target\n",
    "    .groupby(['carrera_filtrada', 'target'])\n",
    "    .size()\n",
    "    .reset_index(name='count')\n",
    ")\n",
    "\n",
    "# Paso 3: Calcular proporciones por carrera\n",
    "conteos['proporcion'] = (\n",
    "    conteos\n",
    "    .groupby('carrera_filtrada')['count']\n",
    "    .transform(lambda x: x / x.sum())\n",
    ")\n",
    "\n",
    "# Paso 4: Reemplazar etiquetas\n",
    "conteos['carrera_filtrada'] = conteos['carrera_filtrada'].replace(etiquetas_personalizadas)\n",
    "\n",
    "# Ordenar las etiquetas\n",
    "orden_etiquetas = [etiquetas_personalizadas[c] for c in carreras_mantener] + ['Otras carreras']\n",
    "conteos['carrera_filtrada'] = pd.Categorical(conteos['carrera_filtrada'], categories=orden_etiquetas, ordered=True)\n",
    "\n",
    "# Filtrar solo los casos con target == 1\n",
    "conteos_filtrado = conteos[conteos['target'] == 1].copy()\n",
    "\n",
    "# Cambiar valor de target a 'Abandono' para el gráfico\n",
    "conteos_filtrado['target'] = 'Abandono'\n",
    "\n",
    "# Paso 5: Plotear\n",
    "plt.figure(figsize=(9, 6))\n",
    "sns.barplot(data=conteos_filtrado, x='carrera_filtrada', y='proporcion', hue='target', palette = {'No Abandono': \"#5D81E2\", 'Abandono': \"#6CCDA3\"})\n",
    "plt.title('Proporción de Abandono por carrera principal', fontsize=15)\n",
    "plt.xlabel('Carrera principal', fontsize=15)\n",
    "plt.ylabel('Proporción', fontsize=15)\n",
    "plt.legend(fontsize=13, title_fontsize=13)\n",
    "plt.xticks(rotation=90, fontsize=11)\n",
    "plt.yticks(fontsize=11)\n",
    "plt.tight_layout()\n",
    "plt.show()"
   ]
  },
  {
   "cell_type": "code",
   "execution_count": null,
   "metadata": {},
   "outputs": [],
   "source": [
    "conteos_filtrado"
   ]
  },
  {
   "cell_type": "code",
   "execution_count": null,
   "metadata": {},
   "outputs": [],
   "source": [
    "# Paso 1: Conteo de cada (carrera, target)\n",
    "conteos = (\n",
    "    personas_con_target\n",
    "    .groupby(['carrera', 'target'])\n",
    "    .size()\n",
    "    .reset_index(name='count')\n",
    ")\n",
    "\n",
    "# Paso 2: Calcular proporciones por carrera\n",
    "conteos['proporcion'] = (\n",
    "    conteos\n",
    "    .groupby('carrera')['count']\n",
    "    .transform(lambda x: x / x.sum())\n",
    ")\n",
    "\n",
    "# Paso 3: Plotear\n",
    "plt.figure(figsize=(15, 5))\n",
    "sns.barplot(data=conteos, x='carrera', y='proporcion', hue='target')\n",
    "plt.title('Proporción de Target por carrera principal')\n",
    "plt.xlabel('Carrera principal')\n",
    "plt.ylabel('Proporción')\n",
    "plt.legend(title='Target')\n",
    "plt.xticks(rotation=90)\n",
    "plt.tight_layout()\n",
    "plt.show()"
   ]
  },
  {
   "cell_type": "markdown",
   "metadata": {},
   "source": [
    "## Nivel estudio Madre"
   ]
  },
  {
   "cell_type": "code",
   "execution_count": null,
   "metadata": {},
   "outputs": [],
   "source": [
    "# Reemplazar NaN por 'Faltante'\n",
    "df_plot = personas_con_target.copy()\n",
    "df_plot['nivel_estudio_madre'] = df_plot['nivel_estudio_madre'].fillna('Faltante')\n",
    "\n",
    "# Agrupar y contar\n",
    "df_plot = (\n",
    "    df_plot\n",
    "    .groupby(['nivel_estudio_madre', 'target'])\n",
    "    .size()\n",
    "    .reset_index(name='count')\n",
    ")\n",
    "\n",
    "# Ordenar categorías de mayor a menor según el total de personas\n",
    "orden_estudio = (\n",
    "    df_plot\n",
    "    .groupby('nivel_estudio_madre')['count']\n",
    "    .sum()\n",
    "    .sort_values(ascending=False)\n",
    "    .index\n",
    ")\n",
    "\n",
    "mapeo_etiquetas = {0: 'No Abandono', 1: 'Abandono'}\n",
    "df_plot['target'] = df_plot['target'].map(mapeo_etiquetas).fillna('Desconocido')\n",
    "\n",
    "# Crear barplot\n",
    "plt.figure(figsize=(9, 6))\n",
    "sns.barplot(\n",
    "    data=df_plot,\n",
    "    x='nivel_estudio_madre',\n",
    "    y='count',\n",
    "    hue='target',\n",
    "    order=orden_estudio,\n",
    "    palette = {'No Abandono': \"#5D81E2\", 'Abandono': \"#6CCDA3\"}\n",
    ")\n",
    "plt.title('Distribución de Target por Nivel de Estudio de la Madre', fontsize=14)\n",
    "plt.xlabel('Nivel de estudio madre', fontsize=14)\n",
    "plt.ylabel('Cantidad', fontsize=14)\n",
    "plt.legend(title='Target', fontsize=13, title_fontsize=13)\n",
    "plt.xticks(rotation=90, fontsize=11)\n",
    "plt.tight_layout()\n",
    "plt.show()\n"
   ]
  },
  {
   "cell_type": "code",
   "execution_count": null,
   "metadata": {},
   "outputs": [],
   "source": [
    "# Reemplazar NaN por 'Faltante'\n",
    "df_prop = personas_con_target.copy()\n",
    "df_prop['nivel_estudio_madre'] = df_prop['nivel_estudio_madre'].fillna('Faltante')\n",
    "\n",
    "# Paso 1: Conteo de cada (nivel_estudio_madre, target)\n",
    "conteos = (\n",
    "    df_prop\n",
    "    .groupby(['nivel_estudio_madre', 'target'])\n",
    "    .size()\n",
    "    .reset_index(name='count')\n",
    ")\n",
    "\n",
    "# Paso 2: Calcular proporciones por nivel_estudio_madre\n",
    "conteos['proporcion'] = (\n",
    "    conteos\n",
    "    .groupby('nivel_estudio_madre')['count']\n",
    "    .transform(lambda x: x / x.sum())\n",
    ")\n",
    "\n",
    "# Paso 2b: Obtener orden según cantidad total (como en el gráfico de cantidades)\n",
    "orden_estudio = (\n",
    "    conteos\n",
    "    .groupby('nivel_estudio_madre')['count']\n",
    "    .sum()\n",
    "    .sort_values(ascending=False)\n",
    "    .index\n",
    ")\n",
    "\n",
    "# Filtrar solo los casos con target == 1\n",
    "conteos_filtrado = conteos[conteos['target'] == 1].copy()\n",
    "\n",
    "# Cambiar valor de target a 'Abandono' para el gráfico\n",
    "conteos_filtrado['target'] = 'Abandono'\n",
    "\n",
    "# Paso 3: Plotear\n",
    "plt.figure(figsize=(9, 6))\n",
    "sns.barplot(\n",
    "    data=conteos_filtrado,\n",
    "    x='nivel_estudio_madre',\n",
    "    y='proporcion',\n",
    "    hue='target',\n",
    "    order=orden_estudio,\n",
    "    palette = {'No Abandono': \"#5D81E2\", 'Abandono': \"#6CCDA3\"}\n",
    ")\n",
    "plt.title('Proporción de Abandono por Nivel de Estudio de la Madre', fontsize=14)\n",
    "plt.xlabel('Nivel de estudio madre', fontsize=14)\n",
    "plt.ylabel('Proporción', fontsize=14)\n",
    "plt.legend(fontsize=13, title_fontsize=13)\n",
    "plt.xticks(rotation=90, fontsize=11)\n",
    "plt.yticks(fontsize=11)\n",
    "plt.tight_layout()\n",
    "plt.show()\n"
   ]
  },
  {
   "cell_type": "code",
   "execution_count": null,
   "metadata": {},
   "outputs": [],
   "source": [
    "conteos_filtrado"
   ]
  },
  {
   "cell_type": "markdown",
   "metadata": {},
   "source": [
    "## Nivel estudio Padre"
   ]
  },
  {
   "cell_type": "code",
   "execution_count": null,
   "metadata": {},
   "outputs": [],
   "source": [
    "df_plot = personas_con_target.copy()\n",
    "df_plot['nivel_estudio_padre'] = df_plot['nivel_estudio_padre'].fillna('Faltante')\n",
    "# Agrupar y contar\n",
    "df_plot = (\n",
    "    df_plot\n",
    "    .groupby(['nivel_estudio_padre', 'target'])\n",
    "    .size()\n",
    "    .reset_index(name='count')\n",
    ")\n",
    "\n",
    "# Ordenar categorías de mayor a menor según el total de personas\n",
    "orden_estudio = (\n",
    "    df_plot\n",
    "    .groupby('nivel_estudio_padre')['count']\n",
    "    .sum()\n",
    "    .sort_values(ascending=False)\n",
    "    .index\n",
    ")\n",
    "\n",
    "mapeo_etiquetas = {0: 'No Abandono', 1: 'Abandono'}\n",
    "df_plot['target'] = df_plot['target'].map(mapeo_etiquetas).fillna('Desconocido')\n",
    "\n",
    "# Crear barplot\n",
    "plt.figure(figsize=(9, 6))\n",
    "sns.barplot(data=df_plot, x='nivel_estudio_padre', y='count', hue='target', order=orden_estudio, palette = {'No Abandono': \"#5D81E2\", 'Abandono': \"#6CCDA3\"})\n",
    "plt.title('Distribución de Target por Nivel Estudio del Padre', fontsize=14)\n",
    "plt.xlabel('Nivel de estudio padre', fontsize=14)\n",
    "plt.ylabel('Cantidad', fontsize=14)\n",
    "plt.legend(title='Target', fontsize=13, title_fontsize=13)\n",
    "plt.xticks(rotation=90, fontsize=11)\n",
    "plt.yticks(fontsize=11)\n",
    "plt.tight_layout()\n",
    "plt.show()"
   ]
  },
  {
   "cell_type": "code",
   "execution_count": null,
   "metadata": {},
   "outputs": [],
   "source": [
    "# Reemplazar NaN por 'Faltante'\n",
    "df_prop = personas_con_target.copy()\n",
    "df_prop['nivel_estudio_padre'] = df_prop['nivel_estudio_padre'].fillna('Faltante')\n",
    "\n",
    "# Paso 1: Conteo de cada (nivel_estudio_padre, target)\n",
    "conteos = (\n",
    "    df_prop\n",
    "    .groupby(['nivel_estudio_padre', 'target'])\n",
    "    .size()\n",
    "    .reset_index(name='count')\n",
    ")\n",
    "\n",
    "# Paso 2: Calcular proporciones por nivel_estudio_padre\n",
    "conteos['proporcion'] = (\n",
    "    conteos\n",
    "    .groupby('nivel_estudio_padre')['count']\n",
    "    .transform(lambda x: x / x.sum())\n",
    ")\n",
    "\n",
    "orden_estudio = (\n",
    "    conteos\n",
    "    .groupby('nivel_estudio_padre')['count']\n",
    "    .sum()\n",
    "    .sort_values(ascending=False)\n",
    "    .index\n",
    ")\n",
    "\n",
    "# Filtrar solo los casos con target == 1\n",
    "conteos_filtrado = conteos[conteos['target'] == 1].copy()\n",
    "\n",
    "# Cambiar valor de target a 'Abandono' para el gráfico\n",
    "conteos_filtrado['target'] = 'Abandono'\n",
    "\n",
    "# Paso 3: Plotear\n",
    "plt.figure(figsize=(9, 6))\n",
    "sns.barplot(data=conteos_filtrado, x='nivel_estudio_padre', y='proporcion', hue='target', order=orden_estudio, palette = {'No Abandono': \"#5D81E2\", 'Abandono': \"#6CCDA3\"})\n",
    "plt.title('Proporción de Abandono por Nivel de Estudio del Padre', fontsize=14)\n",
    "plt.xlabel('Nivel de estudio padre', fontsize=14)\n",
    "plt.ylabel('Proporción', fontsize=14)\n",
    "plt.legend(fontsize=13, title_fontsize=13)\n",
    "plt.xticks(rotation=90, fontsize=11)\n",
    "plt.yticks(fontsize=11)\n",
    "plt.tight_layout()\n",
    "plt.show()"
   ]
  },
  {
   "cell_type": "code",
   "execution_count": null,
   "metadata": {},
   "outputs": [],
   "source": [
    "conteos_filtrado"
   ]
  },
  {
   "cell_type": "markdown",
   "metadata": {},
   "source": [
    "## Estado Madre"
   ]
  },
  {
   "cell_type": "code",
   "execution_count": null,
   "metadata": {},
   "outputs": [],
   "source": [
    "# Agrupar y contar\n",
    "df_plot = (\n",
    "    personas_con_target\n",
    "    .groupby(['situacion_madre', 'target'])\n",
    "    .size()\n",
    "    .reset_index(name='count')\n",
    ")\n",
    "\n",
    "# Crear barplot\n",
    "plt.figure(figsize=(15, 6))\n",
    "sns.barplot(data=df_plot, x='situacion_madre', y='count', hue='target')\n",
    "plt.title('Distribución por situacion_madre')\n",
    "plt.xlabel('Situación de la madre')\n",
    "plt.ylabel('Cantidad')\n",
    "plt.legend(title='Target')\n",
    "plt.xticks(rotation=90)\n",
    "plt.tight_layout()\n",
    "plt.show()"
   ]
  },
  {
   "cell_type": "code",
   "execution_count": null,
   "metadata": {},
   "outputs": [],
   "source": [
    "# Paso 1: Conteo de cada (situacion_madre, target)\n",
    "conteos = (\n",
    "    personas_con_target\n",
    "    .groupby(['situacion_madre', 'target'])\n",
    "    .size()\n",
    "    .reset_index(name='count')\n",
    ")\n",
    "\n",
    "# Paso 2: Calcular proporciones por situacion_madre\n",
    "conteos['proporcion'] = (\n",
    "    conteos\n",
    "    .groupby('situacion_madre')['count']\n",
    "    .transform(lambda x: x / x.sum())\n",
    ")\n",
    "\n",
    "# Paso 3: Plotear\n",
    "plt.figure(figsize=(15, 6))\n",
    "sns.barplot(data=conteos, x='situacion_madre', y='proporcion', hue='target')\n",
    "plt.title('Proporción de Target por situacion_madre')\n",
    "plt.xlabel('Situación de la madre')\n",
    "plt.ylabel('Proporción')\n",
    "plt.legend(title='Target')\n",
    "plt.xticks(rotation=90)\n",
    "plt.tight_layout()\n",
    "plt.show()"
   ]
  },
  {
   "cell_type": "code",
   "execution_count": null,
   "metadata": {},
   "outputs": [],
   "source": [
    "# Agrupar y contar\n",
    "df_plot = (\n",
    "    personas_con_target\n",
    "    .groupby(['situacion_padre', 'target'])\n",
    "    .size()\n",
    "    .reset_index(name='count')\n",
    ")\n",
    "\n",
    "# Crear barplot\n",
    "plt.figure(figsize=(15, 6))\n",
    "sns.barplot(data=df_plot, x='situacion_padre', y='count', hue='target')\n",
    "plt.title('Distribución por situacion_padre')\n",
    "plt.xlabel('Situación de la padre')\n",
    "plt.ylabel('Cantidad')\n",
    "plt.legend(title='Target')\n",
    "plt.xticks(rotation=90)\n",
    "plt.tight_layout()\n",
    "plt.show()"
   ]
  },
  {
   "cell_type": "code",
   "execution_count": null,
   "metadata": {},
   "outputs": [],
   "source": [
    "# Paso 1: Conteo de cada (situacion_padre, target)\n",
    "conteos = (\n",
    "    personas_con_target\n",
    "    .groupby(['situacion_padre', 'target'])\n",
    "    .size()\n",
    "    .reset_index(name='count')\n",
    ")\n",
    "\n",
    "# Paso 2: Calcular proporciones por situacion_padre\n",
    "conteos['proporcion'] = (\n",
    "    conteos\n",
    "    .groupby('situacion_padre')['count']\n",
    "    .transform(lambda x: x / x.sum())\n",
    ")\n",
    "\n",
    "# Paso 3: Plotear\n",
    "plt.figure(figsize=(15, 6))\n",
    "sns.barplot(data=conteos, x='situacion_padre', y='proporcion', hue='target')\n",
    "plt.title('Proporción de Target por situacion_padre')\n",
    "plt.xlabel('Situación de la padre')\n",
    "plt.ylabel('Proporción')\n",
    "plt.legend(title='Target')\n",
    "plt.xticks(rotation=90)\n",
    "plt.tight_layout()\n",
    "plt.show()"
   ]
  },
  {
   "cell_type": "markdown",
   "metadata": {},
   "source": [
    "## Edad"
   ]
  },
  {
   "cell_type": "code",
   "execution_count": null,
   "metadata": {},
   "outputs": [],
   "source": [
    "personas_con_target['edad_inscripcion'].describe()"
   ]
  },
  {
   "cell_type": "code",
   "execution_count": null,
   "metadata": {},
   "outputs": [],
   "source": [
    "personas_con_target['grupo_edad'] = pd.cut(personas_con_target['edad_inscripcion'], bins=[16, 20, 30, 64])\n",
    "\n",
    "# Normalizado (proporciones)\n",
    "prop_df = personas_con_target.groupby('grupo_edad')['target'].value_counts(normalize=True).unstack()\n",
    "\n",
    "prop_df.plot(kind='bar', stacked=False)\n",
    "plt.title(\"Distribución del target por grupo etario\")\n",
    "plt.ylabel(\"Proporción\")\n",
    "plt.xlabel(\"Grupo etario\")\n",
    "plt.xticks(rotation=0)\n",
    "plt.legend(title=\"Target\")\n",
    "plt.show()"
   ]
  },
  {
   "cell_type": "code",
   "execution_count": null,
   "metadata": {},
   "outputs": [],
   "source": [
    "# Calcular los conteos de cada valor de target por grupo etario\n",
    "conteos_df = personas_con_target.groupby('grupo_edad')['target'].value_counts().unstack(fill_value=0)\n",
    "\n",
    "# Graficar como barras apiladas\n",
    "conteos_df.plot(kind='bar', stacked=False)\n",
    "plt.title(\"Cantidad de personas por grupo etario y target\")\n",
    "plt.ylabel(\"Cantidad\")\n",
    "plt.xlabel(\"Grupo etario\")\n",
    "plt.legend(title=\"Target\")\n",
    "plt.xticks(rotation=45)\n",
    "plt.tight_layout()\n",
    "plt.show()"
   ]
  },
  {
   "cell_type": "code",
   "execution_count": null,
   "metadata": {},
   "outputs": [],
   "source": [
    "personas_con_target['grupo_edad'] = pd.cut(personas_con_target['edad_inscripcion'], bins=[16, 18, 20, 30, 64])\n",
    "\n",
    "# Normalizado (proporciones)\n",
    "prop_df = personas_con_target['grupo_edad'].value_counts(normalize=False, sort=False)\n",
    "\n",
    "prop_df.plot(kind='bar', stacked=False)\n",
    "plt.title(\"Distribución por grupo etario\", fontsize=15)\n",
    "plt.ylabel(\"Proporción\", fontsize=15)\n",
    "plt.xlabel(\"Grupo etario\", fontsize=15)\n",
    "plt.xticks(rotation=0, fontsize=13)\n",
    "plt.yticks(fontsize=13)\n",
    "plt.show()"
   ]
  },
  {
   "cell_type": "code",
   "execution_count": null,
   "metadata": {},
   "outputs": [],
   "source": [
    "prop_df"
   ]
  },
  {
   "cell_type": "code",
   "execution_count": null,
   "metadata": {},
   "outputs": [],
   "source": [
    "personas_con_target['grupo_edad'] = pd.cut(personas_con_target['edad_inscripcion'], bins=[16, 18, 20, 30, 64])\n",
    "\n",
    "# Normalizado (proporciones)\n",
    "prop_df = personas_con_target['grupo_edad'].value_counts(normalize=True, sort=False)\n",
    "\n",
    "prop_df.plot(kind='bar', stacked=False)\n",
    "plt.title(\"Distribución por grupo etario\", fontsize=15)\n",
    "plt.ylabel(\"Proporción\", fontsize=15)\n",
    "plt.xlabel(\"Grupo etario\", fontsize=15)\n",
    "plt.xticks(rotation=0, fontsize=13)\n",
    "plt.yticks(fontsize=13)\n",
    "plt.show()"
   ]
  },
  {
   "cell_type": "code",
   "execution_count": null,
   "metadata": {},
   "outputs": [],
   "source": [
    "# Renombrar columnas del DataFrame\n",
    "personas_con_target['grupo_edad'] = pd.cut(personas_con_target['edad_inscripcion'], bins=[16, 18, 20, 30, 64])\n",
    "\n",
    "# Normalizado (proporciones)\n",
    "prop_df = personas_con_target.groupby('grupo_edad')['target'].value_counts(normalize=True).unstack()\n",
    "prop_df.rename(columns={0: 'No Abandono', 1: 'Abandono'}, inplace=True)\n",
    "\n",
    "prop_df.plot(kind='bar', stacked=False)\n",
    "plt.title(\"Distribución del target por grupo etario\", fontsize=15)\n",
    "plt.ylabel(\"Proporción\", fontsize=15)\n",
    "plt.xlabel(\"Grupo etario\", fontsize=15)\n",
    "plt.xticks(rotation=0, fontsize=13)\n",
    "plt.yticks(fontsize=13)\n",
    "plt.legend(title=\"Target\", fontsize=13, title_fontsize=13)\n",
    "plt.show()"
   ]
  },
  {
   "cell_type": "code",
   "execution_count": null,
   "metadata": {},
   "outputs": [],
   "source": [
    "# Calcular los conteos de cada valor de target por grupo etario\n",
    "#conteos_df = personas_con_target.groupby('grupo_edad')['target'].value_counts().unstack(fill_value=0)\n",
    "\n",
    "# Normalizado (proporciones)\n",
    "conteos_df = personas_con_target.groupby('grupo_edad')['target'].value_counts().unstack()\n",
    "conteos_df.rename(columns={0: 'No Abandono', 1: 'Abandono'}, inplace=True)\n",
    "\n",
    "# Graficar como barras apiladas\n",
    "conteos_df.plot(kind='bar', stacked=False, color=[\"#5D81E2\", \"#6CCDA3\"])\n",
    "plt.title(\"Cantidad de Personas por Grupo Etario y Valor de Target\", fontsize=15)\n",
    "plt.ylabel(\"Cantidad\", fontsize=15)\n",
    "plt.xlabel(\"Grupo etario\", fontsize=15)\n",
    "plt.legend(title=\"Target\", fontsize=13, title_fontsize=13, loc='upper center')\n",
    "plt.xticks(rotation=0, fontsize=13)\n",
    "plt.yticks(fontsize=13)\n",
    "plt.tight_layout()\n",
    "plt.show()"
   ]
  },
  {
   "cell_type": "code",
   "execution_count": null,
   "metadata": {},
   "outputs": [],
   "source": [
    "# Crear grupos\n",
    "personas_con_target['grupo_edad'] = pd.cut(personas_con_target['edad_inscripcion'], bins=[16, 18, 20, 30, 64])\n",
    "\n",
    "# Proporciones por grupo\n",
    "prop_df = personas_con_target.groupby('grupo_edad')['target'].value_counts(normalize=True).unstack()\n",
    "\n",
    "# Proporción de target=1\n",
    "prop_target1 = prop_df[1].values\n",
    "prop_df.rename(columns={0: 'No Abandono', 1: 'Abandono'}, inplace=True)\n",
    "prop_df_abandono = prop_df['Abandono'] \n",
    "\n",
    "# Posiciones X: usar las posiciones enteras como en el gráfico de barras\n",
    "x_pos = np.arange(len(prop_target1)).reshape(-1, 1)\n",
    "\n",
    "# Ajustar regresión lineal\n",
    "reg = LinearRegression().fit(x_pos, prop_target1)\n",
    "y_pred = reg.predict(x_pos)\n",
    "\n",
    "mse = mean_squared_error(prop_target1, y_pred)\n",
    "print(f\"Error cuadrático medio (MSE): {mse:.4f}\")\n",
    "\n",
    "# Graficar barras\n",
    "ax = prop_df_abandono.plot(kind='bar', stacked=False, color=[\"#6CCDA3\"])\n",
    "plt.plot(x_pos, y_pred, color='black', linewidth=2.5, label='Reg. Lineal target=Abandono')\n",
    "\n",
    "# Títulos y estilos\n",
    "plt.title(\"Proporción de Abandono por Grupo Etario\", fontsize=15)\n",
    "plt.ylabel(\"Proporción\", fontsize=15)\n",
    "plt.xlabel(\"Grupo etario\", fontsize=15)\n",
    "plt.xticks(rotation=0, fontsize=13)\n",
    "plt.yticks(fontsize=13)\n",
    "plt.legend(fontsize=12, title_fontsize=13, loc='upper center')\n",
    "plt.grid(axis='y', linestyle='--', alpha=0.6)\n",
    "plt.tight_layout()\n",
    "plt.show()\n"
   ]
  },
  {
   "cell_type": "code",
   "execution_count": null,
   "metadata": {},
   "outputs": [],
   "source": [
    "x_pos"
   ]
  },
  {
   "cell_type": "code",
   "execution_count": null,
   "metadata": {},
   "outputs": [],
   "source": [
    "prop_df_abandono"
   ]
  },
  {
   "cell_type": "code",
   "execution_count": null,
   "metadata": {},
   "outputs": [],
   "source": [
    "#personas_con_target.to_csv('../../../../assets/silver/data_utilizada/personas_con_target.csv', index= False)"
   ]
  }
 ],
 "metadata": {
  "kernelspec": {
   "display_name": ".venv",
   "language": "python",
   "name": "python3"
  },
  "language_info": {
   "codemirror_mode": {
    "name": "ipython",
    "version": 3
   },
   "file_extension": ".py",
   "mimetype": "text/x-python",
   "name": "python",
   "nbconvert_exporter": "python",
   "pygments_lexer": "ipython3",
   "version": "3.11.9"
  }
 },
 "nbformat": 4,
 "nbformat_minor": 2
}

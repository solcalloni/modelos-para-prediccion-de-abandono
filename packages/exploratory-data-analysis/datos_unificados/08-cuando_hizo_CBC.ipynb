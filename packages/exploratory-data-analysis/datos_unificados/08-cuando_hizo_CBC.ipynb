{
 "cells": [
  {
   "cell_type": "code",
   "execution_count": null,
   "metadata": {},
   "outputs": [],
   "source": [
    "import sys\n",
    "sys.path.insert(0, '../')\n",
    "import pandas as pd\n",
    "import numpy as np\n",
    "import matplotlib.pyplot as plt\n",
    "import seaborn as sns"
   ]
  },
  {
   "cell_type": "code",
   "execution_count": null,
   "metadata": {},
   "outputs": [],
   "source": [
    "cbc = pd.read_csv('../../../assets/silver/CBC/cbc_en_fcen_con_cluster.csv')\n",
    "cbc.head(5)\n",
    "cbc.shape"
   ]
  },
  {
   "cell_type": "code",
   "execution_count": null,
   "metadata": {},
   "outputs": [],
   "source": [
    "cbc = cbc[cbc['cluster'] != 8]\n",
    "cbc.shape"
   ]
  },
  {
   "cell_type": "code",
   "execution_count": null,
   "metadata": {},
   "outputs": [],
   "source": [
    "cbc['Dni'] = cbc['Dni'].astype(str)\n",
    "cbc['Dni'].nunique()"
   ]
  },
  {
   "cell_type": "code",
   "execution_count": null,
   "metadata": {},
   "outputs": [],
   "source": [
    "cbc.dtypes"
   ]
  },
  {
   "cell_type": "code",
   "execution_count": null,
   "metadata": {},
   "outputs": [],
   "source": [
    "datos_personales = pd.read_csv('../../../assets/silver/data_utilizada/personas_con_target.csv')\n",
    "datos_personales.head(5)"
   ]
  },
  {
   "cell_type": "code",
   "execution_count": null,
   "metadata": {},
   "outputs": [],
   "source": [
    "datos_personales['dni'].nunique()"
   ]
  },
  {
   "cell_type": "code",
   "execution_count": null,
   "metadata": {},
   "outputs": [],
   "source": [
    "cbc"
   ]
  },
  {
   "cell_type": "code",
   "execution_count": 41,
   "metadata": {},
   "outputs": [],
   "source": [
    "cbc.rename(columns={'Dni': 'dni', 'Fecha': 'fecha'}, inplace=True)"
   ]
  },
  {
   "cell_type": "code",
   "execution_count": 42,
   "metadata": {},
   "outputs": [],
   "source": [
    "# Paso 0: Cargamos y aseguramos tipos\n",
    "datos_personales['año_inscripcion_facultad'] = datos_personales['año_inscripcion_facultad'].astype(int)\n",
    "cbc['cluster'] = cbc['cluster'].astype(int)\n",
    "cbc['fecha'] = pd.to_datetime(cbc['fecha'])\n",
    "\n",
    "# Paso 1: Verificamos clusters presentes por DNI\n",
    "clusters_por_dni = cbc.groupby('dni')['cluster'].agg(lambda x: set(x)).reset_index()\n",
    "clusters_por_dni['tiene_todos_los_clusters'] = clusters_por_dni['cluster'].apply(lambda x: set(range(1,7)).issubset(x))\n",
    "\n",
    "# Paso 2: Fecha mínima por DNI (para los de 2022 con todos los clusters)\n",
    "fecha_min_por_dni = cbc.groupby('dni')['fecha'].min().reset_index().rename(columns={'fecha': 'fecha_min'})\n",
    "\n",
    "# Paso 3: Merge con datos_personales\n",
    "df = datos_personales.merge(clusters_por_dni[['dni', 'tiene_todos_los_clusters']], on='dni', how='left')\n",
    "df = df.merge(fecha_min_por_dni, on='dni', how='left')\n",
    "\n",
    "# Paso 4: Asignar años estimados\n",
    "def calcular_años(row):\n",
    "    anio_insc = row['año_inscripcion_facultad']\n",
    "    tiene_todos = row['tiene_todos_los_clusters']\n",
    "    fecha_min = row['fecha_min']\n",
    "    \n",
    "    # Si no está en CBC (tiene_todos es NaN)\n",
    "    if pd.isna(tiene_todos):\n",
    "        return 2 if anio_insc == 2021 else 3\n",
    "    \n",
    "    if anio_insc == 2021:\n",
    "        return 1 if tiene_todos else 2\n",
    "    elif anio_insc == 2022:\n",
    "        if tiene_todos and not pd.isna(fecha_min):\n",
    "            return 2022 - fecha_min.year\n",
    "        else:\n",
    "            return 3\n",
    "    else:\n",
    "        return None  # por si hay años no contemplados\n",
    "\n",
    "df['años_estimados'] = df.apply(calcular_años, axis=1)"
   ]
  },
  {
   "cell_type": "code",
   "execution_count": null,
   "metadata": {},
   "outputs": [],
   "source": [
    "df"
   ]
  },
  {
   "cell_type": "code",
   "execution_count": null,
   "metadata": {},
   "outputs": [],
   "source": [
    "df['años_estimados'].value_counts()"
   ]
  },
  {
   "cell_type": "code",
   "execution_count": null,
   "metadata": {},
   "outputs": [],
   "source": [
    "df[df['años_estimados'] == 0]"
   ]
  },
  {
   "cell_type": "code",
   "execution_count": null,
   "metadata": {},
   "outputs": [],
   "source": [
    "# Obtener los conteos (incluyendo NaN)\n",
    "conteos = df['años_estimados'].value_counts(dropna=False).reset_index()\n",
    "conteos.columns = ['años_estimados', 'count']\n",
    "\n",
    "# Convertir NaN a string para que seaborn lo grafique\n",
    "conteos['años_estimados'] = conteos['años_estimados'].astype(str)\n",
    "\n",
    "# Crear barplot\n",
    "plt.figure(figsize=(6, 4))\n",
    "sns.barplot(data=conteos, x='años_estimados', y='count', palette='pastel')\n",
    "plt.title('Distribución de hace cuanto hizo el CBC')\n",
    "plt.xlabel('años_estimados')\n",
    "plt.ylabel('Cantidad')\n",
    "plt.tight_layout()\n",
    "plt.show()"
   ]
  },
  {
   "cell_type": "code",
   "execution_count": null,
   "metadata": {},
   "outputs": [],
   "source": [
    "# Obtener los conteos (incluyendo NaN)\n",
    "conteos = df['años_estimados'].value_counts(dropna=False).reset_index()\n",
    "conteos.columns = ['años_estimados', 'count']\n",
    "\n",
    "# Calcular proporciones\n",
    "total = conteos['count'].sum()\n",
    "conteos['proporcion'] = conteos['count'] / total\n",
    "\n",
    "# Convertir NaN a string para que seaborn lo grafique\n",
    "conteos['años_estimados'] = conteos['años_estimados'].astype(str)\n",
    "\n",
    "# Crear barplot con proporciones\n",
    "plt.figure(figsize=(6, 4))\n",
    "sns.barplot(data=conteos, x='años_estimados', y='proporcion', palette='pastel')\n",
    "plt.title('Distribución de hace cuanto hizo el CBC (Proporción)')\n",
    "plt.xlabel('años_estimados')\n",
    "plt.ylabel('Proporción')\n",
    "plt.tight_layout()\n",
    "plt.show()"
   ]
  },
  {
   "cell_type": "code",
   "execution_count": null,
   "metadata": {},
   "outputs": [],
   "source": [
    "# Agrupar y contar\n",
    "df_plot = (\n",
    "    df\n",
    "    .groupby(['años_estimados', 'target'])\n",
    "    .size()\n",
    "    .reset_index(name='count')\n",
    ")\n",
    "\n",
    "# Crear barplot\n",
    "plt.figure(figsize=(10, 6))\n",
    "sns.barplot(data=df_plot, x='años_estimados', y='count', hue='target')\n",
    "plt.title('Distribución de hace cuanto hizo el CBC por Cohorte')\n",
    "plt.xlabel('años_estimados')\n",
    "plt.ylabel('Cantidad')\n",
    "plt.legend(title='Target')\n",
    "plt.xticks(rotation=45)\n",
    "plt.tight_layout()\n",
    "plt.show()"
   ]
  },
  {
   "cell_type": "code",
   "execution_count": null,
   "metadata": {},
   "outputs": [],
   "source": [
    "# Paso 1: Conteo de cada (cohorte, target)\n",
    "conteos = (\n",
    "    df\n",
    "    .groupby(['años_estimados', 'target'])\n",
    "    .size()\n",
    "    .reset_index(name='count')\n",
    ")\n",
    "\n",
    "# Paso 2: Calcular proporciones por cohorte\n",
    "conteos['proporcion'] = (\n",
    "    conteos\n",
    "    .groupby('años_estimados')['count']\n",
    "    .transform(lambda x: x / x.sum())\n",
    ")\n",
    "\n",
    "# Paso 3: Plotear\n",
    "plt.figure(figsize=(10, 6))\n",
    "sns.barplot(data=conteos, x='años_estimados', y='proporcion', hue='target')\n",
    "plt.title('Proporcion de hace cuanto hizo el CBC por Cohorte')\n",
    "plt.xlabel('años_estimados')\n",
    "plt.ylabel('Proporción')\n",
    "plt.legend(title='Target')\n",
    "plt.xticks(rotation=45)\n",
    "plt.tight_layout()\n",
    "plt.show()\n"
   ]
  },
  {
   "cell_type": "code",
   "execution_count": null,
   "metadata": {},
   "outputs": [],
   "source": [
    "df = df[['dni', 'años_estimados']]\n",
    "df.rename(columns={'años_estimados': 'tiempo_desde_cbc'}, inplace=True)\n",
    "df.to_csv('../../../assets/silver/data_utilizada/tiempo_desde_cbc.csv', index=False)"
   ]
  },
  {
   "cell_type": "code",
   "execution_count": null,
   "metadata": {},
   "outputs": [],
   "source": [
    "df['dni'].nunique()"
   ]
  }
 ],
 "metadata": {
  "kernelspec": {
   "display_name": ".venv",
   "language": "python",
   "name": "python3"
  },
  "language_info": {
   "codemirror_mode": {
    "name": "ipython",
    "version": 3
   },
   "file_extension": ".py",
   "mimetype": "text/x-python",
   "name": "python",
   "nbconvert_exporter": "python",
   "pygments_lexer": "ipython3",
   "version": "3.11.9"
  }
 },
 "nbformat": 4,
 "nbformat_minor": 2
}

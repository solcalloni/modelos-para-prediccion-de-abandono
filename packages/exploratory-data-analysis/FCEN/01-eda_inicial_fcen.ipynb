{
 "cells": [
  {
   "cell_type": "code",
   "execution_count": null,
   "metadata": {},
   "outputs": [],
   "source": [
    "import sys\n",
    "sys.path.insert(0, '../')\n",
    "import pandas as pd\n",
    "import numpy as np\n",
    "import matplotlib.pyplot as plt\n",
    "import seaborn as sns\n",
    "from ydata_profiling import ProfileReport\n",
    "import io\n",
    "import tabulate\n",
    "import helpers_eda_inicial\n",
    "import helpers_cbc"
   ]
  },
  {
   "cell_type": "code",
   "execution_count": null,
   "metadata": {},
   "outputs": [],
   "source": [
    "cbc, df_carreras = helpers_cbc.get_data('../../../assets/bronze/CBC/Sitacad_Tesis (1).xlsx')\n",
    "actas = pd.read_csv('../../../assets/bronze/FCEN/FCEN_oficial_v2/reportes_actas.csv')\n",
    "personas = pd.read_csv('../../../assets/bronze/FCEN/FCEN_oficial_v3/reporte_personas.csv')"
   ]
  },
  {
   "cell_type": "code",
   "execution_count": null,
   "metadata": {},
   "outputs": [],
   "source": [
    "helpers_eda_inicial.dataset_profiling(cbc, 'CBC_v2')\n",
    "helpers_eda_inicial.dataset_profiling(actas, 'Actas_v2')\n",
    "helpers_eda_inicial.dataset_profiling(personas, 'Personas_v3')"
   ]
  },
  {
   "cell_type": "code",
   "execution_count": null,
   "metadata": {},
   "outputs": [],
   "source": [
    "helpers_eda_inicial.initial_eda(cbc, 'CBC')"
   ]
  },
  {
   "cell_type": "code",
   "execution_count": null,
   "metadata": {},
   "outputs": [],
   "source": [
    "helpers_eda_inicial.initial_eda(actas, 'Actas')"
   ]
  },
  {
   "cell_type": "code",
   "execution_count": null,
   "metadata": {},
   "outputs": [],
   "source": [
    "helpers_eda_inicial.initial_eda(personas, 'Personas')"
   ]
  },
  {
   "cell_type": "markdown",
   "metadata": {},
   "source": [
    "# Se conectan bien?"
   ]
  },
  {
   "cell_type": "code",
   "execution_count": null,
   "metadata": {},
   "outputs": [],
   "source": [
    "cbc['Dni'].nunique()"
   ]
  },
  {
   "cell_type": "code",
   "execution_count": null,
   "metadata": {},
   "outputs": [],
   "source": [
    "actas['dni'].nunique()"
   ]
  },
  {
   "cell_type": "code",
   "execution_count": null,
   "metadata": {},
   "outputs": [],
   "source": [
    "personas['dni'].nunique()"
   ]
  },
  {
   "cell_type": "markdown",
   "metadata": {},
   "source": [
    "convierto los dni en numero"
   ]
  },
  {
   "cell_type": "code",
   "execution_count": null,
   "metadata": {},
   "outputs": [],
   "source": [
    "cbc['Dni'] = cbc['Dni'].astype(str)"
   ]
  },
  {
   "cell_type": "code",
   "execution_count": null,
   "metadata": {},
   "outputs": [],
   "source": [
    "np.isin(cbc['Dni'].unique(), actas['dni'].unique()).sum()"
   ]
  },
  {
   "cell_type": "code",
   "execution_count": null,
   "metadata": {},
   "outputs": [],
   "source": [
    "np.isin(cbc['Dni'].unique(), personas['dni'].unique()).sum()"
   ]
  },
  {
   "cell_type": "code",
   "execution_count": null,
   "metadata": {},
   "outputs": [],
   "source": [
    "np.isin(actas['dni'].unique(), personas['dni'].unique()).sum()"
   ]
  },
  {
   "cell_type": "markdown",
   "metadata": {},
   "source": [
    "Todas las actas se conectan con alguna persona (es raro que el dni no lo pude pasar a int)"
   ]
  },
  {
   "cell_type": "code",
   "execution_count": null,
   "metadata": {},
   "outputs": [],
   "source": [
    "personas['dni'] = personas['dni'].astype(str)\n",
    "# Largo de cada string\n",
    "personas['longitud'] = personas['dni'].str.len()\n",
    "# Estadísticas descriptivas\n",
    "print(personas['longitud'].describe())"
   ]
  },
  {
   "cell_type": "code",
   "execution_count": null,
   "metadata": {},
   "outputs": [],
   "source": [
    "%matplotlib inline\n",
    "# Graficar la distribución de longitudes\n",
    "personas['longitud'].value_counts().sort_index().plot(kind='bar')\n",
    "\n",
    "# Agregar títulos si querés\n",
    "plt.title(\"Distribución de cantidad de caracteres por celda\")\n",
    "plt.xlabel(\"Cantidad de caracteres\")\n",
    "plt.ylabel(\"Frecuencia\")\n",
    "plt.grid(True)\n",
    "plt.show()"
   ]
  },
  {
   "cell_type": "code",
   "execution_count": null,
   "metadata": {},
   "outputs": [],
   "source": [
    "personas[personas['longitud'] !=8]['dni'].unique()"
   ]
  },
  {
   "cell_type": "code",
   "execution_count": null,
   "metadata": {},
   "outputs": [],
   "source": [
    "personas.drop(columns=['longitud'], inplace=True)"
   ]
  },
  {
   "cell_type": "markdown",
   "metadata": {},
   "source": [
    "# Nulos en la columna Nota"
   ]
  },
  {
   "cell_type": "markdown",
   "metadata": {},
   "source": [
    "Si en resultado hay ‘Ausente’ es el único caso donde Nota tiene el valor nulo"
   ]
  },
  {
   "cell_type": "code",
   "execution_count": null,
   "metadata": {},
   "outputs": [],
   "source": [
    "actas['nota'].isna().sum()"
   ]
  },
  {
   "cell_type": "code",
   "execution_count": null,
   "metadata": {},
   "outputs": [],
   "source": [
    "actas[actas['nota'].isna()]['resultado'].unique()"
   ]
  },
  {
   "cell_type": "code",
   "execution_count": null,
   "metadata": {},
   "outputs": [],
   "source": [
    "actas[actas['resultado'] == 'Ausente']['nota'].unique()"
   ]
  },
  {
   "cell_type": "code",
   "execution_count": null,
   "metadata": {},
   "outputs": [],
   "source": [
    "actas[actas['resultado'] == 'Ausente']['nota'].isna().sum()"
   ]
  },
  {
   "cell_type": "markdown",
   "metadata": {},
   "source": [
    "Vemos los valores posibles"
   ]
  },
  {
   "cell_type": "code",
   "execution_count": null,
   "metadata": {},
   "outputs": [],
   "source": [
    "actas['nota'].unique()"
   ]
  },
  {
   "cell_type": "markdown",
   "metadata": {},
   "source": [
    "vemos los datos según el tipo de acta"
   ]
  },
  {
   "cell_type": "code",
   "execution_count": null,
   "metadata": {},
   "outputs": [],
   "source": [
    "actas[actas['tipo_acta'] == 'Acta de Examen']['nota'].value_counts(dropna=False)"
   ]
  },
  {
   "cell_type": "markdown",
   "metadata": {},
   "source": [
    "Me llama la atención los casos donde no hay nota numerica, los miro"
   ]
  },
  {
   "cell_type": "code",
   "execution_count": null,
   "metadata": {},
   "outputs": [],
   "source": [
    "actas[(actas['tipo_acta'] == 'Acta de Examen') & (actas['nota'] == 'Aprob.')]"
   ]
  },
  {
   "cell_type": "markdown",
   "metadata": {},
   "source": [
    "Hay muchos de Exactas Programa, la nota de examen final no era numerica"
   ]
  },
  {
   "cell_type": "code",
   "execution_count": null,
   "metadata": {},
   "outputs": [],
   "source": [
    "actas[(actas['materia'] == 'Exactas Programa')]['nota'].value_counts(dropna=False)"
   ]
  },
  {
   "cell_type": "code",
   "execution_count": null,
   "metadata": {},
   "outputs": [],
   "source": [
    "actas[(actas['materia'] == 'Exactas Programa') & (actas['nota'] == 'Aprob.')]['tipo_acta'].unique()"
   ]
  },
  {
   "cell_type": "code",
   "execution_count": null,
   "metadata": {},
   "outputs": [],
   "source": [
    "actas[(actas['materia'] == 'Exactas Programa') & (actas['nota'] == 'No Aprob.')]['tipo_acta'].unique()"
   ]
  },
  {
   "cell_type": "code",
   "execution_count": null,
   "metadata": {},
   "outputs": [],
   "source": [
    "actas[(actas['materia'] == 'Exactas Programa') & (actas['nota'] == 'No Aprob.')]['fecha'].unique()"
   ]
  },
  {
   "cell_type": "code",
   "execution_count": null,
   "metadata": {},
   "outputs": [],
   "source": [
    "actas[(actas['materia'] == 'Exactas Programa') & (actas['nota'] == 'Aprob.')]['fecha'].unique()"
   ]
  },
  {
   "cell_type": "markdown",
   "metadata": {},
   "source": [
    "Hay otras materias donde hacen lo mismo"
   ]
  },
  {
   "cell_type": "code",
   "execution_count": null,
   "metadata": {},
   "outputs": [],
   "source": [
    "actas[(actas['tipo_acta'] == 'Acta de Examen') & (actas['nota'] == 'Aprob.')]['materia'].unique()"
   ]
  },
  {
   "cell_type": "code",
   "execution_count": null,
   "metadata": {},
   "outputs": [],
   "source": [
    "actas[(actas['tipo_acta'] == 'Acta de Examen') & (actas['materia'] == 'Introducción a la Biología Molecular y Celular') & (actas['nota'] == 'Aprob.')]"
   ]
  },
  {
   "cell_type": "code",
   "execution_count": null,
   "metadata": {},
   "outputs": [],
   "source": [
    "actas[(actas['tipo_acta'] == 'Acta de Examen') & (actas['materia'] == 'Sensores Remotos y su Aplicación en Geología') & (actas['nota'] == 'Aprob.')]"
   ]
  },
  {
   "cell_type": "code",
   "execution_count": null,
   "metadata": {},
   "outputs": [],
   "source": [
    "actas[(actas['tipo_acta'] == 'Acta de Examen') & (actas['nota'] == 'Sobresalie')]"
   ]
  },
  {
   "cell_type": "markdown",
   "metadata": {},
   "source": [
    "Si vemos las actas de TP"
   ]
  },
  {
   "cell_type": "code",
   "execution_count": null,
   "metadata": {},
   "outputs": [],
   "source": [
    "actas[actas['tipo_acta'] == 'Acta de Regulares/Promociones']['nota'].value_counts()"
   ]
  },
  {
   "cell_type": "markdown",
   "metadata": {},
   "source": [
    "Vemos unos pocos casos donde se asignaron valores numericos"
   ]
  },
  {
   "cell_type": "code",
   "execution_count": null,
   "metadata": {},
   "outputs": [],
   "source": [
    "actas[(actas['tipo_acta'] == 'Acta de Regulares/Promociones') & ((actas['nota'] == '10') | (actas['nota'] == '9'))]"
   ]
  },
  {
   "cell_type": "markdown",
   "metadata": {},
   "source": [
    "# Cantidad de materias y carreras distintas y cuales son"
   ]
  },
  {
   "cell_type": "code",
   "execution_count": null,
   "metadata": {},
   "outputs": [],
   "source": [
    "# imprimo actas['materia'].value_counts() como markdown\n",
    "print(tabulate.tabulate(actas['materia'].value_counts().reset_index(), headers=['Materia', 'Cantidad'], tablefmt='markdown'))"
   ]
  },
  {
   "cell_type": "code",
   "execution_count": null,
   "metadata": {},
   "outputs": [],
   "source": [
    "actas['carrera'].unique()"
   ]
  },
  {
   "cell_type": "markdown",
   "metadata": {},
   "source": [
    "# Analizo las fechas"
   ]
  },
  {
   "cell_type": "markdown",
   "metadata": {},
   "source": [
    "Hay actas que son antes del 2020, eso por qué podría ser?"
   ]
  },
  {
   "cell_type": "code",
   "execution_count": null,
   "metadata": {},
   "outputs": [],
   "source": [
    "actas['fecha'].min()"
   ]
  },
  {
   "cell_type": "code",
   "execution_count": null,
   "metadata": {},
   "outputs": [],
   "source": [
    "actas[actas['fecha'] < '2020-01-01']"
   ]
  },
  {
   "cell_type": "markdown",
   "metadata": {},
   "source": [
    "# Valores posibles de carrera principal"
   ]
  },
  {
   "cell_type": "code",
   "execution_count": null,
   "metadata": {},
   "outputs": [],
   "source": [
    "personas['carrera_principal'].unique()"
   ]
  },
  {
   "cell_type": "code",
   "execution_count": null,
   "metadata": {},
   "outputs": [],
   "source": [
    "np.isin(actas['carrera'].unique(), personas['carrera_principal'].unique()).sum()"
   ]
  },
  {
   "cell_type": "code",
   "execution_count": null,
   "metadata": {},
   "outputs": [],
   "source": [
    "actas['carrera'][~actas['carrera'].isin(personas['carrera_principal'].unique())].value_counts()"
   ]
  },
  {
   "cell_type": "markdown",
   "metadata": {},
   "source": [
    "# Los posibles niveles de estudio coinciden"
   ]
  },
  {
   "cell_type": "code",
   "execution_count": null,
   "metadata": {},
   "outputs": [],
   "source": [
    "np.isin(personas['nivel_estudio_madre'].unique(), personas['nivel_estudio_padre'].unique()).sum()"
   ]
  },
  {
   "cell_type": "code",
   "execution_count": null,
   "metadata": {},
   "outputs": [],
   "source": [
    "personas['nivel_estudio_madre'].nunique()"
   ]
  },
  {
   "cell_type": "code",
   "execution_count": null,
   "metadata": {},
   "outputs": [],
   "source": [
    "personas['nivel_estudio_padre'].nunique()"
   ]
  },
  {
   "cell_type": "markdown",
   "metadata": {},
   "source": [
    "# Tengo casos de riesgo de abandono registrados?"
   ]
  },
  {
   "cell_type": "code",
   "execution_count": null,
   "metadata": {},
   "outputs": [],
   "source": [
    "actas"
   ]
  },
  {
   "cell_type": "markdown",
   "metadata": {},
   "source": [
    "agrego columna del año y mes en que rindió."
   ]
  },
  {
   "cell_type": "code",
   "execution_count": null,
   "metadata": {},
   "outputs": [],
   "source": [
    "actas['fecha'] = pd.to_datetime(actas['fecha'], format='%Y-%m-%d')"
   ]
  },
  {
   "cell_type": "code",
   "execution_count": null,
   "metadata": {},
   "outputs": [],
   "source": [
    "# Supongamos que tu DataFrame se llama df y la columna de fechas se llama 'fecha'\n",
    "actas['año'] = actas['fecha'].dt.year\n",
    "actas['mes'] = actas['fecha'].dt.month"
   ]
  },
  {
   "cell_type": "code",
   "execution_count": null,
   "metadata": {},
   "outputs": [],
   "source": [
    "actas['semestre'] = np.where(actas['mes'] <= 6, 1, 2)"
   ]
  },
  {
   "cell_type": "code",
   "execution_count": null,
   "metadata": {},
   "outputs": [],
   "source": [
    "actas['semestre'].value_counts()"
   ]
  },
  {
   "cell_type": "code",
   "execution_count": null,
   "metadata": {},
   "outputs": [],
   "source": [
    "# Crear columna de periodo tipo entero para fácil comparación: 2020-1 -> 20201, 2020-2 -> 20202, etc.\n",
    "actas['periodo_int'] = actas['año'] * 10 + actas['semestre']\n",
    "\n",
    "# Función para contar si falta algún semestre\n",
    "def tiene_periodos_faltantes(grupo):\n",
    "    periodos = sorted(grupo['periodo_int'].unique())\n",
    "    inicio = periodos[0]\n",
    "    fin = periodos[-1]\n",
    "    # Crear lista esperada de periodos semestrales (ej: 20201, 20202, 20211, ...)\n",
    "    esperados = []\n",
    "    año = inicio // 10\n",
    "    semestre = inicio % 10\n",
    "    while año * 10 + semestre <= fin:\n",
    "        esperados.append(año * 10 + semestre)\n",
    "        # avanzar al siguiente semestre\n",
    "        if semestre == 1:\n",
    "            semestre = 2\n",
    "        else:\n",
    "            semestre = 1\n",
    "            año += 1\n",
    "    return len(set(esperados) - set(periodos)) > 0\n",
    "\n",
    "# Aplicar por persona\n",
    "faltantes = actas.groupby('dni').apply(tiene_periodos_faltantes)\n",
    "\n",
    "# Filtrar personas que tienen faltantes\n",
    "personas_con_faltantes = faltantes[faltantes].index\n",
    "\n",
    "# Ver cuántas son\n",
    "print(f\"Cantidad de personas con al menos un semestre faltante: {len(personas_con_faltantes)}\")\n"
   ]
  },
  {
   "cell_type": "markdown",
   "metadata": {},
   "source": [
    "Si hago esto mismo con datos de actas de 2020 y 2021"
   ]
  },
  {
   "cell_type": "code",
   "execution_count": null,
   "metadata": {},
   "outputs": [],
   "source": [
    "# Función para contar si falta algún semestre\n",
    "def tiene_periodos_faltantes(grupo):\n",
    "    periodos = sorted(grupo['periodo_int'].unique())\n",
    "    inicio = periodos[0]\n",
    "    fin = periodos[-1]\n",
    "    # Crear lista esperada de periodos semestrales (ej: 20201, 20202, 20211, ...)\n",
    "    esperados = []\n",
    "    año = inicio // 10\n",
    "    semestre = inicio % 10\n",
    "    while año * 10 + semestre <= fin:\n",
    "        esperados.append(año * 10 + semestre)\n",
    "        # avanzar al siguiente semestre\n",
    "        if semestre == 1:\n",
    "            semestre = 2\n",
    "        else:\n",
    "            semestre = 1\n",
    "            año += 1\n",
    "    return len(set(esperados) - set(periodos)) > 0\n",
    "\n",
    "#me quedo con actas de 2020 y 2021\n",
    "actas_2020_2021 = actas[(actas['año'] == 2020) | (actas['año'] == 2021)]\n",
    "\n",
    "# Aplicar por persona\n",
    "faltantes_2020_2021 = actas_2020_2021.groupby('dni').apply(tiene_periodos_faltantes)\n",
    "\n",
    "# Filtrar personas que tienen faltantes\n",
    "personas_con_faltantes_2020_2021 = faltantes_2020_2021[faltantes_2020_2021].index\n",
    "\n",
    "# Ver cuántas son\n",
    "print(f\"Cantidad de personas con al menos un semestre faltante: {len(personas_con_faltantes_2020_2021)}\")\n"
   ]
  },
  {
   "cell_type": "code",
   "execution_count": null,
   "metadata": {},
   "outputs": [],
   "source": [
    "actas_2020_2021['dni'].nunique()"
   ]
  },
  {
   "cell_type": "code",
   "execution_count": null,
   "metadata": {},
   "outputs": [],
   "source": [
    "361*100/2537"
   ]
  },
  {
   "cell_type": "markdown",
   "metadata": {},
   "source": [
    "Con todo esto, tampoco estamos considerando el cbc, en principio vamos a trabajar solamente con los datos que tienen el historial del cbc"
   ]
  },
  {
   "cell_type": "code",
   "execution_count": null,
   "metadata": {},
   "outputs": [],
   "source": [
    "en_cbc = cbc['Dni'].unique()"
   ]
  },
  {
   "cell_type": "code",
   "execution_count": null,
   "metadata": {},
   "outputs": [],
   "source": [
    "actas_con_cbc = actas[actas['dni'].isin(en_cbc)]\n",
    "personas_con_cbc = personas[personas['dni'].isin(en_cbc)]"
   ]
  },
  {
   "cell_type": "code",
   "execution_count": null,
   "metadata": {},
   "outputs": [],
   "source": [
    "actas.shape"
   ]
  },
  {
   "cell_type": "code",
   "execution_count": null,
   "metadata": {},
   "outputs": [],
   "source": [
    "actas_con_cbc['dni'].nunique()"
   ]
  },
  {
   "cell_type": "code",
   "execution_count": null,
   "metadata": {},
   "outputs": [],
   "source": [
    "personas_con_cbc_y_actas = personas[personas['dni'].isin(actas_con_cbc['dni'].unique())]"
   ]
  },
  {
   "cell_type": "code",
   "execution_count": null,
   "metadata": {},
   "outputs": [],
   "source": [
    "personas_con_cbc.shape"
   ]
  },
  {
   "cell_type": "code",
   "execution_count": null,
   "metadata": {},
   "outputs": [],
   "source": [
    "personas_con_cbc_y_actas.shape"
   ]
  },
  {
   "cell_type": "code",
   "execution_count": null,
   "metadata": {},
   "outputs": [],
   "source": [
    "# Función para contar si falta algún semestre\n",
    "def tiene_periodos_faltantes(grupo):\n",
    "    periodos = sorted(grupo['periodo_int'].unique())\n",
    "    inicio = periodos[0]\n",
    "    fin = periodos[-1]\n",
    "    # Crear lista esperada de periodos semestrales (ej: 20201, 20202, 20211, ...)\n",
    "    esperados = []\n",
    "    año = inicio // 10\n",
    "    semestre = inicio % 10\n",
    "    while año * 10 + semestre <= fin:\n",
    "        esperados.append(año * 10 + semestre)\n",
    "        # avanzar al siguiente semestre\n",
    "        if semestre == 1:\n",
    "            semestre = 2\n",
    "        else:\n",
    "            semestre = 1\n",
    "            año += 1\n",
    "    return len(set(esperados) - set(periodos)) > 0\n",
    "\n",
    "#me quedo con actas de 2020 y 2021\n",
    "actas_2020_2021 = actas_con_cbc[(actas_con_cbc['año'] == 2020) | (actas_con_cbc['año'] == 2021) | (actas_con_cbc['año'] == 2022)]\n",
    "\n",
    "# Aplicar por persona\n",
    "faltantes_2020_2021 = actas_2020_2021.groupby('dni').apply(tiene_periodos_faltantes)\n",
    "\n",
    "# Filtrar personas que tienen faltantes\n",
    "personas_con_faltantes_2020_2021 = faltantes_2020_2021[faltantes_2020_2021].index\n",
    "\n",
    "# Ver cuántas son\n",
    "print(f\"Cantidad de personas con al menos un semestre faltante: {len(personas_con_faltantes_2020_2021)}\")"
   ]
  },
  {
   "cell_type": "code",
   "execution_count": null,
   "metadata": {},
   "outputs": [],
   "source": [
    "actas_2020_2021.shape"
   ]
  },
  {
   "cell_type": "code",
   "execution_count": null,
   "metadata": {},
   "outputs": [],
   "source": [
    "actas_con_cbc['nota'].value_counts(dropna=False)"
   ]
  },
  {
   "cell_type": "code",
   "execution_count": null,
   "metadata": {},
   "outputs": [],
   "source": [
    "actas_con_cbc[actas_con_cbc['nota'].isna()]['tipo_acta'].unique()"
   ]
  },
  {
   "cell_type": "code",
   "execution_count": null,
   "metadata": {},
   "outputs": [],
   "source": [
    "# Función para contar si falta algún semestre\n",
    "def tiene_periodos_faltantes(grupo):\n",
    "    periodos = sorted(grupo['periodo_int'].unique())\n",
    "    inicio = periodos[0]\n",
    "    fin = periodos[-1]\n",
    "    # Crear lista esperada de periodos semestrales (ej: 20201, 20202, 20211, ...)\n",
    "    esperados = []\n",
    "    año = inicio // 10\n",
    "    semestre = inicio % 10\n",
    "    while año * 10 + semestre <= fin:\n",
    "        esperados.append(año * 10 + semestre)\n",
    "        # avanzar al siguiente semestre\n",
    "        if semestre == 1:\n",
    "            semestre = 2\n",
    "        else:\n",
    "            semestre = 1\n",
    "            año += 1\n",
    "    return len(set(esperados) - set(periodos)) > 0\n",
    "\n",
    "#me quedo con actas de 2020 y 2021\n",
    "actas_2020_2021 = actas_con_cbc[(actas_con_cbc['año'] == 2020) | (actas_con_cbc['año'] == 2021) | (actas_con_cbc['año'] == 2022)]\n",
    "\n",
    "# Aplicar por persona\n",
    "faltantes_2020_2021 = actas_2020_2021.groupby('dni').apply(tiene_periodos_faltantes)\n",
    "\n",
    "# Filtrar personas que tienen faltantes\n",
    "personas_con_faltantes_2020_2021 = faltantes_2020_2021[faltantes_2020_2021].index\n",
    "\n",
    "# Ver cuántas son\n",
    "print(f\"Cantidad de personas con al menos un semestre faltante: {len(personas_con_faltantes_2020_2021)}\")"
   ]
  },
  {
   "cell_type": "code",
   "execution_count": null,
   "metadata": {},
   "outputs": [],
   "source": [
    "# Agrupamos por DNI y Materia\n",
    "grupo = actas_con_cbc.groupby(['dni', 'materia'])\n",
    "\n",
    "# Creamos una función que nos diga si tiene ambas actas y en años distintos\n",
    "def tiene_ambas_actas_distinto_anio(df_grupo):\n",
    "    actas = df_grupo['tipo_acta'].unique()\n",
    "    if 'Acta de Regulares/Promociones' in actas and 'Acta de Examen' in actas:\n",
    "        anios_regulares = df_grupo[df_grupo['tipo_acta'] == 'Acta de Regulares/Promociones']['año'].unique()\n",
    "        anios_examen = df_grupo[df_grupo['tipo_acta'] == 'Acta de Examen']['año'].unique()\n",
    "        return any(a != b for a in anios_regulares for b in anios_examen)\n",
    "    return False\n",
    "\n",
    "# Aplicamos la función al grupo\n",
    "resultado = grupo.filter(tiene_ambas_actas_distinto_anio)\n",
    "\n",
    "# Contamos cuántas personas únicas tienen esta situación\n",
    "cantidad_personas = resultado[['dni', 'materia']].drop_duplicates()['dni'].nunique()\n",
    "\n",
    "print(f'Cantidad de personas con ambas actas en años distintos: {cantidad_personas}')\n"
   ]
  },
  {
   "cell_type": "code",
   "execution_count": null,
   "metadata": {},
   "outputs": [],
   "source": [
    "# Suponiendo que tenés las columnas: 'DNI', 'Materia', 'Acta', 'Año', 'Semestre'\n",
    "df = actas_con_cbc.copy()\n",
    "# Creamos una columna para ordenar los periodos (ej: 2023-S1 → 20231, 2023-S2 → 20232)\n",
    "df['periodo'] = df['año'].astype(str) + df['semestre'].astype(str)\n",
    "df['periodo_ordenado'] = df['año'] * 2 + df['semestre'].replace({1: 0, 2: 1})  # 2023-S1 → 4046, 2023-S2 → 4047\n",
    "\n",
    "# Nos quedamos solo con actas relevantes\n",
    "df_filtrado = df[df['tipo_acta'].isin(['Acta de Regulares/Promociones', 'Acta de Examen'])]\n",
    "\n",
    "# Agrupamos por DNI y Materia\n",
    "grupo = df_filtrado.groupby(['dni', 'materia'])\n",
    "\n",
    "# Función para chequear si hay una diferencia de un semestre entre actas\n",
    "def semestre_de_diferencia(df_grupo):\n",
    "    df_r = df_grupo[df_grupo['tipo_acta'] == 'Acta de Regulares/Promociones']\n",
    "    df_e = df_grupo[df_grupo['tipo_acta'] == 'Acta de Examen']\n",
    "    \n",
    "    for pr in df_r['periodo_ordenado']:\n",
    "        for pe in df_e['periodo_ordenado']:\n",
    "            if abs(pe - pr) >= 1:  # diferencia de un semestre\n",
    "                return True\n",
    "    return False\n",
    "\n",
    "# Aplicamos el filtro\n",
    "resultado = grupo.filter(semestre_de_diferencia)\n",
    "\n",
    "# Obtenemos personas y materias únicas\n",
    "personas_con_semestre_diferencia = resultado[['dni', 'materia']].drop_duplicates()\n",
    "\n",
    "# Cantidad\n",
    "cantidad = personas_con_semestre_diferencia['dni'].nunique()\n",
    "\n",
    "print(f'Cantidad de personas que rinden con un semestre de diferencia: {cantidad}')"
   ]
  },
  {
   "cell_type": "markdown",
   "metadata": {},
   "source": [
    "### Analisis para nuevas opciones\n",
    "\n",
    "- Dado cada alumno, calcular cuantas materias aprobó en los cuatrimestres 0....6  donde el cuatrimestre 0 es el 1er cuatrimestre que cursó.\n",
    "\n",
    "- Luego sumarizar 7 bins donde cada bin tiene la cantidad de materias aprobadas en el cuatrimestre_i\n",
    "\n",
    "Si surge algo interesante podría compararse esta pendiente con la pendiente de un alumno como variable target.\n",
    "\n",
    "* Luego sumarizar para cada bin_i la cantidad de materias aprobadas por todos los alumnos en el cuatrimestre_i\n",
    "Eso va a calcular una pendiente empírica (imagino que descendiente) capturando el comportamiento promedio"
   ]
  },
  {
   "cell_type": "code",
   "execution_count": null,
   "metadata": {},
   "outputs": [],
   "source": [
    "actas['resultado'].unique()"
   ]
  },
  {
   "cell_type": "code",
   "execution_count": null,
   "metadata": {},
   "outputs": [],
   "source": [
    "actas['resultado'].value_counts(dropna=False)"
   ]
  },
  {
   "cell_type": "code",
   "execution_count": null,
   "metadata": {},
   "outputs": [],
   "source": [
    "actas.columns"
   ]
  },
  {
   "cell_type": "code",
   "execution_count": null,
   "metadata": {},
   "outputs": [],
   "source": [
    "# Ordenamos y asignamos el cuatrimestre relativo (0, 1, 2, ...) por alumno\n",
    "actas = actas.sort_values(['dni', 'periodo_int'])\n",
    "actas['cuatrimestre_relativo'] = actas.groupby('dni')['periodo_int'].rank(method='dense').astype(int) - 1"
   ]
  },
  {
   "cell_type": "code",
   "execution_count": null,
   "metadata": {},
   "outputs": [],
   "source": [
    "actas"
   ]
  },
  {
   "cell_type": "markdown",
   "metadata": {},
   "source": [
    "Tiene completo sentido que vaya en bajada porque de 2020 a 2024, todos tienen un \"primer cuatrimestre\" pero no todos llegaron a tener un segundo, tercer, cuarto, etc, cuatrimestre."
   ]
  },
  {
   "cell_type": "code",
   "execution_count": null,
   "metadata": {},
   "outputs": [],
   "source": [
    "# Paso 2: Filtrar solo aprobados\n",
    "actas_aprobados = actas[actas['resultado'] == 'Aprobado']\n",
    "\n",
    "# Paso 3: Contar aprobadas por alumno y cuatrimestre relativo\n",
    "aprobados_por_alumno = actas_aprobados.groupby(['dni', 'cuatrimestre_relativo']).size().reset_index(name='cantidad_aprobadas')\n",
    "\n",
    "# Paso 4: Sumarizar por cuatrimestre relativo total (lo que llamás bin_i)\n",
    "aprobados_totales_por_cuatrimestre = aprobados_por_alumno.groupby('cuatrimestre_relativo')['cantidad_aprobadas'].sum().reset_index()\n",
    "\n",
    "# Resultado final\n",
    "print(aprobados_totales_por_cuatrimestre)"
   ]
  },
  {
   "cell_type": "code",
   "execution_count": null,
   "metadata": {},
   "outputs": [],
   "source": [
    "# Graficar histograma (en realidad es un gráfico de barras porque son categorías discretas)\n",
    "plt.figure(figsize=(8, 5))\n",
    "plt.bar(aprobados_totales_por_cuatrimestre['cuatrimestre_relativo'],\n",
    "        aprobados_totales_por_cuatrimestre['cantidad_aprobadas'],\n",
    "        color='skyblue')\n",
    "\n",
    "plt.title('Total de Materias Aprobadas por Cuatrimestre Relativo')\n",
    "plt.xlabel('Cuatrimestre Relativo')\n",
    "plt.ylabel('Cantidad de Aprobaciones')\n",
    "plt.xticks(aprobados_totales_por_cuatrimestre['cuatrimestre_relativo'])\n",
    "plt.grid(axis='y', linestyle='--', alpha=0.7)\n",
    "plt.tight_layout()\n",
    "plt.show()"
   ]
  },
  {
   "cell_type": "markdown",
   "metadata": {},
   "source": [
    "Quiero eso mismo pero por año de inscripción"
   ]
  },
  {
   "cell_type": "code",
   "execution_count": null,
   "metadata": {},
   "outputs": [],
   "source": [
    "anio_inscripcion = personas[['dni', 'año_inscripcion_facultad']]"
   ]
  },
  {
   "cell_type": "code",
   "execution_count": null,
   "metadata": {},
   "outputs": [],
   "source": [
    "actas_con_anio_inscripcion = pd.merge(actas, anio_inscripcion, left_on='dni', right_on='dni', how='left')"
   ]
  },
  {
   "cell_type": "code",
   "execution_count": null,
   "metadata": {},
   "outputs": [],
   "source": [
    "inscriptos_2020 = actas_con_anio_inscripcion[actas_con_anio_inscripcion['año_inscripcion_facultad'] == 2020]\n",
    "# Paso 2: Filtrar solo aprobados\n",
    "actas_aprobados = inscriptos_2020[(inscriptos_2020['resultado'] == 'Aprobado') & (inscriptos_2020['tipo_acta'] == 'Acta de Examen')]\n",
    "\n",
    "# Paso 3: Contar aprobadas por alumno y cuatrimestre relativo\n",
    "aprobados_por_alumno = actas_aprobados.groupby(['dni', 'cuatrimestre_relativo']).size().reset_index(name='cantidad_aprobadas')\n",
    "\n",
    "# Paso 4: Sumarizar por cuatrimestre relativo total (lo que llamás bin_i)\n",
    "aprobados_totales_por_cuatrimestre = aprobados_por_alumno.groupby('cuatrimestre_relativo')['cantidad_aprobadas'].sum().reset_index()\n",
    "\n",
    "# Resultado final\n",
    "print(aprobados_totales_por_cuatrimestre)\n",
    "# Graficar histograma (en realidad es un gráfico de barras porque son categorías discretas)\n",
    "plt.figure(figsize=(8, 5))\n",
    "plt.bar(aprobados_totales_por_cuatrimestre['cuatrimestre_relativo'],\n",
    "        aprobados_totales_por_cuatrimestre['cantidad_aprobadas'],\n",
    "        color='skyblue')\n",
    "\n",
    "plt.title('Total de Materias Aprobadas por Cuatrimestre Relativo')\n",
    "plt.xlabel('Cuatrimestre Relativo')\n",
    "plt.ylabel('Cantidad de Aprobaciones')\n",
    "plt.xticks(aprobados_totales_por_cuatrimestre['cuatrimestre_relativo'])\n",
    "plt.grid(axis='y', linestyle='--', alpha=0.7)\n",
    "plt.tight_layout()\n",
    "plt.show()"
   ]
  },
  {
   "cell_type": "code",
   "execution_count": null,
   "metadata": {},
   "outputs": [],
   "source": [
    "frecuencia = aprobados_por_alumno.groupby(['cuatrimestre_relativo', 'cantidad_aprobadas']) \\\n",
    "    .size().unstack(fill_value=0)\n",
    "\n",
    "plt.figure(figsize=(12, 6))\n",
    "sns.heatmap(frecuencia.T, cmap='YlGnBu', annot=True, fmt='d', cbar_kws={'label': 'Cantidad de Alumnos'})\n",
    "\n",
    "plt.title('Distribución de Materias Aprobadas por Cuatrimestre Relativo')\n",
    "plt.xlabel('Cuatrimestre Relativo')\n",
    "plt.ylabel('Materias Aprobadas')\n",
    "plt.tight_layout()\n",
    "plt.show()"
   ]
  },
  {
   "cell_type": "code",
   "execution_count": null,
   "metadata": {},
   "outputs": [],
   "source": [
    "inscriptos_2021 = actas_con_anio_inscripcion[actas_con_anio_inscripcion['año_inscripcion_facultad'] == 2021]\n",
    "# Paso 2: Filtrar solo aprobados\n",
    "actas_aprobados = inscriptos_2021[(inscriptos_2021['resultado'] == 'Aprobado') & (inscriptos_2021['tipo_acta'] == 'Acta de Examen')]\n",
    "\n",
    "# Paso 3: Contar aprobadas por alumno y cuatrimestre relativo\n",
    "aprobados_por_alumno = actas_aprobados.groupby(['dni', 'cuatrimestre_relativo']).size().reset_index(name='cantidad_aprobadas')\n",
    "\n",
    "# Paso 4: Sumarizar por cuatrimestre relativo total (lo que llamás bin_i)\n",
    "aprobados_totales_por_cuatrimestre = aprobados_por_alumno.groupby('cuatrimestre_relativo')['cantidad_aprobadas'].sum().reset_index()\n",
    "\n",
    "# Resultado final\n",
    "print(aprobados_totales_por_cuatrimestre)\n",
    "# Graficar histograma (en realidad es un gráfico de barras porque son categorías discretas)\n",
    "plt.figure(figsize=(8, 5))\n",
    "plt.bar(aprobados_totales_por_cuatrimestre['cuatrimestre_relativo'],\n",
    "        aprobados_totales_por_cuatrimestre['cantidad_aprobadas'],\n",
    "        color='skyblue')\n",
    "\n",
    "plt.title('Total de Materias Aprobadas por Cuatrimestre Relativo')\n",
    "plt.xlabel('Cuatrimestre Relativo')\n",
    "plt.ylabel('Cantidad de Aprobaciones')\n",
    "plt.xticks(aprobados_totales_por_cuatrimestre['cuatrimestre_relativo'])\n",
    "plt.grid(axis='y', linestyle='--', alpha=0.7)\n",
    "plt.tight_layout()\n",
    "plt.show()"
   ]
  },
  {
   "cell_type": "code",
   "execution_count": null,
   "metadata": {},
   "outputs": [],
   "source": [
    "frecuencia = aprobados_por_alumno.groupby(['cuatrimestre_relativo', 'cantidad_aprobadas']) \\\n",
    "    .size().unstack(fill_value=0)\n",
    "\n",
    "plt.figure(figsize=(12, 6))\n",
    "sns.heatmap(frecuencia.T, cmap='YlGnBu', annot=True, fmt='d', cbar_kws={'label': 'Cantidad de Alumnos'})\n",
    "\n",
    "plt.title('Distribución de Materias Aprobadas por Cuatrimestre Relativo')\n",
    "plt.xlabel('Cuatrimestre Relativo')\n",
    "plt.ylabel('Materias Aprobadas')\n",
    "plt.tight_layout()\n",
    "plt.show()"
   ]
  }
 ],
 "metadata": {
  "kernelspec": {
   "display_name": ".venv",
   "language": "python",
   "name": "python3"
  },
  "language_info": {
   "codemirror_mode": {
    "name": "ipython",
    "version": 3
   },
   "file_extension": ".py",
   "mimetype": "text/x-python",
   "name": "python",
   "nbconvert_exporter": "python",
   "pygments_lexer": "ipython3",
   "version": "3.11.9"
  }
 },
 "nbformat": 4,
 "nbformat_minor": 2
}

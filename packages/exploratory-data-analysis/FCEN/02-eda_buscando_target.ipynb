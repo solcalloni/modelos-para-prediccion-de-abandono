{
 "cells": [
  {
   "cell_type": "code",
   "execution_count": 36,
   "metadata": {},
   "outputs": [],
   "source": [
    "import sys\n",
    "sys.path.insert(0, '../')\n",
    "import pandas as pd\n",
    "import numpy as np\n",
    "import matplotlib.pyplot as plt\n",
    "import seaborn as sns\n",
    "from ydata_profiling import ProfileReport\n",
    "import io\n",
    "import tabulate\n",
    "import helpers_eda_inicial\n",
    "import helpers_cbc"
   ]
  },
  {
   "cell_type": "code",
   "execution_count": null,
   "metadata": {},
   "outputs": [],
   "source": [
    "cbc, df_carreras = helpers_cbc.get_data('../../../assets/bronze/CBC/Sitacad_Tesis (1).xlsx')\n",
    "actas = pd.read_csv('../../../assets/bronze/FCEN/FCEN_oficial_v2/reportes_actas.csv')\n",
    "personas = pd.read_csv('../../../assets/bronze/FCEN/FCEN_oficial_v3/reporte_personas.csv')"
   ]
  },
  {
   "cell_type": "code",
   "execution_count": null,
   "metadata": {},
   "outputs": [],
   "source": [
    "cbc['Fecha'].unique()"
   ]
  },
  {
   "cell_type": "code",
   "execution_count": 39,
   "metadata": {},
   "outputs": [],
   "source": [
    "cbc['Dni'] = cbc['Dni'].astype(str)\n",
    "actas['fecha'] = pd.to_datetime(actas['fecha'], format='%Y-%m-%d')\n",
    "actas['año'] = actas['fecha'].dt.year\n",
    "actas['mes'] = actas['fecha'].dt.month"
   ]
  },
  {
   "cell_type": "code",
   "execution_count": null,
   "metadata": {},
   "outputs": [],
   "source": [
    "actas['año'].value_counts()"
   ]
  },
  {
   "cell_type": "code",
   "execution_count": null,
   "metadata": {},
   "outputs": [],
   "source": [
    "# Contar la cantidad de ocurrencias por mes\n",
    "conteo_meses = actas['mes'].value_counts().sort_index()\n",
    "\n",
    "# Crear el barplot\n",
    "plt.figure(figsize=(10, 6))\n",
    "sns.barplot(x=conteo_meses.index, y=conteo_meses.values, palette='viridis')\n",
    "\n",
    "plt.xlabel('Mes')\n",
    "plt.ylabel('Cantidad de actas')\n",
    "plt.title('Cantidad de actas por mes')\n",
    "plt.xticks(rotation=45)\n",
    "plt.tight_layout()\n",
    "plt.show()"
   ]
  },
  {
   "cell_type": "code",
   "execution_count": null,
   "metadata": {},
   "outputs": [],
   "source": [
    "# Contar la cantidad de actas por año y mes\n",
    "conteo = actas[(actas['año'] > 2019) & (actas['año'] < 2025)].groupby(['año', 'mes']).size().reset_index(name='cantidad')\n",
    "\n",
    "# Calcular el total de actas por año\n",
    "totales_por_año = conteo.groupby('año')['cantidad'].transform('sum')\n",
    "\n",
    "# Calcular el porcentaje\n",
    "conteo['porcentaje'] = conteo['cantidad'] / totales_por_año * 100\n",
    "\n",
    "# Asegurar el orden correcto de los meses si están en texto\n",
    "#orden_meses = ['Enero', 'Febrero', 'Marzo', 'Abril', 'Mayo', 'Junio',\n",
    "#               'Julio', 'Agosto', 'Septiembre', 'Octubre', 'Noviembre', 'Diciembre']\n",
    "#conteo['mes'] = pd.Categorical(conteo['mes'], categories=orden_meses, ordered=True)\n",
    "\n",
    "# Crear el barplot agrupado\n",
    "plt.figure(figsize=(12, 6))\n",
    "sns.barplot(data=conteo, x='mes', y='porcentaje', hue='año', palette='viridis')\n",
    "\n",
    "plt.xlabel('Mes', fontsize=15)\n",
    "plt.ylabel('Porcentaje de actas (%)', fontsize=15)\n",
    "plt.title('Distribución porcentual de actas por mes y año', fontsize=15)\n",
    "plt.yticks(fontsize=13)\n",
    "plt.xticks(rotation=0, fontsize=13)\n",
    "plt.legend(title='Año', fontsize=13)\n",
    "plt.tight_layout()\n",
    "plt.show()"
   ]
  },
  {
   "cell_type": "code",
   "execution_count": null,
   "metadata": {},
   "outputs": [],
   "source": [
    "# Contar la cantidad de actas por año y mes\n",
    "conteo = actas[(actas['tipo_acta'] == 'Acta de Regulares/Promociones') & \n",
    "                (actas['año'] > 2019) & (actas['año'] < 2025)].groupby(['año', 'mes']).size().reset_index(name='cantidad')\n",
    "\n",
    "# Calcular el total de actas por año\n",
    "totales_por_año = conteo.groupby('año')['cantidad'].transform('sum')\n",
    "\n",
    "# Calcular el porcentaje\n",
    "conteo['porcentaje'] = conteo['cantidad'] / totales_por_año * 100\n",
    "\n",
    "# Asegurar el orden correcto de los meses si están en texto\n",
    "#orden_meses = ['Enero', 'Febrero', 'Marzo', 'Abril', 'Mayo', 'Junio',\n",
    "#               'Julio', 'Agosto', 'Septiembre', 'Octubre', 'Noviembre', 'Diciembre']\n",
    "#conteo['mes'] = pd.Categorical(conteo['mes'], categories=orden_meses, ordered=True)\n",
    "\n",
    "# Crear el barplot agrupado\n",
    "plt.figure(figsize=(12, 6))\n",
    "sns.barplot(data=conteo, x='mes', y='porcentaje', hue='año', palette='viridis')\n",
    "\n",
    "plt.xlabel('Mes')\n",
    "plt.ylabel('Porcentaje de actas (%)')\n",
    "plt.title('Distribución porcentual de actas por mes y año de TPs')\n",
    "plt.xticks(rotation=45)\n",
    "plt.legend(title='Año')\n",
    "plt.tight_layout()\n",
    "plt.show()\n"
   ]
  },
  {
   "cell_type": "code",
   "execution_count": null,
   "metadata": {},
   "outputs": [],
   "source": [
    "# Contar la cantidad de actas por año y mes\n",
    "conteo = actas[(actas['tipo_acta'] == 'Acta de Examen') & \n",
    "                (actas['año'] > 2019) & (actas['año'] < 2025)].groupby(['año', 'mes']).size().reset_index(name='cantidad')\n",
    "\n",
    "# Calcular el total de actas por año\n",
    "totales_por_año = conteo.groupby('año')['cantidad'].transform('sum')\n",
    "\n",
    "# Calcular el porcentaje\n",
    "conteo['porcentaje'] = conteo['cantidad'] / totales_por_año * 100\n",
    "\n",
    "# Asegurar el orden correcto de los meses si están en texto\n",
    "#orden_meses = ['Enero', 'Febrero', 'Marzo', 'Abril', 'Mayo', 'Junio',\n",
    "#               'Julio', 'Agosto', 'Septiembre', 'Octubre', 'Noviembre', 'Diciembre']\n",
    "#conteo['mes'] = pd.Categorical(conteo['mes'], categories=orden_meses, ordered=True)\n",
    "\n",
    "# Crear el barplot agrupado\n",
    "plt.figure(figsize=(12, 6))\n",
    "sns.barplot(data=conteo, x='mes', y='porcentaje', hue='año', palette='viridis')\n",
    "\n",
    "plt.xlabel('Mes')\n",
    "plt.ylabel('Porcentaje de actas (%)')\n",
    "plt.title('Distribución porcentual de actas por mes y año de Finales')\n",
    "plt.xticks(rotation=45)\n",
    "plt.legend(title='Año')\n",
    "plt.tight_layout()\n",
    "plt.show()\n"
   ]
  },
  {
   "cell_type": "code",
   "execution_count": 45,
   "metadata": {},
   "outputs": [],
   "source": [
    "actas_fechas_raras = actas[~actas['mes'].isin([7,8,12])]"
   ]
  },
  {
   "cell_type": "code",
   "execution_count": null,
   "metadata": {},
   "outputs": [],
   "source": [
    "actas_fechas_raras['tipo_acta'].value_counts()"
   ]
  },
  {
   "cell_type": "code",
   "execution_count": null,
   "metadata": {},
   "outputs": [],
   "source": [
    "actas_fechas_raras['resultado'].value_counts()"
   ]
  },
  {
   "cell_type": "code",
   "execution_count": 48,
   "metadata": {},
   "outputs": [],
   "source": [
    "actas['semestre'] = np.where(actas['mes'] <= 8, 1, 2)\n",
    "#actas['semestre'] = actas['mes'].apply(lambda x: 1 if x in [12, 1, 2, 3, 4, 5] else 2)\n",
    "actas['periodo_int'] = actas['año'] * 10 + actas['semestre']"
   ]
  },
  {
   "cell_type": "markdown",
   "metadata": {},
   "source": [
    "Tomandolo como puse arriba queda re desbalanceado"
   ]
  },
  {
   "cell_type": "code",
   "execution_count": null,
   "metadata": {},
   "outputs": [],
   "source": [
    "actas['semestre'].value_counts()"
   ]
  },
  {
   "cell_type": "code",
   "execution_count": 50,
   "metadata": {},
   "outputs": [],
   "source": [
    "en_cbc = cbc['Dni'].unique()\n",
    "actas_con_cbc = actas[actas['dni'].isin(en_cbc)]\n",
    "personas_con_cbc = personas[personas['dni'].isin(en_cbc)]"
   ]
  },
  {
   "cell_type": "markdown",
   "metadata": {},
   "source": [
    "Ahora no hay actas anteriores a 2020"
   ]
  },
  {
   "cell_type": "code",
   "execution_count": null,
   "metadata": {},
   "outputs": [],
   "source": [
    "actas_con_cbc['fecha'].min()"
   ]
  },
  {
   "cell_type": "code",
   "execution_count": null,
   "metadata": {},
   "outputs": [],
   "source": [
    "personas['año_inscripcion_facultad'].value_counts(dropna=False).sort_index().plot(kind='bar', figsize=(10, 5), title='Año de inscripción en la facultad sin registro de CBC')"
   ]
  },
  {
   "cell_type": "code",
   "execution_count": null,
   "metadata": {},
   "outputs": [],
   "source": [
    "personas_con_cbc['año_inscripcion_facultad'].value_counts(dropna=False).sort_index().plot(kind='bar', figsize=(10, 5), title='Año de inscripción en la facultad con registro de CBC')"
   ]
  },
  {
   "cell_type": "markdown",
   "metadata": {},
   "source": [
    "Acá no filtré por año"
   ]
  },
  {
   "cell_type": "code",
   "execution_count": 54,
   "metadata": {},
   "outputs": [],
   "source": [
    "# Ordenamos y asignamos el cuatrimestre relativo (0, 1, 2, ...) por alumno\n",
    "actas_con_cbc = actas_con_cbc.sort_values(['dni', 'periodo_int'])\n",
    "actas_con_cbc['cuatrimestre_relativo'] = actas_con_cbc.groupby('dni')['periodo_int'].rank(method='dense').astype(int) - 1\n",
    "\n",
    "# Paso 2: Filtrar solo aprobados\n",
    "actas_aprobados = actas_con_cbc[actas_con_cbc['resultado'] == 'Aprobado']\n",
    "\n",
    "# Paso 3: Contar aprobadas por alumno y cuatrimestre relativo\n",
    "aprobados_por_alumno = actas_aprobados.groupby(['dni', 'cuatrimestre_relativo']).size().reset_index(name='cantidad_aprobadas')"
   ]
  },
  {
   "cell_type": "code",
   "execution_count": null,
   "metadata": {},
   "outputs": [],
   "source": [
    "frecuencia = aprobados_por_alumno.groupby(['cuatrimestre_relativo', 'cantidad_aprobadas']) \\\n",
    "    .size().unstack(fill_value=0)\n",
    "\n",
    "plt.figure(figsize=(12, 6))\n",
    "sns.heatmap(frecuencia.T, cmap='YlGnBu', annot=True, fmt='d', cbar_kws={'label': 'Cantidad de Alumnos'})\n",
    "\n",
    "plt.title('Distribución de Materias Aprobadas por Cuatrimestre Relativo')\n",
    "plt.xlabel('Cuatrimestre Relativo')\n",
    "plt.ylabel('Materias Aprobadas')\n",
    "plt.tight_layout()\n",
    "plt.show()"
   ]
  },
  {
   "cell_type": "markdown",
   "metadata": {},
   "source": [
    "me fijo si en actas_aprobados aparece toda la gente que teníamos originalmente"
   ]
  },
  {
   "cell_type": "code",
   "execution_count": null,
   "metadata": {},
   "outputs": [],
   "source": [
    "actas_aprobados['dni'].nunique(), personas_con_cbc['dni'].nunique(), actas_con_cbc['dni'].nunique(), cbc['Dni'].nunique()"
   ]
  },
  {
   "cell_type": "markdown",
   "metadata": {},
   "source": [
    "Veo que en actas_aprobados y, en realidad, ya en actas_con_cbc, hay varios alumnos que no aparecen. Igualmente, no podríamos usarlos para el modelo porque necesitamos tener aunque sea un cuatrimestre. Sin embargo, puede ser gente que comenzó su cursada en 2025"
   ]
  },
  {
   "cell_type": "markdown",
   "metadata": {},
   "source": [
    "Agrego el año de inscripción"
   ]
  },
  {
   "cell_type": "code",
   "execution_count": 57,
   "metadata": {},
   "outputs": [],
   "source": [
    "anio_inscripcion = personas[['dni', 'año_inscripcion_facultad']]\n",
    "actas_cbc_con_anio_inscripcion = pd.merge(actas_con_cbc, anio_inscripcion, left_on='dni', right_on='dni', how='left')"
   ]
  },
  {
   "cell_type": "code",
   "execution_count": 58,
   "metadata": {},
   "outputs": [],
   "source": [
    "def heatmap_aprobadas(actas, anio):\n",
    "    # Ordenamos y asignamos el cuatrimestre relativo (0, 1, 2, ...) por alumno\n",
    "    actas = actas.sort_values(['dni', 'periodo_int'])\n",
    "    actas['cuatrimestre_relativo'] = actas.groupby('dni')['periodo_int'].rank(method='dense').astype(int) - 1\n",
    "\n",
    "    # Paso 2: Filtrar solo aprobados\n",
    "    actas_aprobados = actas[(actas['resultado'] == 'Aprobado') & (actas['año_inscripcion_facultad'] == anio)]\n",
    "\n",
    "    # Paso 3: Contar aprobadas por alumno y cuatrimestre relativo\n",
    "    aprobados_por_alumno = actas_aprobados.groupby(['dni', 'cuatrimestre_relativo']).size().reset_index(name='cantidad_aprobadas')\n",
    "\n",
    "    frecuencia = aprobados_por_alumno.groupby(['cuatrimestre_relativo', 'cantidad_aprobadas']) \\\n",
    "        .size().unstack(fill_value=0)\n",
    "\n",
    "    plt.figure(figsize=(12, 6))\n",
    "    sns.heatmap(frecuencia.T, cmap='YlGnBu', annot=True, fmt='d', cbar_kws={'label': 'Cantidad de Alumnos'})\n",
    "\n",
    "    plt.title(f'Distribución de Materias Aprobadas por Cuatrimestre Relativo. Año de Inscripción: {anio}')\n",
    "    plt.xlabel('Cuatrimestre Relativo')\n",
    "    plt.ylabel('Materias Aprobadas')\n",
    "    plt.tight_layout()\n",
    "    plt.show()"
   ]
  },
  {
   "cell_type": "code",
   "execution_count": null,
   "metadata": {},
   "outputs": [],
   "source": [
    "for anio in range(2020, 2025):\n",
    "    heatmap_aprobadas(actas_cbc_con_anio_inscripcion, anio)"
   ]
  },
  {
   "cell_type": "markdown",
   "metadata": {},
   "source": [
    "Quiero poder ver si aprobaron 0 materias. Vuelvo a ver primero sin prestar atención al CBC"
   ]
  },
  {
   "cell_type": "code",
   "execution_count": 60,
   "metadata": {},
   "outputs": [],
   "source": [
    "# Paso 2.5: Construir todas las combinaciones posibles (incluso si no aprobó nada)\n",
    "actas = actas.sort_values(['dni', 'periodo_int'])\n",
    "actas['cuatrimestre_relativo'] = actas.groupby('dni')['periodo_int'].rank(method='dense').astype(int) - 1\n",
    "actas_con_anio_inscripcion = pd.merge(actas, anio_inscripcion, left_on='dni', right_on='dni', how='left')"
   ]
  },
  {
   "cell_type": "code",
   "execution_count": null,
   "metadata": {},
   "outputs": [],
   "source": [
    "# Paso 1: Filtrar aprobados\n",
    "df_aprobados = actas_con_anio_inscripcion[actas_con_anio_inscripcion['resultado'] == 'Aprobado']\n",
    "\n",
    "# Paso 2 y 3: Agrupar por dni, año_inscripcion_facultad y cuatrimestre_relativo\n",
    "conteo = df_aprobados.groupby(['dni', 'año_inscripcion_facultad', 'cuatrimestre_relativo']) \\\n",
    "                     .size().reset_index(name='cantidad_aprobadas')\n",
    "\n",
    "# Paso 4: Pivotear\n",
    "tabla_pivot = conteo.pivot(index=['dni', 'año_inscripcion_facultad'], \n",
    "                           columns='cuatrimestre_relativo', \n",
    "                           values='cantidad_aprobadas')\n",
    "\n",
    "# Renombrar columnas\n",
    "tabla_pivot.columns = [f'cuatrimestre_{i}' for i in tabla_pivot.columns]\n",
    "\n",
    "# Reset index para que dni y año_inscripcion_facultad estén como columnas\n",
    "tabla_final = tabla_pivot.reset_index()\n",
    "\n",
    "tabla_final.head()"
   ]
  },
  {
   "cell_type": "code",
   "execution_count": null,
   "metadata": {},
   "outputs": [],
   "source": [
    "df_melted = tabla_final.melt(id_vars=['dni', 'año_inscripcion_facultad'], \n",
    "                             var_name='cuatrimestre', \n",
    "                             value_name='cantidad_aprobadas')\n",
    "\n",
    "# Extraemos el número de cuatrimestre desde el string (ej: 'cuatrimestre_0' -> 0)\n",
    "df_melted['cuatrimestre'] = df_melted['cuatrimestre'].str.extract('(\\d+)').astype(int)\n",
    "\n",
    "# Ahora agrupamos por cuatrimestre y cantidad_aprobadas para contar alumnos\n",
    "heatmap_data = df_melted.groupby(['cuatrimestre', 'cantidad_aprobadas']) \\\n",
    "                        .size().unstack(fill_value=0)\n",
    "\n",
    "# Hacemos el heatmap\n",
    "plt.figure(figsize=(12, 6))\n",
    "sns.heatmap(heatmap_data.T, annot=True, fmt='d', cmap='YlGnBu')\n",
    "plt.xlabel('Cuatrimestre relativo')\n",
    "plt.ylabel('Cantidad de materias aprobadas')\n",
    "plt.title('Cantidad de alumnos según cuatrimestre y materias aprobadas')\n",
    "plt.tight_layout()\n",
    "plt.show()\n"
   ]
  },
  {
   "cell_type": "markdown",
   "metadata": {},
   "source": [
    "Vamos de nuevo pero tomando solo la gente con registro del CBC"
   ]
  },
  {
   "cell_type": "code",
   "execution_count": null,
   "metadata": {},
   "outputs": [],
   "source": [
    "actas_cbc_con_anio_inscripcion.head()"
   ]
  },
  {
   "cell_type": "code",
   "execution_count": null,
   "metadata": {},
   "outputs": [],
   "source": [
    "# Paso 1: Filtrar aprobados\n",
    "df_aprobados = actas_cbc_con_anio_inscripcion[actas_cbc_con_anio_inscripcion['resultado'] == 'Aprobado']\n",
    "\n",
    "# Paso 2 y 3: Agrupar por dni, año_inscripcion_facultad y cuatrimestre_relativo\n",
    "conteo = df_aprobados.groupby(['dni', 'año_inscripcion_facultad', 'cuatrimestre_relativo']) \\\n",
    "                     .size().reset_index(name='cantidad_aprobadas')\n",
    "\n",
    "# Paso 4: Pivotear\n",
    "tabla_pivot = conteo.pivot(index=['dni', 'año_inscripcion_facultad'], \n",
    "                           columns='cuatrimestre_relativo', \n",
    "                           values='cantidad_aprobadas')\n",
    "\n",
    "# Rellenar NaN con 0 y convertir a int\n",
    "tabla_pivot = tabla_pivot.fillna(0).astype(int)\n",
    "\n",
    "# Renombrar columnas\n",
    "tabla_pivot.columns = [f'cuatrimestre_{i}' for i in tabla_pivot.columns]\n",
    "\n",
    "# Reset index para que dni y año_inscripcion_facultad estén como columnas\n",
    "tabla_final = tabla_pivot.reset_index()\n",
    "\n",
    "tabla_final.head()"
   ]
  },
  {
   "cell_type": "code",
   "execution_count": null,
   "metadata": {},
   "outputs": [],
   "source": [
    "df_melted = tabla_final.melt(id_vars=['dni', 'año_inscripcion_facultad'], \n",
    "                             var_name='cuatrimestre', \n",
    "                             value_name='cantidad_aprobadas')\n",
    "\n",
    "# Extraemos el número de cuatrimestre desde el string (ej: 'cuatrimestre_0' -> 0)\n",
    "df_melted['cuatrimestre'] = df_melted['cuatrimestre'].str.extract('(\\d+)').astype(int)\n",
    "\n",
    "# Ahora agrupamos por cuatrimestre y cantidad_aprobadas para contar alumnos\n",
    "heatmap_data = df_melted.groupby(['cuatrimestre', 'cantidad_aprobadas']) \\\n",
    "                        .size().unstack(fill_value=0)\n",
    "\n",
    "# Hacemos el heatmap\n",
    "plt.figure(figsize=(12, 6))\n",
    "sns.heatmap(heatmap_data.T, annot=True, fmt='d', cmap='YlGnBu')\n",
    "plt.xlabel('Cuatrimestre relativo')\n",
    "plt.ylabel('Cantidad de materias aprobadas')\n",
    "plt.title('Cantidad de alumnos según cuatrimestre y materias aprobadas sin filtro año de inscripción')\n",
    "plt.tight_layout()\n",
    "plt.show()"
   ]
  },
  {
   "cell_type": "code",
   "execution_count": 66,
   "metadata": {},
   "outputs": [],
   "source": [
    "def heatmap_con_filtro_anio(anio):\n",
    "    # Paso 1: Filtrar aprobados\n",
    "    df_aprobados = actas_cbc_con_anio_inscripcion[(actas_cbc_con_anio_inscripcion['resultado'] == 'Aprobado')\n",
    "                                                   & (actas_cbc_con_anio_inscripcion['año_inscripcion_facultad'] == anio)]\n",
    "\n",
    "    # Paso 2 y 3: Agrupar por dni, año_inscripcion_facultad y cuatrimestre_relativo\n",
    "    conteo = df_aprobados.groupby(['dni', 'año_inscripcion_facultad', 'cuatrimestre_relativo']) \\\n",
    "                        .size().reset_index(name='cantidad_aprobadas')\n",
    "\n",
    "    # Paso 4: Pivotear\n",
    "    tabla_pivot = conteo.pivot(index=['dni', 'año_inscripcion_facultad'], \n",
    "                            columns='cuatrimestre_relativo', \n",
    "                            values='cantidad_aprobadas')\n",
    "\n",
    "    # Rellenar NaN con 0 y convertir a int\n",
    "    tabla_pivot = tabla_pivot.fillna(0).astype(int)\n",
    "\n",
    "    # Renombrar columnas\n",
    "    tabla_pivot.columns = [f'cuatrimestre_{i}' for i in tabla_pivot.columns]\n",
    "\n",
    "    # Reset index para que dni y año_inscripcion_facultad estén como columnas\n",
    "    tabla_final = tabla_pivot.reset_index()\n",
    "\n",
    "    df_melted = tabla_final.melt(id_vars=['dni', 'año_inscripcion_facultad'], \n",
    "                             var_name='cuatrimestre', \n",
    "                             value_name='cantidad_aprobadas')\n",
    "\n",
    "    # Extraemos el número de cuatrimestre desde el string (ej: 'cuatrimestre_0' -> 0)\n",
    "    df_melted['cuatrimestre'] = df_melted['cuatrimestre'].str.extract('(\\d+)').astype(int)\n",
    "\n",
    "    # Ahora agrupamos por cuatrimestre y cantidad_aprobadas para contar alumnos\n",
    "    heatmap_data = df_melted.groupby(['cuatrimestre', 'cantidad_aprobadas']) \\\n",
    "                            .size().unstack(fill_value=0)\n",
    "\n",
    "    # Hacemos el heatmap\n",
    "    plt.figure(figsize=(12, 6))\n",
    "    sns.heatmap(heatmap_data.T, annot=True, fmt='d', cmap='YlGnBu')\n",
    "    plt.xlabel('Cuatrimestre relativo')\n",
    "    plt.ylabel('Cantidad de materias aprobadas')\n",
    "    plt.title('Cantidad de alumnos según cuatrimestre y materias aprobadas inscriptos en ' + str(anio))\n",
    "    plt.tight_layout()\n",
    "    plt.show()"
   ]
  },
  {
   "cell_type": "code",
   "execution_count": null,
   "metadata": {},
   "outputs": [],
   "source": [
    "for anio in range(2020, 2025):\n",
    "    heatmap_con_filtro_anio(anio)"
   ]
  },
  {
   "cell_type": "code",
   "execution_count": 68,
   "metadata": {},
   "outputs": [],
   "source": [
    "def heatmap_con_filtro_anio_tipo_acta(anio):\n",
    "    # Paso 1: Filtrar aprobados\n",
    "    df_aprobados = actas_cbc_con_anio_inscripcion[(actas_cbc_con_anio_inscripcion['resultado'] == 'Aprobado')\n",
    "                                                    & (actas_cbc_con_anio_inscripcion['tipo_acta'] == 'Acta de Examen')\n",
    "                                                   & (actas_cbc_con_anio_inscripcion['año_inscripcion_facultad'] == anio)]\n",
    "\n",
    "    # Paso 2 y 3: Agrupar por dni, año_inscripcion_facultad y cuatrimestre_relativo\n",
    "    conteo = df_aprobados.groupby(['dni', 'año_inscripcion_facultad', 'cuatrimestre_relativo']) \\\n",
    "                        .size().reset_index(name='cantidad_aprobadas')\n",
    "\n",
    "    # Paso 4: Pivotear\n",
    "    tabla_pivot = conteo.pivot(index=['dni', 'año_inscripcion_facultad'], \n",
    "                            columns='cuatrimestre_relativo', \n",
    "                            values='cantidad_aprobadas')\n",
    "\n",
    "    # Rellenar NaN con 0 y convertir a int\n",
    "    tabla_pivot = tabla_pivot.fillna(0).astype(int)\n",
    "\n",
    "    # Renombrar columnas\n",
    "    tabla_pivot.columns = [f'cuatrimestre_{i}' for i in tabla_pivot.columns]\n",
    "\n",
    "    # Reset index para que dni y año_inscripcion_facultad estén como columnas\n",
    "    tabla_final = tabla_pivot.reset_index()\n",
    "\n",
    "    df_melted = tabla_final.melt(id_vars=['dni', 'año_inscripcion_facultad'], \n",
    "                             var_name='cuatrimestre', \n",
    "                             value_name='cantidad_aprobadas')\n",
    "\n",
    "    # Extraemos el número de cuatrimestre desde el string (ej: 'cuatrimestre_0' -> 0)\n",
    "    df_melted['cuatrimestre'] = df_melted['cuatrimestre'].str.extract('(\\d+)').astype(int)\n",
    "\n",
    "    # Ahora agrupamos por cuatrimestre y cantidad_aprobadas para contar alumnos\n",
    "    heatmap_data = df_melted.groupby(['cuatrimestre', 'cantidad_aprobadas']) \\\n",
    "                            .size().unstack(fill_value=0)\n",
    "\n",
    "    # Hacemos el heatmap\n",
    "    plt.figure(figsize=(12, 6))\n",
    "    sns.heatmap(heatmap_data.T, annot=True, fmt='d', cmap='YlGnBu')\n",
    "    plt.xlabel('Cuatrimestre relativo')\n",
    "    plt.ylabel('Cantidad de materias aprobadas')\n",
    "    plt.title('Cantidad de alumnos según cuatrimestre y materias aprobadas inscriptos en ' + str(anio))\n",
    "    plt.tight_layout()\n",
    "    plt.show()"
   ]
  },
  {
   "cell_type": "code",
   "execution_count": null,
   "metadata": {},
   "outputs": [],
   "source": [
    "for anio in range(2020, 2025):\n",
    "    heatmap_con_filtro_anio_tipo_acta(anio)"
   ]
  }
 ],
 "metadata": {
  "kernelspec": {
   "display_name": ".venv",
   "language": "python",
   "name": "python3"
  },
  "language_info": {
   "codemirror_mode": {
    "name": "ipython",
    "version": 3
   },
   "file_extension": ".py",
   "mimetype": "text/x-python",
   "name": "python",
   "nbconvert_exporter": "python",
   "pygments_lexer": "ipython3",
   "version": "3.11.9"
  }
 },
 "nbformat": 4,
 "nbformat_minor": 2
}

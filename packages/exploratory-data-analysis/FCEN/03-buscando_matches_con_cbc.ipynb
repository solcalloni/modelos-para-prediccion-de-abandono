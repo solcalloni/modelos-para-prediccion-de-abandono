{
 "cells": [
  {
   "cell_type": "code",
   "execution_count": null,
   "metadata": {},
   "outputs": [],
   "source": [
    "import sys\n",
    "sys.path.insert(0, '../')\n",
    "import pandas as pd\n",
    "import numpy as np\n",
    "import matplotlib.pyplot as plt\n",
    "import seaborn as sns\n",
    "import io\n",
    "import tabulate\n",
    "import helpers_eda_inicial\n",
    "import helpers_cbc\n",
    "from datetime import datetime\n",
    "from rapidfuzz import process, fuzz\n",
    "from Levenshtein import distance"
   ]
  },
  {
   "cell_type": "code",
   "execution_count": null,
   "metadata": {},
   "outputs": [],
   "source": [
    "cbc, df_carreras = helpers_cbc.get_data('../../../assets/bronze/CBC/Sitacad_Tesis (1).xlsx')\n",
    "actas = pd.read_csv('../../../assets/bronze/FCEN/FCEN_oficial_v2/reportes_actas.csv')\n",
    "personas = pd.read_csv('../../../assets/bronze/FCEN/FCEN_oficial_v3/reporte_personas.csv')"
   ]
  },
  {
   "cell_type": "code",
   "execution_count": null,
   "metadata": {},
   "outputs": [],
   "source": [
    "cbc['Dni'] = cbc['Dni'].astype(str)\n",
    "actas['fecha'] = pd.to_datetime(actas['fecha'], format='%Y-%m-%d')\n",
    "actas['año'] = actas['fecha'].dt.year\n",
    "actas['mes'] = actas['fecha'].dt.month"
   ]
  },
  {
   "cell_type": "markdown",
   "metadata": {},
   "source": [
    "Se que todas las actas se conectan con alguna persona, el problema es que hay muchos de las actas que no se conectan con el cbc, intentamos hacer un join que no sea por exactitud, que sea por 'like' y revisamos a mano los casos donde no sean exactamente iguales."
   ]
  },
  {
   "cell_type": "code",
   "execution_count": null,
   "metadata": {},
   "outputs": [],
   "source": [
    "cbc.columns"
   ]
  },
  {
   "cell_type": "code",
   "execution_count": null,
   "metadata": {},
   "outputs": [],
   "source": [
    "actas['dni'].nunique()"
   ]
  },
  {
   "cell_type": "markdown",
   "metadata": {},
   "source": [
    "Chequeo que todos los DNIs del CBC tienen aunque sea una materia de la FCEN."
   ]
  },
  {
   "cell_type": "code",
   "execution_count": null,
   "metadata": {},
   "outputs": [],
   "source": [
    "# Crear una columna booleana para saber si es materia FCEN\n",
    "cbc['es_fcen_binario'] = cbc['Es materia FCEN?'].str.upper() == 'SI'\n",
    "\n",
    "# Agrupar por DNI y verificar si hay al menos un True\n",
    "resultado_cbc = cbc.groupby('Dni')['es_fcen_binario'].any().reset_index()"
   ]
  },
  {
   "cell_type": "code",
   "execution_count": null,
   "metadata": {},
   "outputs": [],
   "source": [
    "resultado_cbc"
   ]
  },
  {
   "cell_type": "code",
   "execution_count": null,
   "metadata": {},
   "outputs": [],
   "source": [
    "resultado_cbc['es_fcen_binario'].sum()"
   ]
  },
  {
   "cell_type": "code",
   "execution_count": null,
   "metadata": {},
   "outputs": [],
   "source": [
    "dni_sin_fcen = resultado_cbc[~resultado_cbc['es_fcen_binario']]"
   ]
  },
  {
   "cell_type": "code",
   "execution_count": null,
   "metadata": {},
   "outputs": [],
   "source": [
    "dni_sin_fcen['Dni'].nunique()"
   ]
  },
  {
   "cell_type": "code",
   "execution_count": null,
   "metadata": {},
   "outputs": [],
   "source": [
    "cbc[cbc['Dni'].isin(dni_sin_fcen['Dni'])]"
   ]
  },
  {
   "cell_type": "code",
   "execution_count": null,
   "metadata": {},
   "outputs": [],
   "source": [
    "actas[actas['dni'].isin(dni_sin_fcen['Dni'])]['dni'].nunique()"
   ]
  },
  {
   "cell_type": "code",
   "execution_count": null,
   "metadata": {},
   "outputs": [],
   "source": [
    "actas[actas['dni'] == '43447240']"
   ]
  },
  {
   "cell_type": "code",
   "execution_count": null,
   "metadata": {},
   "outputs": [],
   "source": [
    "personas[personas['dni'].isin(dni_sin_fcen['Dni'])][['dni', 'año_inscripcion_facultad']].sort_values(by='dni')"
   ]
  },
  {
   "cell_type": "code",
   "execution_count": null,
   "metadata": {},
   "outputs": [],
   "source": [
    "cbc[cbc['Dni'].isin(actas[actas['dni'].isin(dni_sin_fcen['Dni'])]['dni'].unique())].sort_values('Dni')"
   ]
  },
  {
   "cell_type": "markdown",
   "metadata": {},
   "source": [
    "Hay un par de DNIs que no tienen registro de rendir materias de la FCEN, para los que se encuentran en las actas logramos ver que en las materias de las que tenemos registro se corresponden con materias de otras carreras que hicieron posteriormente a haberse anotado a una carrera de la FCEN.\n",
    "\n",
    "Lo que buscamos es encontrarle un par a los DNIs que figuran en las actas/personas de la FCEN que no tienen asignado uno del CBC, por lo tanto:\n",
    "\n",
    "- Nos quedamos con los DNIs del CBC que estan 'solos' (no se le asigno un DNI exactamente igual)\n",
    "\n",
    "- Nos guardanos la fecha del ultimo examen rendido en el CBC de una materia de la FCEN\n",
    "\n",
    "- Nos fijamos que el DNI que se le asigna como mas similar tenga la ultima materia rendida en el mismo año o antes del año de inscripción a la FCEN"
   ]
  },
  {
   "cell_type": "code",
   "execution_count": null,
   "metadata": {},
   "outputs": [],
   "source": [
    "# Me quedo con datos que no se repiten del cbc\n",
    "cbc['anio_rendido'] = cbc['Fecha'].dt.year\n",
    "cbc_solo_dni = cbc['Dni'].unique()\n",
    "cbc_dnis = cbc[['Dni']].drop_duplicates()\n",
    "cbc_con_fcen = cbc[cbc['es_fcen_binario']]\n",
    "df_ultimos_rendidos = cbc_con_fcen.groupby('Dni', as_index=False)['anio_rendido'].max()\n",
    "df_ultimos_rendidos.rename(columns={'anio_rendido': 'ultimo_anio_rendido'}, inplace=True)\n",
    "\n",
    "# Paso 4: Hacer el join para incluir todos los DNIs\n",
    "df_resultado = cbc_dnis.merge(df_ultimos_rendidos, on='Dni', how='left')"
   ]
  },
  {
   "cell_type": "code",
   "execution_count": null,
   "metadata": {},
   "outputs": [],
   "source": [
    "df_resultado.replace({'ultimo_anio_rendido': {np.nan: 2019}}, inplace=True)"
   ]
  },
  {
   "cell_type": "code",
   "execution_count": null,
   "metadata": {},
   "outputs": [],
   "source": [
    "actas_solo_dni = actas[~actas['dni'].isin(cbc_solo_dni)]['dni'].unique()\n",
    "cbc_solo_dni_sin_par = df_resultado[~df_resultado['Dni'].isin(actas['dni'])]['Dni'].unique()"
   ]
  },
  {
   "cell_type": "code",
   "execution_count": null,
   "metadata": {},
   "outputs": [],
   "source": [
    "actas_solo_dni.shape, cbc_solo_dni_sin_par.shape"
   ]
  },
  {
   "cell_type": "markdown",
   "metadata": {},
   "source": [
    "Usamos esto si no consideramos que tenemos el dato del año"
   ]
  },
  {
   "cell_type": "code",
   "execution_count": null,
   "metadata": {},
   "outputs": [],
   "source": [
    "# Función para hacer fuzzy match y obtener el DNI más parecido y el score\n",
    "def fuzzy_match_with_score(dni, choices):\n",
    "    match = process.extractOne(dni, choices, scorer=fuzz.ratio)\n",
    "    if match:\n",
    "        return pd.Series([match[0], match[1]])  # DNI más parecido y score\n",
    "    return pd.Series([None, None])\n",
    "\n",
    "# Aplicamos la función a cada DNI\n",
    "df_resultado = pd.DataFrame({'dni_original_actas': actas_solo_dni})\n",
    "df_resultado[['dni_match', 'similarity_score']] = df_resultado['dni_original_actas'].apply(\n",
    "    lambda x: fuzzy_match_with_score(x, cbc_solo_dni_sin_par)\n",
    ")\n",
    "\n",
    "# Ordenamos para ver los peores matches primero\n",
    "df_resultado = df_resultado.sort_values(by='similarity_score', ascending=False)\n",
    "\n",
    "print(df_resultado)"
   ]
  },
  {
   "cell_type": "markdown",
   "metadata": {},
   "source": [
    "Vale que si el score es 100 es porque son exatamente iguales, debería revisar lo que no son iguales a 100"
   ]
  },
  {
   "cell_type": "code",
   "execution_count": null,
   "metadata": {},
   "outputs": [],
   "source": [
    "df_resultado[df_resultado['similarity_score'] == 100].shape"
   ]
  },
  {
   "cell_type": "code",
   "execution_count": null,
   "metadata": {},
   "outputs": [],
   "source": [
    "(df_resultado[df_resultado['similarity_score'] == 100]['dni_original_actas'] == df_resultado[df_resultado['similarity_score'] == 100]['dni_match']).sum()"
   ]
  },
  {
   "cell_type": "code",
   "execution_count": null,
   "metadata": {},
   "outputs": [],
   "source": [
    "df_resultado[df_resultado['similarity_score'] != 100].to_csv('dni_fuzzy_match_distinto_100.csv', index=False)"
   ]
  },
  {
   "cell_type": "markdown",
   "metadata": {},
   "source": [
    "Pero si consideramos que tenemos el datos del año"
   ]
  },
  {
   "cell_type": "code",
   "execution_count": null,
   "metadata": {},
   "outputs": [],
   "source": [
    "# Tiene dato del CBC\n",
    "df_resultado = df_resultado[~df_resultado['Dni'].isin(actas['dni'])]\n",
    "df_resultado.head(10)"
   ]
  },
  {
   "cell_type": "code",
   "execution_count": null,
   "metadata": {},
   "outputs": [],
   "source": [
    "personas_match = personas[~personas['dni'].isin(cbc_solo_dni)][['dni', 'año_inscripcion_facultad']].sort_values(by='dni')"
   ]
  },
  {
   "cell_type": "code",
   "execution_count": null,
   "metadata": {},
   "outputs": [],
   "source": [
    "# Resultado final\n",
    "resultados_match = []\n",
    "\n",
    "for _, row in personas_match.iterrows():\n",
    "    dni_nuevo = row['dni']\n",
    "    anio_inscripcion = row['año_inscripcion_facultad']\n",
    "    \n",
    "    # Filtrar base contra la cual matchear\n",
    "    candidatos = df_resultado[df_resultado['ultimo_anio_rendido'] < anio_inscripcion]\n",
    "    \n",
    "    # Aplicar fuzzy matching\n",
    "    match = process.extractOne(\n",
    "        dni_nuevo,\n",
    "        candidatos['Dni'],\n",
    "        scorer=fuzz.ratio\n",
    "    )\n",
    "    \n",
    "    if match:\n",
    "        dni_matcheado, score, _ = match\n",
    "        resultados_match.append({\n",
    "            'dni_nuevo': dni_nuevo,\n",
    "            'anio_inscripcion': anio_inscripcion,\n",
    "            'dni_matcheado': dni_matcheado,\n",
    "            'similitud': score\n",
    "        })\n",
    "    else:\n",
    "        resultados_match.append({\n",
    "            'dni_nuevo': dni_nuevo,\n",
    "            'anio_inscripcion': anio_inscripcion,\n",
    "            'dni_matcheado': None,\n",
    "            'similitud': None\n",
    "        })\n",
    "\n",
    "# Pasar a DataFrame\n",
    "df_matches = pd.DataFrame(resultados_match)\n",
    "\n",
    "print(df_matches)"
   ]
  },
  {
   "cell_type": "markdown",
   "metadata": {},
   "source": [
    "Probamos esta otra forma que se fija que se diferencien solamente en un caracter."
   ]
  },
  {
   "cell_type": "code",
   "execution_count": null,
   "metadata": {},
   "outputs": [],
   "source": [
    "# Crear un DataFrame para almacenar los resultados\n",
    "resultados = []\n",
    "dnis_1 = actas_solo_dni\n",
    "dnis_2 = cbc_solo_dni_sin_par\n",
    "for dni1 in dnis_1:\n",
    "    for dni2 in dnis_2:\n",
    "        dist = distance(dni1, dni2)\n",
    "        if dist == 1:\n",
    "            resultados.append({'actas': dni1, 'cbc': dni2, 'diferencia': dist})\n",
    "\n",
    "df_resultados = pd.DataFrame(resultados)\n",
    "print(df_resultados)"
   ]
  },
  {
   "cell_type": "code",
   "execution_count": null,
   "metadata": {},
   "outputs": [],
   "source": [
    "df_resultados.to_csv('dni_levenshtein_dist_1.csv', index=False)"
   ]
  },
  {
   "cell_type": "markdown",
   "metadata": {},
   "source": [
    "Un tema es que no es unico el match, habría que revisar eso, en caso de que tenga real sentido unir dos mismos dnis\n",
    "\n",
    "Miramos qué pasa si unimos mirando también que los años tengan sentido"
   ]
  },
  {
   "cell_type": "code",
   "execution_count": null,
   "metadata": {},
   "outputs": [],
   "source": [
    "resultados_match = []\n",
    "\n",
    "for _, row in personas_match.iterrows():\n",
    "    dni_nuevo = row['dni']\n",
    "    anio_inscripcion = row['año_inscripcion_facultad']\n",
    "    \n",
    "    # Filtrar candidatos válidos\n",
    "    candidatos = df_resultado[df_resultado['ultimo_anio_rendido'] < anio_inscripcion]\n",
    "    \n",
    "    # Extraer lista de DNIs candidatos\n",
    "    lista_candidatos = candidatos['Dni'].tolist()\n",
    "    \n",
    "    if lista_candidatos:\n",
    "        match = process.extractOne(\n",
    "            dni_nuevo,\n",
    "            lista_candidatos,\n",
    "            scorer=distance.Levenshtein.distance  # menor es mejor\n",
    "        )\n",
    "        \n",
    "        if match:\n",
    "            dni_matcheado, distancia, _ = match\n",
    "            resultados_match.append({\n",
    "                'dni_nuevo': dni_nuevo,\n",
    "                'anio_inscripcion': anio_inscripcion,\n",
    "                'dni_matcheado': dni_matcheado,\n",
    "                'levenshtein_distancia': distancia\n",
    "            })\n",
    "    else:\n",
    "        resultados_match.append({\n",
    "            'dni_nuevo': dni_nuevo,\n",
    "            'anio_inscripcion': anio_inscripcion,\n",
    "            'dni_matcheado': None,\n",
    "            'levenshtein_distancia': None\n",
    "        })\n",
    "\n",
    "# Convertir en DataFrame\n",
    "df_matches = pd.DataFrame(resultados_match)\n",
    "\n",
    "# (Opcional) Unir con df_resultado para traer el último año de la facultad del dni_matcheado\n",
    "df_matches = df_matches.merge(\n",
    "    df_resultado.rename(columns={'Dni': 'dni_matcheado'}),\n",
    "    on='dni_matcheado',\n",
    "    how='left'\n",
    ")\n",
    "\n",
    "print(df_matches)"
   ]
  },
  {
   "cell_type": "code",
   "execution_count": null,
   "metadata": {},
   "outputs": [],
   "source": [
    "df_matches['levenshtein_distancia'].isnull().sum()"
   ]
  },
  {
   "cell_type": "code",
   "execution_count": null,
   "metadata": {},
   "outputs": [],
   "source": [
    "df_matches['levenshtein_distancia'].value_counts()"
   ]
  },
  {
   "cell_type": "markdown",
   "metadata": {},
   "source": [
    "Voy a mirar los casos donde la distiancia es de un caracter"
   ]
  },
  {
   "cell_type": "code",
   "execution_count": null,
   "metadata": {},
   "outputs": [],
   "source": [
    "df_matches[df_matches['levenshtein_distancia'] == 1].to_csv('dni_levenshtein_dist_1_considerando_anio.csv', index=False)"
   ]
  },
  {
   "cell_type": "code",
   "execution_count": null,
   "metadata": {},
   "outputs": [],
   "source": [
    "df_matches[df_matches['levenshtein_distancia'] == 1]['dni_matcheado'].nunique()"
   ]
  },
  {
   "cell_type": "code",
   "execution_count": null,
   "metadata": {},
   "outputs": [],
   "source": [
    "df_matches[df_matches['anio_inscripcion'] == 2022].sort_values('levenshtein_distancia', ascending=True).to_csv('dni_levenshtein_dist_1_considerando_anio_2022.csv', index=False)"
   ]
  },
  {
   "cell_type": "code",
   "execution_count": null,
   "metadata": {},
   "outputs": [],
   "source": [
    "cbc_distancia_1 = cbc[cbc['Dni'].isin(df_matches[(df_matches['anio_inscripcion'] == 2022) & (df_matches['levenshtein_distancia'] == 1)]['dni_matcheado'])]"
   ]
  },
  {
   "cell_type": "code",
   "execution_count": null,
   "metadata": {},
   "outputs": [],
   "source": [
    "personas_distancia_1 = personas[personas['dni'].isin(df_matches[(df_matches['anio_inscripcion'] == 2022) & (df_matches['levenshtein_distancia'] == 1)]['dni_nuevo'])]"
   ]
  }
 ],
 "metadata": {
  "kernelspec": {
   "display_name": ".venv",
   "language": "python",
   "name": "python3"
  },
  "language_info": {
   "codemirror_mode": {
    "name": "ipython",
    "version": 3
   },
   "file_extension": ".py",
   "mimetype": "text/x-python",
   "name": "python",
   "nbconvert_exporter": "python",
   "pygments_lexer": "ipython3",
   "version": "3.11.9"
  }
 },
 "nbformat": 4,
 "nbformat_minor": 2
}
